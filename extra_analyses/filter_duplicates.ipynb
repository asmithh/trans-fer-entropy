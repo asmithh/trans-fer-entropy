{
 "cells": [
  {
   "cell_type": "code",
   "execution_count": 34,
   "id": "291fee35-404c-4686-b42b-ffa6559e4dae",
   "metadata": {},
   "outputs": [],
   "source": [
    "import pickle\n",
    "similarity =  pickle.load(open('/data_users1/asmithh/trans-fer-entropy/extra_analyses/string_alignment_150.pkl', 'rb'))"
   ]
  },
  {
   "cell_type": "code",
   "execution_count": 35,
   "id": "be411078-7a52-4aa2-afd7-4e95dfabeceb",
   "metadata": {},
   "outputs": [],
   "source": [
    "import networkx as nx\n",
    "G = nx.Graph()\n",
    "\n",
    "for article1, v in similarity.items():\n",
    "    for article2, val in v.items():\n",
    "        if val < 151:\n",
    "            G.add_edge(article1, article2)\n",
    "            "
   ]
  },
  {
   "cell_type": "code",
   "execution_count": 36,
   "id": "2754effc-8cd7-449f-b58f-8568d915da5c",
   "metadata": {},
   "outputs": [],
   "source": [
    "import random\n",
    "unique_articles = set()\n",
    "for cl in nx.connected_components(G):\n",
    "    unique_articles.add(random.choice(list(cl)))\n",
    "    "
   ]
  },
  {
   "cell_type": "code",
   "execution_count": 37,
   "id": "b994f12a-c958-4cc5-a27d-886c46e2f23d",
   "metadata": {},
   "outputs": [
    {
     "data": {
      "text/plain": [
       "9640"
      ]
     },
     "execution_count": 37,
     "metadata": {},
     "output_type": "execute_result"
    }
   ],
   "source": [
    "len(similarity)  "
   ]
  },
  {
   "cell_type": "code",
   "execution_count": 38,
   "id": "b36a825a-f073-4604-9e5e-a50a869baa4f",
   "metadata": {},
   "outputs": [
    {
     "data": {
      "text/plain": [
       "8354"
      ]
     },
     "execution_count": 38,
     "metadata": {},
     "output_type": "execute_result"
    }
   ],
   "source": [
    "len(unique_articles)"
   ]
  },
  {
   "cell_type": "code",
   "execution_count": 39,
   "id": "7d54692b-0635-4bc5-8b8b-ab60f2ac56fd",
   "metadata": {},
   "outputs": [],
   "source": [
    "dists = []\n",
    "for u1 in unique_articles:\n",
    "    for u2 in unique_articles:\n",
    "        if u1 != u2:\n",
    "            dists.append(similarity[u1][u2])"
   ]
  },
  {
   "cell_type": "code",
   "execution_count": 40,
   "id": "6804a3ec-61f7-4d0a-978c-97171c5ced42",
   "metadata": {},
   "outputs": [
    {
     "data": {
      "text/plain": [
       "151.0000135280451"
      ]
     },
     "execution_count": 40,
     "metadata": {},
     "output_type": "execute_result"
    }
   ],
   "source": [
    "import numpy as np\n",
    "np.mean(dists)"
   ]
  },
  {
   "cell_type": "code",
   "execution_count": 42,
   "id": "34dcbbda-8392-403f-86ad-1417a01e07d7",
   "metadata": {},
   "outputs": [],
   "source": [
    "import pandas as pd\n",
    "df1 = pd.read_csv('/home/pranavgoel/trans-fer-entropy/topic_modeling/apr_jun_2023_post_irrelevant_article_filtering/all_texts_combined_post_irrelevant_article_filtering.csv')"
   ]
  },
  {
   "cell_type": "code",
   "execution_count": 47,
   "id": "e53c58a5-31c1-411a-b654-ebe87af3a27d",
   "metadata": {},
   "outputs": [],
   "source": [
    "unique_urls = set([i[1] for i in unique_articles])\n",
    "df1['keep'] = df1['url'].apply(lambda b: b in unique_urls)"
   ]
  },
  {
   "cell_type": "code",
   "execution_count": 58,
   "id": "7b5f8318-9b46-422d-9032-e524ceff389c",
   "metadata": {},
   "outputs": [],
   "source": [
    "df_sample = df1[df1['keep']].drop_duplicates(subset='url')"
   ]
  },
  {
   "cell_type": "code",
   "execution_count": 59,
   "id": "e26bf8a2-2828-4552-9c4e-f2a822c9c013",
   "metadata": {},
   "outputs": [],
   "source": [
    "df_sample.to_csv('all_texts_combined_apr_jun_2023_post_irrelevant_article_filtering_unique_cliques_removed.csv')"
   ]
  },
  {
   "cell_type": "code",
   "execution_count": null,
   "id": "db5c43c7-46e9-48aa-a786-b7c687ae6dd9",
   "metadata": {},
   "outputs": [],
   "source": []
  }
 ],
 "metadata": {
  "kernelspec": {
   "display_name": "Python 3 (ipykernel)",
   "language": "python",
   "name": "python3"
  },
  "language_info": {
   "codemirror_mode": {
    "name": "ipython",
    "version": 3
   },
   "file_extension": ".py",
   "mimetype": "text/x-python",
   "name": "python",
   "nbconvert_exporter": "python",
   "pygments_lexer": "ipython3",
   "version": "3.8.10"
  }
 },
 "nbformat": 4,
 "nbformat_minor": 5
}
