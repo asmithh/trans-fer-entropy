{
 "cells": [
  {
   "cell_type": "code",
   "execution_count": 1,
   "id": "502c8e4f-8e10-4aca-99c4-1a3a4152505b",
   "metadata": {},
   "outputs": [
    {
     "name": "stderr",
     "output_type": "stream",
     "text": [
      "<ipython-input-1-cd00b3c2a068>:12: FutureWarning: Passing a negative integer is deprecated in version 1.0 and will not be supported in future version. Instead, use None to not limit the column width.\n",
      "  pd.set_option('display.max_colwidth', -1)\n"
     ]
    }
   ],
   "source": [
    "from datetime import datetime, timedelta\n",
    "import pickle\n",
    "import os\n",
    "import pandas as pd\n",
    "import numpy as np\n",
    "from tqdm import tqdm\n",
    "import re\n",
    "\n",
    "from tldextract import extract\n",
    "import langid\n",
    "\n",
    "pd.set_option('display.max_colwidth', -1)\n",
    "pd.set_option('display.max_rows', 50)\n",
    "\n",
    "from newspaper import Article\n",
    "import matplotlib.pyplot as plt"
   ]
  },
  {
   "cell_type": "code",
   "execution_count": 2,
   "id": "0a791936-78b9-40a9-be4f-1bade6ffb1d4",
   "metadata": {},
   "outputs": [],
   "source": [
    "start_date = datetime.strptime('2023-01-01', '%Y-%m-%d').date()\n",
    "end_date = datetime.strptime('2023-12-31', '%Y-%m-%d').date()"
   ]
  },
  {
   "cell_type": "code",
   "execution_count": 4,
   "id": "66402d1c-c53b-4010-81e8-cf0c2c4f6604",
   "metadata": {},
   "outputs": [],
   "source": [
    "def obtain_domain_count_in_df(data, domain):\n",
    "    return len(data[data['media_name']==domain])"
   ]
  },
  {
   "cell_type": "code",
   "execution_count": 5,
   "id": "cc0d908c-2ccd-408a-aa57-4659f801f389",
   "metadata": {},
   "outputs": [
    {
     "name": "stdout",
     "output_type": "stream",
     "text": [
      "Number of NYT articles in downloaded New York collection = 1156 (16.12%)\n",
      "Number of FOX articles in downloaded New York collection = 0 (0.0%)\n"
     ]
    }
   ],
   "source": [
    "ny_news = pd.read_csv('/home/pranavgoel/trans-fer-entropy/obtaining_news_collections/data/mediacloud_newyork.csv')\n",
    "state_str = 'New York'\n",
    "total = len(ny_news)\n",
    "n_nyt = obtain_domain_count_in_df(ny_news, 'nytimes.com')\n",
    "n_fox = obtain_domain_count_in_df(ny_news, 'foxnews.com')\n",
    "perc_nyt = round(100*(n_nyt/total), 2)\n",
    "perc_fox = round(100*(n_fox/total), 2)\n",
    "print('Number of NYT articles in downloaded ' + state_str + ' collection = ' + str(n_nyt) + ' (' + str(perc_nyt) + '%)')\n",
    "print('Number of FOX articles in downloaded ' + state_str + ' collection = ' + str(n_fox) + ' (' + str(perc_fox) + '%)')"
   ]
  },
  {
   "cell_type": "code",
   "execution_count": 6,
   "id": "bf7cb8ae-15f7-49bb-b679-9ce48ef5858c",
   "metadata": {},
   "outputs": [
    {
     "name": "stdout",
     "output_type": "stream",
     "text": [
      "Number of NYT articles in downloaded Illinois collection = 0 (0.0%)\n",
      "Number of FOX articles in downloaded Illinois collection = 0 (0.0%)\n"
     ]
    }
   ],
   "source": [
    "illinois_news = pd.read_csv('/home/pranavgoel/trans-fer-entropy/obtaining_news_collections/data/mediacloud_illinois.csv')\n",
    "state_str = 'Illinois'\n",
    "total = len(illinois_news)\n",
    "n_nyt = obtain_domain_count_in_df(illinois_news, 'nytimes.com')\n",
    "n_fox = obtain_domain_count_in_df(illinois_news, 'foxnews.com')\n",
    "perc_nyt = round(100*(n_nyt/total), 2)\n",
    "perc_fox = round(100*(n_fox/total), 2)\n",
    "print('Number of NYT articles in downloaded ' + state_str + ' collection = ' + str(n_nyt) + ' (' + str(perc_nyt) + '%)')\n",
    "print('Number of FOX articles in downloaded ' + state_str + ' collection = ' + str(n_fox) + ' (' + str(perc_fox) + '%)')"
   ]
  },
  {
   "cell_type": "code",
   "execution_count": 7,
   "id": "e2b1794a-1cb4-41cc-99b0-96b5a2810fcc",
   "metadata": {},
   "outputs": [
    {
     "name": "stdout",
     "output_type": "stream",
     "text": [
      "Number of NYT articles in downloaded California collection = 1156 (6.74%)\n",
      "Number of FOX articles in downloaded California collection = 0 (0.0%)\n"
     ]
    }
   ],
   "source": [
    "cali_news = pd.read_csv('/home/pranavgoel/trans-fer-entropy/obtaining_news_collections/data/mediacloud_california.csv')\n",
    "state_str = 'California'\n",
    "total = len(cali_news)\n",
    "n_nyt = obtain_domain_count_in_df(cali_news, 'nytimes.com')\n",
    "n_fox = obtain_domain_count_in_df(cali_news, 'foxnews.com')\n",
    "perc_nyt = round(100*(n_nyt/total), 2)\n",
    "perc_fox = round(100*(n_fox/total), 2)\n",
    "print('Number of NYT articles in downloaded ' + state_str + ' collection = ' + str(n_nyt) + ' (' + str(perc_nyt) + '%)')\n",
    "print('Number of FOX articles in downloaded ' + state_str + ' collection = ' + str(n_fox) + ' (' + str(perc_fox) + '%)')"
   ]
  },
  {
   "cell_type": "code",
   "execution_count": 11,
   "id": "14146363-e735-45d8-82c2-42aab6e91ad0",
   "metadata": {
    "scrolled": true
   },
   "outputs": [
    {
     "name": "stdout",
     "output_type": "stream",
     "text": [
      "1156\n",
      "1156\n"
     ]
    }
   ],
   "source": [
    "ny_news_nyt_urls = set(ny_news[ny_news['media_name']=='nytimes.com']['url'])\n",
    "print(len(ny_news_nyt_urls))\n",
    "cali_news_nyt_urls = set(cali_news[cali_news['media_name']=='nytimes.com']['url'])\n",
    "print(len(cali_news_nyt_urls))"
   ]
  },
  {
   "cell_type": "code",
   "execution_count": 12,
   "id": "bfac1d0d-deb7-411d-b7c3-0b7f43a1d4b0",
   "metadata": {},
   "outputs": [
    {
     "name": "stdout",
     "output_type": "stream",
     "text": [
      "1156\n"
     ]
    }
   ],
   "source": [
    "print(len(ny_news_nyt_urls.intersection(cali_news_nyt_urls)))"
   ]
  },
  {
   "cell_type": "markdown",
   "id": "3dc3eac0-83dc-417f-90ad-d45975329b0f",
   "metadata": {},
   "source": [
    "#### The NYT articles in NY and CA news collections are the exact same..."
   ]
  },
  {
   "cell_type": "code",
   "execution_count": 13,
   "id": "bcf4b157-0288-4d98-ad71-ae29dcfc03cd",
   "metadata": {},
   "outputs": [
    {
     "name": "stdout",
     "output_type": "stream",
     "text": [
      "Number of NYT articles in downloaded Texas collection = 0 (0.0%)\n",
      "Number of FOX articles in downloaded Texas collection = 0 (0.0%)\n"
     ]
    }
   ],
   "source": [
    "texas_news = pd.read_csv('/home/pranavgoel/trans-fer-entropy/obtaining_news_collections/data/mediacloud_texas.csv')\n",
    "state_str = 'Texas'\n",
    "total = len(texas_news)\n",
    "n_nyt = obtain_domain_count_in_df(texas_news, 'nytimes.com')\n",
    "n_fox = obtain_domain_count_in_df(texas_news, 'foxnews.com')\n",
    "perc_nyt = round(100*(n_nyt/total), 2)\n",
    "perc_fox = round(100*(n_fox/total), 2)\n",
    "print('Number of NYT articles in downloaded ' + state_str + ' collection = ' + str(n_nyt) + ' (' + str(perc_nyt) + '%)')\n",
    "print('Number of FOX articles in downloaded ' + state_str + ' collection = ' + str(n_fox) + ' (' + str(perc_fox) + '%)')"
   ]
  },
  {
   "cell_type": "code",
   "execution_count": 14,
   "id": "fb52e682-ac24-4119-9963-2fa14cc7d431",
   "metadata": {},
   "outputs": [
    {
     "name": "stdout",
     "output_type": "stream",
     "text": [
      "Number of NYT articles in downloaded Ohio collection = 0 (0.0%)\n",
      "Number of FOX articles in downloaded Ohio collection = 0 (0.0%)\n"
     ]
    }
   ],
   "source": [
    "ohio_news = pd.read_csv('/home/pranavgoel/trans-fer-entropy/obtaining_news_collections/data/mediacloud_ohio.csv')\n",
    "state_str = 'Ohio'\n",
    "total = len(ohio_news)\n",
    "n_nyt = obtain_domain_count_in_df(ohio_news, 'nytimes.com')\n",
    "n_fox = obtain_domain_count_in_df(ohio_news, 'foxnews.com')\n",
    "perc_nyt = round(100*(n_nyt/total), 2)\n",
    "perc_fox = round(100*(n_fox/total), 2)\n",
    "print('Number of NYT articles in downloaded ' + state_str + ' collection = ' + str(n_nyt) + ' (' + str(perc_nyt) + '%)')\n",
    "print('Number of FOX articles in downloaded ' + state_str + ' collection = ' + str(n_fox) + ' (' + str(perc_fox) + '%)')"
   ]
  },
  {
   "cell_type": "code",
   "execution_count": null,
   "id": "51fefe21-ab43-4f63-9f37-83921eeba6c0",
   "metadata": {},
   "outputs": [],
   "source": [
    "florida_news = pd.read_csv('/home/pranavgoel/trans-fer-entropy/obtaining_news_collections/data/mediacloud_f')\n",
    "state_str = 'Florida'\n",
    "total = len(florida_news)\n",
    "n_nyt = obtain_domain_count_in_df(florida_news, 'nytimes.com')\n",
    "n_fox = obtain_domain_count_in_df(florida_news, 'foxnews.com')\n",
    "perc_nyt = round(100*(n_nyt/total), 2)\n",
    "perc_fox = round(100*(n_fox/total), 2)\n",
    "print('Number of NYT articles in downloaded ' + state_str + ' collection = ' + str(n_nyt) + ' (' + str(perc_nyt) + '%)')\n",
    "print('Number of FOX articles in downloaded ' + state_str + ' collection = ' + str(n_fox) + ' (' + str(perc_fox) + '%)')"
   ]
  }
 ],
 "metadata": {
  "kernelspec": {
   "display_name": "Python 3",
   "language": "python",
   "name": "python3"
  },
  "language_info": {
   "codemirror_mode": {
    "name": "ipython",
    "version": 3
   },
   "file_extension": ".py",
   "mimetype": "text/x-python",
   "name": "python",
   "nbconvert_exporter": "python",
   "pygments_lexer": "ipython3",
   "version": "3.8.10"
  }
 },
 "nbformat": 4,
 "nbformat_minor": 5
}
