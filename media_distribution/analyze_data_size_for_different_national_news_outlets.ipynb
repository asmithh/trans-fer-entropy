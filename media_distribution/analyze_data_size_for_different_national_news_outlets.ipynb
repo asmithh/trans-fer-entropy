{
 "cells": [
  {
   "cell_type": "code",
   "execution_count": 2,
   "id": "e35129df-0da1-46a5-a03f-cf8cdf4fc4d9",
   "metadata": {},
   "outputs": [
    {
     "name": "stderr",
     "output_type": "stream",
     "text": [
      "<ipython-input-2-cd00b3c2a068>:12: FutureWarning: Passing a negative integer is deprecated in version 1.0 and will not be supported in future version. Instead, use None to not limit the column width.\n",
      "  pd.set_option('display.max_colwidth', -1)\n"
     ]
    }
   ],
   "source": [
    "from datetime import datetime, timedelta\n",
    "import pickle\n",
    "import os\n",
    "import pandas as pd\n",
    "import numpy as np\n",
    "from tqdm import tqdm\n",
    "import re\n",
    "\n",
    "from tldextract import extract\n",
    "import langid\n",
    "\n",
    "pd.set_option('display.max_colwidth', -1)\n",
    "pd.set_option('display.max_rows', 50)\n",
    "\n",
    "from newspaper import Article\n",
    "import matplotlib.pyplot as plt"
   ]
  },
  {
   "cell_type": "code",
   "execution_count": 3,
   "id": "a586257d-62d0-41c2-9f16-7145826c8f91",
   "metadata": {},
   "outputs": [],
   "source": [
    "start_date = datetime.strptime('2023-01-01', '%Y-%m-%d').date()\n",
    "end_date = datetime.strptime('2023-12-31', '%Y-%m-%d').date()"
   ]
  },
  {
   "cell_type": "code",
   "execution_count": 4,
   "id": "d2bc22dd-bead-4d8d-bf2c-1e1cff8bb669",
   "metadata": {},
   "outputs": [
    {
     "name": "stdout",
     "output_type": "stream",
     "text": [
      "<class 'pandas.core.frame.DataFrame'>\n",
      "Int64Index: 31311 entries, 0 to 11232\n",
      "Data columns (total 9 columns):\n",
      " #   Column        Non-Null Count  Dtype \n",
      "---  ------        --------------  ----- \n",
      " 0   archived_url  31311 non-null  object\n",
      " 1   article_url   31311 non-null  object\n",
      " 2   id            31311 non-null  int64 \n",
      " 3   language      31311 non-null  object\n",
      " 4   media_name    31311 non-null  object\n",
      " 5   media_url     31311 non-null  object\n",
      " 6   publish_date  31311 non-null  object\n",
      " 7   title         31311 non-null  object\n",
      " 8   url           31311 non-null  object\n",
      "dtypes: int64(1), object(8)\n",
      "memory usage: 2.4+ MB\n",
      "None\n"
     ]
    },
    {
     "name": "stderr",
     "output_type": "stream",
     "text": [
      "<ipython-input-4-faab354dc112>:3: FutureWarning: In a future version of pandas all arguments of concat except for the argument 'objs' will be keyword-only.\n",
      "  us_national_news = pd.concat([us_national_news1, us_national_news2], 0)\n"
     ]
    }
   ],
   "source": [
    "us_national_news1 = pd.read_csv('/home/pranavgoel/trans-fer-entropy/obtaining_news_collections/data/mediacloud_us_national_jan_jun_2023.csv')\n",
    "us_national_news2 = pd.read_csv('/home/pranavgoel/trans-fer-entropy/obtaining_news_collections/data/mediacloud_us_national_july_dec_2023.csv')\n",
    "us_national_news = pd.concat([us_national_news1, us_national_news2], 0)\n",
    "print(us_national_news.info())"
   ]
  },
  {
   "cell_type": "code",
   "execution_count": 5,
   "id": "76542237-697f-403a-804c-40b9f71dadc5",
   "metadata": {},
   "outputs": [],
   "source": [
    "media_outlet_counts = dict(us_national_news['media_name'].value_counts())"
   ]
  },
  {
   "cell_type": "code",
   "execution_count": 6,
   "id": "c0c92e79-2564-4c85-a105-35acbf9e1c0c",
   "metadata": {},
   "outputs": [
    {
     "name": "stdout",
     "output_type": "stream",
     "text": [
      "Number of Fox News article in downloaded collection = 2339\n"
     ]
    }
   ],
   "source": [
    "print('Number of Fox News article in downloaded collection = ' + str(media_outlet_counts['foxnews.com']))"
   ]
  },
  {
   "cell_type": "code",
   "execution_count": 7,
   "id": "ab3f6cfc-bb15-4168-9569-927eb05a04f1",
   "metadata": {},
   "outputs": [
    {
     "name": "stdout",
     "output_type": "stream",
     "text": [
      "Number of NYT article in downloaded collection = 1156\n"
     ]
    }
   ],
   "source": [
    "print('Number of NYT article in downloaded collection = ' + str(media_outlet_counts['nytimes.com']))"
   ]
  },
  {
   "cell_type": "code",
   "execution_count": 8,
   "id": "b2ae3af3-22ff-4073-bdc7-52e99e01ed38",
   "metadata": {},
   "outputs": [
    {
     "name": "stdout",
     "output_type": "stream",
     "text": [
      "Number of CNN article in downloaded collection = 415\n"
     ]
    }
   ],
   "source": [
    "print('Number of CNN article in downloaded collection = ' + str(media_outlet_counts['cnn.com']))"
   ]
  },
  {
   "cell_type": "code",
   "execution_count": 9,
   "id": "df4174aa-9a8f-4704-96f9-1d880e4d7b57",
   "metadata": {},
   "outputs": [
    {
     "name": "stdout",
     "output_type": "stream",
     "text": [
      "Number of MSNBC article in downloaded collection = 149\n"
     ]
    }
   ],
   "source": [
    "print('Number of MSNBC article in downloaded collection = ' + str(media_outlet_counts['msnbc.com']))"
   ]
  },
  {
   "cell_type": "code",
   "execution_count": 10,
   "id": "63706cf2-1968-4841-82da-0be3a343d693",
   "metadata": {
    "scrolled": true
   },
   "outputs": [
    {
     "data": {
      "text/plain": [
       "{'foxnews.com': 2339,\n",
       " 'dailycaller.com': 1600,\n",
       " 'breitbart.com': 1393,\n",
       " 'nytimes.com': 1156,\n",
       " 'newsweek.com': 1139,\n",
       " 'seattletimes.com': 1064,\n",
       " 'nypost.com': 1023,\n",
       " 'theblaze.com': 799,\n",
       " 'sandiegouniontribune.com': 777,\n",
       " 'stltoday.com': 757,\n",
       " 'pjmedia.com': 739,\n",
       " 'redstate.com': 670,\n",
       " 'newsday.com': 593,\n",
       " 'townhall.com': 585,\n",
       " 'latimes.com': 576,\n",
       " 'cbsnews.com': 555,\n",
       " 'hotair.com': 532,\n",
       " 'startribune.com': 501,\n",
       " 'newsbusters.org': 500,\n",
       " 'dailysignal.com': 494,\n",
       " 'rawstory.com': 469,\n",
       " 'sfgate.com': 432,\n",
       " 'cnn.com': 415,\n",
       " 'ibtimes.com': 397,\n",
       " 'arkansasonline.com': 383,\n",
       " 'forbes.com': 351,\n",
       " 'politicalwire.com': 346,\n",
       " 'alternet.org': 320,\n",
       " 'pbs.org': 305,\n",
       " 'politico.com': 286,\n",
       " 'npr.org': 276,\n",
       " 'sun-sentinel.com': 275,\n",
       " 'cleveland.com': 252,\n",
       " 'chicagotribune.com': 252,\n",
       " 'mercurynews.com': 242,\n",
       " 'orlandosentinel.com': 242,\n",
       " 'dailykos.com': 227,\n",
       " 'thestreet.com': 217,\n",
       " 'pilotonline.com': 207,\n",
       " 'benzinga.com': 205,\n",
       " 'thedailybeast.com': 198,\n",
       " 'realclearpolitics.com': 197,\n",
       " 'time.com': 196,\n",
       " 'businessinsider.com': 195,\n",
       " 'ocregister.com': 191,\n",
       " 'spectator.org': 187,\n",
       " 'ncregister.com': 185,\n",
       " 'variety.com': 179,\n",
       " 'baltimoresun.com': 168,\n",
       " 'centralmaine.com': 168,\n",
       " 'rollingstone.com': 167,\n",
       " 'salon.com': 166,\n",
       " 'twincities.com': 156,\n",
       " 'mlive.com': 152,\n",
       " 'msnbc.com': 149,\n",
       " 'oann.com': 143,\n",
       " 'foxbusiness.com': 142,\n",
       " 'denverpost.com': 140,\n",
       " 'dailydot.com': 139,\n",
       " 'reason.com': 130,\n",
       " 'theconversation.com': 128,\n",
       " 'hollywoodreporter.com': 128,\n",
       " 'chron.com': 124,\n",
       " 'radaronline.com': 124,\n",
       " 'oregonlive.com': 114,\n",
       " 'aol.com': 113,\n",
       " 'nj.com': 111,\n",
       " 'vice.com': 109,\n",
       " 'courant.com': 107,\n",
       " 'fortune.com': 106,\n",
       " 'billboard.com': 103,\n",
       " 'staradvertiser.com': 101,\n",
       " 'slate.com': 94,\n",
       " 'syracuse.com': 89,\n",
       " 'theweek.com': 88,\n",
       " 'thewrap.com': 88,\n",
       " 'gazettenet.com': 81,\n",
       " 'ncronline.org': 79,\n",
       " 'eonline.com': 79,\n",
       " 'thenation.com': 77,\n",
       " 'theatlantic.com': 71,\n",
       " 'usmagazine.com': 70,\n",
       " 'hollywoodlife.com': 67,\n",
       " 'wsj.com': 67,\n",
       " 'jezebel.com': 65,\n",
       " 'uproxx.com': 58,\n",
       " 'motherjones.com': 58,\n",
       " 'eurweb.com': 58,\n",
       " 'talkingpointsmemo.com': 56,\n",
       " 'tmz.com': 55,\n",
       " 'upworthy.com': 54,\n",
       " 'buzzfeed.com': 54,\n",
       " 'stripes.com': 52,\n",
       " 'vox.com': 50,\n",
       " 'cnbc.com': 49,\n",
       " 'mashable.com': 48,\n",
       " 'espn.com': 44,\n",
       " 'csmonitor.com': 43,\n",
       " 'rollcall.com': 42,\n",
       " 'nationalmemo.com': 41,\n",
       " 'mysanantonio.com': 40,\n",
       " 'indiewire.com': 40,\n",
       " 'usatoday.com': 38,\n",
       " 'armytimes.com': 36,\n",
       " 'navytimes.com': 35,\n",
       " 'airforcetimes.com': 34,\n",
       " 'qz.com': 34,\n",
       " 'theroot.com': 31,\n",
       " 'inquisitr.com': 30,\n",
       " 'gizmodo.com': 30,\n",
       " 'newyorker.com': 29,\n",
       " 'cnet.com': 28,\n",
       " 'monstersandcritics.com': 27,\n",
       " 'schwartzreport.net': 25,\n",
       " 'ign.com': 22,\n",
       " 'bustle.com': 22,\n",
       " 'techcrunch.com': 22,\n",
       " 'therealnews.com': 21,\n",
       " 'recorder.com': 21,\n",
       " 'scientificamerican.com': 20,\n",
       " 'deadspin.com': 18,\n",
       " 'polygon.com': 17,\n",
       " 'propublica.org': 16,\n",
       " 'wired.com': 16,\n",
       " 'newsone.com': 15,\n",
       " 'refinery29.com': 15,\n",
       " 'factcheck.org': 15,\n",
       " 'theonion.com': 13,\n",
       " 'fivethirtyeight.com': 13,\n",
       " 'opednews.com': 12,\n",
       " 'observer.com': 12,\n",
       " 'newsmax.com': 12,\n",
       " 'bleacherreport.com': 10,\n",
       " 'theverge.com': 10,\n",
       " 'theintercept.com': 10,\n",
       " 'elitedaily.com': 10,\n",
       " 'barrons.com': 9,\n",
       " 'eater.com': 8,\n",
       " 'cnsnews.com': 8,\n",
       " 'jsonline.com': 7,\n",
       " 'reuters.com': 7,\n",
       " 'opposingviews.com': 7,\n",
       " 'postandcourier.com': 7,\n",
       " 'techradar.com': 7,\n",
       " 'rttnews.com': 6,\n",
       " 'popmatters.com': 6,\n",
       " 'thrillist.com': 5,\n",
       " 'cbssports.com': 5,\n",
       " 'livescience.com': 5,\n",
       " 'gq.com': 4,\n",
       " 'foxsports.com': 3,\n",
       " 'people.com': 3,\n",
       " 'axcessnews.com': 3,\n",
       " 'grist.org': 3,\n",
       " 'harpers.org': 3,\n",
       " 'sbnation.com': 2,\n",
       " 'engadget.com': 2,\n",
       " 'mic.com': 2,\n",
       " 'inquirer.com': 2,\n",
       " 'newsblaze.com': 2,\n",
       " 'nhgazette.com': 2,\n",
       " 'zdnet.com': 2,\n",
       " 'sportingnews.com': 2,\n",
       " 'fansided.com': 1,\n",
       " 'arstechnica.com': 1,\n",
       " 'dallasnews.com': 1,\n",
       " 'omaha.com': 1,\n",
       " 'marketwatch.com': 1,\n",
       " 'saturdayeveningpost.com': 1}"
      ]
     },
     "execution_count": 10,
     "metadata": {},
     "output_type": "execute_result"
    }
   ],
   "source": [
    "media_outlet_counts"
   ]
  },
  {
   "cell_type": "code",
   "execution_count": null,
   "id": "4c3da621-eda4-4f78-81f4-887e18d8fd5c",
   "metadata": {},
   "outputs": [],
   "source": []
  }
 ],
 "metadata": {
  "kernelspec": {
   "display_name": "Python 3",
   "language": "python",
   "name": "python3"
  },
  "language_info": {
   "codemirror_mode": {
    "name": "ipython",
    "version": 3
   },
   "file_extension": ".py",
   "mimetype": "text/x-python",
   "name": "python",
   "nbconvert_exporter": "python",
   "pygments_lexer": "ipython3",
   "version": "3.8.10"
  }
 },
 "nbformat": 4,
 "nbformat_minor": 5
}
