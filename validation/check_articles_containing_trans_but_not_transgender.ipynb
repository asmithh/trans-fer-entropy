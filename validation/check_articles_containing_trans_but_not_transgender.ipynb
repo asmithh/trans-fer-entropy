{
 "cells": [
  {
   "cell_type": "code",
   "execution_count": 1,
   "id": "bbddf1b6-7e61-4d9e-9852-a027707f5daa",
   "metadata": {},
   "outputs": [
    {
     "name": "stderr",
     "output_type": "stream",
     "text": [
      "/home/pranavgoel/miniconda3/envs/pg3/lib/python3.8/site-packages/tqdm/auto.py:21: TqdmWarning: IProgress not found. Please update jupyter and ipywidgets. See https://ipywidgets.readthedocs.io/en/stable/user_install.html\n",
      "  from .autonotebook import tqdm as notebook_tqdm\n"
     ]
    }
   ],
   "source": [
    "import os\n",
    "import pickle\n",
    "import random\n",
    "\n",
    "import numpy as np\n",
    "import pandas as pd\n",
    "import pytz\n",
    "from rake_nltk import Rake\n",
    "from tqdm.auto import tqdm\n",
    "\n",
    "from IPython.display import clear_output"
   ]
  },
  {
   "cell_type": "code",
   "execution_count": 2,
   "id": "b72c9cef-3470-4702-afe0-8a461f3557df",
   "metadata": {},
   "outputs": [],
   "source": [
    "INPUT_DEDUP_FILES_BASE_PATH = (\n",
    "    \"/home/pranavgoel/trans-fer-entropy/obtaining_news_collections/data/\"\n",
    ")"
   ]
  },
  {
   "cell_type": "code",
   "execution_count": 3,
   "id": "2a6c5939-0c04-4125-9333-cd23faa14ff9",
   "metadata": {},
   "outputs": [],
   "source": [
    "def create_and_save_combined_dataframe(input_file_names):\n",
    "    \"\"\"\n",
    "    Loads all the dedup files representing various media groups (the 6 states + nytimes+foxnews) and concatenates them as one dataframe, while adding a column for the media group.\n",
    "    \"\"\"\n",
    "    all_dfs = []\n",
    "    for f in input_file_names:\n",
    "        df = pd.read_csv(INPUT_DEDUP_FILES_BASE_PATH + f)\n",
    "        media_group = f.split(\"_article_\")[0]\n",
    "        df[\"media_group\"] = [media_group] * len(df)\n",
    "        all_dfs.append(df)\n",
    "    combined_df = pd.concat(all_dfs)\n",
    "    return combined_df"
   ]
  },
  {
   "cell_type": "code",
   "execution_count": 4,
   "id": "e5d4122a-8a62-4152-b406-deb6272702fd",
   "metadata": {},
   "outputs": [],
   "source": [
    "input_file_names = [\n",
    "        x for x in os.listdir(INPUT_DEDUP_FILES_BASE_PATH) if \"dedup.csv\" in x\n",
    "    ]"
   ]
  },
  {
   "cell_type": "code",
   "execution_count": 5,
   "id": "e9b6f86a-5721-4ab7-9ea4-d08649ec48cf",
   "metadata": {},
   "outputs": [
    {
     "name": "stdout",
     "output_type": "stream",
     "text": [
      "<class 'pandas.core.frame.DataFrame'>\n",
      "Int64Index: 15883 entries, 0 to 666\n",
      "Data columns (total 8 columns):\n",
      " #   Column        Non-Null Count  Dtype \n",
      "---  ------        --------------  ----- \n",
      " 0   media_name    15883 non-null  object\n",
      " 1   publish_date  15883 non-null  object\n",
      " 2   title         15883 non-null  object\n",
      " 3   url           15883 non-null  object\n",
      " 4   subtitle      13214 non-null  object\n",
      " 5   text          15883 non-null  object\n",
      " 6   sent_count    15883 non-null  int64 \n",
      " 7   media_group   15883 non-null  object\n",
      "dtypes: int64(1), object(7)\n",
      "memory usage: 1.1+ MB\n",
      "None\n"
     ]
    }
   ],
   "source": [
    "combined_df = create_and_save_combined_dataframe(input_file_names)\n",
    "print(combined_df.info())"
   ]
  },
  {
   "cell_type": "code",
   "execution_count": 6,
   "id": "0093753b-ccbe-46dc-898c-d96800e345d8",
   "metadata": {},
   "outputs": [],
   "source": [
    "titles_and_texts = list(zip(combined_df[\"title\"], \n",
    "                            combined_df[\"text\"]))\n",
    "titles_and_texts = list(map(lambda x: x[0] + \" \" + x[1], titles_and_texts))"
   ]
  },
  {
   "cell_type": "markdown",
   "id": "0f506fdb-eb93-48b2-9432-020082585905",
   "metadata": {},
   "source": [
    "### Obtain all texts with `trans` present in them, but not `transgender`"
   ]
  },
  {
   "cell_type": "code",
   "execution_count": 7,
   "id": "92ca0883-3c8a-4eee-b049-034cc690499a",
   "metadata": {},
   "outputs": [
    {
     "name": "stderr",
     "output_type": "stream",
     "text": [
      "100%|██████████| 15883/15883 [00:02<00:00, 7329.45it/s]"
     ]
    },
    {
     "name": "stdout",
     "output_type": "stream",
     "text": [
      "4477\n"
     ]
    },
    {
     "name": "stderr",
     "output_type": "stream",
     "text": [
      "\n"
     ]
    }
   ],
   "source": [
    "trans_only_texts = [x.lower() for x in tqdm(titles_and_texts) if 'trans' in x.lower() and 'transgender' not in x.lower()]\n",
    "print(len(trans_only_texts))"
   ]
  },
  {
   "cell_type": "code",
   "execution_count": 9,
   "id": "fc38912e-ec4b-4dbd-87fa-0f0d65d81a08",
   "metadata": {},
   "outputs": [
    {
     "name": "stdout",
     "output_type": "stream",
     "text": [
      "0.28187370144179313\n"
     ]
    }
   ],
   "source": [
    "N = len(titles_and_texts)\n",
    "print(len(trans_only_texts)/N)"
   ]
  },
  {
   "cell_type": "markdown",
   "id": "177a0932-3dea-41c3-bbbc-cb8b8995c46b",
   "metadata": {},
   "source": [
    "### Create a random sample of 100, then manually label them as 1/0 for relevance (talking about transgender people and/or issues)"
   ]
  },
  {
   "cell_type": "code",
   "execution_count": 24,
   "id": "78af4239-fb25-4f81-b330-8f7a79bf9017",
   "metadata": {},
   "outputs": [],
   "source": [
    "sample_texts_for_annotation = random.Random(42).sample(trans_only_texts, 100)"
   ]
  },
  {
   "cell_type": "markdown",
   "id": "3862531c-a950-44e0-9a89-23ab3d48547d",
   "metadata": {},
   "source": [
    "#### Below we label in notebook itself -- basically labeling if the term trans has been used to mean transgender (1) or something else (0)"
   ]
  },
  {
   "cell_type": "code",
   "execution_count": 38,
   "id": "36829bd7-94f5-4a9a-a45a-d1bd5cd06e74",
   "metadata": {
    "scrolled": true
   },
   "outputs": [
    {
     "name": "stdout",
     "output_type": "stream",
     "text": [
      "man’s anti-woke temper tantrum against jack daniel’s goes viral a new jersey man’s beef with jack daniel’s tennessee whiskey turning too “woke” has gone viral after he posted a video of himself torching a comically massive load of merchandise and booze to protest the brand’s support for the lgbtq+ community.\n",
      "\n",
      "in the early morning of april 7, pauly michaelis posted a video of the defiant burn session to facebook.\n",
      "\n",
      "“for those of you who know me well my drink has always been jack daniels,” he wrote. “for over 150 years since 1866 this drink was always associated with cowboys, warriors, bikers, savage rock bands and all american badass people.”\n",
      "\n",
      "“they went woke,” he said with the middle finger emoji.\n",
      "\n",
      "“jasper newton is turning over in his grave. they took a classic tradition of americana that was the total [definition] of masculinity and made it woke and for this i say fuck you jd and all of your products,” michaelis wrote. “you will never have the honor of touching my lips ever again. #jackdanielswhiskey #wokeness #bringmasculinityback #enoughisenough.”\n",
      "\n",
      "the accompanying video shows michaelis wearing denim overalls while standing in the doorway of what appears to be the back porch of a house.\n",
      "\n",
      "“as you all know, i’m the biggest advocate and supporter of jack daniel’s. i have been for 40 years of my life, if not longer. here’s the deal: you went woke,” 50-year-old michaelis says. “so, here’s what i got for you guys.”\n",
      "\n",
      "michaelis then carries a jack daniel’s mirror outside and throws it in a large trash bin, followed by “every jack daniel’s glass [he] own[s]” and a wooden sign that had been hanging in his bar. he marches back to the house time and again, grabbing more items and pouring out his many whiskey bottles onto a fire pit before throwing the empty bottles in the garbage.\n",
      "\n",
      "TRANSphobic grumps are very triggered by an ad for... chocolate\n",
      "\n",
      "“and the capper,” michaelis says, stomping into the house. “two of the world’s most expensive jack daniel’s. two-hundred-fifty dollars a bottle, and $100 a bottle. fuck your woke ass company.”\n",
      "\n",
      "michaelis adds the liquor to the pit, sets it on fire, and then tosses up both middle fingers to the camera.\n",
      "\n",
      "the video received over 200 comments on facebook, with most people cheering him on. that sentiment was not shared on reddit, where hundreds of commenters put him on blast.\n",
      "\n",
      "“you were a die hard jd fan so this shocked me at first but more important you are more american [than] anything !” someone commented under the video on facebook. “i applaud you !”\n",
      "\n",
      "“absolutely agree!” someone else wrote. “thank god someone is standing up & speaking out!! this woke shit us destroying our country.”\n",
      "\n",
      "jack daniel’s tennessee whiskey has recently come under fire with right-wingers for the brand’s pride campaign with former contestants of rupaul’s drag race bebe zahara benet, manila luzon, and trinity the tuck. as part of that partnership, the company has created a reality series that showcases members of the lgbtq+ community as they explore the food and drink industry.\n",
      "\n",
      "“jack daniel’s tennessee fire is dedicated to supporting the lgbtq community year-round through representation in media we produce, nurturing a diverse and inclusive business, and partnerships and donations to [gay & lesbian alliance against defamation],” the company says on its website.\n",
      "\n",
      "jack daniel’s has also reckoned with its racial history in recent years after stories surfaced about the enslaved black man who helped create the iconic recipe and was essentially scrubbed from the brand’s origin story.\n",
      "\n",
      "the latest ordeal comes after the so-called anti-“woke” brigade—including rock rapper kid rock—blasted bud light for partnering with a TRANS influencer on a “365 days of womanhood” campaign.\n",
      "\n",
      "viral video shows ‘homophobic karen’ freak out on lesbian couple in starbucks\n",
      "\n",
      "regardless of michaelis’ dedication to rid himself of every jack daniel’s item he owns, his critics on reddit read him to filth.\n",
      "\n",
      "“he just threw away a lot of his own money,” a reddit user replied under the video.\n",
      "\n",
      "“watch as i burn about 60$ of my own shit while i stomp around like a big baby for 3 fucking minutes,” someone else wrote. “i’m sure the people at jack daniels are terrified right now.”\n",
      "\n",
      "“glad he had his big boy pants on for this,” another user wrote.\n",
      "\n",
      "michaelis did not immediately respond to the daily beast’s request for comment monday.\n",
      "\n",
      "read more at the daily beast.\n",
      "\n",
      "got a tip? send it to the daily beast here\n",
      "\n",
      "get the daily beast's biggest scoops and scandals delivered right to your inbox. sign up now.\n",
      "\n",
      "stay informed and gain unlimited access to the daily beast's unmatched reporting. subscribe now.\n"
     ]
    },
    {
     "ename": "KeyboardInterrupt",
     "evalue": "Interrupted by user",
     "output_type": "error",
     "traceback": [
      "\u001b[0;31m---------------------------------------------------------------------------\u001b[0m",
      "\u001b[0;31mKeyboardInterrupt\u001b[0m                         Traceback (most recent call last)",
      "Cell \u001b[0;32mIn[38], line 5\u001b[0m\n\u001b[1;32m      3\u001b[0m show_text \u001b[38;5;241m=\u001b[39m text\u001b[38;5;241m.\u001b[39mreplace(\u001b[38;5;124m'\u001b[39m\u001b[38;5;124mtrans\u001b[39m\u001b[38;5;124m'\u001b[39m, \u001b[38;5;124m'\u001b[39m\u001b[38;5;124mTRANS\u001b[39m\u001b[38;5;124m'\u001b[39m) \u001b[38;5;66;03m#to highlight and focus attention when labeling\u001b[39;00m\n\u001b[1;32m      4\u001b[0m \u001b[38;5;28mprint\u001b[39m(show_text, flush\u001b[38;5;241m=\u001b[39m\u001b[38;5;28;01mTrue\u001b[39;00m)\n\u001b[0;32m----> 5\u001b[0m label \u001b[38;5;241m=\u001b[39m \u001b[38;5;28mint\u001b[39m(\u001b[38;5;28;43minput\u001b[39;49m\u001b[43m(\u001b[49m\u001b[43m)\u001b[49m)\n\u001b[1;32m      6\u001b[0m labels\u001b[38;5;241m.\u001b[39mappend(label)\n\u001b[1;32m      7\u001b[0m \u001b[38;5;28;01mif\u001b[39;00m \u001b[38;5;28mlen\u001b[39m(labels) \u001b[38;5;241m>\u001b[39m\u001b[38;5;241m=\u001b[39m \u001b[38;5;241m100\u001b[39m:\n",
      "File \u001b[0;32m~/miniconda3/envs/pg3/lib/python3.8/site-packages/ipykernel/kernelbase.py:848\u001b[0m, in \u001b[0;36mKernel.raw_input\u001b[0;34m(self, prompt)\u001b[0m\n\u001b[1;32m    844\u001b[0m \u001b[38;5;28;01mif\u001b[39;00m \u001b[38;5;129;01mnot\u001b[39;00m \u001b[38;5;28mself\u001b[39m\u001b[38;5;241m.\u001b[39m_allow_stdin:\n\u001b[1;32m    845\u001b[0m     \u001b[38;5;28;01mraise\u001b[39;00m StdinNotImplementedError(\n\u001b[1;32m    846\u001b[0m         \u001b[38;5;124m\"\u001b[39m\u001b[38;5;124mraw_input was called, but this frontend does not support input requests.\u001b[39m\u001b[38;5;124m\"\u001b[39m\n\u001b[1;32m    847\u001b[0m     )\n\u001b[0;32m--> 848\u001b[0m \u001b[38;5;28;01mreturn\u001b[39;00m \u001b[38;5;28;43mself\u001b[39;49m\u001b[38;5;241;43m.\u001b[39;49m\u001b[43m_input_request\u001b[49m\u001b[43m(\u001b[49m\u001b[38;5;28;43mstr\u001b[39;49m\u001b[43m(\u001b[49m\u001b[43mprompt\u001b[49m\u001b[43m)\u001b[49m\u001b[43m,\u001b[49m\n\u001b[1;32m    849\u001b[0m \u001b[43m    \u001b[49m\u001b[38;5;28;43mself\u001b[39;49m\u001b[38;5;241;43m.\u001b[39;49m\u001b[43m_parent_ident\u001b[49m\u001b[43m,\u001b[49m\n\u001b[1;32m    850\u001b[0m \u001b[43m    \u001b[49m\u001b[38;5;28;43mself\u001b[39;49m\u001b[38;5;241;43m.\u001b[39;49m\u001b[43m_parent_header\u001b[49m\u001b[43m,\u001b[49m\n\u001b[1;32m    851\u001b[0m \u001b[43m    \u001b[49m\u001b[43mpassword\u001b[49m\u001b[38;5;241;43m=\u001b[39;49m\u001b[38;5;28;43;01mFalse\u001b[39;49;00m\u001b[43m,\u001b[49m\n\u001b[1;32m    852\u001b[0m \u001b[43m\u001b[49m\u001b[43m)\u001b[49m\n",
      "File \u001b[0;32m~/miniconda3/envs/pg3/lib/python3.8/site-packages/ipykernel/kernelbase.py:892\u001b[0m, in \u001b[0;36mKernel._input_request\u001b[0;34m(self, prompt, ident, parent, password)\u001b[0m\n\u001b[1;32m    889\u001b[0m             \u001b[38;5;28;01mbreak\u001b[39;00m\n\u001b[1;32m    890\u001b[0m \u001b[38;5;28;01mexcept\u001b[39;00m \u001b[38;5;167;01mKeyboardInterrupt\u001b[39;00m:\n\u001b[1;32m    891\u001b[0m     \u001b[38;5;66;03m# re-raise KeyboardInterrupt, to truncate traceback\u001b[39;00m\n\u001b[0;32m--> 892\u001b[0m     \u001b[38;5;28;01mraise\u001b[39;00m \u001b[38;5;167;01mKeyboardInterrupt\u001b[39;00m(\u001b[38;5;124m\"\u001b[39m\u001b[38;5;124mInterrupted by user\u001b[39m\u001b[38;5;124m\"\u001b[39m) \u001b[38;5;28;01mfrom\u001b[39;00m \u001b[38;5;28;01mNone\u001b[39;00m\n\u001b[1;32m    893\u001b[0m \u001b[38;5;28;01mexcept\u001b[39;00m \u001b[38;5;167;01mException\u001b[39;00m \u001b[38;5;28;01mas\u001b[39;00m e:\n\u001b[1;32m    894\u001b[0m     \u001b[38;5;28mself\u001b[39m\u001b[38;5;241m.\u001b[39mlog\u001b[38;5;241m.\u001b[39mwarning(\u001b[38;5;124m\"\u001b[39m\u001b[38;5;124mInvalid Message:\u001b[39m\u001b[38;5;124m\"\u001b[39m, exc_info\u001b[38;5;241m=\u001b[39m\u001b[38;5;28;01mTrue\u001b[39;00m)\n",
      "\u001b[0;31mKeyboardInterrupt\u001b[0m: Interrupted by user"
     ]
    }
   ],
   "source": [
    "labels = []\n",
    "for text in sample_texts_for_annotation:\n",
    "    show_text = text.replace('trans', 'TRANS') #to highlight and focus attention when labeling\n",
    "    print(show_text, flush=True)\n",
    "    label = int(input())\n",
    "    labels.append(label)\n",
    "    if len(labels) >= 100:\n",
    "        print('DONE')\n",
    "        break\n",
    "    #print('\\n---\\n')\n",
    "    \n",
    "    clear_output(wait=True) #this will clear the console of previous outputs and show current text to be labeled"
   ]
  },
  {
   "cell_type": "code",
   "execution_count": 39,
   "id": "00663f81-e972-4a35-b285-837077cc59da",
   "metadata": {},
   "outputs": [
    {
     "name": "stdout",
     "output_type": "stream",
     "text": [
      "13\n"
     ]
    }
   ],
   "source": [
    "print(len(labels))"
   ]
  },
  {
   "cell_type": "code",
   "execution_count": 40,
   "id": "b2631417-fb2d-47f4-b891-3fadc6039f54",
   "metadata": {
    "scrolled": true
   },
   "outputs": [
    {
     "name": "stdout",
     "output_type": "stream",
     "text": [
      "brisket & rice is twice as nice “live-fire cooking next to a gas station: who would have thought?” brisket & rice co-owner hong tran asked. “only in texas,” he added with a laugh. it’s in this unlikely location in northwest houston that he; his wife, michelle; and his brother phong opened their barbecue joint just over a year ago.\n",
      "\n",
      "the space inside the phillips 66 had been a church’s chicken and a chinese restaurant. tran, who got a cup of coffee at the gas station every morning on the way to work, realized it was the perfect place to park his pair of five-hundred-gallon smokers mounted on a trailer. “it was sitting in front of my face the whole time,” he said. even better, the location was just outside the city of houston’s health department jurisdiction, making it easier to get a permit. harris county only required an enclosed pit room in which to park them. “it’s ridiculous how lucky i got,” tran said.\n",
      "\n",
      "the TRANS closed the drive-through to build the pit room, thankful their $20,000 investment would finally be put to use. phong quit his job as a machinist to focus on the restaurant, while tran kept his job producing parts for the oil and gas industry. “it’s a plan b in case things go south,” tran said, still sounding uncertain about his business venture, which was the first restaurant any of the three had ever worked in.\n",
      "\n",
      "several years ago, tran had a hard time finding consistently good barbecue where he lived in cypress. a friend sold him a used smoker, and after some alterations, he fired it up in his backyard. working as a machinist for fifteen years, tran was running out of new things to learn about his trade. as he started getting bored, “[barbecue] was a challenge,” he said. “i wanted to chase it, i guess.” the backyard briskets got better, and he upgraded his smoker. then he started making sausages. before long, the brothers decided to invest in the smokers that would be the workhorses at their future restaurant.\n",
      "\n",
      "popular videos previous next more\n",
      "\n",
      "the menu, like the name of the place, “is an homage to how we grew up,” tran said. he and phong were raised in brenham by vietnamese parents. their dad passed away when they were young, and their mom raised a big family on her own. they enjoyed barbecue, but each sibling wasn’t getting their own combo plate “she’d buy meats by the pound, and rice was our filler,” tran said. “now when i eat brisket, i need the rice,” he added.\n",
      "\n",
      "michelle nguyen, hong tran, and phong tran of brisket & rice. photograph by daniel vaughn\n",
      "\n",
      "the brisket and rice dish on the menu is that simple: two thick slices of well-smoked brisket are laid over a generous scoop of seasoned jasmine rice and drizzled with the house-made barbecue sauce. the restaurant also offers bbq fried rice, which includes chunks of brisket, chinese sausage, eggs, onions, and barbecue sauce. each serving is wok-fired to order. the wok is as important as the smoker. the sweetness of the sauce mixed with the melted brisket fat provides what hong describes as wok hei, which TRANSlates as wok breath or wok energy in cantonese. i could taste it in every bite as i carved from the hillock of fried rice on my butcher paper–lined tray. the sweet sausage and the peppery brisket made a masterful match, but don’t just take my word for it. as tran explained proudly, “when you have the old asian ladies coming in to get your fried rice, you’re like, ‘yeah!’ ”\n",
      "\n",
      "i thought the fried rice was the result of leftovers from the brisket and rice, but tran corrected me. each dish has its own independent process. they fill three rice cookers, each with a forty-cup capacity (the rice cooker in my kitchen has an eight-cup capacity), three times daily with jasmine rice for the brisket and rice, for which freshly smoked and sliced brisket is reserved. for the fried rice, they prefer long-grain rice and require two daily batches from all three rice cookers. “it’s almost like using day-old rice,” tran said of long-grain rice, which easily separates into individual grains. as for the brisket in the fried rice, they cook extra and chill them overnight. “you know how hard it is to cube a brisket when it’s soft?” tran asked.\n",
      "\n",
      "not everything comes with rice here. the pork ribs are smoked until very tender, then glazed with the house-made barbecue sauce. they’re subtly seasoned, so the pork flavor comes though well. i really enjoyed the simple pork and beef sausage as well as the jalapeño cheese variety. for the classic sausage, tran aims for what he ate as a child in brenham. “there are so many sausage places around that have that polish, german, and czech mix,” he said, naming chappell hill and burton’s. i could see the resemblance, but preferred tran’s version, with a smoky and snappy casing.\n",
      "\n",
      "when ordering at the counter, michelle will ask if you want pickles, onions, and jalapeños. say yes to all of them. the TRANS use a different recipe for each. the jalapeños are sweet with a hint of soy sauce and use lemon-lime jones soda from the soda fountain. (tran said theirs is the only houston restaurant he knows of that serves jones on tap, and swears by the brand so much he sent me off with a bottle of cream soda just so i could try it.) the thick-cut cucumber pickles have a nice balance of tangy and sweet, and the onions are on the sweeter side. alternate bites of the pickles with the barbecue and you’ll see why they’re a magical accompaniment.\n",
      "\n",
      "i only tried two sides. the loaded baked potato salad is served hot and is tran’s alternative for barbecue-stuffed baked potatoes. the daily demand is just too hard to judge, he said. i was more drawn to the poor man’s macaroni, which tran said is their take on a dish served at many houston-area vietnamese restaurants called nui xào bò, or stir-fried macaroni with beef. in this case, the macaroni is cooked in the wok with diced bacon and a ketchup-based sauce. it’s salty, sweet, delicious, and filling.\n",
      "\n",
      "tran said they’re happy to have made it beyond the one-year mark and hope to keep growing. he calls himself a barbecue nerd but admits that “the majority of consumers aren’t.” making brisket & rice a must-visit for fellow nerds will take time. he said the focus from the beginning has been to please the neighborhood first. “in order to be found out as great you need to survive,” he said. in a discussion about the day job he retains, tran said he enjoys the work because he likes “turning a piece of raw material into something useful.” the parallels to brisket and the gas station space are obvious. if brisket & rice is not yet a barbecue destination for all of houston, it won’t take long.\n",
      "\n",
      "brisket & rice\n",
      "\n",
      "13111 fm 529, houston\n",
      "\n",
      "phone: 713-936-9575\n",
      "\n",
      "hours: tuesday–sunday, 11–7\n",
      "\n",
      "pitmasters: hong and phong tran\n",
      "\n",
      "method: oak in an offset smoker\n",
      "\n",
      "year opened: 2022\n"
     ]
    },
    {
     "ename": "KeyboardInterrupt",
     "evalue": "Interrupted by user",
     "output_type": "error",
     "traceback": [
      "\u001b[0;31m---------------------------------------------------------------------------\u001b[0m",
      "\u001b[0;31mKeyboardInterrupt\u001b[0m                         Traceback (most recent call last)",
      "Cell \u001b[0;32mIn[40], line 5\u001b[0m\n\u001b[1;32m      3\u001b[0m show_text \u001b[38;5;241m=\u001b[39m text\u001b[38;5;241m.\u001b[39mreplace(\u001b[38;5;124m'\u001b[39m\u001b[38;5;124mtrans\u001b[39m\u001b[38;5;124m'\u001b[39m, \u001b[38;5;124m'\u001b[39m\u001b[38;5;124mTRANS\u001b[39m\u001b[38;5;124m'\u001b[39m) \u001b[38;5;66;03m#to highlight and focus attention when labeling\u001b[39;00m\n\u001b[1;32m      4\u001b[0m \u001b[38;5;28mprint\u001b[39m(show_text, flush\u001b[38;5;241m=\u001b[39m\u001b[38;5;28;01mTrue\u001b[39;00m)\n\u001b[0;32m----> 5\u001b[0m label \u001b[38;5;241m=\u001b[39m \u001b[38;5;28mint\u001b[39m(\u001b[38;5;28;43minput\u001b[39;49m\u001b[43m(\u001b[49m\u001b[43m)\u001b[49m)\n\u001b[1;32m      6\u001b[0m labels\u001b[38;5;241m.\u001b[39mappend(label)\n\u001b[1;32m      7\u001b[0m \u001b[38;5;28;01mif\u001b[39;00m \u001b[38;5;28mlen\u001b[39m(labels) \u001b[38;5;241m>\u001b[39m\u001b[38;5;241m=\u001b[39m \u001b[38;5;241m100\u001b[39m:\n",
      "File \u001b[0;32m~/miniconda3/envs/pg3/lib/python3.8/site-packages/ipykernel/kernelbase.py:848\u001b[0m, in \u001b[0;36mKernel.raw_input\u001b[0;34m(self, prompt)\u001b[0m\n\u001b[1;32m    844\u001b[0m \u001b[38;5;28;01mif\u001b[39;00m \u001b[38;5;129;01mnot\u001b[39;00m \u001b[38;5;28mself\u001b[39m\u001b[38;5;241m.\u001b[39m_allow_stdin:\n\u001b[1;32m    845\u001b[0m     \u001b[38;5;28;01mraise\u001b[39;00m StdinNotImplementedError(\n\u001b[1;32m    846\u001b[0m         \u001b[38;5;124m\"\u001b[39m\u001b[38;5;124mraw_input was called, but this frontend does not support input requests.\u001b[39m\u001b[38;5;124m\"\u001b[39m\n\u001b[1;32m    847\u001b[0m     )\n\u001b[0;32m--> 848\u001b[0m \u001b[38;5;28;01mreturn\u001b[39;00m \u001b[38;5;28;43mself\u001b[39;49m\u001b[38;5;241;43m.\u001b[39;49m\u001b[43m_input_request\u001b[49m\u001b[43m(\u001b[49m\u001b[38;5;28;43mstr\u001b[39;49m\u001b[43m(\u001b[49m\u001b[43mprompt\u001b[49m\u001b[43m)\u001b[49m\u001b[43m,\u001b[49m\n\u001b[1;32m    849\u001b[0m \u001b[43m    \u001b[49m\u001b[38;5;28;43mself\u001b[39;49m\u001b[38;5;241;43m.\u001b[39;49m\u001b[43m_parent_ident\u001b[49m\u001b[43m,\u001b[49m\n\u001b[1;32m    850\u001b[0m \u001b[43m    \u001b[49m\u001b[38;5;28;43mself\u001b[39;49m\u001b[38;5;241;43m.\u001b[39;49m\u001b[43m_parent_header\u001b[49m\u001b[43m,\u001b[49m\n\u001b[1;32m    851\u001b[0m \u001b[43m    \u001b[49m\u001b[43mpassword\u001b[49m\u001b[38;5;241;43m=\u001b[39;49m\u001b[38;5;28;43;01mFalse\u001b[39;49;00m\u001b[43m,\u001b[49m\n\u001b[1;32m    852\u001b[0m \u001b[43m\u001b[49m\u001b[43m)\u001b[49m\n",
      "File \u001b[0;32m~/miniconda3/envs/pg3/lib/python3.8/site-packages/ipykernel/kernelbase.py:892\u001b[0m, in \u001b[0;36mKernel._input_request\u001b[0;34m(self, prompt, ident, parent, password)\u001b[0m\n\u001b[1;32m    889\u001b[0m             \u001b[38;5;28;01mbreak\u001b[39;00m\n\u001b[1;32m    890\u001b[0m \u001b[38;5;28;01mexcept\u001b[39;00m \u001b[38;5;167;01mKeyboardInterrupt\u001b[39;00m:\n\u001b[1;32m    891\u001b[0m     \u001b[38;5;66;03m# re-raise KeyboardInterrupt, to truncate traceback\u001b[39;00m\n\u001b[0;32m--> 892\u001b[0m     \u001b[38;5;28;01mraise\u001b[39;00m \u001b[38;5;167;01mKeyboardInterrupt\u001b[39;00m(\u001b[38;5;124m\"\u001b[39m\u001b[38;5;124mInterrupted by user\u001b[39m\u001b[38;5;124m\"\u001b[39m) \u001b[38;5;28;01mfrom\u001b[39;00m \u001b[38;5;28;01mNone\u001b[39;00m\n\u001b[1;32m    893\u001b[0m \u001b[38;5;28;01mexcept\u001b[39;00m \u001b[38;5;167;01mException\u001b[39;00m \u001b[38;5;28;01mas\u001b[39;00m e:\n\u001b[1;32m    894\u001b[0m     \u001b[38;5;28mself\u001b[39m\u001b[38;5;241m.\u001b[39mlog\u001b[38;5;241m.\u001b[39mwarning(\u001b[38;5;124m\"\u001b[39m\u001b[38;5;124mInvalid Message:\u001b[39m\u001b[38;5;124m\"\u001b[39m, exc_info\u001b[38;5;241m=\u001b[39m\u001b[38;5;28;01mTrue\u001b[39;00m)\n",
      "\u001b[0;31mKeyboardInterrupt\u001b[0m: Interrupted by user"
     ]
    }
   ],
   "source": [
    "#resuming below since some notebook display thing above hung up\n",
    "for text in sample_texts_for_annotation[13:]:\n",
    "    show_text = text.replace('trans', 'TRANS') #to highlight and focus attention when labeling\n",
    "    print(show_text, flush=True)\n",
    "    label = int(input())\n",
    "    labels.append(label)\n",
    "    if len(labels) >= 100:\n",
    "        print('DONE')\n",
    "        break\n",
    "    #print('\\n---\\n')\n",
    "    \n",
    "    clear_output(wait=True) #this will clear the console of previous outputs and show current text to be labeled"
   ]
  },
  {
   "cell_type": "code",
   "execution_count": 41,
   "id": "a865de28-dfbc-4ac3-8064-55920eb36460",
   "metadata": {},
   "outputs": [
    {
     "name": "stdout",
     "output_type": "stream",
     "text": [
      "24\n"
     ]
    }
   ],
   "source": [
    "print(len(labels))"
   ]
  },
  {
   "cell_type": "code",
   "execution_count": 42,
   "id": "0fab3ef2-3dc6-49a1-889a-a6a2987b7309",
   "metadata": {
    "scrolled": true
   },
   "outputs": [
    {
     "name": "stdout",
     "output_type": "stream",
     "text": [
      "the braided life provides an integral gathering space for marginalized communities the building blocks for milly fotso’s community-centric east austin salon, the braided life, were tied to memories of her cameroonian roots—or, as she calls it, her “hairitage.” at age 5, her family relocated from the central african country to manhattan, kansas, where she became acutely aware of a sense of “otherness.”\n",
      "\n",
      "her mom sought to become a safe harbor for her daughter, as well as help make ends meet, by braiding hair professionally out of their home. two years later, as fotso coped with the devastating death of her mother, her father stepped in to learn. driving her to a braiding studio in nearby junction city, which housed a larger african population, he sat in a space occupied only by women to observe. while embarrassed at the time, she now recalls the memory as a bonding moment.\n",
      "\n",
      "the story of black hair weaves together themes like self-expression, social status, oppression, and community identification. from her formative years through early adulthood, fotso began to chemically relax her hair out of a desire to assimilate. her TRANSition back to her natural hair began beneath the wigs she wore while working in the global marketing office of l’oreal in new york. feeling pressured to keep her true expression under wraps, she left the corporate beauty world and relocated to austin to work for meta in 2018.\n",
      "\n",
      "upon arriving in the capital city, fotso recognized a familiar void. there were no salon spaces for black women, and the only stylists in the area worked from home, leading many women of color to travel to houston or elsewhere. during the pandemic, she was forced to braid her own natural hair in isolation, sometimes spending up to eight hours working by her reflection in the mirror. to share her experience, she began posting braiding content on instagram and slowly built up a digital community. “i realized, ok, the universe is trying to tell me something right now,” she remembers. “up until then, my whole life had felt like a struggle.”\n",
      "\n",
      "months later, fotso self-funded a photo shoot inviting local women to showcase individual, intricate styles—from fulani braids and faux locs to feed ins and corn rows. met with resounding encouragement, she decided to open her own salon, the braided life, in november 2021.\n",
      "\n",
      "functioning both as a gathering space and beauty business, the salon focuses on the black hair experience, zeroing in on issues such as healing scalp tenderness and traction alopecia and reviving damage from chemical relaxers. that work also serves to renegotiate memories of humiliation into resilience and confidence. the salon employs five stylists and four assistants who service around 20 to 30 clients per week. the business welcomes TRANS women of color and non-binary individuals and regularly hosts free events to the public to create a sense of community. “luxury is oftentimes conflated with materialism,” fotso says. “but for our community, it’s a luxury to be able to freely express yourself, to be able to breathe in a safe space.”\n"
     ]
    },
    {
     "ename": "KeyboardInterrupt",
     "evalue": "Interrupted by user",
     "output_type": "error",
     "traceback": [
      "\u001b[0;31m---------------------------------------------------------------------------\u001b[0m",
      "\u001b[0;31mKeyboardInterrupt\u001b[0m                         Traceback (most recent call last)",
      "Cell \u001b[0;32mIn[42], line 5\u001b[0m\n\u001b[1;32m      3\u001b[0m show_text \u001b[38;5;241m=\u001b[39m text\u001b[38;5;241m.\u001b[39mreplace(\u001b[38;5;124m'\u001b[39m\u001b[38;5;124mtrans\u001b[39m\u001b[38;5;124m'\u001b[39m, \u001b[38;5;124m'\u001b[39m\u001b[38;5;124mTRANS\u001b[39m\u001b[38;5;124m'\u001b[39m) \u001b[38;5;66;03m#to highlight and focus attention when labeling\u001b[39;00m\n\u001b[1;32m      4\u001b[0m \u001b[38;5;28mprint\u001b[39m(show_text, flush\u001b[38;5;241m=\u001b[39m\u001b[38;5;28;01mTrue\u001b[39;00m)\n\u001b[0;32m----> 5\u001b[0m label \u001b[38;5;241m=\u001b[39m \u001b[38;5;28mint\u001b[39m(\u001b[38;5;28;43minput\u001b[39;49m\u001b[43m(\u001b[49m\u001b[43m)\u001b[49m)\n\u001b[1;32m      6\u001b[0m labels\u001b[38;5;241m.\u001b[39mappend(label)\n\u001b[1;32m      7\u001b[0m \u001b[38;5;28;01mif\u001b[39;00m \u001b[38;5;28mlen\u001b[39m(labels) \u001b[38;5;241m>\u001b[39m\u001b[38;5;241m=\u001b[39m \u001b[38;5;241m100\u001b[39m:\n",
      "File \u001b[0;32m~/miniconda3/envs/pg3/lib/python3.8/site-packages/ipykernel/kernelbase.py:848\u001b[0m, in \u001b[0;36mKernel.raw_input\u001b[0;34m(self, prompt)\u001b[0m\n\u001b[1;32m    844\u001b[0m \u001b[38;5;28;01mif\u001b[39;00m \u001b[38;5;129;01mnot\u001b[39;00m \u001b[38;5;28mself\u001b[39m\u001b[38;5;241m.\u001b[39m_allow_stdin:\n\u001b[1;32m    845\u001b[0m     \u001b[38;5;28;01mraise\u001b[39;00m StdinNotImplementedError(\n\u001b[1;32m    846\u001b[0m         \u001b[38;5;124m\"\u001b[39m\u001b[38;5;124mraw_input was called, but this frontend does not support input requests.\u001b[39m\u001b[38;5;124m\"\u001b[39m\n\u001b[1;32m    847\u001b[0m     )\n\u001b[0;32m--> 848\u001b[0m \u001b[38;5;28;01mreturn\u001b[39;00m \u001b[38;5;28;43mself\u001b[39;49m\u001b[38;5;241;43m.\u001b[39;49m\u001b[43m_input_request\u001b[49m\u001b[43m(\u001b[49m\u001b[38;5;28;43mstr\u001b[39;49m\u001b[43m(\u001b[49m\u001b[43mprompt\u001b[49m\u001b[43m)\u001b[49m\u001b[43m,\u001b[49m\n\u001b[1;32m    849\u001b[0m \u001b[43m    \u001b[49m\u001b[38;5;28;43mself\u001b[39;49m\u001b[38;5;241;43m.\u001b[39;49m\u001b[43m_parent_ident\u001b[49m\u001b[43m,\u001b[49m\n\u001b[1;32m    850\u001b[0m \u001b[43m    \u001b[49m\u001b[38;5;28;43mself\u001b[39;49m\u001b[38;5;241;43m.\u001b[39;49m\u001b[43m_parent_header\u001b[49m\u001b[43m,\u001b[49m\n\u001b[1;32m    851\u001b[0m \u001b[43m    \u001b[49m\u001b[43mpassword\u001b[49m\u001b[38;5;241;43m=\u001b[39;49m\u001b[38;5;28;43;01mFalse\u001b[39;49;00m\u001b[43m,\u001b[49m\n\u001b[1;32m    852\u001b[0m \u001b[43m\u001b[49m\u001b[43m)\u001b[49m\n",
      "File \u001b[0;32m~/miniconda3/envs/pg3/lib/python3.8/site-packages/ipykernel/kernelbase.py:892\u001b[0m, in \u001b[0;36mKernel._input_request\u001b[0;34m(self, prompt, ident, parent, password)\u001b[0m\n\u001b[1;32m    889\u001b[0m             \u001b[38;5;28;01mbreak\u001b[39;00m\n\u001b[1;32m    890\u001b[0m \u001b[38;5;28;01mexcept\u001b[39;00m \u001b[38;5;167;01mKeyboardInterrupt\u001b[39;00m:\n\u001b[1;32m    891\u001b[0m     \u001b[38;5;66;03m# re-raise KeyboardInterrupt, to truncate traceback\u001b[39;00m\n\u001b[0;32m--> 892\u001b[0m     \u001b[38;5;28;01mraise\u001b[39;00m \u001b[38;5;167;01mKeyboardInterrupt\u001b[39;00m(\u001b[38;5;124m\"\u001b[39m\u001b[38;5;124mInterrupted by user\u001b[39m\u001b[38;5;124m\"\u001b[39m) \u001b[38;5;28;01mfrom\u001b[39;00m \u001b[38;5;28;01mNone\u001b[39;00m\n\u001b[1;32m    893\u001b[0m \u001b[38;5;28;01mexcept\u001b[39;00m \u001b[38;5;167;01mException\u001b[39;00m \u001b[38;5;28;01mas\u001b[39;00m e:\n\u001b[1;32m    894\u001b[0m     \u001b[38;5;28mself\u001b[39m\u001b[38;5;241m.\u001b[39mlog\u001b[38;5;241m.\u001b[39mwarning(\u001b[38;5;124m\"\u001b[39m\u001b[38;5;124mInvalid Message:\u001b[39m\u001b[38;5;124m\"\u001b[39m, exc_info\u001b[38;5;241m=\u001b[39m\u001b[38;5;28;01mTrue\u001b[39;00m)\n",
      "\u001b[0;31mKeyboardInterrupt\u001b[0m: Interrupted by user"
     ]
    }
   ],
   "source": [
    "#resuming below since some notebook display thing above hung up\n",
    "for text in sample_texts_for_annotation[24:]:\n",
    "    show_text = text.replace('trans', 'TRANS') #to highlight and focus attention when labeling\n",
    "    print(show_text, flush=True)\n",
    "    label = int(input())\n",
    "    labels.append(label)\n",
    "    if len(labels) >= 100:\n",
    "        print('DONE')\n",
    "        break\n",
    "    #print('\\n---\\n')\n",
    "    \n",
    "    clear_output(wait=True) #this will clear the console of previous outputs and show current text to be labeled"
   ]
  },
  {
   "cell_type": "code",
   "execution_count": 43,
   "id": "d57b28b7-b213-4c5a-84b7-a479a9b57c8e",
   "metadata": {},
   "outputs": [
    {
     "name": "stdout",
     "output_type": "stream",
     "text": [
      "46\n"
     ]
    }
   ],
   "source": [
    "print(len(labels))"
   ]
  },
  {
   "cell_type": "code",
   "execution_count": 44,
   "id": "042d7ef1-dcdd-415b-9423-69461951a32b",
   "metadata": {
    "scrolled": true
   },
   "outputs": [
    {
     "name": "stdout",
     "output_type": "stream",
     "text": [
      "desantis and musk team up to 'make america florida' on wednesday evening, florida gov. ron desantis will make official what was already blindingly obvious: he’s running for president in 2024. but rather than putting up his own campaign video or stepping in front of the cameras on fox news, desantis will first go to a place where he feels even more comfortable: twitter. there he will enter the race in “conversation” with ceo elon musk.\n",
      "\n",
      "then he’ll go to fox news, which is still willing to host his non-announcement despite being spurned in favor of musk because fox has made promoting desantis into one of their chief reasons to exist. sometime in the future, desantis will reportedly make a more standard announcement, complete with a video pushing his “make america florida” tagline (no, seriously, that’s his campaign slogan). but for now, desantis is very appropriately starting with a stunt announcement for a campaign that has totally eschewed the idea of government as a force for good.\n",
      "\n",
      "for desantis, government is a weapon—one he can use to punish any person, organization, or corporation that deviates from his vision of a straight, white, male-dominated, deeply ignorant america. he expresses that view through bills and executive orders that ban books, target the lgbtq community, treat voting like a violent crime, and go after companies that dare to speak up against his bigoted actions.\n",
      "\n",
      "that’s why musk loves him, and why he’s the rising star of a falling political party.\n",
      "\n",
      "somehow, despite winning his current role with the narrowest election victory in the country, the assistance of fbi leaks that created a nonexistent scandal around his opponent, and a propensity for eating pudding with his fingers, desantis has become hyped as the “future of the republican party.”\n",
      "\n",
      "what makes his fans nearly faint with adoration isn’t desantis' business savvy. florida’s economy not only continues to grow slower than it did under the sizzling skill of mr. excitement, jeb bush—it’s highly dependent on money dragged into the state by retirees. in terms of manufacturing jobs, florida doesn’t even make the top 10 states despite being the third-most populous. it has a warm climate and beaches—not exactly a program that can be applied to the nation as a whole.\n",
      "\n",
      "what thrills desantis fans is not his skill at good governance, it’s his skill at bad governance.\n",
      "\n",
      "is desantis willing to wreck the state’s higher education system to enforce a specific vision of a subset of right-wing evangelists and a highly edited, racist view of history? he is. will he sacrifice thousands of jobs on the altar of making sure that gay people are pariahs in his state? absolutely. will he threaten businesses for failing to support an anti-science alignment, even if that means putting thousands of people at constant risk? every damn day.\n",
      "\n",
      "if the modern republican party is united by the people they hate, desantis is there to show that he hates harder than anyone else. there is no bigotry he will not just embrace. fox news and elon love him for this.\n",
      "\n",
      "trump has tried to keep up, racing hard to make his own radical positions even more hard-line in an effort to maneuver to desantis’ right. but it’s not clear desantis has a right anyone can get around, because there is no level of destruction he will not cheerfully embrace in an effort to appeal to the worst in america.\n",
      "\n",
      "in advance of the announcement, musk was soft-pedaling the idea that he’s endorsing desantis, which is ridiculous because he already announced his support for desantis months ago. in that first endorsement, musk called desantis “sensible” and “centrist.” now he’s calling him “normal,” by which musk mostly seems to mean that desantis hates TRANS people, like musk, and champions racism, like musk. it’s not a coincidence that black employees at tesla describe a culture in which the n-word was in daily use and black workers were routinely assigned to physically strenuous tasks in a section of the factory referred to as “the plantation.”\n",
      "\n",
      "still, what musk likes most about desantis may not be his overt bigotry (though that certainly helps). even better is how desantis has repeatedly demonstrated that he will ignore all those outdated ideas about bills of attainder to create laws and edicts designed specifically to punish his enemies and boost his friends. it might seem that any business leader would be rightfully frightened of putting someone in power who has made it extremely obvious that he will use that power to attack anyone who dares voice any opposition to his policy, and keep trying to apply that punishment no matter how much it costs.\n",
      "\n",
      "but musk sees no issue with this. that’s because desantis has cleared the biggest hurdle of the modern republican party: he hates the right people. that makes musk confident that “make america like florida” means that his companies will only benefit from desantis at the helm, while companies that are actually concerned about diversity, equality, and labor rights will be punished for their audacity in putting people ahead of the bottom line.\n",
      "\n",
      "worrying about godwin’s law may be passé, but there’s no need to bring out the h-word when talking about the relationship between desantis and corporate billionaires like musk. that’s because a much more appropriate comparison is available.\n",
      "\n",
      "fascism is definitely and absolutely opposed to the doctrines of liberalism, both in the political and economic sphere. ... the fascist state lays claim to rule in the economic field no less than in others; it makes its action felt throughout the length and breadth of the country by means of its corporate, social, and educational institutions … benito mussolini, the doctrine of fascism, 1935\n",
      "\n",
      "substitute “desantis” for “fascism” in these statements and you don’t have to change another word.\n"
     ]
    },
    {
     "ename": "KeyboardInterrupt",
     "evalue": "Interrupted by user",
     "output_type": "error",
     "traceback": [
      "\u001b[0;31m---------------------------------------------------------------------------\u001b[0m",
      "\u001b[0;31mKeyboardInterrupt\u001b[0m                         Traceback (most recent call last)",
      "Cell \u001b[0;32mIn[44], line 5\u001b[0m\n\u001b[1;32m      3\u001b[0m show_text \u001b[38;5;241m=\u001b[39m text\u001b[38;5;241m.\u001b[39mreplace(\u001b[38;5;124m'\u001b[39m\u001b[38;5;124mtrans\u001b[39m\u001b[38;5;124m'\u001b[39m, \u001b[38;5;124m'\u001b[39m\u001b[38;5;124mTRANS\u001b[39m\u001b[38;5;124m'\u001b[39m) \u001b[38;5;66;03m#to highlight and focus attention when labeling\u001b[39;00m\n\u001b[1;32m      4\u001b[0m \u001b[38;5;28mprint\u001b[39m(show_text, flush\u001b[38;5;241m=\u001b[39m\u001b[38;5;28;01mTrue\u001b[39;00m)\n\u001b[0;32m----> 5\u001b[0m label \u001b[38;5;241m=\u001b[39m \u001b[38;5;28mint\u001b[39m(\u001b[38;5;28;43minput\u001b[39;49m\u001b[43m(\u001b[49m\u001b[43m)\u001b[49m)\n\u001b[1;32m      6\u001b[0m labels\u001b[38;5;241m.\u001b[39mappend(label)\n\u001b[1;32m      7\u001b[0m \u001b[38;5;28;01mif\u001b[39;00m \u001b[38;5;28mlen\u001b[39m(labels) \u001b[38;5;241m>\u001b[39m\u001b[38;5;241m=\u001b[39m \u001b[38;5;241m100\u001b[39m:\n",
      "File \u001b[0;32m~/miniconda3/envs/pg3/lib/python3.8/site-packages/ipykernel/kernelbase.py:848\u001b[0m, in \u001b[0;36mKernel.raw_input\u001b[0;34m(self, prompt)\u001b[0m\n\u001b[1;32m    844\u001b[0m \u001b[38;5;28;01mif\u001b[39;00m \u001b[38;5;129;01mnot\u001b[39;00m \u001b[38;5;28mself\u001b[39m\u001b[38;5;241m.\u001b[39m_allow_stdin:\n\u001b[1;32m    845\u001b[0m     \u001b[38;5;28;01mraise\u001b[39;00m StdinNotImplementedError(\n\u001b[1;32m    846\u001b[0m         \u001b[38;5;124m\"\u001b[39m\u001b[38;5;124mraw_input was called, but this frontend does not support input requests.\u001b[39m\u001b[38;5;124m\"\u001b[39m\n\u001b[1;32m    847\u001b[0m     )\n\u001b[0;32m--> 848\u001b[0m \u001b[38;5;28;01mreturn\u001b[39;00m \u001b[38;5;28;43mself\u001b[39;49m\u001b[38;5;241;43m.\u001b[39;49m\u001b[43m_input_request\u001b[49m\u001b[43m(\u001b[49m\u001b[38;5;28;43mstr\u001b[39;49m\u001b[43m(\u001b[49m\u001b[43mprompt\u001b[49m\u001b[43m)\u001b[49m\u001b[43m,\u001b[49m\n\u001b[1;32m    849\u001b[0m \u001b[43m    \u001b[49m\u001b[38;5;28;43mself\u001b[39;49m\u001b[38;5;241;43m.\u001b[39;49m\u001b[43m_parent_ident\u001b[49m\u001b[43m,\u001b[49m\n\u001b[1;32m    850\u001b[0m \u001b[43m    \u001b[49m\u001b[38;5;28;43mself\u001b[39;49m\u001b[38;5;241;43m.\u001b[39;49m\u001b[43m_parent_header\u001b[49m\u001b[43m,\u001b[49m\n\u001b[1;32m    851\u001b[0m \u001b[43m    \u001b[49m\u001b[43mpassword\u001b[49m\u001b[38;5;241;43m=\u001b[39;49m\u001b[38;5;28;43;01mFalse\u001b[39;49;00m\u001b[43m,\u001b[49m\n\u001b[1;32m    852\u001b[0m \u001b[43m\u001b[49m\u001b[43m)\u001b[49m\n",
      "File \u001b[0;32m~/miniconda3/envs/pg3/lib/python3.8/site-packages/ipykernel/kernelbase.py:892\u001b[0m, in \u001b[0;36mKernel._input_request\u001b[0;34m(self, prompt, ident, parent, password)\u001b[0m\n\u001b[1;32m    889\u001b[0m             \u001b[38;5;28;01mbreak\u001b[39;00m\n\u001b[1;32m    890\u001b[0m \u001b[38;5;28;01mexcept\u001b[39;00m \u001b[38;5;167;01mKeyboardInterrupt\u001b[39;00m:\n\u001b[1;32m    891\u001b[0m     \u001b[38;5;66;03m# re-raise KeyboardInterrupt, to truncate traceback\u001b[39;00m\n\u001b[0;32m--> 892\u001b[0m     \u001b[38;5;28;01mraise\u001b[39;00m \u001b[38;5;167;01mKeyboardInterrupt\u001b[39;00m(\u001b[38;5;124m\"\u001b[39m\u001b[38;5;124mInterrupted by user\u001b[39m\u001b[38;5;124m\"\u001b[39m) \u001b[38;5;28;01mfrom\u001b[39;00m \u001b[38;5;28;01mNone\u001b[39;00m\n\u001b[1;32m    893\u001b[0m \u001b[38;5;28;01mexcept\u001b[39;00m \u001b[38;5;167;01mException\u001b[39;00m \u001b[38;5;28;01mas\u001b[39;00m e:\n\u001b[1;32m    894\u001b[0m     \u001b[38;5;28mself\u001b[39m\u001b[38;5;241m.\u001b[39mlog\u001b[38;5;241m.\u001b[39mwarning(\u001b[38;5;124m\"\u001b[39m\u001b[38;5;124mInvalid Message:\u001b[39m\u001b[38;5;124m\"\u001b[39m, exc_info\u001b[38;5;241m=\u001b[39m\u001b[38;5;28;01mTrue\u001b[39;00m)\n",
      "\u001b[0;31mKeyboardInterrupt\u001b[0m: Interrupted by user"
     ]
    }
   ],
   "source": [
    "#resuming below since some notebook display thing above hung up\n",
    "for text in sample_texts_for_annotation[46:]:\n",
    "    show_text = text.replace('trans', 'TRANS') #to highlight and focus attention when labeling\n",
    "    print(show_text, flush=True)\n",
    "    label = int(input())\n",
    "    labels.append(label)\n",
    "    if len(labels) >= 100:\n",
    "        print('DONE')\n",
    "        break\n",
    "    #print('\\n---\\n')\n",
    "    \n",
    "    clear_output(wait=True) #this will clear the console of previous outputs and show current text to be labeled"
   ]
  },
  {
   "cell_type": "code",
   "execution_count": 45,
   "id": "ee1b7d1f-4d3e-4bc2-8fab-b1f17a061b10",
   "metadata": {},
   "outputs": [
    {
     "name": "stdout",
     "output_type": "stream",
     "text": [
      "54\n"
     ]
    }
   ],
   "source": [
    "print(len(labels))"
   ]
  },
  {
   "cell_type": "code",
   "execution_count": 46,
   "id": "7cb5befb-9a29-4ad4-879a-1715eeab8c71",
   "metadata": {
    "scrolled": true
   },
   "outputs": [
    {
     "name": "stdout",
     "output_type": "stream",
     "text": [
      "bentley bentayga airline spec is your private jet on wheels the bentayga offers a wide variety of luxury and performance. from the sportier w12-equipped speed model to the plug-in hybrid, there's a bentayga for your sophisticated motoring needs.\n",
      "\n",
      "after nearly a week rolling around town in the 2023 bentley bentayga, enjoying its power, comfort and the ability to make a grand entrance basically anywhere, it dawns on me that i’m doing this wrong. yes, the v8 is great, but of course it is. the story is in the back seat.\n",
      "\n",
      "i’m testing an extended wheelbase bentayga azure first edition outfitted with the airline seat specification. it’s business class, plain and simple. as darkness falls, i make up a cheese plate and head to the backseat, placing my charcuterie on the veneered picnic trays below the 10.1-inch screens. leaning back on the pillowy headrest, i feel like i’m about to settle in for a cushy TRANS-atlantic flight.\n",
      "\n",
      "there’s so much room. the wheelbase extends 7 inches beyond the standard bentayga and there’s enough space to do calf stretches. the first edition offers diamond illumination on the door panels and the purple ambient lighting casts a royal glow. it’s not as dramatic as the starry night sky in the rolls-royce cullinan, but with 22 leds shimmering through leather perforations, it is rather cosmic.\n",
      "\n",
      "the airline spec seats are the other part of the bentayga’s charm, with 22 possible ways to calibrate positions. sure, you can cue up any number of massages, but you can do that in many jeeps. bentley’s seats also offer a postural adjustment system that is said to apply up to 177 pressure changes over a three-hour period to keep you comfy. dialing into work meetings with my feet up, i enjoyed it, mostly. i didn’t stay there for three hours, but for my roughly one-hour stint, the adjustments were generally appreciated (i could have updated my google calendar location to ‘bentley’, but that seemed pretentious). the cupholders are solid, too.\n",
      "\n",
      "bentley moved the sunroof back about 5 inches to further focus on the rear passengers, and it’s an airy setting, especially when reclined. there’s also an auto climate function that adjusts the surface temperature. after playing around with the many settings, i eventually found the one that pushed the front passenger’s seat all the way forward, a footstool extended down and i leaned back for a brief rest.\n",
      "\n",
      "different bentayga ewb pictured\n",
      "\n",
      "so i did actually drive a bentley for a week, and it offers a certain gravitas both in motion and at rest. the 4.0-liter twin-turbo v8 supplies plenty of power to the tune of 542 hp and 568 lb-ft of torque, and it will get you and your passengers to 60 mph in 4.5 seconds, should the need arise. it’s a big suv, roughly similar in size to the chevy tahoe, and it’s a bit to handle on the road. i wasn’t intimidated, but the hood is long and visibility out of the back isn’t great (the passengers are clearly the priority). all-wheel steering helps, and the bentagya is reasonably maneuverable, even pulling off some impressive u-turns in tight situations.\n",
      "\n",
      "it’s a bit louder on the expressway than i anticipated. during rush hour traffic on interstate 75 in detroit’s northern suburbs, i was surprised that the usual soundtrack of road noise and wind infiltrated the cabin. it wasn’t offensive, but it was typical of most suvs traveling at the posted speeds on the highway. the smooth sounds produced by the naim speakers did overcome most of the outside intrusions.\n",
      "\n",
      "i drove in sport mode for a good chunk of time, as i found it tailored the eight-speed TRANSmission’s shifts best with the v8. getting on the throttle will produce a bark, though the powertrain is calmer -- bentley would posit more couth -- than potent eight-cylinder suvs from jaguar and maserati i have tested. i briefly ventured off pavement onto a compacted dirt road with chuck holes, and the bentayga was composed and capable, thanks in part to the 48-volt active anti-roll system, called bentley dynamic ride.\n",
      "\n",
      "at $263,500, this bentayga looks expensive. the large, circular headlights have diamond-shaped accent details, there’s a lot of chrome, and the grille is suitably huge. my tester wore a shade of purple that was actually subtle during overcast weather. riding on 21-inch painted machined wheels, the bentayga has a commanding presence. though it’s blingy, it’s inline with things like the cullinan and lamborghini urus. at this price point, you can afford to be unassuming, but luxury suv designers seem to believe the opposite\n",
      "\n",
      "the bentayga ewb offers prestige and decadence, yet in a creative way. it’s one thing to make a big suv with cushy seats, it’s another to make them actively work to make the passengers more comfortable. it’s a bit much, but frankly so is everything at this price point. you could also spend your quarter of a million bucks on a continental. or a lamborghini huracan. it depends on the experience you’re looking for. in that sense, the bentayga delivers a singular performance that’s beyond terrestrial. airline spec, indeed.\n"
     ]
    },
    {
     "ename": "KeyboardInterrupt",
     "evalue": "Interrupted by user",
     "output_type": "error",
     "traceback": [
      "\u001b[0;31m---------------------------------------------------------------------------\u001b[0m",
      "\u001b[0;31mKeyboardInterrupt\u001b[0m                         Traceback (most recent call last)",
      "Cell \u001b[0;32mIn[46], line 5\u001b[0m\n\u001b[1;32m      3\u001b[0m show_text \u001b[38;5;241m=\u001b[39m text\u001b[38;5;241m.\u001b[39mreplace(\u001b[38;5;124m'\u001b[39m\u001b[38;5;124mtrans\u001b[39m\u001b[38;5;124m'\u001b[39m, \u001b[38;5;124m'\u001b[39m\u001b[38;5;124mTRANS\u001b[39m\u001b[38;5;124m'\u001b[39m) \u001b[38;5;66;03m#to highlight and focus attention when labeling\u001b[39;00m\n\u001b[1;32m      4\u001b[0m \u001b[38;5;28mprint\u001b[39m(show_text, flush\u001b[38;5;241m=\u001b[39m\u001b[38;5;28;01mTrue\u001b[39;00m)\n\u001b[0;32m----> 5\u001b[0m label \u001b[38;5;241m=\u001b[39m \u001b[38;5;28mint\u001b[39m(\u001b[38;5;28;43minput\u001b[39;49m\u001b[43m(\u001b[49m\u001b[43m)\u001b[49m)\n\u001b[1;32m      6\u001b[0m labels\u001b[38;5;241m.\u001b[39mappend(label)\n\u001b[1;32m      7\u001b[0m \u001b[38;5;28;01mif\u001b[39;00m \u001b[38;5;28mlen\u001b[39m(labels) \u001b[38;5;241m>\u001b[39m\u001b[38;5;241m=\u001b[39m \u001b[38;5;241m100\u001b[39m:\n",
      "File \u001b[0;32m~/miniconda3/envs/pg3/lib/python3.8/site-packages/ipykernel/kernelbase.py:848\u001b[0m, in \u001b[0;36mKernel.raw_input\u001b[0;34m(self, prompt)\u001b[0m\n\u001b[1;32m    844\u001b[0m \u001b[38;5;28;01mif\u001b[39;00m \u001b[38;5;129;01mnot\u001b[39;00m \u001b[38;5;28mself\u001b[39m\u001b[38;5;241m.\u001b[39m_allow_stdin:\n\u001b[1;32m    845\u001b[0m     \u001b[38;5;28;01mraise\u001b[39;00m StdinNotImplementedError(\n\u001b[1;32m    846\u001b[0m         \u001b[38;5;124m\"\u001b[39m\u001b[38;5;124mraw_input was called, but this frontend does not support input requests.\u001b[39m\u001b[38;5;124m\"\u001b[39m\n\u001b[1;32m    847\u001b[0m     )\n\u001b[0;32m--> 848\u001b[0m \u001b[38;5;28;01mreturn\u001b[39;00m \u001b[38;5;28;43mself\u001b[39;49m\u001b[38;5;241;43m.\u001b[39;49m\u001b[43m_input_request\u001b[49m\u001b[43m(\u001b[49m\u001b[38;5;28;43mstr\u001b[39;49m\u001b[43m(\u001b[49m\u001b[43mprompt\u001b[49m\u001b[43m)\u001b[49m\u001b[43m,\u001b[49m\n\u001b[1;32m    849\u001b[0m \u001b[43m    \u001b[49m\u001b[38;5;28;43mself\u001b[39;49m\u001b[38;5;241;43m.\u001b[39;49m\u001b[43m_parent_ident\u001b[49m\u001b[43m,\u001b[49m\n\u001b[1;32m    850\u001b[0m \u001b[43m    \u001b[49m\u001b[38;5;28;43mself\u001b[39;49m\u001b[38;5;241;43m.\u001b[39;49m\u001b[43m_parent_header\u001b[49m\u001b[43m,\u001b[49m\n\u001b[1;32m    851\u001b[0m \u001b[43m    \u001b[49m\u001b[43mpassword\u001b[49m\u001b[38;5;241;43m=\u001b[39;49m\u001b[38;5;28;43;01mFalse\u001b[39;49;00m\u001b[43m,\u001b[49m\n\u001b[1;32m    852\u001b[0m \u001b[43m\u001b[49m\u001b[43m)\u001b[49m\n",
      "File \u001b[0;32m~/miniconda3/envs/pg3/lib/python3.8/site-packages/ipykernel/kernelbase.py:892\u001b[0m, in \u001b[0;36mKernel._input_request\u001b[0;34m(self, prompt, ident, parent, password)\u001b[0m\n\u001b[1;32m    889\u001b[0m             \u001b[38;5;28;01mbreak\u001b[39;00m\n\u001b[1;32m    890\u001b[0m \u001b[38;5;28;01mexcept\u001b[39;00m \u001b[38;5;167;01mKeyboardInterrupt\u001b[39;00m:\n\u001b[1;32m    891\u001b[0m     \u001b[38;5;66;03m# re-raise KeyboardInterrupt, to truncate traceback\u001b[39;00m\n\u001b[0;32m--> 892\u001b[0m     \u001b[38;5;28;01mraise\u001b[39;00m \u001b[38;5;167;01mKeyboardInterrupt\u001b[39;00m(\u001b[38;5;124m\"\u001b[39m\u001b[38;5;124mInterrupted by user\u001b[39m\u001b[38;5;124m\"\u001b[39m) \u001b[38;5;28;01mfrom\u001b[39;00m \u001b[38;5;28;01mNone\u001b[39;00m\n\u001b[1;32m    893\u001b[0m \u001b[38;5;28;01mexcept\u001b[39;00m \u001b[38;5;167;01mException\u001b[39;00m \u001b[38;5;28;01mas\u001b[39;00m e:\n\u001b[1;32m    894\u001b[0m     \u001b[38;5;28mself\u001b[39m\u001b[38;5;241m.\u001b[39mlog\u001b[38;5;241m.\u001b[39mwarning(\u001b[38;5;124m\"\u001b[39m\u001b[38;5;124mInvalid Message:\u001b[39m\u001b[38;5;124m\"\u001b[39m, exc_info\u001b[38;5;241m=\u001b[39m\u001b[38;5;28;01mTrue\u001b[39;00m)\n",
      "\u001b[0;31mKeyboardInterrupt\u001b[0m: Interrupted by user"
     ]
    }
   ],
   "source": [
    "#resuming below since some notebook display thing above hung up\n",
    "for text in sample_texts_for_annotation[54:]:\n",
    "    show_text = text.replace('trans', 'TRANS') #to highlight and focus attention when labeling\n",
    "    print(show_text, flush=True)\n",
    "    label = int(input())\n",
    "    labels.append(label)\n",
    "    if len(labels) >= 100:\n",
    "        print('DONE')\n",
    "        break\n",
    "    #print('\\n---\\n')\n",
    "    \n",
    "    clear_output(wait=True) #this will clear the console of previous outputs and show current text to be labeled"
   ]
  },
  {
   "cell_type": "code",
   "execution_count": 47,
   "id": "2b9c4c0b-ad75-40b7-91b1-cdac52e70c3b",
   "metadata": {},
   "outputs": [
    {
     "name": "stdout",
     "output_type": "stream",
     "text": [
      "85\n"
     ]
    }
   ],
   "source": [
    "print(len(labels))"
   ]
  },
  {
   "cell_type": "code",
   "execution_count": 48,
   "id": "dc5b8c75-4ee3-4b8b-ae8f-9556fcb0dcb6",
   "metadata": {
    "scrolled": true
   },
   "outputs": [
    {
     "name": "stdout",
     "output_type": "stream",
     "text": [
      "the end times for the officious figureheads commentary\n",
      "\n",
      "later in this piece i discuss the hbo series “succession.” if you are allergic to anything like a very mild spoiler—i don’t think what i’m going to say spoils anything really—you should not read this. it’s about real and fake in the workplace and how to deal with the difference.\n",
      "\n",
      "tell me if this has ever happened to you. you have a boss—a person perhaps one ladder rung ahead of you but not really in charge of the enterprise itself—and he is an entitled jerk, sort of like the legendary one in “office space.”\n",
      "\n",
      "it’s not clear how he got there but there he is. you figure he must have worked his way up, knows the business, has a range of skills, earned the respect of the owners or board or ceo, and eventually was widely trusted.\n",
      "\n",
      "but then you notice over time that something is off. he is always giving orders, strutting around, acting the part. but in quiet ways, he keeps handing out favors to friends and friends of friends. he is also petty, taking out grievances on people for no good business reason. he personalizes everything.\n",
      "\n",
      "he seems to be out of town a lot. when he is in the office, it’s mostly for meetings. he schedules as many as possible. he seems to enjoy making others waste time on his demand, and then laughs as they scramble to catch up on missed work while he has nothing to do.\n",
      "\n",
      "when you catch glimpses of his work, it seems not so much like work but gossiping and information gathering. he uses this information as a kind of weapon within the workplace. he knows company successes and maneuvers to take credit for things he did not do, even as he turns on those who did achieve things and plots to undermine them.\n",
      "\n",
      "a moment comes when you put him to the test. write something. explain something. provide some practical insight into financials, laws, production, marketing, code, or the customer or donor base. he attempts to do so but makes a major and revealing mistake. he gets a core and crucial point wrong. at that moment, he has revealed the grim piece of evidence that prompts you to look further.\n",
      "\n",
      "the more you look, the more you discover that he has a very long history of inhabiting these kinds of do-nothing but look-the-part kind of roles. his educational training was nothing practical and his whole career has consisted of trading up via contacts and quid pro quos, backed by schmoozing the right people and tricking people into thinking that he has it going.\n",
      "\n",
      "somehow, the entire time, he has never really been found out. that’s because his main skill consists of manipulating the system for his personal benefit. lacking any actual abilities, he has plenty of time to master the details of the pecking order. he is free to do this because everyone around him actually does work unlike him. that means he has an advantage over anyone competing for his job.\n",
      "\n",
      "what is the truth about this revered figure? this powerful manager—a person whom i would called an officious figurehead—actually has no ability at all, at least none that is valuable to the enterprise. his absence would be a benefit to everyone but no one can seem to figure out how to make that happen. that’s because he has time on his hands to circumvent any efforts to expose him.\n",
      "\n",
      "he is toxic, entrenched, draining of company functioning, and demotivating to everyone around him. oddly, everyone who works with him knows this. the only people who do not are the higher, higher-ups who think he is just great, for whatever reason.\n",
      "\n",
      "he is officious because he is exacting only in making sure that everyone follows his edicts whether they make sense or not. adam smith captured this in his observation about the “man of system”: “the man of system, on the contrary, is apt to be very wise in his own conceit; and is often so enamored with the supposed beauty of his own ideal plan of government, that he cannot suffer the smallest deviation from any part of it.”\n",
      "\n",
      "over these last couple of decades, the officious figurehead has become a ubiquitous presence in a huge range of organizations. he has always been there in government, of course, but this type began to invade the whole of corporate and nonprofit america. this was because artificially low interest rates heavily subsidized the labor and management sectors of the capital-goods sector. they got into the habit of throwing limitless labor resources at every problem, thus creating millions of these archetypes who have happily lorded it over u.s. commercial and political culture.\n",
      "\n",
      "most of these types are thoroughly woke in their political outlook simply because they tend to glom on to the next new thing whatever it is as a means of survival. they are attached to pure symbolism as opposed to raw productivity. the “optics” of woke symbolism appeals to their do-nothing habits and their obliviousness to fiscal and economic reality. the endless streams of funding made all their dreams come true so they just kept going with the flow.\n",
      "\n",
      "these are the people who made the june “pride month” a thing in corporate advertising. they are the people who green-lighted the pride displays at target, sent the customized beer can to a fake-TRANS instagram influencer, and made a design contract with pro-satan manufacturers. there is no limit to their goofiness because they are completely sealed off from normal contact with regular people. they think of themselves as above it all.\n",
      "\n",
      "three major economic trends have destabilized their worldview, power, and position. first, the inflation of the last two years has put pressure on bloated corporations which face the problem of passing on costs to consumers. when they realized they could not, they had to turn to cost cuts in their management structures. second, higher interest rates changed the financial outlook of any company or industry that relies on debt financing. third, the consumer is fed up and deciding these days to use spending power to teach these companies a thing or two about reality.\n",
      "\n",
      "many thousands of these officious figureheads have now been fired. elon musk tossed them all out when he took over twitter, and his actions inspired many tech companies to do the same. but many other large enterprises are cutting like crazy, figuring out who these bums are and throwing them out on their ears. the nonprofit and foundation sector has a harder time doing it than for-profit companies but they will eventually have to come around.\n",
      "\n",
      "we are in the early stages of seeing the officious figureheads that ruined american capitalism being thrown to the dogs. there is much more to go. in this environment, nothing about their degrees, their fancy suits, or their power pretensions will protect them.\n",
      "\n",
      "which brings us to “succession.” the entirety of four seasons is about a battle between three siblings for the control of their father’s media empire. we follow them at every stage. it’s not entirely noticeable until you finish the series but finally it dawns on the viewer that none of these kids have ever actually done anything valuable for the company. they know nothing of the financials, the legal struggles, the consumer base, the demographics, the advertisers, or anything else, and they don’t want to know. they are above it all, happy to be well-positioned and privileged.\n",
      "\n",
      "even they don’t know how utterly useless they are.\n",
      "\n",
      "finally in the end, they find themselves tossed out on their ears, with the realization suddenly hitting them that absolutely no one will miss them because they added no value to the enterprise at all. in fact, the whole media company will function much better without them at all.\n",
      "\n",
      "“we are nothing,” admits one of the sons in the truest statement he has made in four seasons.\n",
      "\n",
      "that is the real lesson of the show. it seems to be about how a father cannot decide who will take over after he dies but it is really about a whole class of managers and big shots in today’s commercial world who are puffed up in power but utterly useless or destructive in everything they do. they are interlopers, not creators. so too for millions in the u.s. workplace today.\n",
      "\n",
      "in that sense, it is the perfect show for our times. it beautifully illustrates the great struggle of our times to get back to actual production, actual value, actual enterprise, and cut it with the fancy-pants nonsense and parasitical power plays that have wrecked so much of economic life today. the officious figureheads are all going down, if we are truly lucky.\n",
      "\n",
      "views expressed in this article are opinions of the author and do not necessarily reflect the views of the epoch times.\n"
     ]
    },
    {
     "name": "stdin",
     "output_type": "stream",
     "text": [
      " 1\n"
     ]
    },
    {
     "name": "stdout",
     "output_type": "stream",
     "text": [
      "DONE\n"
     ]
    }
   ],
   "source": [
    "#resuming below since some notebook display thing above hung up\n",
    "for text in sample_texts_for_annotation[85:]:\n",
    "    show_text = text.replace('trans', 'TRANS') #to highlight and focus attention when labeling\n",
    "    print(show_text, flush=True)\n",
    "    label = int(input())\n",
    "    labels.append(label)\n",
    "    if len(labels) >= 100:\n",
    "        print('DONE')\n",
    "        break\n",
    "    #print('\\n---\\n')\n",
    "    \n",
    "    clear_output(wait=True) #this will clear the console of previous outputs and show current text to be labeled"
   ]
  },
  {
   "cell_type": "code",
   "execution_count": 49,
   "id": "348e3c0c-4552-4a4f-92dd-987ddd6737c4",
   "metadata": {},
   "outputs": [
    {
     "name": "stdout",
     "output_type": "stream",
     "text": [
      "100\n"
     ]
    }
   ],
   "source": [
    "print(len(labels))"
   ]
  },
  {
   "cell_type": "code",
   "execution_count": 50,
   "id": "d4069d6d-6f53-4e3c-b1ec-8da747b3d9a4",
   "metadata": {},
   "outputs": [
    {
     "name": "stdout",
     "output_type": "stream",
     "text": [
      "61\n"
     ]
    }
   ],
   "source": [
    "print(labels.count(1))"
   ]
  },
  {
   "cell_type": "markdown",
   "id": "d1839958-79ff-445b-b99c-9da8fb3f2081",
   "metadata": {},
   "source": [
    "## Result: For 61/100 of articles that have 'trans' but not 'transgender', the term trans was used to mean transgender. We cannot remove all texts with 'trans' but no 'transgender' -- too many cases of relevant 'trans' including terms like transphobic or transphobia etc. without mentioning transgender -- surely don't wanna remove those! \n",
    "\n",
    "### Do we just live with the data, acknowledge this drawback and only analyze topics (including topic labels provided by humans) that are transgender-related?"
   ]
  },
  {
   "cell_type": "code",
   "execution_count": null,
   "id": "829ff804-4150-43a7-a8ee-044145536344",
   "metadata": {},
   "outputs": [],
   "source": []
  }
 ],
 "metadata": {
  "kernelspec": {
   "display_name": "Python 3",
   "language": "python",
   "name": "python3"
  },
  "language_info": {
   "codemirror_mode": {
    "name": "ipython",
    "version": 3
   },
   "file_extension": ".py",
   "mimetype": "text/x-python",
   "name": "python",
   "nbconvert_exporter": "python",
   "pygments_lexer": "ipython3",
   "version": "3.8.10"
  }
 },
 "nbformat": 4,
 "nbformat_minor": 5
}
