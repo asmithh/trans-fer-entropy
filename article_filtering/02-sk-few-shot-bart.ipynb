{
 "cells": [
  {
   "cell_type": "markdown",
   "id": "152f8c83",
   "metadata": {},
   "source": [
    "https://medium.com/@lidores98/finetuning-huggingface-facebook-bart-model-2c758472e340"
   ]
  },
  {
   "cell_type": "code",
   "execution_count": 38,
   "id": "db24ea7a",
   "metadata": {},
   "outputs": [],
   "source": [
    "import pandas as pd\n",
    "import torch\n",
    "from datasets import Dataset, load_metric\n",
    "import random\n",
    "from transformers import BartTokenizerFast\n",
    "from transformers import BartForSequenceClassification, Trainer, TrainingArguments, EvalPrediction\n",
    "import numpy as np\n",
    "from transformers import pipeline"
   ]
  },
  {
   "cell_type": "markdown",
   "id": "ba2804bd",
   "metadata": {},
   "source": [
    "# Device Settings"
   ]
  },
  {
   "cell_type": "code",
   "execution_count": 39,
   "id": "9ea472d5",
   "metadata": {},
   "outputs": [
    {
     "data": {
      "text/plain": [
       "True"
      ]
     },
     "execution_count": 39,
     "metadata": {},
     "output_type": "execute_result"
    }
   ],
   "source": [
    "torch.cuda.is_available()"
   ]
  },
  {
   "cell_type": "code",
   "execution_count": 40,
   "id": "1fd4badc",
   "metadata": {},
   "outputs": [],
   "source": [
    "device = torch.device('cuda')"
   ]
  },
  {
   "cell_type": "markdown",
   "id": "3e07d62a",
   "metadata": {},
   "source": [
    "# Loading Splits"
   ]
  },
  {
   "cell_type": "code",
   "execution_count": 41,
   "id": "e259b287",
   "metadata": {},
   "outputs": [],
   "source": [
    "train_path = '/home/pranavgoel/trans-fer-entropy/internal_relevance_annotation/' + \\\n",
    "'train_sample_for_relevance_classifier.csv'\n",
    "\n",
    "train_df = pd.read_csv(train_path)"
   ]
  },
  {
   "cell_type": "code",
   "execution_count": 42,
   "id": "ce87ce94",
   "metadata": {},
   "outputs": [],
   "source": [
    "train_ds = Dataset.from_pandas(train_df)"
   ]
  },
  {
   "cell_type": "code",
   "execution_count": 43,
   "id": "2c014891",
   "metadata": {},
   "outputs": [],
   "source": [
    "test_path = '/home/pranavgoel/trans-fer-entropy/internal_relevance_annotation/' + \\\n",
    "'test_sample_for_relevance_classifier.csv'\n",
    "\n",
    "test_df = pd.read_csv(test_path)"
   ]
  },
  {
   "cell_type": "code",
   "execution_count": 44,
   "id": "1758d389",
   "metadata": {},
   "outputs": [],
   "source": [
    "test_ds = Dataset.from_pandas(test_df)"
   ]
  },
  {
   "cell_type": "markdown",
   "id": "08f60008",
   "metadata": {},
   "source": [
    "# Model Output Path"
   ]
  },
  {
   "cell_type": "code",
   "execution_count": 26,
   "id": "3c0fcaba",
   "metadata": {},
   "outputs": [],
   "source": [
    "model_path = '/data_users1/sagar/trans-fer-entropy/models'"
   ]
  },
  {
   "cell_type": "code",
   "execution_count": 46,
   "id": "f58a2a95",
   "metadata": {},
   "outputs": [],
   "source": [
    "model_name = 'few_shot_v3'"
   ]
  },
  {
   "cell_type": "markdown",
   "id": "7190996f",
   "metadata": {},
   "source": [
    "# Tokenizer"
   ]
  },
  {
   "cell_type": "code",
   "execution_count": 47,
   "id": "3acf2d8b",
   "metadata": {},
   "outputs": [],
   "source": [
    "tokenizer = BartTokenizerFast.from_pretrained('facebook/bart-large-mnli')"
   ]
  },
  {
   "cell_type": "markdown",
   "id": "c7654832",
   "metadata": {},
   "source": [
    "# Preparing Datasets"
   ]
  },
  {
   "cell_type": "code",
   "execution_count": 48,
   "id": "4349313d",
   "metadata": {},
   "outputs": [],
   "source": [
    "\n",
    "def create_input_sequence(sample):\n",
    "    \n",
    "    input_text = sample[\"text\"]\n",
    "    \n",
    "    if sample[\"label\"]:\n",
    "        label = \"transgender\"\n",
    "    else:\n",
    "        label = \"not transgender\"\n",
    "    \n",
    "    encoded_sequence = {\"input\": None, \"label\": None}\n",
    "    \n",
    "    encoded_sequence[\"input\"] = tokenizer(text=input_text, truncation = True, padding = 'max_length')\n",
    "    encoded_sequence[\"label\"] = tokenizer(text=label, truncation = True, padding = 'max_length')\n",
    "    \n",
    "    return encoded_sequence"
   ]
  },
  {
   "cell_type": "code",
   "execution_count": 49,
   "id": "6c5da2ed",
   "metadata": {},
   "outputs": [
    {
     "data": {
      "application/vnd.jupyter.widget-view+json": {
       "model_id": "",
       "version_major": 2,
       "version_minor": 0
      },
      "text/plain": [
       "Map:   0%|          | 0/50 [00:00<?, ? examples/s]"
      ]
     },
     "metadata": {},
     "output_type": "display_data"
    },
    {
     "data": {
      "application/vnd.jupyter.widget-view+json": {
       "model_id": "",
       "version_major": 2,
       "version_minor": 0
      },
      "text/plain": [
       "Map:   0%|          | 0/50 [00:00<?, ? examples/s]"
      ]
     },
     "metadata": {},
     "output_type": "display_data"
    }
   ],
   "source": [
    "train_dataset = train_ds.map(create_input_sequence)\n",
    "test_dataset = test_ds.map(create_input_sequence)"
   ]
  },
  {
   "cell_type": "code",
   "execution_count": 50,
   "id": "1704ee76",
   "metadata": {},
   "outputs": [
    {
     "name": "stderr",
     "output_type": "stream",
     "text": [
      "Some weights of BartForSequenceClassification were not initialized from the model checkpoint at facebook/bart-large-mnli and are newly initialized because the shapes did not match:\n",
      "- classification_head.out_proj.bias: found shape torch.Size([3]) in the checkpoint and torch.Size([2]) in the model instantiated\n",
      "- classification_head.out_proj.weight: found shape torch.Size([3, 1024]) in the checkpoint and torch.Size([2, 1024]) in the model instantiated\n",
      "You should probably TRAIN this model on a down-stream task to be able to use it for predictions and inference.\n"
     ]
    }
   ],
   "source": [
    "training_args = TrainingArguments(\n",
    "  output_dir = model_path,      # Output directory\n",
    "  num_train_epochs = 30,             # Total number of training epochs\n",
    "  per_device_train_batch_size = 8,  # Batch size per device during training\n",
    "  per_device_eval_batch_size = 8,   # Batch size for evaluation\n",
    "  warmup_steps = 500,                # Number of warmup steps for learning rate scheduler\n",
    "  weight_decay = 0.01,               # Strength of weight decay\n",
    ")\n",
    "\n",
    "model = BartForSequenceClassification.from_pretrained(\"facebook/bart-large-mnli\", num_labels = 2, ignore_mismatched_sizes = True)\n",
    "\n",
    "trainer = Trainer(\n",
    "  model = model,                     # The instantiated model to be trained\n",
    "  args = training_args,              # Training arguments, defined above \n",
    "  train_dataset = train_dataset,     # Training dataset\n",
    "  eval_dataset = test_dataset,       # Evaluation dataset\n",
    "  tokenizer = tokenizer              # The tokenizer that was used\n",
    ")"
   ]
  },
  {
   "cell_type": "markdown",
   "id": "77f46641",
   "metadata": {},
   "source": [
    "# Saving"
   ]
  },
  {
   "cell_type": "code",
   "execution_count": 51,
   "id": "e15a565d",
   "metadata": {},
   "outputs": [],
   "source": [
    "torch.save(model.state_dict(), f\"/data_users1/sagar/trans-fer-entropy/models/{model_name}.pth\")"
   ]
  },
  {
   "cell_type": "code",
   "execution_count": null,
   "id": "7ed0c07f",
   "metadata": {},
   "outputs": [],
   "source": []
  }
 ],
 "metadata": {
  "kernelspec": {
   "display_name": "Python 3 (ipykernel)",
   "language": "python",
   "name": "python3"
  },
  "language_info": {
   "codemirror_mode": {
    "name": "ipython",
    "version": 3
   },
   "file_extension": ".py",
   "mimetype": "text/x-python",
   "name": "python",
   "nbconvert_exporter": "python",
   "pygments_lexer": "ipython3",
   "version": "3.11.4"
  }
 },
 "nbformat": 4,
 "nbformat_minor": 5
}
