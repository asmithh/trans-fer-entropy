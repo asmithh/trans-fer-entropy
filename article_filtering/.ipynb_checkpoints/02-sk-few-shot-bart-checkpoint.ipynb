{
 "cells": [
  {
   "cell_type": "markdown",
   "id": "467a6ea1",
   "metadata": {},
   "source": [
    "https://medium.com/@lidores98/finetuning-huggingface-facebook-bart-model-2c758472e340"
   ]
  },
  {
   "cell_type": "code",
   "execution_count": 38,
   "id": "4d767c75",
   "metadata": {},
   "outputs": [],
   "source": [
    "import pandas as pd\n",
    "import torch\n",
    "from datasets import Dataset, load_metric\n",
    "import random\n",
    "from transformers import BartTokenizerFast\n",
    "from transformers import BartForSequenceClassification, Trainer, TrainingArguments, EvalPrediction\n",
    "import numpy as np\n",
    "from transformers import pipeline"
   ]
  },
  {
   "cell_type": "markdown",
   "id": "0c574896",
   "metadata": {},
   "source": [
    "# Device Settings"
   ]
  },
  {
   "cell_type": "code",
   "execution_count": 39,
   "id": "5292eb87",
   "metadata": {},
   "outputs": [
    {
     "data": {
      "text/plain": [
       "True"
      ]
     },
     "execution_count": 39,
     "metadata": {},
     "output_type": "execute_result"
    }
   ],
   "source": [
    "torch.cuda.is_available()"
   ]
  },
  {
   "cell_type": "code",
   "execution_count": 40,
   "id": "2be0a31d",
   "metadata": {},
   "outputs": [],
   "source": [
    "device = torch.device('cuda')"
   ]
  },
  {
   "cell_type": "markdown",
   "id": "d0bcf453",
   "metadata": {},
   "source": [
    "# Loading Splits"
   ]
  },
  {
   "cell_type": "code",
   "execution_count": 41,
   "id": "abc20b24",
   "metadata": {},
   "outputs": [],
   "source": [
    "train_path = '/home/pranavgoel/trans-fer-entropy/internal_relevance_annotation/' + \\\n",
    "'train_sample_for_relevance_classifier.csv'\n",
    "\n",
    "train_df = pd.read_csv(train_path)"
   ]
  },
  {
   "cell_type": "code",
   "execution_count": 42,
   "id": "bdb9cc98",
   "metadata": {},
   "outputs": [],
   "source": [
    "train_ds = Dataset.from_pandas(train_df)"
   ]
  },
  {
   "cell_type": "code",
   "execution_count": 43,
   "id": "08954ee3",
   "metadata": {},
   "outputs": [],
   "source": [
    "test_path = '/home/pranavgoel/trans-fer-entropy/internal_relevance_annotation/' + \\\n",
    "'test_sample_for_relevance_classifier.csv'\n",
    "\n",
    "test_df = pd.read_csv(test_path)"
   ]
  },
  {
   "cell_type": "code",
   "execution_count": 44,
   "id": "3fa740fb",
   "metadata": {},
   "outputs": [],
   "source": [
    "test_ds = Dataset.from_pandas(test_df)"
   ]
  },
  {
   "cell_type": "markdown",
   "id": "118c2974",
   "metadata": {},
   "source": [
    "# Model Output Path"
   ]
  },
  {
   "cell_type": "code",
   "execution_count": 26,
   "id": "b2ee51e3",
   "metadata": {},
   "outputs": [],
   "source": [
    "model_path = '/data_users1/sagar/trans-fer-entropy/models'"
   ]
  },
  {
   "cell_type": "code",
   "execution_count": 46,
   "id": "2654f22f",
   "metadata": {},
   "outputs": [],
   "source": [
    "model_name = 'few_shot_v3'"
   ]
  },
  {
   "cell_type": "markdown",
   "id": "4678061c",
   "metadata": {},
   "source": [
    "# Tokenizer"
   ]
  },
  {
   "cell_type": "code",
   "execution_count": 47,
   "id": "67413320",
   "metadata": {},
   "outputs": [],
   "source": [
    "tokenizer = BartTokenizerFast.from_pretrained('facebook/bart-large-mnli')"
   ]
  },
  {
   "cell_type": "markdown",
   "id": "07143edb",
   "metadata": {},
   "source": [
    "# Preparing Datasets"
   ]
  },
  {
   "cell_type": "code",
   "execution_count": 48,
   "id": "20cf9b24",
   "metadata": {},
   "outputs": [],
   "source": [
    "\n",
    "def create_input_sequence(sample):\n",
    "    \n",
    "    input_text = sample[\"text\"]\n",
    "    \n",
    "    if sample[\"label\"]:\n",
    "        label = \"transgender\"\n",
    "    else:\n",
    "        label = \"not transgender\"\n",
    "    \n",
    "    encoded_sequence = {\"input\": None, \"label\": None}\n",
    "    \n",
    "    encoded_sequence[\"input\"] = tokenizer(text=input_text, truncation = True, padding = 'max_length')\n",
    "    encoded_sequence[\"label\"] = tokenizer(text=label, truncation = True, padding = 'max_length')\n",
    "    \n",
    "    return encoded_sequence"
   ]
  },
  {
   "cell_type": "code",
   "execution_count": 49,
   "id": "37802765",
   "metadata": {},
   "outputs": [
    {
     "data": {
      "application/vnd.jupyter.widget-view+json": {
       "model_id": "",
       "version_major": 2,
       "version_minor": 0
      },
      "text/plain": [
       "Map:   0%|          | 0/50 [00:00<?, ? examples/s]"
      ]
     },
     "metadata": {},
     "output_type": "display_data"
    },
    {
     "data": {
      "application/vnd.jupyter.widget-view+json": {
       "model_id": "",
       "version_major": 2,
       "version_minor": 0
      },
      "text/plain": [
       "Map:   0%|          | 0/50 [00:00<?, ? examples/s]"
      ]
     },
     "metadata": {},
     "output_type": "display_data"
    }
   ],
   "source": [
    "train_dataset = train_ds.map(create_input_sequence)\n",
    "test_dataset = test_ds.map(create_input_sequence)"
   ]
  },
  {
   "cell_type": "code",
   "execution_count": 50,
   "id": "cb821944",
   "metadata": {},
   "outputs": [
    {
     "name": "stderr",
     "output_type": "stream",
     "text": [
      "Some weights of BartForSequenceClassification were not initialized from the model checkpoint at facebook/bart-large-mnli and are newly initialized because the shapes did not match:\n",
      "- classification_head.out_proj.bias: found shape torch.Size([3]) in the checkpoint and torch.Size([2]) in the model instantiated\n",
      "- classification_head.out_proj.weight: found shape torch.Size([3, 1024]) in the checkpoint and torch.Size([2, 1024]) in the model instantiated\n",
      "You should probably TRAIN this model on a down-stream task to be able to use it for predictions and inference.\n"
     ]
    }
   ],
   "source": [
    "training_args = TrainingArguments(\n",
    "  output_dir = model_path,      # Output directory\n",
    "  num_train_epochs = 30,             # Total number of training epochs\n",
    "  per_device_train_batch_size = 8,  # Batch size per device during training\n",
    "  per_device_eval_batch_size = 8,   # Batch size for evaluation\n",
    "  warmup_steps = 500,                # Number of warmup steps for learning rate scheduler\n",
    "  weight_decay = 0.01,               # Strength of weight decay\n",
    ")\n",
    "\n",
    "model = BartForSequenceClassification.from_pretrained(\"facebook/bart-large-mnli\", num_labels = 2, ignore_mismatched_sizes = True)\n",
    "\n",
    "trainer = Trainer(\n",
    "  model = model,                     # The instantiated model to be trained\n",
    "  args = training_args,              # Training arguments, defined above \n",
    "  train_dataset = train_dataset,     # Training dataset\n",
    "  eval_dataset = test_dataset,       # Evaluation dataset\n",
    "  tokenizer = tokenizer              # The tokenizer that was used\n",
    ")"
   ]
  },
  {
   "cell_type": "markdown",
   "id": "47c1c852",
   "metadata": {},
   "source": [
    "# Saving"
   ]
  },
  {
   "cell_type": "code",
   "execution_count": 37,
   "id": "7d38550f",
   "metadata": {},
   "outputs": [],
   "source": [
    "torch.save(model.state_dict(), f\"/data_users1/sagar/trans-fer-entropy/models/{model_name}.pth\")"
   ]
  },
  {
   "cell_type": "code",
   "execution_count": null,
   "id": "1f5db48d",
   "metadata": {},
   "outputs": [],
   "source": []
  }
 ],
 "metadata": {
  "kernelspec": {
   "display_name": "Python 3 (ipykernel)",
   "language": "python",
   "name": "python3"
  },
  "language_info": {
   "codemirror_mode": {
    "name": "ipython",
    "version": 3
   },
   "file_extension": ".py",
   "mimetype": "text/x-python",
   "name": "python",
   "nbconvert_exporter": "python",
   "pygments_lexer": "ipython3",
   "version": "3.11.4"
  }
 },
 "nbformat": 4,
 "nbformat_minor": 5
}
