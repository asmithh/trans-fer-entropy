{
 "cells": [
  {
   "cell_type": "code",
   "execution_count": 1,
   "id": "5132ece7-6c9c-4a24-b191-066dd8a770cc",
   "metadata": {},
   "outputs": [],
   "source": [
    "import boto3\n",
    "import xmltodict\n",
    "import json"
   ]
  },
  {
   "cell_type": "code",
   "execution_count": 2,
   "id": "b9582825-5f41-4b4f-8f0f-c317d2ab73dc",
   "metadata": {},
   "outputs": [],
   "source": [
    "environments = {\n",
    "  \"sandbox\": {\n",
    "    \"endpoint\": \n",
    "          \"https://mturk-requester-sandbox.us-east-1.amazonaws.com\",\n",
    "    \"preview\": \"https://workersandbox.mturk.com/mturk/preview\"\n",
    "  },\n",
    "}\n",
    "mturk_environment = environments[\"sandbox\"]\n",
    "session = boto3.Session(profile_name='mturk')\n",
    "client = session.client(\n",
    "    service_name='mturk',\n",
    "    region_name='us-east-1',\n",
    "    endpoint_url=mturk_environment['endpoint'],\n",
    ")"
   ]
  },
  {
   "cell_type": "code",
   "execution_count": 4,
   "id": "0c034872-f1e6-4c7a-ac9f-ef5eebbdfeaa",
   "metadata": {},
   "outputs": [
    {
     "name": "stdout",
     "output_type": "stream",
     "text": [
      "10000.00\n"
     ]
    }
   ],
   "source": [
    "print(client.get_account_balance()['AvailableBalance'])"
   ]
  },
  {
   "cell_type": "code",
   "execution_count": 5,
   "id": "39182bcf-bae7-4d06-9860-580a2fbde50b",
   "metadata": {},
   "outputs": [],
   "source": [
    "html_layout = open('/home/asmithh/aws_template.html', 'r').read()\n",
    "QUESTION_XML = \"\"\"<HTMLQuestion xmlns=\"http://mechanicalturk.amazonaws.com/AWSMechanicalTurkDataSchemas/2011-11-11/HTMLQuestion.xsd\">\n",
    "        <HTMLContent><![CDATA[{}]]></HTMLContent>\n",
    "        <FrameHeight>650</FrameHeight>\n",
    "        </HTMLQuestion>\"\"\"\n",
    "question_xml = QUESTION_XML.format(html_layout)\n"
   ]
  },
  {
   "cell_type": "code",
   "execution_count": 6,
   "id": "15041a96-0271-451d-8b8e-328e39d9908a",
   "metadata": {},
   "outputs": [],
   "source": [
    "TaskAttributes = {\n",
    "    'MaxAssignments': 5,           \n",
    "    # How long the task will be available on MTurk (1 hour)     \n",
    "    'LifetimeInSeconds': 10*60*60,\n",
    "    # How long Workers have to complete each item (10 minutes)\n",
    "    'AssignmentDurationInSeconds': 60*10,\n",
    "    # The reward you will offer Workers for each response\n",
    "    'Reward': '0.05',                     \n",
    "    'Title': 'Provide a label for a piece of text',\n",
    "    'Keywords': 'news, tagging',\n",
    "    'Description': 'Choose the best tag for a piece of text.'\n",
    "}"
   ]
  },
  {
   "cell_type": "code",
   "execution_count": 13,
   "id": "50e41dd3-622e-45a4-a187-5748799a2475",
   "metadata": {},
   "outputs": [],
   "source": [
    "text = \"\"\"\n",
    "The narrative involved him battling an evil rival chocolate maker called \"The Unknown\" - a character absent from the traditional Wonka plotlines - who is trying to steal Willy's \"Anti-Graffiti Gobstopper\". \n",
    "\"\"\"\n",
    "question = question_xml.replace('${content}', text)\n",
    "tags = ['why', 'how', 'what even', 'chatgpt', 'ai is evil']\n",
    "for idx, tag in enumerate(tags):\n",
    "    question = question.replace('${values[' + str(idx) + ']}', tag)\n",
    "    \n",
    "response = client.create_hit(**TaskAttributes, Question=question)"
   ]
  },
  {
   "cell_type": "code",
   "execution_count": 11,
   "id": "988a2fd4-89fa-43f2-9f6e-11a4dff4bbe8",
   "metadata": {},
   "outputs": [],
   "source": [
    "hit_type_id = response['HIT']['HITTypeId']"
   ]
  },
  {
   "cell_type": "code",
   "execution_count": 14,
   "id": "f6cc12b5-fe19-45b9-be3d-334b55399a8d",
   "metadata": {},
   "outputs": [
    {
     "data": {
      "text/plain": [
       "'334916ZQE4W7GE2U0STGIJMUDVBZTM'"
      ]
     },
     "execution_count": 14,
     "metadata": {},
     "output_type": "execute_result"
    }
   ],
   "source": [
    "hit_type_id"
   ]
  },
  {
   "cell_type": "code",
   "execution_count": 15,
   "id": "119b0e23-2d8a-4d01-97d7-ca63a038bd3c",
   "metadata": {},
   "outputs": [
    {
     "name": "stdout",
     "output_type": "stream",
     "text": [
      "https://workersandbox.mturk.com/mturk/preview?groupId=334916ZQE4W7GE2U0STGIJMUDVBZTM\n"
     ]
    }
   ],
   "source": [
    "print(mturk_environment['preview']+\"?groupId={}\".format(hit_type_id))"
   ]
  },
  {
   "cell_type": "code",
   "execution_count": 19,
   "id": "9ab74569-2235-441e-b2d0-e9b5b649b83a",
   "metadata": {},
   "outputs": [],
   "source": [
    "hit = client.get_hit(HITId=response['HIT']['HITId'])"
   ]
  },
  {
   "cell_type": "code",
   "execution_count": 20,
   "id": "a27b8ff9-b92a-4ea7-ba53-5a4b672b5675",
   "metadata": {},
   "outputs": [
    {
     "data": {
      "text/plain": [
       "'Assignable'"
      ]
     },
     "execution_count": 20,
     "metadata": {},
     "output_type": "execute_result"
    }
   ],
   "source": [
    "hit['HIT']['HITStatus']"
   ]
  },
  {
   "cell_type": "code",
   "execution_count": 21,
   "id": "b1bfa29a-4c67-4da5-87a5-fff2d46e1d89",
   "metadata": {},
   "outputs": [],
   "source": [
    "assignmentsList = client.list_assignments_for_hit(\n",
    "        HITId=response['HIT']['HITId'],\n",
    "        AssignmentStatuses=['Submitted', 'Approved'],\n",
    "        MaxResults=10\n",
    "    )"
   ]
  },
  {
   "cell_type": "code",
   "execution_count": 22,
   "id": "be96827b-c7b2-447c-8ec5-420fd7cc5618",
   "metadata": {},
   "outputs": [
    {
     "data": {
      "text/plain": [
       "{'NextToken': 'p1:u99CVENaKOKjHeWkhdJ5/vTw0UN5+oMsmiIAkWtQ4GYyhwessrIA2c5M2ORBcg==',\n",
       " 'NumResults': 1,\n",
       " 'Assignments': [{'AssignmentId': '3X4MXAO0B0G93XA8HQ4ZN4UKTJKRWS',\n",
       "   'WorkerId': 'AX174EFTHMXX8',\n",
       "   'HITId': '3C8QQOM6K8TDCKXWXNYMCHGXMPFILX',\n",
       "   'AssignmentStatus': 'Submitted',\n",
       "   'AutoApprovalTime': datetime.datetime(2024, 4, 3, 13, 58, 23, tzinfo=tzlocal()),\n",
       "   'AcceptTime': datetime.datetime(2024, 3, 4, 12, 58, 20, tzinfo=tzlocal()),\n",
       "   'SubmitTime': datetime.datetime(2024, 3, 4, 12, 58, 23, tzinfo=tzlocal()),\n",
       "   'Answer': '<?xml version=\"1.0\" encoding=\"ASCII\"?><QuestionFormAnswers xmlns=\"http://mechanicalturk.amazonaws.com/AWSMechanicalTurkDataSchemas/2005-10-01/QuestionFormAnswers.xsd\"><Answer><QuestionIdentifier>best_tag</QuestionIdentifier><FreeText>how</FreeText></Answer></QuestionFormAnswers>'}],\n",
       " 'ResponseMetadata': {'RequestId': 'f061f9d2-04d1-423c-955d-1b8cd4762e80',\n",
       "  'HTTPStatusCode': 200,\n",
       "  'HTTPHeaders': {'x-amzn-requestid': 'f061f9d2-04d1-423c-955d-1b8cd4762e80',\n",
       "   'content-type': 'application/x-amz-json-1.1',\n",
       "   'content-length': '645',\n",
       "   'date': 'Mon, 04 Mar 2024 18:00:18 GMT'},\n",
       "  'RetryAttempts': 0}}"
      ]
     },
     "execution_count": 22,
     "metadata": {},
     "output_type": "execute_result"
    }
   ],
   "source": [
    "assignmentsList"
   ]
  },
  {
   "cell_type": "code",
   "execution_count": null,
   "id": "5d63b19d-d5ef-44a6-ada8-bbbb90a040dc",
   "metadata": {},
   "outputs": [],
   "source": []
  }
 ],
 "metadata": {
  "kernelspec": {
   "display_name": "Python 3 (ipykernel)",
   "language": "python",
   "name": "python3"
  },
  "language_info": {
   "codemirror_mode": {
    "name": "ipython",
    "version": 3
   },
   "file_extension": ".py",
   "mimetype": "text/x-python",
   "name": "python",
   "nbconvert_exporter": "python",
   "pygments_lexer": "ipython3",
   "version": "3.8.10"
  }
 },
 "nbformat": 4,
 "nbformat_minor": 5
}
