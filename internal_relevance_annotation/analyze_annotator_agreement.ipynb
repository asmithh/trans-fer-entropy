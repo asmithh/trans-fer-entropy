{
 "cells": [
  {
   "cell_type": "markdown",
   "id": "031a104c-b0ac-4841-a8e0-9e89450f2842",
   "metadata": {},
   "source": [
    "Notebook analyzing the IAA between the three annotators on binary relevance. "
   ]
  },
  {
   "cell_type": "code",
   "execution_count": 9,
   "id": "e189b886-d99e-4876-8449-6aa2532b9ba4",
   "metadata": {},
   "outputs": [],
   "source": [
    "import os\n",
    "\n",
    "import numpy as np\n",
    "import pandas as pd\n",
    "import statsmodels as sm"
   ]
  },
  {
   "cell_type": "code",
   "execution_count": 2,
   "id": "61d3489a-0b2d-4a53-a8c3-eba1a2086be1",
   "metadata": {},
   "outputs": [
    {
     "name": "stdout",
     "output_type": "stream",
     "text": [
      "['sample_for_relevance_annotation_YY.csv', 'alyssa_annotations - sample_for_relevance_annotation.tsv', 'sample_for_relevance_annotation_labeled_SK.csv']\n"
     ]
    }
   ],
   "source": [
    "labeled_annotation_files = [x for x in os.listdir('annotation_files/labeled/') if 'sample' in x]\n",
    "print(labeled_annotation_files)"
   ]
  },
  {
   "cell_type": "code",
   "execution_count": 3,
   "id": "4ab82b6a-296b-4e5b-9022-4010b4f0e4e2",
   "metadata": {},
   "outputs": [
    {
     "name": "stdout",
     "output_type": "stream",
     "text": [
      "<class 'pandas.core.frame.DataFrame'>\n",
      "RangeIndex: 100 entries, 0 to 99\n",
      "Data columns (total 5 columns):\n",
      " #   Column           Non-Null Count  Dtype \n",
      "---  ------           --------------  ----- \n",
      " 0   url              100 non-null    object\n",
      " 1   title            100 non-null    object\n",
      " 2   subtitle         76 non-null     object\n",
      " 3   text             100 non-null    object\n",
      " 4   Relevance_Label  100 non-null    int64 \n",
      "dtypes: int64(1), object(4)\n",
      "memory usage: 4.0+ KB\n",
      "None\n"
     ]
    },
    {
     "data": {
      "text/html": [
       "<div>\n",
       "<style scoped>\n",
       "    .dataframe tbody tr th:only-of-type {\n",
       "        vertical-align: middle;\n",
       "    }\n",
       "\n",
       "    .dataframe tbody tr th {\n",
       "        vertical-align: top;\n",
       "    }\n",
       "\n",
       "    .dataframe thead th {\n",
       "        text-align: right;\n",
       "    }\n",
       "</style>\n",
       "<table border=\"1\" class=\"dataframe\">\n",
       "  <thead>\n",
       "    <tr style=\"text-align: right;\">\n",
       "      <th></th>\n",
       "      <th>url</th>\n",
       "      <th>title</th>\n",
       "      <th>subtitle</th>\n",
       "      <th>text</th>\n",
       "      <th>Relevance_Label</th>\n",
       "    </tr>\n",
       "  </thead>\n",
       "  <tbody>\n",
       "    <tr>\n",
       "      <th>0</th>\n",
       "      <td>https://www.cleveland.com/reckon/2023/06/archi...</td>\n",
       "      <td>Archie Comics is ready to introduce its first ...</td>\n",
       "      <td>NaN</td>\n",
       "      <td>People are making change and breaking down bar...</td>\n",
       "      <td>1</td>\n",
       "    </tr>\n",
       "    <tr>\n",
       "      <th>1</th>\n",
       "      <td>https://www.wkbn.com/sports/transgender-athlet...</td>\n",
       "      <td>Transgender athlete ban bill moves forward at ...</td>\n",
       "      <td>Lawmakers at the Ohio Statehouse voted on Wedn...</td>\n",
       "      <td>Watch a previous NBC4 report on House Bill 6 i...</td>\n",
       "      <td>1</td>\n",
       "    </tr>\n",
       "    <tr>\n",
       "      <th>2</th>\n",
       "      <td>https://kesq.com/news/2023/04/29/the-us-has-a-...</td>\n",
       "      <td>The US has a rich drag history. Here’s why the...</td>\n",
       "      <td>NaN</td>\n",
       "      <td>Scottie Andrew, CNN\\n\\nTo many, the stereotypi...</td>\n",
       "      <td>1</td>\n",
       "    </tr>\n",
       "    <tr>\n",
       "      <th>3</th>\n",
       "      <td>https://www.foxnews.com/media/teacher-calls-8t...</td>\n",
       "      <td>UK teacher calls 8th-grader 'despicable' for s...</td>\n",
       "      <td>A U.K. teacher at Rye College in East Sussex c...</td>\n",
       "      <td>A U.K. teacher got into a heated argument with...</td>\n",
       "      <td>1</td>\n",
       "    </tr>\n",
       "    <tr>\n",
       "      <th>4</th>\n",
       "      <td>https://www.nbcbayarea.com/news/national-inter...</td>\n",
       "      <td>Target Makes Changes to LGBTQ Merchandise for ...</td>\n",
       "      <td>Target is removing certain items from its stor...</td>\n",
       "      <td>Target is removing certain items from its stor...</td>\n",
       "      <td>1</td>\n",
       "    </tr>\n",
       "  </tbody>\n",
       "</table>\n",
       "</div>"
      ],
      "text/plain": [
       "                                                 url  \\\n",
       "0  https://www.cleveland.com/reckon/2023/06/archi...   \n",
       "1  https://www.wkbn.com/sports/transgender-athlet...   \n",
       "2  https://kesq.com/news/2023/04/29/the-us-has-a-...   \n",
       "3  https://www.foxnews.com/media/teacher-calls-8t...   \n",
       "4  https://www.nbcbayarea.com/news/national-inter...   \n",
       "\n",
       "                                               title  \\\n",
       "0  Archie Comics is ready to introduce its first ...   \n",
       "1  Transgender athlete ban bill moves forward at ...   \n",
       "2  The US has a rich drag history. Here’s why the...   \n",
       "3  UK teacher calls 8th-grader 'despicable' for s...   \n",
       "4  Target Makes Changes to LGBTQ Merchandise for ...   \n",
       "\n",
       "                                            subtitle  \\\n",
       "0                                                NaN   \n",
       "1  Lawmakers at the Ohio Statehouse voted on Wedn...   \n",
       "2                                                NaN   \n",
       "3  A U.K. teacher at Rye College in East Sussex c...   \n",
       "4  Target is removing certain items from its stor...   \n",
       "\n",
       "                                                text  Relevance_Label  \n",
       "0  People are making change and breaking down bar...                1  \n",
       "1  Watch a previous NBC4 report on House Bill 6 i...                1  \n",
       "2  Scottie Andrew, CNN\\n\\nTo many, the stereotypi...                1  \n",
       "3  A U.K. teacher got into a heated argument with...                1  \n",
       "4  Target is removing certain items from its stor...                1  "
      ]
     },
     "execution_count": 3,
     "metadata": {},
     "output_type": "execute_result"
    }
   ],
   "source": [
    "annotation_df1 = pd.read_csv('annotation_files/labeled/sample_for_relevance_annotation_YY.csv')\n",
    "print(annotation_df1.info())\n",
    "annotation_df1.head()"
   ]
  },
  {
   "cell_type": "code",
   "execution_count": 4,
   "id": "553f444e-8c4e-431a-a324-35c97bf105b7",
   "metadata": {},
   "outputs": [
    {
     "name": "stdout",
     "output_type": "stream",
     "text": [
      "<class 'pandas.core.frame.DataFrame'>\n",
      "RangeIndex: 100 entries, 0 to 99\n",
      "Data columns (total 5 columns):\n",
      " #   Column           Non-Null Count  Dtype \n",
      "---  ------           --------------  ----- \n",
      " 0   url              100 non-null    object\n",
      " 1   title            100 non-null    object\n",
      " 2   subtitle         76 non-null     object\n",
      " 3   text             100 non-null    object\n",
      " 4   Relevance_Label  100 non-null    int64 \n",
      "dtypes: int64(1), object(4)\n",
      "memory usage: 4.0+ KB\n",
      "None\n"
     ]
    },
    {
     "data": {
      "text/html": [
       "<div>\n",
       "<style scoped>\n",
       "    .dataframe tbody tr th:only-of-type {\n",
       "        vertical-align: middle;\n",
       "    }\n",
       "\n",
       "    .dataframe tbody tr th {\n",
       "        vertical-align: top;\n",
       "    }\n",
       "\n",
       "    .dataframe thead th {\n",
       "        text-align: right;\n",
       "    }\n",
       "</style>\n",
       "<table border=\"1\" class=\"dataframe\">\n",
       "  <thead>\n",
       "    <tr style=\"text-align: right;\">\n",
       "      <th></th>\n",
       "      <th>url</th>\n",
       "      <th>title</th>\n",
       "      <th>subtitle</th>\n",
       "      <th>text</th>\n",
       "      <th>Relevance_Label</th>\n",
       "    </tr>\n",
       "  </thead>\n",
       "  <tbody>\n",
       "    <tr>\n",
       "      <th>0</th>\n",
       "      <td>https://www.cleveland.com/reckon/2023/06/archi...</td>\n",
       "      <td>Archie Comics is ready to introduce its first ...</td>\n",
       "      <td>NaN</td>\n",
       "      <td>People are making change and breaking down bar...</td>\n",
       "      <td>1</td>\n",
       "    </tr>\n",
       "    <tr>\n",
       "      <th>1</th>\n",
       "      <td>https://www.wkbn.com/sports/transgender-athlet...</td>\n",
       "      <td>Transgender athlete ban bill moves forward at ...</td>\n",
       "      <td>Lawmakers at the Ohio Statehouse voted on Wedn...</td>\n",
       "      <td>Watch a previous NBC4 report on House Bill 6 i...</td>\n",
       "      <td>1</td>\n",
       "    </tr>\n",
       "    <tr>\n",
       "      <th>2</th>\n",
       "      <td>https://kesq.com/news/2023/04/29/the-us-has-a-...</td>\n",
       "      <td>The US has a rich drag history. Here’s why the...</td>\n",
       "      <td>NaN</td>\n",
       "      <td>Scottie Andrew, CNN\\n\\nTo many, the stereotypi...</td>\n",
       "      <td>1</td>\n",
       "    </tr>\n",
       "    <tr>\n",
       "      <th>3</th>\n",
       "      <td>https://www.foxnews.com/media/teacher-calls-8t...</td>\n",
       "      <td>UK teacher calls 8th-grader 'despicable' for s...</td>\n",
       "      <td>A U.K. teacher at Rye College in East Sussex c...</td>\n",
       "      <td>A U.K. teacher got into a heated argument with...</td>\n",
       "      <td>1</td>\n",
       "    </tr>\n",
       "    <tr>\n",
       "      <th>4</th>\n",
       "      <td>https://www.nbcbayarea.com/news/national-inter...</td>\n",
       "      <td>Target Makes Changes to LGBTQ Merchandise for ...</td>\n",
       "      <td>Target is removing certain items from its stor...</td>\n",
       "      <td>Target is removing certain items from its stor...</td>\n",
       "      <td>1</td>\n",
       "    </tr>\n",
       "  </tbody>\n",
       "</table>\n",
       "</div>"
      ],
      "text/plain": [
       "                                                 url  \\\n",
       "0  https://www.cleveland.com/reckon/2023/06/archi...   \n",
       "1  https://www.wkbn.com/sports/transgender-athlet...   \n",
       "2  https://kesq.com/news/2023/04/29/the-us-has-a-...   \n",
       "3  https://www.foxnews.com/media/teacher-calls-8t...   \n",
       "4  https://www.nbcbayarea.com/news/national-inter...   \n",
       "\n",
       "                                               title  \\\n",
       "0  Archie Comics is ready to introduce its first ...   \n",
       "1  Transgender athlete ban bill moves forward at ...   \n",
       "2  The US has a rich drag history. Here’s why the...   \n",
       "3  UK teacher calls 8th-grader 'despicable' for s...   \n",
       "4  Target Makes Changes to LGBTQ Merchandise for ...   \n",
       "\n",
       "                                            subtitle  \\\n",
       "0                                                NaN   \n",
       "1  Lawmakers at the Ohio Statehouse voted on Wedn...   \n",
       "2                                                NaN   \n",
       "3  A U.K. teacher at Rye College in East Sussex c...   \n",
       "4  Target is removing certain items from its stor...   \n",
       "\n",
       "                                                text  Relevance_Label  \n",
       "0  People are making change and breaking down bar...                1  \n",
       "1  Watch a previous NBC4 report on House Bill 6 i...                1  \n",
       "2  Scottie Andrew, CNN\\n\\nTo many, the stereotypi...                1  \n",
       "3  A U.K. teacher got into a heated argument with...                1  \n",
       "4  Target is removing certain items from its stor...                1  "
      ]
     },
     "execution_count": 4,
     "metadata": {},
     "output_type": "execute_result"
    }
   ],
   "source": [
    "annotation_df2 = pd.read_csv('annotation_files/labeled/sample_for_relevance_annotation_labeled_SK.csv')\n",
    "print(annotation_df2.info())\n",
    "annotation_df2.head()"
   ]
  },
  {
   "cell_type": "code",
   "execution_count": 5,
   "id": "e723a5f6-428e-4e2e-ba3f-1dab59cd66be",
   "metadata": {},
   "outputs": [
    {
     "name": "stdout",
     "output_type": "stream",
     "text": [
      "<class 'pandas.core.frame.DataFrame'>\n",
      "RangeIndex: 100 entries, 0 to 99\n",
      "Data columns (total 5 columns):\n",
      " #   Column           Non-Null Count  Dtype \n",
      "---  ------           --------------  ----- \n",
      " 0   url              100 non-null    object\n",
      " 1   title            100 non-null    object\n",
      " 2   subtitle         76 non-null     object\n",
      " 3   text             100 non-null    object\n",
      " 4   Relevance_Label  100 non-null    int64 \n",
      "dtypes: int64(1), object(4)\n",
      "memory usage: 4.0+ KB\n",
      "None\n"
     ]
    },
    {
     "data": {
      "text/html": [
       "<div>\n",
       "<style scoped>\n",
       "    .dataframe tbody tr th:only-of-type {\n",
       "        vertical-align: middle;\n",
       "    }\n",
       "\n",
       "    .dataframe tbody tr th {\n",
       "        vertical-align: top;\n",
       "    }\n",
       "\n",
       "    .dataframe thead th {\n",
       "        text-align: right;\n",
       "    }\n",
       "</style>\n",
       "<table border=\"1\" class=\"dataframe\">\n",
       "  <thead>\n",
       "    <tr style=\"text-align: right;\">\n",
       "      <th></th>\n",
       "      <th>url</th>\n",
       "      <th>title</th>\n",
       "      <th>subtitle</th>\n",
       "      <th>text</th>\n",
       "      <th>Relevance_Label</th>\n",
       "    </tr>\n",
       "  </thead>\n",
       "  <tbody>\n",
       "    <tr>\n",
       "      <th>0</th>\n",
       "      <td>https://www.cleveland.com/reckon/2023/06/archi...</td>\n",
       "      <td>Archie Comics is ready to introduce its first ...</td>\n",
       "      <td>NaN</td>\n",
       "      <td>People are making change and breaking down bar...</td>\n",
       "      <td>1</td>\n",
       "    </tr>\n",
       "    <tr>\n",
       "      <th>1</th>\n",
       "      <td>https://www.wkbn.com/sports/transgender-athlet...</td>\n",
       "      <td>Transgender athlete ban bill moves forward at ...</td>\n",
       "      <td>Lawmakers at the Ohio Statehouse voted on Wedn...</td>\n",
       "      <td>Watch a previous NBC4 report on House Bill 6 i...</td>\n",
       "      <td>1</td>\n",
       "    </tr>\n",
       "    <tr>\n",
       "      <th>2</th>\n",
       "      <td>https://kesq.com/news/2023/04/29/the-us-has-a-...</td>\n",
       "      <td>The US has a rich drag history. Here’s why the...</td>\n",
       "      <td>NaN</td>\n",
       "      <td>Scottie Andrew, CNN  To many, the stereotypica...</td>\n",
       "      <td>1</td>\n",
       "    </tr>\n",
       "    <tr>\n",
       "      <th>3</th>\n",
       "      <td>https://www.foxnews.com/media/teacher-calls-8t...</td>\n",
       "      <td>UK teacher calls 8th-grader 'despicable' for s...</td>\n",
       "      <td>A U.K. teacher at Rye College in East Sussex c...</td>\n",
       "      <td>A U.K. teacher got into a heated argument with...</td>\n",
       "      <td>1</td>\n",
       "    </tr>\n",
       "    <tr>\n",
       "      <th>4</th>\n",
       "      <td>https://www.nbcbayarea.com/news/national-inter...</td>\n",
       "      <td>Target Makes Changes to LGBTQ Merchandise for ...</td>\n",
       "      <td>Target is removing certain items from its stor...</td>\n",
       "      <td>Target is removing certain items from its stor...</td>\n",
       "      <td>1</td>\n",
       "    </tr>\n",
       "  </tbody>\n",
       "</table>\n",
       "</div>"
      ],
      "text/plain": [
       "                                                 url  \\\n",
       "0  https://www.cleveland.com/reckon/2023/06/archi...   \n",
       "1  https://www.wkbn.com/sports/transgender-athlet...   \n",
       "2  https://kesq.com/news/2023/04/29/the-us-has-a-...   \n",
       "3  https://www.foxnews.com/media/teacher-calls-8t...   \n",
       "4  https://www.nbcbayarea.com/news/national-inter...   \n",
       "\n",
       "                                               title  \\\n",
       "0  Archie Comics is ready to introduce its first ...   \n",
       "1  Transgender athlete ban bill moves forward at ...   \n",
       "2  The US has a rich drag history. Here’s why the...   \n",
       "3  UK teacher calls 8th-grader 'despicable' for s...   \n",
       "4  Target Makes Changes to LGBTQ Merchandise for ...   \n",
       "\n",
       "                                            subtitle  \\\n",
       "0                                                NaN   \n",
       "1  Lawmakers at the Ohio Statehouse voted on Wedn...   \n",
       "2                                                NaN   \n",
       "3  A U.K. teacher at Rye College in East Sussex c...   \n",
       "4  Target is removing certain items from its stor...   \n",
       "\n",
       "                                                text  Relevance_Label  \n",
       "0  People are making change and breaking down bar...                1  \n",
       "1  Watch a previous NBC4 report on House Bill 6 i...                1  \n",
       "2  Scottie Andrew, CNN  To many, the stereotypica...                1  \n",
       "3  A U.K. teacher got into a heated argument with...                1  \n",
       "4  Target is removing certain items from its stor...                1  "
      ]
     },
     "execution_count": 5,
     "metadata": {},
     "output_type": "execute_result"
    }
   ],
   "source": [
    "annotation_df3 = pd.read_csv('annotation_files/labeled/alyssa_annotations - sample_for_relevance_annotation.tsv', sep='\\t')\n",
    "annotation_df3.iloc[3, annotation_df3.columns.get_loc('Relevance_Label')] = 1.0\n",
    "annotation_df3 = annotation_df3.drop('Unnamed: 5', axis=1)\n",
    "annotation_df3['Relevance_Label'] = annotation_df3['Relevance_Label'].astype(int)\n",
    "print(annotation_df3.info())\n",
    "annotation_df3.head()"
   ]
  },
  {
   "cell_type": "code",
   "execution_count": 6,
   "id": "914c9c4a-09e9-48b3-98ab-fd0c3a58e701",
   "metadata": {},
   "outputs": [],
   "source": [
    "assert list(annotation_df1['url']) == list(annotation_df2['url']) == list(annotation_df3['url'])"
   ]
  },
  {
   "cell_type": "code",
   "execution_count": 12,
   "id": "ee6d5f2b-aa54-4582-88dd-53b70de9244b",
   "metadata": {},
   "outputs": [
    {
     "name": "stdout",
     "output_type": "stream",
     "text": [
      "(100, 3)\n"
     ]
    }
   ],
   "source": [
    "raters_data = np.array([list(annotation_df1['Relevance_Label']),\n",
    "                        list(annotation_df2['Relevance_Label']), \n",
    "                        list(annotation_df3['Relevance_Label'])]).T\n",
    "print(raters_data.shape)"
   ]
  },
  {
   "cell_type": "code",
   "execution_count": 19,
   "id": "547a39b5-c635-4702-b81e-d307087b1816",
   "metadata": {},
   "outputs": [],
   "source": [
    "inter_rater_stats_table = sm.stats.inter_rater.aggregate_raters(raters_data,\n",
    "                                                                n_cat=2)"
   ]
  },
  {
   "cell_type": "code",
   "execution_count": 25,
   "id": "0e0ccdbb-810a-44cf-80a0-41aac0e9a347",
   "metadata": {},
   "outputs": [
    {
     "name": "stdout",
     "output_type": "stream",
     "text": [
      "Fleiss Kappa value = 0.6072013093289687\n"
     ]
    }
   ],
   "source": [
    "print('Fleiss Kappa value = ' + str(sm.stats.inter_rater.fleiss_kappa(inter_rater_stats_table[0], method='fleiss')))"
   ]
  },
  {
   "cell_type": "code",
   "execution_count": 26,
   "id": "0d220646-98ac-4659-92c9-9eb678d978ba",
   "metadata": {},
   "outputs": [
    {
     "name": "stdout",
     "output_type": "stream",
     "text": [
      "(100, 2)\n"
     ]
    }
   ],
   "source": [
    "agg_rating_counts = inter_rater_stats_table[0]\n",
    "print(agg_rating_counts.shape)"
   ]
  },
  {
   "cell_type": "code",
   "execution_count": 30,
   "id": "9f4d7d58-dc8c-48d6-9482-2d1ea78a80a8",
   "metadata": {},
   "outputs": [
    {
     "name": "stdout",
     "output_type": "stream",
     "text": [
      "80\n",
      "6\n",
      "14\n"
     ]
    }
   ],
   "source": [
    "num_perfect_agreement = 0\n",
    "num_majority_say_irrelev = 0\n",
    "num_majority_say_relev = 0\n",
    "for i in range(agg_rating_counts.shape[0]):\n",
    "    if 3 in agg_rating_counts[i]:\n",
    "        num_perfect_agreement += 1\n",
    "    else:\n",
    "        if agg_rating_counts[i][0] == 2:\n",
    "            num_majority_say_irrelev += 1\n",
    "        elif agg_rating_counts[i][1] == 2:\n",
    "            num_majority_say_relev += 1\n",
    "print(num_perfect_agreement)\n",
    "print(num_majority_say_irrelev)\n",
    "print(num_majority_say_relev)"
   ]
  },
  {
   "cell_type": "code",
   "execution_count": 31,
   "id": "3e3182fc-518e-4630-ae2e-f3dd149d35fa",
   "metadata": {},
   "outputs": [
    {
     "name": "stdout",
     "output_type": "stream",
     "text": [
      "67\n",
      "13\n"
     ]
    }
   ],
   "source": [
    "#within perfect agreement\n",
    "num_relev_consensus = 0\n",
    "num_irrelev_consensus = 0\n",
    "for i in range(agg_rating_counts.shape[0]):\n",
    "    if 3 in agg_rating_counts[i]:\n",
    "        if agg_rating_counts[i][0] == 3:\n",
    "            num_irrelev_consensus += 1\n",
    "        elif agg_rating_counts[i][1] == 3:\n",
    "            num_relev_consensus += 1\n",
    "print(num_relev_consensus)\n",
    "print(num_irrelev_consensus)"
   ]
  },
  {
   "cell_type": "markdown",
   "id": "e339cd1c-23ee-42f2-9d3d-0210def0870d",
   "metadata": {},
   "source": [
    "## Report on inter-annotator agreement analysis of internal relevance-classification task:\n",
    "\n",
    "**The task:**\n",
    "\n",
    "number of samples = 100\n",
    "\n",
    "number of annotators = 3\n",
    "\n",
    "number of categories = 2 (relevant or irrelevant)\n",
    "\n",
    "\n",
    "**Findings:**\n",
    "\n",
    "Fleiss Kappa value = 0.607 (indicating good or substantial agreement)\n",
    "\n",
    "#Samples with perfect agreement or consensus (all 3 annotators choosing the same category = 80\n",
    "\n",
    "Within samples without consensus (20/100): \n",
    "\n",
    "    #Samples with 2/3 annotators choosing irrelevant: 6\n",
    "    \n",
    "    #Samples with 2/3 annotators choosing relevant: 14\n",
    "\n",
    "Within samples with consensus (80/100):\n",
    "\n",
    "    #Samples labeled irrelevant: 13\n",
    "    \n",
    "    #Samples labeled relevant: 67\n"
   ]
  },
  {
   "cell_type": "markdown",
   "id": "ad65cd92-d24a-4718-b435-23e7b00ca68f",
   "metadata": {},
   "source": [
    "### Proposed paths forward\n",
    "\n",
    "1. We use the 80 samples with perfect agreement or consensus, do a 50-50 train-test split (using 40 samples for training few shot classifier, then later 40 for just testing and reporting on that), and report the agreement, etc. for the 100-sample in an appendix. We concede that relevance-annotation is a somewhat subjective task.\n",
    "2. We do all above, but use all 100 labeled samples for train-test split -- in the 20 cases with disagreement, we use the majority label as the label. \n",
    "3. We discuss the 20 samples that do not have consensus and discuss the disagreement, do some consensus-building, and do another round of 100-sample annotation (different sample) post-discussion. Multiple rounds of annotation and discussion to build consensus is also a popular strategy: we then report agreement, etc. on that next annotation iteration, and use those labeled samples instead. We may have a higher agreement or consensus-ratio, indicating that the relevance-annotation task is more or less objective?"
   ]
  },
  {
   "cell_type": "markdown",
   "id": "7cf66fb6-86e6-4d37-81e9-7e6baa48c6bc",
   "metadata": {},
   "source": [
    "Selected path after discussion with team: **Path 2**"
   ]
  },
  {
   "cell_type": "code",
   "execution_count": null,
   "id": "36607343-7c6f-4901-90b3-8da1de97869e",
   "metadata": {},
   "outputs": [],
   "source": []
  }
 ],
 "metadata": {
  "kernelspec": {
   "display_name": "Python 3",
   "language": "python",
   "name": "python3"
  },
  "language_info": {
   "codemirror_mode": {
    "name": "ipython",
    "version": 3
   },
   "file_extension": ".py",
   "mimetype": "text/x-python",
   "name": "python",
   "nbconvert_exporter": "python",
   "pygments_lexer": "ipython3",
   "version": "3.8.10"
  }
 },
 "nbformat": 4,
 "nbformat_minor": 5
}
