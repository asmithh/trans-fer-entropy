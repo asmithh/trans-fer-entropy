{
 "cells": [
  {
   "cell_type": "code",
   "execution_count": 1,
   "id": "91417e12-acf0-4e78-adb2-dfa3cc15f2d3",
   "metadata": {},
   "outputs": [
    {
     "name": "stderr",
     "output_type": "stream",
     "text": [
      "<ipython-input-1-cd00b3c2a068>:12: FutureWarning: Passing a negative integer is deprecated in version 1.0 and will not be supported in future version. Instead, use None to not limit the column width.\n",
      "  pd.set_option('display.max_colwidth', -1)\n"
     ]
    }
   ],
   "source": [
    "from datetime import datetime, timedelta\n",
    "import pickle\n",
    "import os\n",
    "import pandas as pd\n",
    "import numpy as np\n",
    "from tqdm import tqdm\n",
    "import re\n",
    "\n",
    "from tldextract import extract\n",
    "import langid\n",
    "\n",
    "pd.set_option('display.max_colwidth', -1)\n",
    "pd.set_option('display.max_rows', 50)\n",
    "\n",
    "from newspaper import Article\n",
    "import matplotlib.pyplot as plt"
   ]
  },
  {
   "cell_type": "markdown",
   "id": "7c658d7d-06a1-4831-bff8-c1fea762e1a9",
   "metadata": {},
   "source": [
    "NOTE: Mediacloud news for state-specific collection includes news ABOUT the particular state, and as such, might sometimes contain news from national outlets where the article itself might be focused on the state itself. Most (if not all) of the collection is going to be sourced from local state-specific outlets, but not always. Currently, we are keeping all URLs within the obtained collection for the state, except those from nytimes and foxnews since those are our chosen national outlets. Trusting mediacloud's collections to be truly state-focused even when urls come from national outlets. "
   ]
  },
  {
   "cell_type": "code",
   "execution_count": 2,
   "id": "52b41e64-fc9c-4738-a5bd-54e0a4f2f0f6",
   "metadata": {},
   "outputs": [],
   "source": [
    "start_date = datetime.strptime('2023-01-01', '%Y-%m-%d').date()\n",
    "end_date = datetime.strptime('2023-12-31', '%Y-%m-%d').date()"
   ]
  },
  {
   "cell_type": "code",
   "execution_count": 3,
   "id": "49399f6d-bfb8-470d-af2f-88d273d4e522",
   "metadata": {},
   "outputs": [
    {
     "name": "stdout",
     "output_type": "stream",
     "text": [
      "<class 'pandas.core.frame.DataFrame'>\n",
      "RangeIndex: 2772 entries, 0 to 2771\n",
      "Data columns (total 9 columns):\n",
      " #   Column        Non-Null Count  Dtype \n",
      "---  ------        --------------  ----- \n",
      " 0   archived_url  2772 non-null   object\n",
      " 1   article_url   2772 non-null   object\n",
      " 2   id            2772 non-null   int64 \n",
      " 3   language      2772 non-null   object\n",
      " 4   media_name    2772 non-null   object\n",
      " 5   media_url     2772 non-null   object\n",
      " 6   publish_date  2772 non-null   object\n",
      " 7   title         2772 non-null   object\n",
      " 8   url           2772 non-null   object\n",
      "dtypes: int64(1), object(8)\n",
      "memory usage: 195.0+ KB\n",
      "None\n"
     ]
    }
   ],
   "source": [
    "illinois_news = pd.read_csv('data/mediacloud_illinois.csv')\n",
    "print(illinois_news.info())"
   ]
  },
  {
   "cell_type": "code",
   "execution_count": 4,
   "id": "d9f566ea-c870-403a-b573-c6fc9eb569d8",
   "metadata": {},
   "outputs": [
    {
     "name": "stderr",
     "output_type": "stream",
     "text": [
      "100%|██████████| 2772/2772 [00:00<00:00, 756349.90it/s]\n"
     ]
    }
   ],
   "source": [
    "#analyze the distribution across months of publication -- are there gaps in the collection?\n",
    "all_dates = list(illinois_news['publish_date'])\n",
    "month_to_vol = {}\n",
    "for i in range(1, 13):\n",
    "    month_to_vol[i] = 0\n",
    "for d in tqdm(all_dates):\n",
    "    m = int(d.split('-')[1])\n",
    "    month_to_vol[m] += 1"
   ]
  },
  {
   "cell_type": "code",
   "execution_count": 5,
   "id": "3d32dfd2-08a3-4d87-ac56-0e63b7cdb4cd",
   "metadata": {},
   "outputs": [
    {
     "data": {
      "text/plain": [
       "[<matplotlib.lines.Line2D at 0x7f07a1b92d60>]"
      ]
     },
     "execution_count": 5,
     "metadata": {},
     "output_type": "execute_result"
    },
    {
     "data": {
      "image/png": "[encoded data removed]",
      "text/plain": [
       "<Figure size 432x288 with 1 Axes>"
      ]
     },
     "metadata": {
      "needs_background": "light"
     },
     "output_type": "display_data"
    }
   ],
   "source": [
    "plt.plot(list(month_to_vol.keys()), list(month_to_vol.values()))"
   ]
  },
  {
   "cell_type": "code",
   "execution_count": 6,
   "id": "60bd4833-c3cc-4cbf-ad7d-fc1f5249e3d6",
   "metadata": {
    "scrolled": true
   },
   "outputs": [
    {
     "data": {
      "text/html": [
       "<div>\n",
       "<style scoped>\n",
       "    .dataframe tbody tr th:only-of-type {\n",
       "        vertical-align: middle;\n",
       "    }\n",
       "\n",
       "    .dataframe tbody tr th {\n",
       "        vertical-align: top;\n",
       "    }\n",
       "\n",
       "    .dataframe thead th {\n",
       "        text-align: right;\n",
       "    }\n",
       "</style>\n",
       "<table border=\"1\" class=\"dataframe\">\n",
       "  <thead>\n",
       "    <tr style=\"text-align: right;\">\n",
       "      <th></th>\n",
       "      <th>language</th>\n",
       "      <th>media_name</th>\n",
       "      <th>media_url</th>\n",
       "      <th>publish_date</th>\n",
       "      <th>title</th>\n",
       "      <th>url</th>\n",
       "    </tr>\n",
       "  </thead>\n",
       "  <tbody>\n",
       "    <tr>\n",
       "      <th>2752</th>\n",
       "      <td>en</td>\n",
       "      <td>republictimes.net</td>\n",
       "      <td>http://republictimes.net</td>\n",
       "      <td>2023-03-29 00:00:00</td>\n",
       "      <td>Fallout from WHS restroom debateĀ – Republic-Times</td>\n",
       "      <td>https://www.republictimes.net/fallout-from-whs-restroom-debate/</td>\n",
       "    </tr>\n",
       "    <tr>\n",
       "      <th>2753</th>\n",
       "      <td>en</td>\n",
       "      <td>republictimes.net</td>\n",
       "      <td>http://republictimes.net</td>\n",
       "      <td>2023-06-28 00:00:00</td>\n",
       "      <td>Gender issue divides further - Republic-Times</td>\n",
       "      <td>https://www.republictimes.net/gender-issue-divides-further/</td>\n",
       "    </tr>\n",
       "    <tr>\n",
       "      <th>2754</th>\n",
       "      <td>en</td>\n",
       "      <td>republictimes.net</td>\n",
       "      <td>http://republictimes.net</td>\n",
       "      <td>2023-05-17 00:00:00</td>\n",
       "      <td>Gender policy closes school year</td>\n",
       "      <td>https://www.republictimes.net/gender-policy-closes-school-year/</td>\n",
       "    </tr>\n",
       "    <tr>\n",
       "      <th>2755</th>\n",
       "      <td>en</td>\n",
       "      <td>republictimes.net</td>\n",
       "      <td>http://republictimes.net</td>\n",
       "      <td>2023-07-19 00:00:00</td>\n",
       "      <td>Gender policy debate persists - Republic-Times</td>\n",
       "      <td>https://www.republictimes.net/gender-policy-debate-persists/</td>\n",
       "    </tr>\n",
       "    <tr>\n",
       "      <th>2756</th>\n",
       "      <td>en</td>\n",
       "      <td>republictimes.net</td>\n",
       "      <td>http://republictimes.net</td>\n",
       "      <td>2023-06-14 00:00:00</td>\n",
       "      <td>Gender policy still an issue - Republic-Times</td>\n",
       "      <td>https://www.republictimes.net/gender-policy-still-an-issue/</td>\n",
       "    </tr>\n",
       "    <tr>\n",
       "      <th>2757</th>\n",
       "      <td>en</td>\n",
       "      <td>republictimes.net</td>\n",
       "      <td>http://republictimes.net</td>\n",
       "      <td>2023-08-23 00:00:00</td>\n",
       "      <td>More concern with WHS bathroom policy</td>\n",
       "      <td>https://www.republictimes.net/more-concern-with-whs-bathroom-policy/</td>\n",
       "    </tr>\n",
       "    <tr>\n",
       "      <th>2758</th>\n",
       "      <td>en</td>\n",
       "      <td>republictimes.net</td>\n",
       "      <td>http://republictimes.net</td>\n",
       "      <td>2023-08-30 00:00:00</td>\n",
       "      <td>More from Waterloo School Board - Republic-Times</td>\n",
       "      <td>https://www.republictimes.net/more-from-waterloo-school-board/</td>\n",
       "    </tr>\n",
       "    <tr>\n",
       "      <th>2759</th>\n",
       "      <td>en</td>\n",
       "      <td>republictimes.net</td>\n",
       "      <td>http://republictimes.net</td>\n",
       "      <td>2023-10-18 00:00:00</td>\n",
       "      <td>More potty talk for Waterloo School Board</td>\n",
       "      <td>https://www.republictimes.net/more-potty-talk-for-the-school-board/</td>\n",
       "    </tr>\n",
       "    <tr>\n",
       "      <th>2760</th>\n",
       "      <td>en</td>\n",
       "      <td>republictimes.net</td>\n",
       "      <td>http://republictimes.net</td>\n",
       "      <td>2023-04-04 00:00:00</td>\n",
       "      <td>New mayor in Waterloo | Republic-Times</td>\n",
       "      <td>https://www.republictimes.net/new-mayor-in-waterloo/</td>\n",
       "    </tr>\n",
       "    <tr>\n",
       "      <th>2761</th>\n",
       "      <td>en</td>\n",
       "      <td>republictimes.net</td>\n",
       "      <td>http://republictimes.net</td>\n",
       "      <td>2023-04-19 00:00:00</td>\n",
       "      <td>New privacy policy at WHS – Republic-Times</td>\n",
       "      <td>https://www.republictimes.net/new-privacy-policy-at-whs/</td>\n",
       "    </tr>\n",
       "    <tr>\n",
       "      <th>2762</th>\n",
       "      <td>en</td>\n",
       "      <td>republictimes.net</td>\n",
       "      <td>http://republictimes.net</td>\n",
       "      <td>2023-03-18 00:00:00</td>\n",
       "      <td>Fallout from protest at WHS | Republic-Times</td>\n",
       "      <td>https://www.republictimes.net/protest-at-whs-results-in-letter-to-parents/</td>\n",
       "    </tr>\n",
       "    <tr>\n",
       "      <th>2763</th>\n",
       "      <td>en</td>\n",
       "      <td>republictimes.net</td>\n",
       "      <td>http://republictimes.net</td>\n",
       "      <td>2023-03-28 00:00:00</td>\n",
       "      <td>Saving the children | Ott Observations – Republic-Times</td>\n",
       "      <td>https://www.republictimes.net/saving-the-children-ott-observations/</td>\n",
       "    </tr>\n",
       "    <tr>\n",
       "      <th>2764</th>\n",
       "      <td>en</td>\n",
       "      <td>republictimes.net</td>\n",
       "      <td>http://republictimes.net</td>\n",
       "      <td>2023-03-23 00:00:00</td>\n",
       "      <td>School board responds to WHS bathroom concerns</td>\n",
       "      <td>https://www.republictimes.net/school-board-responds-to-whs-bathroom-concerns/</td>\n",
       "    </tr>\n",
       "    <tr>\n",
       "      <th>2765</th>\n",
       "      <td>en</td>\n",
       "      <td>republictimes.net</td>\n",
       "      <td>http://republictimes.net</td>\n",
       "      <td>2023-09-20 00:00:00</td>\n",
       "      <td>School gender issue settles slightly</td>\n",
       "      <td>https://www.republictimes.net/school-gender-issue-settles/</td>\n",
       "    </tr>\n",
       "    <tr>\n",
       "      <th>2766</th>\n",
       "      <td>en</td>\n",
       "      <td>republictimes.net</td>\n",
       "      <td>http://republictimes.net</td>\n",
       "      <td>2023-06-23 00:00:00</td>\n",
       "      <td>Waterloo School District again responds to gender policy concerns</td>\n",
       "      <td>https://www.republictimes.net/waterloo-school-board-again-responds-to-gender-policy-concerns/</td>\n",
       "    </tr>\n",
       "    <tr>\n",
       "      <th>2767</th>\n",
       "      <td>en</td>\n",
       "      <td>republictimes.net</td>\n",
       "      <td>http://republictimes.net</td>\n",
       "      <td>2023-04-05 00:00:00</td>\n",
       "      <td>Waterloo School Board OKs projects</td>\n",
       "      <td>https://www.republictimes.net/waterloo-school-board-oks-projects/</td>\n",
       "    </tr>\n",
       "    <tr>\n",
       "      <th>2768</th>\n",
       "      <td>de</td>\n",
       "      <td>indymedia.org</td>\n",
       "      <td>http://indymedia.org</td>\n",
       "      <td>2023-02-18 00:00:00</td>\n",
       "      <td>Widerstand allen Menschenfeind*innen - zur ausbleibenden Haltung gegenüber TERFs in Frankfurts radikaler Linken</td>\n",
       "      <td>https://de.indymedia.org/node/260116</td>\n",
       "    </tr>\n",
       "    <tr>\n",
       "      <th>2769</th>\n",
       "      <td>de</td>\n",
       "      <td>indymedia.org</td>\n",
       "      <td>http://indymedia.org</td>\n",
       "      <td>2023-05-18 00:00:00</td>\n",
       "      <td>Le] Auswertung und Redebeiträge zu der Demonstration am 30.04</td>\n",
       "      <td>https://de.indymedia.org/node/279422</td>\n",
       "    </tr>\n",
       "    <tr>\n",
       "      <th>2770</th>\n",
       "      <td>de</td>\n",
       "      <td>indymedia.org</td>\n",
       "      <td>http://indymedia.org</td>\n",
       "      <td>2023-05-19 00:00:00</td>\n",
       "      <td>Marco Buschmann will trans Fremdbestimmung, bekommt fremdbestimmte Renovierung</td>\n",
       "      <td>https://de.indymedia.org/node/279831</td>\n",
       "    </tr>\n",
       "    <tr>\n",
       "      <th>2771</th>\n",
       "      <td>en</td>\n",
       "      <td>indymedia.org</td>\n",
       "      <td>http://indymedia.org</td>\n",
       "      <td>2023-11-02 00:00:00</td>\n",
       "      <td>Who do you help when you support the Tor Project?</td>\n",
       "      <td>https://de.indymedia.org/node/315265</td>\n",
       "    </tr>\n",
       "  </tbody>\n",
       "</table>\n",
       "</div>"
      ],
      "text/plain": [
       "     language         media_name                 media_url  \\\n",
       "2752  en       republictimes.net  http://republictimes.net   \n",
       "2753  en       republictimes.net  http://republictimes.net   \n",
       "2754  en       republictimes.net  http://republictimes.net   \n",
       "2755  en       republictimes.net  http://republictimes.net   \n",
       "2756  en       republictimes.net  http://republictimes.net   \n",
       "2757  en       republictimes.net  http://republictimes.net   \n",
       "2758  en       republictimes.net  http://republictimes.net   \n",
       "2759  en       republictimes.net  http://republictimes.net   \n",
       "2760  en       republictimes.net  http://republictimes.net   \n",
       "2761  en       republictimes.net  http://republictimes.net   \n",
       "2762  en       republictimes.net  http://republictimes.net   \n",
       "2763  en       republictimes.net  http://republictimes.net   \n",
       "2764  en       republictimes.net  http://republictimes.net   \n",
       "2765  en       republictimes.net  http://republictimes.net   \n",
       "2766  en       republictimes.net  http://republictimes.net   \n",
       "2767  en       republictimes.net  http://republictimes.net   \n",
       "2768  de       indymedia.org      http://indymedia.org       \n",
       "2769  de       indymedia.org      http://indymedia.org       \n",
       "2770  de       indymedia.org      http://indymedia.org       \n",
       "2771  en       indymedia.org      http://indymedia.org       \n",
       "\n",
       "             publish_date  \\\n",
       "2752  2023-03-29 00:00:00   \n",
       "2753  2023-06-28 00:00:00   \n",
       "2754  2023-05-17 00:00:00   \n",
       "2755  2023-07-19 00:00:00   \n",
       "2756  2023-06-14 00:00:00   \n",
       "2757  2023-08-23 00:00:00   \n",
       "2758  2023-08-30 00:00:00   \n",
       "2759  2023-10-18 00:00:00   \n",
       "2760  2023-04-04 00:00:00   \n",
       "2761  2023-04-19 00:00:00   \n",
       "2762  2023-03-18 00:00:00   \n",
       "2763  2023-03-28 00:00:00   \n",
       "2764  2023-03-23 00:00:00   \n",
       "2765  2023-09-20 00:00:00   \n",
       "2766  2023-06-23 00:00:00   \n",
       "2767  2023-04-05 00:00:00   \n",
       "2768  2023-02-18 00:00:00   \n",
       "2769  2023-05-18 00:00:00   \n",
       "2770  2023-05-19 00:00:00   \n",
       "2771  2023-11-02 00:00:00   \n",
       "\n",
       "                                                                                                                title  \\\n",
       "2752  Fallout from WHS restroom debateĀ – Republic-Times                                                                \n",
       "2753  Gender issue divides further - Republic-Times                                                                     \n",
       "2754  Gender policy closes school year                                                                                  \n",
       "2755  Gender policy debate persists - Republic-Times                                                                    \n",
       "2756  Gender policy still an issue - Republic-Times                                                                     \n",
       "2757  More concern with WHS bathroom policy                                                                             \n",
       "2758  More from Waterloo School Board - Republic-Times                                                                  \n",
       "2759  More potty talk for Waterloo School Board                                                                         \n",
       "2760  New mayor in Waterloo | Republic-Times                                                                            \n",
       "2761  New privacy policy at WHS – Republic-Times                                                                        \n",
       "2762  Fallout from protest at WHS | Republic-Times                                                                      \n",
       "2763  Saving the children | Ott Observations – Republic-Times                                                           \n",
       "2764  School board responds to WHS bathroom concerns                                                                    \n",
       "2765  School gender issue settles slightly                                                                              \n",
       "2766  Waterloo School District again responds to gender policy concerns                                                 \n",
       "2767  Waterloo School Board OKs projects                                                                                \n",
       "2768  Widerstand allen Menschenfeind*innen - zur ausbleibenden Haltung gegenüber TERFs in Frankfurts radikaler Linken   \n",
       "2769  Le] Auswertung und Redebeiträge zu der Demonstration am 30.04                                                     \n",
       "2770  Marco Buschmann will trans Fremdbestimmung, bekommt fremdbestimmte Renovierung                                    \n",
       "2771  Who do you help when you support the Tor Project?                                                                 \n",
       "\n",
       "                                                                                                url  \n",
       "2752  https://www.republictimes.net/fallout-from-whs-restroom-debate/                                \n",
       "2753  https://www.republictimes.net/gender-issue-divides-further/                                    \n",
       "2754  https://www.republictimes.net/gender-policy-closes-school-year/                                \n",
       "2755  https://www.republictimes.net/gender-policy-debate-persists/                                   \n",
       "2756  https://www.republictimes.net/gender-policy-still-an-issue/                                    \n",
       "2757  https://www.republictimes.net/more-concern-with-whs-bathroom-policy/                           \n",
       "2758  https://www.republictimes.net/more-from-waterloo-school-board/                                 \n",
       "2759  https://www.republictimes.net/more-potty-talk-for-the-school-board/                            \n",
       "2760  https://www.republictimes.net/new-mayor-in-waterloo/                                           \n",
       "2761  https://www.republictimes.net/new-privacy-policy-at-whs/                                       \n",
       "2762  https://www.republictimes.net/protest-at-whs-results-in-letter-to-parents/                     \n",
       "2763  https://www.republictimes.net/saving-the-children-ott-observations/                            \n",
       "2764  https://www.republictimes.net/school-board-responds-to-whs-bathroom-concerns/                  \n",
       "2765  https://www.republictimes.net/school-gender-issue-settles/                                     \n",
       "2766  https://www.republictimes.net/waterloo-school-board-again-responds-to-gender-policy-concerns/  \n",
       "2767  https://www.republictimes.net/waterloo-school-board-oks-projects/                              \n",
       "2768  https://de.indymedia.org/node/260116                                                           \n",
       "2769  https://de.indymedia.org/node/279422                                                           \n",
       "2770  https://de.indymedia.org/node/279831                                                           \n",
       "2771  https://de.indymedia.org/node/315265                                                           "
      ]
     },
     "execution_count": 6,
     "metadata": {},
     "output_type": "execute_result"
    }
   ],
   "source": [
    "illinois_news[['language', 'media_name', 'media_url', 'publish_date', 'title', 'url']].tail(20)"
   ]
  },
  {
   "cell_type": "code",
   "execution_count": 7,
   "id": "fd427ee2-87be-4b91-956d-0e3eedb9fb98",
   "metadata": {},
   "outputs": [
    {
     "name": "stdout",
     "output_type": "stream",
     "text": [
      "<class 'pandas.core.frame.DataFrame'>\n",
      "Int64Index: 2769 entries, 0 to 2771\n",
      "Data columns (total 4 columns):\n",
      " #   Column        Non-Null Count  Dtype \n",
      "---  ------        --------------  ----- \n",
      " 0   media_name    2769 non-null   object\n",
      " 1   publish_date  2769 non-null   object\n",
      " 2   title         2769 non-null   object\n",
      " 3   url           2769 non-null   object\n",
      "dtypes: object(4)\n",
      "memory usage: 108.2+ KB\n",
      "None\n"
     ]
    }
   ],
   "source": [
    "relevant_news = illinois_news[~illinois_news['media_name'].isin(['foxnews.com',\n",
    "                                                                 'nytimes.com'])]\n",
    "relevant_news = relevant_news[relevant_news['language']=='en']\n",
    "relevant_news = relevant_news[['media_name', 'publish_date', 'title', 'url']]\n",
    "print(relevant_news.info())"
   ]
  },
  {
   "cell_type": "code",
   "execution_count": 8,
   "id": "3e3cfb30-8f5c-4ae7-afe0-7282ce7ebc66",
   "metadata": {},
   "outputs": [
    {
     "name": "stdout",
     "output_type": "stream",
     "text": [
      "<class 'pandas.core.frame.DataFrame'>\n",
      "Int64Index: 2769 entries, 0 to 2771\n",
      "Data columns (total 4 columns):\n",
      " #   Column        Non-Null Count  Dtype         \n",
      "---  ------        --------------  -----         \n",
      " 0   media_name    2769 non-null   object        \n",
      " 1   publish_date  2769 non-null   datetime64[ns]\n",
      " 2   title         2769 non-null   object        \n",
      " 3   url           2769 non-null   object        \n",
      "dtypes: datetime64[ns](1), object(3)\n",
      "memory usage: 108.2+ KB\n",
      "None\n"
     ]
    }
   ],
   "source": [
    "relevant_news.publish_date = pd.to_datetime(relevant_news.publish_date)\n",
    "relevant_news = relevant_news[relevant_news['publish_date'].dt.date >= start_date]\n",
    "relevant_news = relevant_news[relevant_news['publish_date'].dt.date <= end_date]\n",
    "print(relevant_news.info())"
   ]
  },
  {
   "cell_type": "code",
   "execution_count": 9,
   "id": "4b1a5baf-c81b-460f-aa9d-219cde6d8eba",
   "metadata": {},
   "outputs": [],
   "source": [
    "def get_article_from_url(url):\n",
    "    try:\n",
    "        article = Article(url)\n",
    "        article.download()\n",
    "        article.parse()\n",
    "        subtitle = article.meta_description\n",
    "        if subtitle == '' or subtitle == ' ':\n",
    "            subtitle = None\n",
    "        text = article.text\n",
    "        if text == '' or text == ' ':\n",
    "            text = None\n",
    "    except:\n",
    "        subtitle = None\n",
    "        text = None\n",
    "    return subtitle, text"
   ]
  },
  {
   "cell_type": "code",
   "execution_count": 10,
   "id": "e8c5b8df-fb38-4844-8b7b-4ddb0f07e350",
   "metadata": {},
   "outputs": [
    {
     "name": "stderr",
     "output_type": "stream",
     "text": [
      "100%|██████████| 2769/2769 [39:24<00:00,  1.17it/s] "
     ]
    },
    {
     "name": "stdout",
     "output_type": "stream",
     "text": [
      "<class 'pandas.core.frame.DataFrame'>\n",
      "Int64Index: 2769 entries, 0 to 2771\n",
      "Data columns (total 6 columns):\n",
      " #   Column        Non-Null Count  Dtype         \n",
      "---  ------        --------------  -----         \n",
      " 0   media_name    2769 non-null   object        \n",
      " 1   publish_date  2769 non-null   datetime64[ns]\n",
      " 2   title         2769 non-null   object        \n",
      " 3   url           2769 non-null   object        \n",
      " 4   subtitle      1247 non-null   object        \n",
      " 5   text          1359 non-null   object        \n",
      "dtypes: datetime64[ns](1), object(5)\n",
      "memory usage: 151.4+ KB\n",
      "None\n"
     ]
    },
    {
     "name": "stderr",
     "output_type": "stream",
     "text": [
      "\n"
     ]
    }
   ],
   "source": [
    "subtitles, texts = [], []\n",
    "all_urls = list(relevant_news['url'])\n",
    "for url in tqdm(all_urls):\n",
    "    subtitle, text = get_article_from_url(url)\n",
    "    subtitles.append(subtitle)\n",
    "    texts.append(text)\n",
    "relevant_news['subtitle'] = subtitles\n",
    "relevant_news['text'] = texts\n",
    "print(relevant_news.info())"
   ]
  },
  {
   "cell_type": "code",
   "execution_count": 11,
   "id": "f365703e-e41e-40d4-a49d-59bf6db6256f",
   "metadata": {},
   "outputs": [],
   "source": [
    "relevant_news.to_csv('data/illinois_article_texts_and_info.csv',\n",
    "                     index=False)"
   ]
  },
  {
   "cell_type": "code",
   "execution_count": null,
   "id": "16c1ff9b-34cf-4442-99d5-b3c0c8340a2d",
   "metadata": {},
   "outputs": [],
   "source": []
  }
 ],
 "metadata": {
  "kernelspec": {
   "display_name": "Python 3",
   "language": "python",
   "name": "python3"
  },
  "language_info": {
   "codemirror_mode": {
    "name": "ipython",
    "version": 3
   },
   "file_extension": ".py",
   "mimetype": "text/x-python",
   "name": "python",
   "nbconvert_exporter": "python",
   "pygments_lexer": "ipython3",
   "version": "3.8.10"
  }
 },
 "nbformat": 4,
 "nbformat_minor": 5
}
