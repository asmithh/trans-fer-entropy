{
 "cells": [
  {
   "cell_type": "code",
   "execution_count": 1,
   "id": "91417e12-acf0-4e78-adb2-dfa3cc15f2d3",
   "metadata": {},
   "outputs": [
    {
     "name": "stderr",
     "output_type": "stream",
     "text": [
      "<ipython-input-1-cd00b3c2a068>:12: FutureWarning: Passing a negative integer is deprecated in version 1.0 and will not be supported in future version. Instead, use None to not limit the column width.\n",
      "  pd.set_option('display.max_colwidth', -1)\n"
     ]
    }
   ],
   "source": [
    "from datetime import datetime, timedelta\n",
    "import pickle\n",
    "import os\n",
    "import pandas as pd\n",
    "import numpy as np\n",
    "from tqdm import tqdm\n",
    "import re\n",
    "\n",
    "from tldextract import extract\n",
    "import langid\n",
    "\n",
    "pd.set_option('display.max_colwidth', -1)\n",
    "pd.set_option('display.max_rows', 50)\n",
    "\n",
    "from newspaper import Article\n",
    "import matplotlib.pyplot as plt"
   ]
  },
  {
   "cell_type": "markdown",
   "id": "7c658d7d-06a1-4831-bff8-c1fea762e1a9",
   "metadata": {},
   "source": [
    "NOTE: Mediacloud news for state-specific collection includes news ABOUT the particular state, and as such, might sometimes contain news from national outlets where the article itself might be focused on the state itself. Most (if not all) of the collection is going to be sourced from local state-specific outlets, but not always. Currently, we are keeping all URLs within the obtained collection for the state, except those from nytimes and foxnews since those are our chosen national outlets. Trusting mediacloud's collections to be truly state-focused even when urls come from national outlets. "
   ]
  },
  {
   "cell_type": "code",
   "execution_count": 2,
   "id": "52b41e64-fc9c-4738-a5bd-54e0a4f2f0f6",
   "metadata": {},
   "outputs": [],
   "source": [
    "start_date = datetime.strptime('2023-01-01', '%Y-%m-%d').date()\n",
    "end_date = datetime.strptime('2023-12-31', '%Y-%m-%d').date()"
   ]
  },
  {
   "cell_type": "code",
   "execution_count": 3,
   "id": "49399f6d-bfb8-470d-af2f-88d273d4e522",
   "metadata": {},
   "outputs": [
    {
     "name": "stdout",
     "output_type": "stream",
     "text": [
      "<class 'pandas.core.frame.DataFrame'>\n",
      "RangeIndex: 17155 entries, 0 to 17154\n",
      "Data columns (total 9 columns):\n",
      " #   Column        Non-Null Count  Dtype \n",
      "---  ------        --------------  ----- \n",
      " 0   archived_url  17155 non-null  object\n",
      " 1   article_url   17155 non-null  object\n",
      " 2   id            17155 non-null  int64 \n",
      " 3   language      17155 non-null  object\n",
      " 4   media_name    17155 non-null  object\n",
      " 5   media_url     17155 non-null  object\n",
      " 6   publish_date  17155 non-null  object\n",
      " 7   title         17155 non-null  object\n",
      " 8   url           17155 non-null  object\n",
      "dtypes: int64(1), object(8)\n",
      "memory usage: 1.2+ MB\n",
      "None\n"
     ]
    }
   ],
   "source": [
    "cali_news = pd.read_csv('data/mediacloud_california.csv')\n",
    "print(cali_news.info())"
   ]
  },
  {
   "cell_type": "code",
   "execution_count": 4,
   "id": "eee8d20d-48f1-4502-b82a-74211521d8c1",
   "metadata": {},
   "outputs": [
    {
     "name": "stderr",
     "output_type": "stream",
     "text": [
      "100%|██████████| 17155/17155 [00:00<00:00, 903141.52it/s]\n"
     ]
    }
   ],
   "source": [
    "#analyze the distribution across months of publication -- are there gaps in the collection?\n",
    "all_dates = list(cali_news['publish_date'])\n",
    "month_to_vol = {}\n",
    "for i in range(1, 13):\n",
    "    month_to_vol[i] = 0\n",
    "for d in tqdm(all_dates):\n",
    "    m = int(d.split('-')[1])\n",
    "    month_to_vol[m] += 1"
   ]
  },
  {
   "cell_type": "code",
   "execution_count": 5,
   "id": "968dec10-fdb1-42ab-82b6-a2bf04f5290e",
   "metadata": {},
   "outputs": [
    {
     "data": {
      "text/plain": [
       "[<matplotlib.lines.Line2D at 0x7fa08b04bfd0>]"
      ]
     },
     "execution_count": 5,
     "metadata": {},
     "output_type": "execute_result"
    },
    {
     "data": {
      "image/png": "[encoded data removed]",
      "text/plain": [
       "<Figure size 432x288 with 1 Axes>"
      ]
     },
     "metadata": {
      "needs_background": "light"
     },
     "output_type": "display_data"
    }
   ],
   "source": [
    "plt.plot(list(month_to_vol.keys()), list(month_to_vol.values()))"
   ]
  },
  {
   "cell_type": "code",
   "execution_count": 6,
   "id": "60bd4833-c3cc-4cbf-ad7d-fc1f5249e3d6",
   "metadata": {
    "scrolled": true
   },
   "outputs": [
    {
     "data": {
      "text/html": [
       "<div>\n",
       "<style scoped>\n",
       "    .dataframe tbody tr th:only-of-type {\n",
       "        vertical-align: middle;\n",
       "    }\n",
       "\n",
       "    .dataframe tbody tr th {\n",
       "        vertical-align: top;\n",
       "    }\n",
       "\n",
       "    .dataframe thead th {\n",
       "        text-align: right;\n",
       "    }\n",
       "</style>\n",
       "<table border=\"1\" class=\"dataframe\">\n",
       "  <thead>\n",
       "    <tr style=\"text-align: right;\">\n",
       "      <th></th>\n",
       "      <th>language</th>\n",
       "      <th>media_name</th>\n",
       "      <th>media_url</th>\n",
       "      <th>publish_date</th>\n",
       "      <th>title</th>\n",
       "      <th>url</th>\n",
       "    </tr>\n",
       "  </thead>\n",
       "  <tbody>\n",
       "    <tr>\n",
       "      <th>17135</th>\n",
       "      <td>en</td>\n",
       "      <td>voiceofoc.org</td>\n",
       "      <td>http://voiceofoc.org</td>\n",
       "      <td>2023-03-10 00:00:00</td>\n",
       "      <td>Edwards and Palumbo: The Pride Flag Should Fly in the Name of True Community</td>\n",
       "      <td>https://voiceofoc.org/2023/03/edwards-and-palumbo-the-pride-flag-should-fly-in-the-name-of-true-community/</td>\n",
       "    </tr>\n",
       "    <tr>\n",
       "      <th>17136</th>\n",
       "      <td>en</td>\n",
       "      <td>voiceofoc.org</td>\n",
       "      <td>http://voiceofoc.org</td>\n",
       "      <td>2023-03-08 00:00:00</td>\n",
       "      <td>Now Covered Under OC’s Health Plan for the Poor: Affordable Housing Construction</td>\n",
       "      <td>https://voiceofoc.org/2023/03/now-covered-under-ocs-health-plan-for-the-poor-affordable-housing-construction/</td>\n",
       "    </tr>\n",
       "    <tr>\n",
       "      <th>17137</th>\n",
       "      <td>en</td>\n",
       "      <td>voiceofoc.org</td>\n",
       "      <td>http://voiceofoc.org</td>\n",
       "      <td>2023-06-06 00:00:00</td>\n",
       "      <td>OC Supervisors Ban Pride Flag at County Properties Under New Policy</td>\n",
       "      <td>https://voiceofoc.org/2023/06/oc-supervisors-ban-pride-flag-at-county-properties-under-new-policy/</td>\n",
       "    </tr>\n",
       "    <tr>\n",
       "      <th>17138</th>\n",
       "      <td>en</td>\n",
       "      <td>voiceofoc.org</td>\n",
       "      <td>http://voiceofoc.org</td>\n",
       "      <td>2023-06-30 00:00:00</td>\n",
       "      <td>Wade and Gonzales: Stop Orange County's Attack on Pride, a Demand Letter from OC's LGBTQ+ Community</td>\n",
       "      <td>https://voiceofoc.org/2023/06/wade-and-gonzales-stop-orange-countys-attack-on-pride-a-demand-letter-from-ocs-lgbtq-community/</td>\n",
       "    </tr>\n",
       "    <tr>\n",
       "      <th>17139</th>\n",
       "      <td>en</td>\n",
       "      <td>voiceofoc.org</td>\n",
       "      <td>http://voiceofoc.org</td>\n",
       "      <td>2023-06-06 00:00:00</td>\n",
       "      <td>Will OC Supervisors Keep the Pride Flag From Flying Outside County Offices?</td>\n",
       "      <td>https://voiceofoc.org/2023/06/will-oc-supervisors-keep-the-pride-flag-from-flying-outside-county-offices/</td>\n",
       "    </tr>\n",
       "    <tr>\n",
       "      <th>17140</th>\n",
       "      <td>en</td>\n",
       "      <td>voiceofoc.org</td>\n",
       "      <td>http://voiceofoc.org</td>\n",
       "      <td>2023-08-22 00:00:00</td>\n",
       "      <td>Orange Unified School District Considers Notifying Parents of Transgender Students</td>\n",
       "      <td>https://voiceofoc.org/2023/08/orange-unified-school-district-considers-notifying-parents-of-transgender-students/</td>\n",
       "    </tr>\n",
       "    <tr>\n",
       "      <th>17141</th>\n",
       "      <td>en</td>\n",
       "      <td>voiceofoc.org</td>\n",
       "      <td>http://voiceofoc.org</td>\n",
       "      <td>2023-09-08 00:00:00</td>\n",
       "      <td>An OC School District Adopts Transgender Notification; State AG Issues Legal Threat</td>\n",
       "      <td>https://voiceofoc.org/2023/09/an-oc-school-district-adopts-transgender-notification-state-ag-issues-legal-threat/</td>\n",
       "    </tr>\n",
       "    <tr>\n",
       "      <th>17142</th>\n",
       "      <td>en</td>\n",
       "      <td>voiceofoc.org</td>\n",
       "      <td>http://voiceofoc.org</td>\n",
       "      <td>2023-09-27 00:00:00</td>\n",
       "      <td>Min and Bernstein: Importance of LGBTQ+ Pride in OC</td>\n",
       "      <td>https://voiceofoc.org/2023/09/min-and-bernstein-importance-of-lgbtq-pride-in-oc/</td>\n",
       "    </tr>\n",
       "    <tr>\n",
       "      <th>17143</th>\n",
       "      <td>en</td>\n",
       "      <td>voiceofoc.org</td>\n",
       "      <td>http://voiceofoc.org</td>\n",
       "      <td>2023-09-21 00:00:00</td>\n",
       "      <td>New Report Shows Hate Crimes and Incidents Continue Increasing in Orange County¬†</td>\n",
       "      <td>https://voiceofoc.org/2023/09/new-report-shows-hate-crimes-and-incidents-continue-increasing-in-orange-county/</td>\n",
       "    </tr>\n",
       "    <tr>\n",
       "      <th>17144</th>\n",
       "      <td>en</td>\n",
       "      <td>voiceofoc.org</td>\n",
       "      <td>http://voiceofoc.org</td>\n",
       "      <td>2023-09-07 00:00:00</td>\n",
       "      <td>Will Orange Unified Approve a Transgender Outing Policy Despite State Legal Threats?</td>\n",
       "      <td>https://voiceofoc.org/2023/09/will-orange-unified-approve-a-transgender-outing-policy-despite-state-legal-threats/</td>\n",
       "    </tr>\n",
       "    <tr>\n",
       "      <th>17145</th>\n",
       "      <td>en</td>\n",
       "      <td>voiceofoc.org</td>\n",
       "      <td>http://voiceofoc.org</td>\n",
       "      <td>2023-10-11 00:00:00</td>\n",
       "      <td>An OC School District Adopts New Parent Alert Policy; Will it Impact LGBTQ+ Students?</td>\n",
       "      <td>https://voiceofoc.org/2023/10/an-oc-school-district-adopts-new-parent-alert-policy-will-it-impact-lgbtq-students/</td>\n",
       "    </tr>\n",
       "    <tr>\n",
       "      <th>17146</th>\n",
       "      <td>en</td>\n",
       "      <td>voiceofoc.org</td>\n",
       "      <td>http://voiceofoc.org</td>\n",
       "      <td>2023-10-20 00:00:00</td>\n",
       "      <td>Largest Orange County School District Rejects Parental Notification Policy</td>\n",
       "      <td>https://voiceofoc.org/2023/10/largest-orange-county-school-district-rejects-parental-notification-policy/</td>\n",
       "    </tr>\n",
       "    <tr>\n",
       "      <th>17147</th>\n",
       "      <td>en</td>\n",
       "      <td>voiceofoc.org</td>\n",
       "      <td>http://voiceofoc.org</td>\n",
       "      <td>2023-10-16 00:00:00</td>\n",
       "      <td>Two Orange Unified School Board Members May Face a Recall Election</td>\n",
       "      <td>https://voiceofoc.org/2023/10/two-orange-unified-school-board-members-now-face-a-recall-election/</td>\n",
       "    </tr>\n",
       "    <tr>\n",
       "      <th>17148</th>\n",
       "      <td>en</td>\n",
       "      <td>voiceofoc.org</td>\n",
       "      <td>http://voiceofoc.org</td>\n",
       "      <td>2023-10-03 00:00:00</td>\n",
       "      <td>What Does California‚Äôs New Anti-Book Ban Law Mean For Orange County?</td>\n",
       "      <td>https://voiceofoc.org/2023/10/what-does-californias-new-anti-book-ban-law-mean-for-orange-county/</td>\n",
       "    </tr>\n",
       "    <tr>\n",
       "      <th>17149</th>\n",
       "      <td>en</td>\n",
       "      <td>voiceofoc.org</td>\n",
       "      <td>http://voiceofoc.org</td>\n",
       "      <td>2023-11-20 00:00:00</td>\n",
       "      <td>Who’s Financing the Elected Officials Overseeing Your Local School?</td>\n",
       "      <td>https://voiceofoc.org/2023/11/whos-financing-the-elected-officials-overseeing-your-local-school/</td>\n",
       "    </tr>\n",
       "    <tr>\n",
       "      <th>17150</th>\n",
       "      <td>en</td>\n",
       "      <td>goodtimes.sc</td>\n",
       "      <td>http://goodtimes.sc</td>\n",
       "      <td>2023-11-08 00:00:00</td>\n",
       "      <td>A Quest for Justice</td>\n",
       "      <td>https://www.goodtimes.sc/a-quest-for-justice/?utm_source=rss&amp;utm_medium=rss&amp;utm_campaign=a-quest-for-justice</td>\n",
       "    </tr>\n",
       "    <tr>\n",
       "      <th>17151</th>\n",
       "      <td>en</td>\n",
       "      <td>goodtimes.sc</td>\n",
       "      <td>http://goodtimes.sc</td>\n",
       "      <td>2023-03-01 00:00:00</td>\n",
       "      <td>How Santa Cruz Cities are Approaching Outdated Language</td>\n",
       "      <td>https://www.goodtimes.sc/how-santa-cruz-cities-are-approaching-outdated-language/?utm_source=rss&amp;utm_medium=rss&amp;utm_campaign=how-santa-cruz-cities-are-approaching-outdated-language</td>\n",
       "    </tr>\n",
       "    <tr>\n",
       "      <th>17152</th>\n",
       "      <td>en</td>\n",
       "      <td>goodtimes.sc</td>\n",
       "      <td>http://goodtimes.sc</td>\n",
       "      <td>2023-06-01 00:00:00</td>\n",
       "      <td>More Than a March: Santa Cruz Pride Parade is the Start of the National Pride Season</td>\n",
       "      <td>https://www.goodtimes.sc/more-than-a-march-santa-cruz-pride-parade-is-the-start-of-the-national-pride-season/?utm_source=rss&amp;utm_medium=rss&amp;utm_campaign=more-than-a-march-santa-cruz-pride-parade-is-the-start-of-the-national-pride-season</td>\n",
       "    </tr>\n",
       "    <tr>\n",
       "      <th>17153</th>\n",
       "      <td>en</td>\n",
       "      <td>goodtimes.sc</td>\n",
       "      <td>http://goodtimes.sc</td>\n",
       "      <td>2023-01-04 00:00:00</td>\n",
       "      <td>Ringing In the New Year with a Slew of New Laws</td>\n",
       "      <td>https://www.goodtimes.sc/new-laws/?utm_source=rss&amp;utm_medium=rss&amp;utm_campaign=new-laws</td>\n",
       "    </tr>\n",
       "    <tr>\n",
       "      <th>17154</th>\n",
       "      <td>en</td>\n",
       "      <td>goodtimes.sc</td>\n",
       "      <td>http://goodtimes.sc</td>\n",
       "      <td>2023-04-11 00:00:00</td>\n",
       "      <td>New Legislation Would Provide Nonbinary Bathrooms in California Schools</td>\n",
       "      <td>https://www.goodtimes.sc/nonbinary-bathrooms-california-schools/?utm_source=rss&amp;utm_medium=rss&amp;utm_campaign=nonbinary-bathrooms-california-schools</td>\n",
       "    </tr>\n",
       "  </tbody>\n",
       "</table>\n",
       "</div>"
      ],
      "text/plain": [
       "      language     media_name             media_url         publish_date  \\\n",
       "17135  en       voiceofoc.org  http://voiceofoc.org  2023-03-10 00:00:00   \n",
       "17136  en       voiceofoc.org  http://voiceofoc.org  2023-03-08 00:00:00   \n",
       "17137  en       voiceofoc.org  http://voiceofoc.org  2023-06-06 00:00:00   \n",
       "17138  en       voiceofoc.org  http://voiceofoc.org  2023-06-30 00:00:00   \n",
       "17139  en       voiceofoc.org  http://voiceofoc.org  2023-06-06 00:00:00   \n",
       "17140  en       voiceofoc.org  http://voiceofoc.org  2023-08-22 00:00:00   \n",
       "17141  en       voiceofoc.org  http://voiceofoc.org  2023-09-08 00:00:00   \n",
       "17142  en       voiceofoc.org  http://voiceofoc.org  2023-09-27 00:00:00   \n",
       "17143  en       voiceofoc.org  http://voiceofoc.org  2023-09-21 00:00:00   \n",
       "17144  en       voiceofoc.org  http://voiceofoc.org  2023-09-07 00:00:00   \n",
       "17145  en       voiceofoc.org  http://voiceofoc.org  2023-10-11 00:00:00   \n",
       "17146  en       voiceofoc.org  http://voiceofoc.org  2023-10-20 00:00:00   \n",
       "17147  en       voiceofoc.org  http://voiceofoc.org  2023-10-16 00:00:00   \n",
       "17148  en       voiceofoc.org  http://voiceofoc.org  2023-10-03 00:00:00   \n",
       "17149  en       voiceofoc.org  http://voiceofoc.org  2023-11-20 00:00:00   \n",
       "17150  en       goodtimes.sc   http://goodtimes.sc   2023-11-08 00:00:00   \n",
       "17151  en       goodtimes.sc   http://goodtimes.sc   2023-03-01 00:00:00   \n",
       "17152  en       goodtimes.sc   http://goodtimes.sc   2023-06-01 00:00:00   \n",
       "17153  en       goodtimes.sc   http://goodtimes.sc   2023-01-04 00:00:00   \n",
       "17154  en       goodtimes.sc   http://goodtimes.sc   2023-04-11 00:00:00   \n",
       "\n",
       "                                                                                                     title  \\\n",
       "17135  Edwards and Palumbo: The Pride Flag Should Fly in the Name of True Community                          \n",
       "17136  Now Covered Under OC’s Health Plan for the Poor: Affordable Housing Construction                      \n",
       "17137  OC Supervisors Ban Pride Flag at County Properties Under New Policy                                   \n",
       "17138  Wade and Gonzales: Stop Orange County's Attack on Pride, a Demand Letter from OC's LGBTQ+ Community   \n",
       "17139  Will OC Supervisors Keep the Pride Flag From Flying Outside County Offices?                           \n",
       "17140  Orange Unified School District Considers Notifying Parents of Transgender Students                    \n",
       "17141  An OC School District Adopts Transgender Notification; State AG Issues Legal Threat                   \n",
       "17142  Min and Bernstein: Importance of LGBTQ+ Pride in OC                                                   \n",
       "17143  New Report Shows Hate Crimes and Incidents Continue Increasing in Orange County¬†                     \n",
       "17144  Will Orange Unified Approve a Transgender Outing Policy Despite State Legal Threats?                  \n",
       "17145  An OC School District Adopts New Parent Alert Policy; Will it Impact LGBTQ+ Students?                 \n",
       "17146  Largest Orange County School District Rejects Parental Notification Policy                            \n",
       "17147  Two Orange Unified School Board Members May Face a Recall Election                                    \n",
       "17148  What Does California‚Äôs New Anti-Book Ban Law Mean For Orange County?                                \n",
       "17149  Who’s Financing the Elected Officials Overseeing Your Local School?                                   \n",
       "17150  A Quest for Justice                                                                                   \n",
       "17151  How Santa Cruz Cities are Approaching Outdated Language                                               \n",
       "17152  More Than a March: Santa Cruz Pride Parade is the Start of the National Pride Season                  \n",
       "17153  Ringing In the New Year with a Slew of New Laws                                                       \n",
       "17154  New Legislation Would Provide Nonbinary Bathrooms in California Schools                               \n",
       "\n",
       "                                                                                                                                                                                                                                                url  \n",
       "17135  https://voiceofoc.org/2023/03/edwards-and-palumbo-the-pride-flag-should-fly-in-the-name-of-true-community/                                                                                                                                    \n",
       "17136  https://voiceofoc.org/2023/03/now-covered-under-ocs-health-plan-for-the-poor-affordable-housing-construction/                                                                                                                                 \n",
       "17137  https://voiceofoc.org/2023/06/oc-supervisors-ban-pride-flag-at-county-properties-under-new-policy/                                                                                                                                            \n",
       "17138  https://voiceofoc.org/2023/06/wade-and-gonzales-stop-orange-countys-attack-on-pride-a-demand-letter-from-ocs-lgbtq-community/                                                                                                                 \n",
       "17139  https://voiceofoc.org/2023/06/will-oc-supervisors-keep-the-pride-flag-from-flying-outside-county-offices/                                                                                                                                     \n",
       "17140  https://voiceofoc.org/2023/08/orange-unified-school-district-considers-notifying-parents-of-transgender-students/                                                                                                                             \n",
       "17141  https://voiceofoc.org/2023/09/an-oc-school-district-adopts-transgender-notification-state-ag-issues-legal-threat/                                                                                                                             \n",
       "17142  https://voiceofoc.org/2023/09/min-and-bernstein-importance-of-lgbtq-pride-in-oc/                                                                                                                                                              \n",
       "17143  https://voiceofoc.org/2023/09/new-report-shows-hate-crimes-and-incidents-continue-increasing-in-orange-county/                                                                                                                                \n",
       "17144  https://voiceofoc.org/2023/09/will-orange-unified-approve-a-transgender-outing-policy-despite-state-legal-threats/                                                                                                                            \n",
       "17145  https://voiceofoc.org/2023/10/an-oc-school-district-adopts-new-parent-alert-policy-will-it-impact-lgbtq-students/                                                                                                                             \n",
       "17146  https://voiceofoc.org/2023/10/largest-orange-county-school-district-rejects-parental-notification-policy/                                                                                                                                     \n",
       "17147  https://voiceofoc.org/2023/10/two-orange-unified-school-board-members-now-face-a-recall-election/                                                                                                                                             \n",
       "17148  https://voiceofoc.org/2023/10/what-does-californias-new-anti-book-ban-law-mean-for-orange-county/                                                                                                                                             \n",
       "17149  https://voiceofoc.org/2023/11/whos-financing-the-elected-officials-overseeing-your-local-school/                                                                                                                                              \n",
       "17150  https://www.goodtimes.sc/a-quest-for-justice/?utm_source=rss&utm_medium=rss&utm_campaign=a-quest-for-justice                                                                                                                                  \n",
       "17151  https://www.goodtimes.sc/how-santa-cruz-cities-are-approaching-outdated-language/?utm_source=rss&utm_medium=rss&utm_campaign=how-santa-cruz-cities-are-approaching-outdated-language                                                          \n",
       "17152  https://www.goodtimes.sc/more-than-a-march-santa-cruz-pride-parade-is-the-start-of-the-national-pride-season/?utm_source=rss&utm_medium=rss&utm_campaign=more-than-a-march-santa-cruz-pride-parade-is-the-start-of-the-national-pride-season  \n",
       "17153  https://www.goodtimes.sc/new-laws/?utm_source=rss&utm_medium=rss&utm_campaign=new-laws                                                                                                                                                        \n",
       "17154  https://www.goodtimes.sc/nonbinary-bathrooms-california-schools/?utm_source=rss&utm_medium=rss&utm_campaign=nonbinary-bathrooms-california-schools                                                                                            "
      ]
     },
     "execution_count": 6,
     "metadata": {},
     "output_type": "execute_result"
    }
   ],
   "source": [
    "cali_news[['language', 'media_name', 'media_url', 'publish_date', 'title', 'url']].tail(20)"
   ]
  },
  {
   "cell_type": "code",
   "execution_count": 7,
   "id": "fd427ee2-87be-4b91-956d-0e3eedb9fb98",
   "metadata": {},
   "outputs": [
    {
     "name": "stdout",
     "output_type": "stream",
     "text": [
      "<class 'pandas.core.frame.DataFrame'>\n",
      "Int64Index: 15969 entries, 0 to 17154\n",
      "Data columns (total 4 columns):\n",
      " #   Column        Non-Null Count  Dtype \n",
      "---  ------        --------------  ----- \n",
      " 0   media_name    15969 non-null  object\n",
      " 1   publish_date  15969 non-null  object\n",
      " 2   title         15969 non-null  object\n",
      " 3   url           15969 non-null  object\n",
      "dtypes: object(4)\n",
      "memory usage: 623.8+ KB\n",
      "None\n"
     ]
    }
   ],
   "source": [
    "relevant_news = cali_news[~cali_news['media_name'].isin(['foxnews.com',\n",
    "                                                         'nytimes.com'])]\n",
    "relevant_news = relevant_news[relevant_news['language']=='en']\n",
    "relevant_news = relevant_news[['media_name', 'publish_date', 'title', 'url']]\n",
    "print(relevant_news.info())"
   ]
  },
  {
   "cell_type": "code",
   "execution_count": 8,
   "id": "3e3cfb30-8f5c-4ae7-afe0-7282ce7ebc66",
   "metadata": {},
   "outputs": [
    {
     "name": "stdout",
     "output_type": "stream",
     "text": [
      "<class 'pandas.core.frame.DataFrame'>\n",
      "Int64Index: 15969 entries, 0 to 17154\n",
      "Data columns (total 4 columns):\n",
      " #   Column        Non-Null Count  Dtype         \n",
      "---  ------        --------------  -----         \n",
      " 0   media_name    15969 non-null  object        \n",
      " 1   publish_date  15969 non-null  datetime64[ns]\n",
      " 2   title         15969 non-null  object        \n",
      " 3   url           15969 non-null  object        \n",
      "dtypes: datetime64[ns](1), object(3)\n",
      "memory usage: 623.8+ KB\n",
      "None\n"
     ]
    }
   ],
   "source": [
    "relevant_news.publish_date = pd.to_datetime(relevant_news.publish_date)\n",
    "relevant_news = relevant_news[relevant_news['publish_date'].dt.date >= start_date]\n",
    "relevant_news = relevant_news[relevant_news['publish_date'].dt.date <= end_date]\n",
    "print(relevant_news.info())"
   ]
  },
  {
   "cell_type": "code",
   "execution_count": 9,
   "id": "4b1a5baf-c81b-460f-aa9d-219cde6d8eba",
   "metadata": {},
   "outputs": [],
   "source": [
    "def get_article_from_url(url):\n",
    "    try:\n",
    "        article = Article(url)\n",
    "        article.download()\n",
    "        article.parse()\n",
    "        subtitle = article.meta_description\n",
    "        if subtitle == '' or subtitle == ' ':\n",
    "            subtitle = None\n",
    "        text = article.text\n",
    "        if text == '' or text == ' ':\n",
    "            text = None\n",
    "    except:\n",
    "        subtitle = None\n",
    "        text = None\n",
    "    return subtitle, text"
   ]
  },
  {
   "cell_type": "code",
   "execution_count": 10,
   "id": "e8c5b8df-fb38-4844-8b7b-4ddb0f07e350",
   "metadata": {},
   "outputs": [
    {
     "name": "stderr",
     "output_type": "stream",
     "text": [
      "100%|██████████| 15969/15969 [3:38:34<00:00,  1.22it/s]  "
     ]
    },
    {
     "name": "stdout",
     "output_type": "stream",
     "text": [
      "<class 'pandas.core.frame.DataFrame'>\n",
      "Int64Index: 15969 entries, 0 to 17154\n",
      "Data columns (total 6 columns):\n",
      " #   Column        Non-Null Count  Dtype         \n",
      "---  ------        --------------  -----         \n",
      " 0   media_name    15969 non-null  object        \n",
      " 1   publish_date  15969 non-null  datetime64[ns]\n",
      " 2   title         15969 non-null  object        \n",
      " 3   url           15969 non-null  object        \n",
      " 4   subtitle      10067 non-null  object        \n",
      " 5   text          14450 non-null  object        \n",
      "dtypes: datetime64[ns](1), object(5)\n",
      "memory usage: 873.3+ KB\n",
      "None\n"
     ]
    },
    {
     "name": "stderr",
     "output_type": "stream",
     "text": [
      "\n"
     ]
    }
   ],
   "source": [
    "subtitles, texts = [], []\n",
    "all_urls = list(relevant_news['url'])\n",
    "for url in tqdm(all_urls):\n",
    "    subtitle, text = get_article_from_url(url)\n",
    "    subtitles.append(subtitle)\n",
    "    texts.append(text)\n",
    "relevant_news['subtitle'] = subtitles\n",
    "relevant_news['text'] = texts\n",
    "print(relevant_news.info())"
   ]
  },
  {
   "cell_type": "code",
   "execution_count": 11,
   "id": "f365703e-e41e-40d4-a49d-59bf6db6256f",
   "metadata": {},
   "outputs": [],
   "source": [
    "relevant_news.to_csv('data/california_article_texts_and_info.csv',\n",
    "                     index=False)"
   ]
  },
  {
   "cell_type": "code",
   "execution_count": null,
   "id": "b73aa75f-cd27-4017-9643-1d1fc24d959d",
   "metadata": {},
   "outputs": [],
   "source": []
  }
 ],
 "metadata": {
  "kernelspec": {
   "display_name": "Python 3",
   "language": "python",
   "name": "python3"
  },
  "language_info": {
   "codemirror_mode": {
    "name": "ipython",
    "version": 3
   },
   "file_extension": ".py",
   "mimetype": "text/x-python",
   "name": "python",
   "nbconvert_exporter": "python",
   "pygments_lexer": "ipython3",
   "version": "3.8.10"
  }
 },
 "nbformat": 4,
 "nbformat_minor": 5
}
