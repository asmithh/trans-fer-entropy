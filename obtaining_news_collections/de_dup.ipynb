{
 "cells": [
  {
   "cell_type": "code",
   "execution_count": 4,
   "metadata": {},
   "outputs": [],
   "source": [
    "import glob\n",
    "import pandas as pd\n",
    "import nltk\n",
    "from nltk.tokenize import sent_tokenize"
   ]
  },
  {
   "cell_type": "code",
   "execution_count": 114,
   "metadata": {},
   "outputs": [],
   "source": [
    "# Need to download this if first time using nltk\n",
    "# nltk.download('punkt')"
   ]
  },
  {
   "cell_type": "code",
   "execution_count": 5,
   "metadata": {},
   "outputs": [],
   "source": [
    "DATA_PATH = '/home/pranavgoel/trans-fer-entropy/obtaining_news_collections/data/'"
   ]
  },
  {
   "cell_type": "code",
   "execution_count": 6,
   "metadata": {},
   "outputs": [
    {
     "data": {
      "text/plain": [
       "['/home/pranavgoel/trans-fer-entropy/obtaining_news_collections/data/nytimes_foxnews_article_texts_and_info.csv',\n",
       " '/home/pranavgoel/trans-fer-entropy/obtaining_news_collections/data/california_article_texts_and_info.csv',\n",
       " '/home/pranavgoel/trans-fer-entropy/obtaining_news_collections/data/texas_article_texts_and_info.csv',\n",
       " '/home/pranavgoel/trans-fer-entropy/obtaining_news_collections/data/illinois_article_texts_and_info.csv',\n",
       " '/home/pranavgoel/trans-fer-entropy/obtaining_news_collections/data/ohio_article_texts_and_info.csv',\n",
       " '/home/pranavgoel/trans-fer-entropy/obtaining_news_collections/data/florida_article_texts_and_info.csv',\n",
       " '/home/pranavgoel/trans-fer-entropy/obtaining_news_collections/data/newyork_article_texts_and_info.csv']"
      ]
     },
     "execution_count": 6,
     "metadata": {},
     "output_type": "execute_result"
    }
   ],
   "source": [
    "all_csv_paths=glob.glob(DATA_PATH+'*texts_and_info*')\n",
    "all_csv_paths"
   ]
  },
  {
   "cell_type": "code",
   "execution_count": 7,
   "metadata": {},
   "outputs": [],
   "source": [
    "def load_and_convert(path):\n",
    "    '''load one dataset from the path, drop the na, and convert date to timestamp'''\n",
    "    df= pd.read_csv(path)\n",
    "    # drop na of text field, right?\n",
    "    df=df[df['text'].notna()]\n",
    "    # convert to datetime so i can idmax\n",
    "    return df.assign(publish_date=pd.to_datetime(df['publish_date']))"
   ]
  },
  {
   "cell_type": "code",
   "execution_count": 8,
   "metadata": {},
   "outputs": [],
   "source": [
    "def drop_duplicates(df, columns=['url','title','text'], keep_col='publish_date', ignore_case=True):\n",
    "    '''Check if either of the column in the input columns contains duplicates.\n",
    "    If so, keep the row with the max value of the keep_col parameter. In our case, the latest timestamp.\n",
    "    Because we are doing either, not all, I will need to run group by each column at a time untill exhaustion.\n",
    "    '''\n",
    "\n",
    "    if not ignore_case:\n",
    "        for col in columns:\n",
    "            df=df.loc[df.groupby(col)[keep_col].idxmax()]\n",
    "    else:\n",
    "        for col in columns:\n",
    "            df=df.loc[df.groupby(df[col].str.lower())[keep_col].idxmax()]\n",
    " \n",
    "    return df.sort_index()"
   ]
  },
  {
   "cell_type": "code",
   "execution_count": 119,
   "metadata": {},
   "outputs": [],
   "source": [
    "# def get_sent_count(text):\n",
    "#     '''return the sentence count of a text'''\n",
    "\n",
    "#     return len(sent_tokenize(text))"
   ]
  },
  {
   "cell_type": "code",
   "execution_count": 10,
   "metadata": {},
   "outputs": [
    {
     "name": "stdout",
     "output_type": "stream",
     "text": [
      " loading /home/pranavgoel/trans-fer-entropy/obtaining_news_collections/data/nytimes_foxnews_article_texts_and_info.csv with 3479 rows\n",
      "de-duped! remaining rows 3213\n",
      "count    3213.000000\n",
      "mean       25.718332\n",
      "std        38.975845\n",
      "min         1.000000\n",
      "25%        12.000000\n",
      "50%        20.000000\n",
      "75%        29.000000\n",
      "max       787.000000\n",
      "Name: sent_count, dtype: float64\n",
      "Final row counts: 3066\n",
      "saving new file to /home/pranavgoel/trans-fer-entropy/obtaining_news_collections/data/nytimes_foxnews_article_texts_and_info_dedup.csv\n",
      "--------\n",
      " loading /home/pranavgoel/trans-fer-entropy/obtaining_news_collections/data/california_article_texts_and_info.csv with 14450 rows\n",
      "de-duped! remaining rows 8476\n",
      "count    8476.000000\n",
      "mean       45.690066\n",
      "std        55.563920\n",
      "min         1.000000\n",
      "25%        19.000000\n",
      "50%        33.000000\n",
      "75%        54.000000\n",
      "max       834.000000\n",
      "Name: sent_count, dtype: float64\n",
      "Final row counts: 8059\n",
      "saving new file to /home/pranavgoel/trans-fer-entropy/obtaining_news_collections/data/california_article_texts_and_info_dedup.csv\n",
      "--------\n",
      " loading /home/pranavgoel/trans-fer-entropy/obtaining_news_collections/data/texas_article_texts_and_info.csv with 3680 rows\n",
      "de-duped! remaining rows 3077\n",
      "count    3077.000000\n",
      "mean       31.955151\n",
      "std        40.200812\n",
      "min         1.000000\n",
      "25%        15.000000\n",
      "50%        22.000000\n",
      "75%        36.000000\n",
      "max       734.000000\n",
      "Name: sent_count, dtype: float64\n",
      "Final row counts: 3043\n",
      "saving new file to /home/pranavgoel/trans-fer-entropy/obtaining_news_collections/data/texas_article_texts_and_info_dedup.csv\n",
      "--------\n",
      " loading /home/pranavgoel/trans-fer-entropy/obtaining_news_collections/data/illinois_article_texts_and_info.csv with 1359 rows\n",
      "de-duped! remaining rows 1101\n",
      "count    1101.000000\n",
      "mean       37.651226\n",
      "std        42.210814\n",
      "min         1.000000\n",
      "25%        20.000000\n",
      "50%        31.000000\n",
      "75%        45.000000\n",
      "max       699.000000\n",
      "Name: sent_count, dtype: float64\n",
      "Final row counts: 1083\n",
      "saving new file to /home/pranavgoel/trans-fer-entropy/obtaining_news_collections/data/illinois_article_texts_and_info_dedup.csv\n",
      "--------\n",
      " loading /home/pranavgoel/trans-fer-entropy/obtaining_news_collections/data/ohio_article_texts_and_info.csv with 1216 rows\n",
      "de-duped! remaining rows 993\n",
      "count    993.000000\n",
      "mean      37.484391\n",
      "std       46.459530\n",
      "min        1.000000\n",
      "25%       18.000000\n",
      "50%       30.000000\n",
      "75%       43.000000\n",
      "max      703.000000\n",
      "Name: sent_count, dtype: float64\n",
      "Final row counts: 975\n",
      "saving new file to /home/pranavgoel/trans-fer-entropy/obtaining_news_collections/data/ohio_article_texts_and_info_dedup.csv\n",
      "--------\n",
      " loading /home/pranavgoel/trans-fer-entropy/obtaining_news_collections/data/florida_article_texts_and_info.csv with 3563 rows\n",
      "de-duped! remaining rows 2559\n",
      "count    2559.000000\n",
      "mean       32.509965\n",
      "std        36.794208\n",
      "min         1.000000\n",
      "25%        16.000000\n",
      "50%        27.000000\n",
      "75%        40.000000\n",
      "max       698.000000\n",
      "Name: sent_count, dtype: float64\n",
      "Final row counts: 2454\n",
      "saving new file to /home/pranavgoel/trans-fer-entropy/obtaining_news_collections/data/florida_article_texts_and_info_dedup.csv\n",
      "--------\n",
      " loading /home/pranavgoel/trans-fer-entropy/obtaining_news_collections/data/newyork_article_texts_and_info.csv with 4726 rows\n",
      "de-duped! remaining rows 4137\n",
      "count    4137.000000\n",
      "mean       36.634518\n",
      "std        42.847457\n",
      "min         1.000000\n",
      "25%        20.000000\n",
      "50%        29.000000\n",
      "75%        41.000000\n",
      "max       702.000000\n",
      "Name: sent_count, dtype: float64\n",
      "Final row counts: 4018\n",
      "saving new file to /home/pranavgoel/trans-fer-entropy/obtaining_news_collections/data/newyork_article_texts_and_info_dedup.csv\n",
      "--------\n"
     ]
    }
   ],
   "source": [
    "for file_pat in all_csv_paths:\n",
    "    temp_df= load_and_convert(file_pat)\n",
    "    print(f\" loading {file_pat} with {len(temp_df)} rows\")\n",
    "    temp_df_dedup=drop_duplicates(temp_df, ignore_case=True)\n",
    "    print(f\"de-duped! remaining rows {len(temp_df_dedup)}\")\n",
    "\n",
    "    temp_df_dedup['sent_count']=temp_df_dedup['text'].map(lambda text: len(sent_tokenize(text)))\n",
    "    print(temp_df_dedup['sent_count'].describe())\n",
    "    temp_df_dedup_drop_short_text=temp_df_dedup[temp_df_dedup['sent_count']>5]\n",
    "\n",
    "    print(f\"Final row counts: {len(temp_df_dedup_drop_short_text)}\")\n",
    "\n",
    "    new_path=file_pat.split('.csv')[0]+'_dedup.csv'\n",
    "    # new_path=f\"/home/crazybrokeasian/projects/{file_pat.split('/')[-1].split('.csv')[0]}_dedup.csv\"\n",
    "    print(f'saving new file to {new_path}')\n",
    "    \n",
    "    temp_df_dedup_drop_short_text.to_csv(new_path, index=False)\n",
    "\n",
    "    print('--------')\n"
   ]
  },
  {
   "cell_type": "code",
   "execution_count": null,
   "metadata": {},
   "outputs": [],
   "source": []
  },
  {
   "cell_type": "code",
   "execution_count": null,
   "metadata": {},
   "outputs": [],
   "source": []
  },
  {
   "cell_type": "code",
   "execution_count": null,
   "metadata": {},
   "outputs": [],
   "source": []
  }
 ],
 "metadata": {
  "kernelspec": {
   "display_name": "Python 3",
   "language": "python",
   "name": "python3"
  },
  "language_info": {
   "codemirror_mode": {
    "name": "ipython",
    "version": 3
   },
   "file_extension": ".py",
   "mimetype": "text/x-python",
   "name": "python",
   "nbconvert_exporter": "python",
   "pygments_lexer": "ipython3",
   "version": "3.8.10"
  }
 },
 "nbformat": 4,
 "nbformat_minor": 4
}
