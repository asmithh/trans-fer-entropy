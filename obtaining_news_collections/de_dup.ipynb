{
 "cells": [
  {
   "cell_type": "code",
   "execution_count": 2,
   "metadata": {},
   "outputs": [],
   "source": [
    "import glob\n",
    "import pandas as pd\n",
    "import nltk\n",
    "from nltk.tokenize import sent_tokenize"
   ]
  },
  {
   "cell_type": "code",
   "execution_count": 114,
   "metadata": {},
   "outputs": [],
   "source": [
    "# Need to download this if first time using nltk\n",
    "# nltk.download('punkt')"
   ]
  },
  {
   "cell_type": "code",
   "execution_count": 4,
   "metadata": {},
   "outputs": [],
   "source": [
    "DATA_PATH = '/home/pranavgoel/trans-fer-entropy/obtaining_news_collections/data/'"
   ]
  },
  {
   "cell_type": "code",
   "execution_count": 5,
   "metadata": {},
   "outputs": [
    {
     "data": {
      "text/plain": [
       "['/home/pranavgoel/trans-fer-entropy/obtaining_news_collections/data/nytimes_foxnews_article_texts_and_info.csv',\n",
       " '/home/pranavgoel/trans-fer-entropy/obtaining_news_collections/data/california_article_texts_and_info.csv',\n",
       " '/home/pranavgoel/trans-fer-entropy/obtaining_news_collections/data/texas_article_texts_and_info.csv',\n",
       " '/home/pranavgoel/trans-fer-entropy/obtaining_news_collections/data/illinois_article_texts_and_info.csv',\n",
       " '/home/pranavgoel/trans-fer-entropy/obtaining_news_collections/data/ohio_article_texts_and_info.csv',\n",
       " '/home/pranavgoel/trans-fer-entropy/obtaining_news_collections/data/florida_article_texts_and_info.csv',\n",
       " '/home/pranavgoel/trans-fer-entropy/obtaining_news_collections/data/newyork_article_texts_and_info.csv']"
      ]
     },
     "execution_count": 5,
     "metadata": {},
     "output_type": "execute_result"
    }
   ],
   "source": [
    "all_csv_paths=glob.glob(DATA_PATH+'*texts_and_info*')\n",
    "all_csv_paths"
   ]
  },
  {
   "cell_type": "code",
   "execution_count": 6,
   "metadata": {},
   "outputs": [
    {
     "data": {
      "text/plain": [
       "'nytimes_foxnews_article_texts_and_info'"
      ]
     },
     "execution_count": 6,
     "metadata": {},
     "output_type": "execute_result"
    }
   ],
   "source": [
    "all_csv_paths[0].split('/')[-1].split('.csv')[0]"
   ]
  },
  {
   "cell_type": "code",
   "execution_count": 7,
   "metadata": {},
   "outputs": [],
   "source": [
    "def load_and_convert(path):\n",
    "    '''load one dataset from the path, drop the na, and convert date to timestamp'''\n",
    "    df= pd.read_csv(path)\n",
    "    # drop na of text field, right?\n",
    "    df=df[df['text'].notna()]\n",
    "    # convert to datetime so i can idmax\n",
    "    return df.assign(publish_date=pd.to_datetime(df['publish_date']))"
   ]
  },
  {
   "cell_type": "code",
   "execution_count": 8,
   "metadata": {},
   "outputs": [],
   "source": [
    "def drop_duplicates(df, columns=['url','title','text'], keep_col='publish_date', ignore_case=True):\n",
    "    '''Check if either of the column in the input columns contains duplicates.\n",
    "    If so, keep the row with the max value of the keep_col parameter. In our case, the latest timestamp.\n",
    "    Because we are doing either, not all, I will need to run group by each column at a time untill exhaustion.\n",
    "    '''\n",
    "\n",
    "    if not ignore_case:\n",
    "        for col in columns:\n",
    "            df=df.loc[df.groupby(col)[keep_col].idxmax()]\n",
    "    else:\n",
    "        for col in columns:\n",
    "            df=df.loc[df.groupby(df[col].str.lower())[keep_col].idxmax()]\n",
    " \n",
    "    return df.sort_index()"
   ]
  },
  {
   "cell_type": "code",
   "execution_count": 119,
   "metadata": {},
   "outputs": [],
   "source": [
    "# def get_sent_count(text):\n",
    "#     '''return the sentence count of a text'''\n",
    "\n",
    "#     return len(sent_tokenize(text))"
   ]
  },
  {
   "cell_type": "code",
   "execution_count": 9,
   "metadata": {},
   "outputs": [
    {
     "name": "stdout",
     "output_type": "stream",
     "text": [
      " loading /home/pranavgoel/trans-fer-entropy/obtaining_news_collections/data/nytimes_foxnews_article_texts_and_info.csv with 1029 rows\n",
      "de-duped! remaining rows 994\n",
      "count    994.000000\n",
      "mean      24.587525\n",
      "std       43.797608\n",
      "min        2.000000\n",
      "25%       11.000000\n",
      "50%       19.000000\n",
      "75%       29.000000\n",
      "max      827.000000\n",
      "Name: sent_count, dtype: float64\n",
      "Final row counts: 944\n",
      "saving new file to /home/pranavgoel/trans-fer-entropy/obtaining_news_collections/data/nytimes_foxnews_article_texts_and_info_dedup.csv\n",
      "--------\n",
      " loading /home/pranavgoel/trans-fer-entropy/obtaining_news_collections/data/california_article_texts_and_info.csv with 24285 rows\n",
      "de-duped! remaining rows 7930\n",
      "count    7930.000000\n",
      "mean       54.242623\n",
      "std        85.885786\n",
      "min         1.000000\n",
      "25%        19.000000\n",
      "50%        34.000000\n",
      "75%        59.000000\n",
      "max      2703.000000\n",
      "Name: sent_count, dtype: float64\n",
      "Final row counts: 7571\n",
      "saving new file to /home/pranavgoel/trans-fer-entropy/obtaining_news_collections/data/california_article_texts_and_info_dedup.csv\n",
      "--------\n",
      " loading /home/pranavgoel/trans-fer-entropy/obtaining_news_collections/data/texas_article_texts_and_info.csv with 2628 rows\n",
      "de-duped! remaining rows 1877\n",
      "count    1877.000000\n",
      "mean       30.667022\n",
      "std        27.136539\n",
      "min         1.000000\n",
      "25%        16.000000\n",
      "50%        24.000000\n",
      "75%        38.000000\n",
      "max       508.000000\n",
      "Name: sent_count, dtype: float64\n",
      "Final row counts: 1816\n",
      "saving new file to /home/pranavgoel/trans-fer-entropy/obtaining_news_collections/data/texas_article_texts_and_info_dedup.csv\n",
      "--------\n",
      " loading /home/pranavgoel/trans-fer-entropy/obtaining_news_collections/data/illinois_article_texts_and_info.csv with 1738 rows\n",
      "de-duped! remaining rows 725\n",
      "count    725.000000\n",
      "mean      35.571034\n",
      "std       30.052615\n",
      "min        1.000000\n",
      "25%       18.000000\n",
      "50%       29.000000\n",
      "75%       43.000000\n",
      "max      350.000000\n",
      "Name: sent_count, dtype: float64\n",
      "Final row counts: 692\n",
      "saving new file to /home/pranavgoel/trans-fer-entropy/obtaining_news_collections/data/illinois_article_texts_and_info_dedup.csv\n",
      "--------\n",
      " loading /home/pranavgoel/trans-fer-entropy/obtaining_news_collections/data/ohio_article_texts_and_info.csv with 2131 rows\n",
      "de-duped! remaining rows 699\n",
      "count    699.000000\n",
      "mean      37.964235\n",
      "std       49.108326\n",
      "min        1.000000\n",
      "25%       17.000000\n",
      "50%       28.000000\n",
      "75%       43.000000\n",
      "max      490.000000\n",
      "Name: sent_count, dtype: float64\n",
      "Final row counts: 667\n",
      "saving new file to /home/pranavgoel/trans-fer-entropy/obtaining_news_collections/data/ohio_article_texts_and_info_dedup.csv\n",
      "--------\n",
      " loading /home/pranavgoel/trans-fer-entropy/obtaining_news_collections/data/florida_article_texts_and_info.csv with 3899 rows\n",
      "de-duped! remaining rows 1335\n",
      "count    1335.000000\n",
      "mean       31.685393\n",
      "std        26.734548\n",
      "min         1.000000\n",
      "25%        17.000000\n",
      "50%        27.000000\n",
      "75%        39.000000\n",
      "max       396.000000\n",
      "Name: sent_count, dtype: float64\n",
      "Final row counts: 1283\n",
      "saving new file to /home/pranavgoel/trans-fer-entropy/obtaining_news_collections/data/florida_article_texts_and_info_dedup.csv\n",
      "--------\n",
      " loading /home/pranavgoel/trans-fer-entropy/obtaining_news_collections/data/newyork_article_texts_and_info.csv with 3819 rows\n",
      "de-duped! remaining rows 2999\n",
      "count    2999.000000\n",
      "mean       36.554185\n",
      "std        37.850012\n",
      "min         1.000000\n",
      "25%        20.000000\n",
      "50%        30.000000\n",
      "75%        42.000000\n",
      "max       794.000000\n",
      "Name: sent_count, dtype: float64\n",
      "Final row counts: 2910\n",
      "saving new file to /home/pranavgoel/trans-fer-entropy/obtaining_news_collections/data/newyork_article_texts_and_info_dedup.csv\n",
      "--------\n"
     ]
    }
   ],
   "source": [
    "for file_pat in all_csv_paths:\n",
    "    temp_df= load_and_convert(file_pat)\n",
    "    print(f\" loading {file_pat} with {len(temp_df)} rows\")\n",
    "    temp_df_dedup=drop_duplicates(temp_df, ignore_case=True)\n",
    "    print(f\"de-duped! remaining rows {len(temp_df_dedup)}\")\n",
    "\n",
    "    temp_df_dedup['sent_count']=temp_df_dedup['text'].map(lambda text: len(sent_tokenize(text)))\n",
    "    print(temp_df_dedup['sent_count'].describe())\n",
    "    temp_df_dedup_drop_short_text=temp_df_dedup[temp_df_dedup['sent_count']>5]\n",
    "\n",
    "    print(f\"Final row counts: {len(temp_df_dedup_drop_short_text)}\")\n",
    "\n",
    "    new_path=file_pat.split('.csv')[0]+'_dedup.csv'\n",
    "    # new_path=f\"/home/crazybrokeasian/projects/{file_pat.split('/')[-1].split('.csv')[0]}_dedup.csv\"\n",
    "    print(f'saving new file to {new_path}')\n",
    "    \n",
    "    temp_df_dedup_drop_short_text.to_csv(new_path, index=False)\n",
    "\n",
    "    print('--------')\n"
   ]
  },
  {
   "cell_type": "code",
   "execution_count": null,
   "metadata": {},
   "outputs": [],
   "source": []
  },
  {
   "cell_type": "code",
   "execution_count": null,
   "metadata": {},
   "outputs": [],
   "source": []
  },
  {
   "cell_type": "code",
   "execution_count": null,
   "metadata": {},
   "outputs": [],
   "source": []
  },
  {
   "cell_type": "code",
   "execution_count": null,
   "metadata": {},
   "outputs": [],
   "source": []
  },
  {
   "cell_type": "code",
   "execution_count": null,
   "metadata": {},
   "outputs": [],
   "source": []
  }
 ],
 "metadata": {
  "kernelspec": {
   "display_name": "yukun_env",
   "language": "python",
   "name": "python3"
  },
  "language_info": {
   "codemirror_mode": {
    "name": "ipython",
    "version": 3
   },
   "file_extension": ".py",
   "mimetype": "text/x-python",
   "name": "python",
   "nbconvert_exporter": "python",
   "pygments_lexer": "ipython3",
   "version": "3.8.10"
  }
 },
 "nbformat": 4,
 "nbformat_minor": 2
}
