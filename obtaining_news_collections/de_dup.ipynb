{
 "cells": [
  {
   "cell_type": "code",
   "execution_count": 1,
   "metadata": {},
   "outputs": [],
   "source": [
    "import glob\n",
    "import pandas as pd\n",
    "import nltk\n",
    "from nltk.tokenize import sent_tokenize"
   ]
  },
  {
   "cell_type": "code",
   "execution_count": 2,
   "metadata": {},
   "outputs": [
    {
     "name": "stderr",
     "output_type": "stream",
     "text": [
      "[nltk_data] Downloading package punkt to\n",
      "[nltk_data]     /home/pranavgoel/miniconda3/envs/pg3/lib/nltk_data...\n",
      "[nltk_data]   Package punkt is already up-to-date!\n"
     ]
    },
    {
     "data": {
      "text/plain": [
       "True"
      ]
     },
     "execution_count": 2,
     "metadata": {},
     "output_type": "execute_result"
    }
   ],
   "source": [
    "# # Need to download this if first time using nltk\n",
    "# nltk.download('punkt')"
   ]
  },
  {
   "cell_type": "code",
   "execution_count": 2,
   "metadata": {},
   "outputs": [],
   "source": [
    "DATA_PATH = '/home/pranavgoel/trans-fer-entropy/obtaining_news_collections/data/prior_data_apr_jun_2023/'"
   ]
  },
  {
   "cell_type": "code",
   "execution_count": 4,
   "metadata": {},
   "outputs": [
    {
     "data": {
      "text/plain": [
       "['/home/pranavgoel/trans-fer-entropy/obtaining_news_collections/data/prior_data_apr_jun_2023/nytimes_foxnews_article_texts_and_info.csv',\n",
       " '/home/pranavgoel/trans-fer-entropy/obtaining_news_collections/data/prior_data_apr_jun_2023/california_article_texts_and_info.csv',\n",
       " '/home/pranavgoel/trans-fer-entropy/obtaining_news_collections/data/prior_data_apr_jun_2023/texas_article_texts_and_info.csv',\n",
       " '/home/pranavgoel/trans-fer-entropy/obtaining_news_collections/data/prior_data_apr_jun_2023/illinois_article_texts_and_info.csv',\n",
       " '/home/pranavgoel/trans-fer-entropy/obtaining_news_collections/data/prior_data_apr_jun_2023/ohio_article_texts_and_info.csv',\n",
       " '/home/pranavgoel/trans-fer-entropy/obtaining_news_collections/data/prior_data_apr_jun_2023/florida_article_texts_and_info.csv',\n",
       " '/home/pranavgoel/trans-fer-entropy/obtaining_news_collections/data/prior_data_apr_jun_2023/newyork_article_texts_and_info.csv']"
      ]
     },
     "execution_count": 4,
     "metadata": {},
     "output_type": "execute_result"
    }
   ],
   "source": [
    "all_csv_paths=glob.glob(DATA_PATH+'*texts_and_info.csv*')\n",
    "all_csv_paths"
   ]
  },
  {
   "cell_type": "code",
   "execution_count": 5,
   "metadata": {},
   "outputs": [],
   "source": [
    "def load_and_convert(path):\n",
    "    '''load one dataset from the path, drop the na, and convert date to timestamp'''\n",
    "    df= pd.read_csv(path)\n",
    "    # drop na of text field, right?\n",
    "    df=df[df['text'].notna()]\n",
    "    # convert to datetime so i can idmax\n",
    "    return df.assign(publish_date=pd.to_datetime(df['publish_date']))"
   ]
  },
  {
   "cell_type": "code",
   "execution_count": 6,
   "metadata": {},
   "outputs": [],
   "source": [
    "def drop_duplicates(df, columns=['url','title','text'], keep_col='publish_date', ignore_case=True):\n",
    "    '''Check if either of the column in the input columns contains duplicates.\n",
    "    If so, keep the row with the max value of the keep_col parameter. In our case, the latest timestamp.\n",
    "    Because we are doing either, not all, I will need to run group by each column at a time untill exhaustion.\n",
    "    '''\n",
    "\n",
    "    if not ignore_case:\n",
    "        for col in columns:\n",
    "            df=df.loc[df.groupby(col)[keep_col].idxmax()]\n",
    "    else:\n",
    "        for col in columns:\n",
    "            df=df.loc[df.groupby(df[col].str.lower())[keep_col].idxmax()]\n",
    " \n",
    "    return df.sort_index()"
   ]
  },
  {
   "cell_type": "code",
   "execution_count": 119,
   "metadata": {},
   "outputs": [],
   "source": [
    "# def get_sent_count(text):\n",
    "#     '''return the sentence count of a text'''\n",
    "\n",
    "#     return len(sent_tokenize(text))"
   ]
  },
  {
   "cell_type": "code",
   "execution_count": 7,
   "metadata": {},
   "outputs": [
    {
     "data": {
      "text/plain": [
       "['/home/pranavgoel/trans-fer-entropy/obtaining_news_collections/data/prior_data_apr_jun_2023/nytimes_foxnews_article_texts_and_info.csv']"
      ]
     },
     "execution_count": 7,
     "metadata": {},
     "output_type": "execute_result"
    }
   ],
   "source": [
    "all_csv_paths[:1]"
   ]
  },
  {
   "cell_type": "code",
   "execution_count": 8,
   "metadata": {},
   "outputs": [
    {
     "name": "stdout",
     "output_type": "stream",
     "text": [
      " loading /home/pranavgoel/trans-fer-entropy/obtaining_news_collections/data/prior_data_apr_jun_2023/nytimes_foxnews_article_texts_and_info.csv with 2344 rows\n",
      "de-duped! remaining rows 1655\n",
      "count    1655.000000\n",
      "mean       26.329909\n",
      "std        38.993751\n",
      "min         2.000000\n",
      "25%        14.000000\n",
      "50%        21.000000\n",
      "75%        31.000000\n",
      "max       827.000000\n",
      "Name: sent_count, dtype: float64\n",
      "Final row counts: 1580\n",
      "saving new file to /home/pranavgoel/trans-fer-entropy/obtaining_news_collections/data/prior_data_apr_jun_2023/nytimes_foxnews_article_texts_and_info_dedup.csv\n",
      "--------\n"
     ]
    }
   ],
   "source": [
    "for file_pat in all_csv_paths[:1]:\n",
    "    temp_df= load_and_convert(file_pat)\n",
    "    print(f\" loading {file_pat} with {len(temp_df)} rows\")\n",
    "    temp_df_dedup=drop_duplicates(temp_df, ignore_case=True)\n",
    "    print(f\"de-duped! remaining rows {len(temp_df_dedup)}\")\n",
    "\n",
    "    temp_df_dedup['sent_count']=temp_df_dedup['text'].map(lambda text: len(sent_tokenize(text)))\n",
    "    print(temp_df_dedup['sent_count'].describe())\n",
    "    temp_df_dedup_drop_short_text=temp_df_dedup[temp_df_dedup['sent_count']>5]\n",
    "\n",
    "    print(f\"Final row counts: {len(temp_df_dedup_drop_short_text)}\")\n",
    "\n",
    "    new_path=file_pat.split('.csv')[0]+'_dedup.csv'\n",
    "    # new_path=f\"/home/crazybrokeasian/projects/{file_pat.split('/')[-1].split('.csv')[0]}_dedup.csv\"\n",
    "    print(f'saving new file to {new_path}')\n",
    "    \n",
    "    temp_df_dedup_drop_short_text.to_csv(new_path, index=False)\n",
    "\n",
    "    print('--------')\n"
   ]
  },
  {
   "cell_type": "markdown",
   "metadata": {},
   "source": [
    "---\n",
    "\n",
    "Below is prior code working with all the data before foxnews fix -- it still applies to all state media collections. Just de-duping the nytimes_foxnews file since that's the only thing changing after the foxnews fix."
   ]
  },
  {
   "cell_type": "code",
   "execution_count": 10,
   "metadata": {},
   "outputs": [
    {
     "name": "stdout",
     "output_type": "stream",
     "text": [
      " loading /home/pranavgoel/trans-fer-entropy/obtaining_news_collections/data/nytimes_foxnews_article_texts_and_info.csv with 3479 rows\n",
      "de-duped! remaining rows 3213\n",
      "count    3213.000000\n",
      "mean       25.718332\n",
      "std        38.975845\n",
      "min         1.000000\n",
      "25%        12.000000\n",
      "50%        20.000000\n",
      "75%        29.000000\n",
      "max       787.000000\n",
      "Name: sent_count, dtype: float64\n",
      "Final row counts: 3066\n",
      "saving new file to /home/pranavgoel/trans-fer-entropy/obtaining_news_collections/data/nytimes_foxnews_article_texts_and_info_dedup.csv\n",
      "--------\n",
      " loading /home/pranavgoel/trans-fer-entropy/obtaining_news_collections/data/california_article_texts_and_info.csv with 14450 rows\n",
      "de-duped! remaining rows 8476\n",
      "count    8476.000000\n",
      "mean       45.690066\n",
      "std        55.563920\n",
      "min         1.000000\n",
      "25%        19.000000\n",
      "50%        33.000000\n",
      "75%        54.000000\n",
      "max       834.000000\n",
      "Name: sent_count, dtype: float64\n",
      "Final row counts: 8059\n",
      "saving new file to /home/pranavgoel/trans-fer-entropy/obtaining_news_collections/data/california_article_texts_and_info_dedup.csv\n",
      "--------\n",
      " loading /home/pranavgoel/trans-fer-entropy/obtaining_news_collections/data/texas_article_texts_and_info.csv with 3680 rows\n",
      "de-duped! remaining rows 3077\n",
      "count    3077.000000\n",
      "mean       31.955151\n",
      "std        40.200812\n",
      "min         1.000000\n",
      "25%        15.000000\n",
      "50%        22.000000\n",
      "75%        36.000000\n",
      "max       734.000000\n",
      "Name: sent_count, dtype: float64\n",
      "Final row counts: 3043\n",
      "saving new file to /home/pranavgoel/trans-fer-entropy/obtaining_news_collections/data/texas_article_texts_and_info_dedup.csv\n",
      "--------\n",
      " loading /home/pranavgoel/trans-fer-entropy/obtaining_news_collections/data/illinois_article_texts_and_info.csv with 1359 rows\n",
      "de-duped! remaining rows 1101\n",
      "count    1101.000000\n",
      "mean       37.651226\n",
      "std        42.210814\n",
      "min         1.000000\n",
      "25%        20.000000\n",
      "50%        31.000000\n",
      "75%        45.000000\n",
      "max       699.000000\n",
      "Name: sent_count, dtype: float64\n",
      "Final row counts: 1083\n",
      "saving new file to /home/pranavgoel/trans-fer-entropy/obtaining_news_collections/data/illinois_article_texts_and_info_dedup.csv\n",
      "--------\n",
      " loading /home/pranavgoel/trans-fer-entropy/obtaining_news_collections/data/ohio_article_texts_and_info.csv with 1216 rows\n",
      "de-duped! remaining rows 993\n",
      "count    993.000000\n",
      "mean      37.484391\n",
      "std       46.459530\n",
      "min        1.000000\n",
      "25%       18.000000\n",
      "50%       30.000000\n",
      "75%       43.000000\n",
      "max      703.000000\n",
      "Name: sent_count, dtype: float64\n",
      "Final row counts: 975\n",
      "saving new file to /home/pranavgoel/trans-fer-entropy/obtaining_news_collections/data/ohio_article_texts_and_info_dedup.csv\n",
      "--------\n",
      " loading /home/pranavgoel/trans-fer-entropy/obtaining_news_collections/data/florida_article_texts_and_info.csv with 3563 rows\n",
      "de-duped! remaining rows 2559\n",
      "count    2559.000000\n",
      "mean       32.509965\n",
      "std        36.794208\n",
      "min         1.000000\n",
      "25%        16.000000\n",
      "50%        27.000000\n",
      "75%        40.000000\n",
      "max       698.000000\n",
      "Name: sent_count, dtype: float64\n",
      "Final row counts: 2454\n",
      "saving new file to /home/pranavgoel/trans-fer-entropy/obtaining_news_collections/data/florida_article_texts_and_info_dedup.csv\n",
      "--------\n",
      " loading /home/pranavgoel/trans-fer-entropy/obtaining_news_collections/data/newyork_article_texts_and_info.csv with 4726 rows\n",
      "de-duped! remaining rows 4137\n",
      "count    4137.000000\n",
      "mean       36.634518\n",
      "std        42.847457\n",
      "min         1.000000\n",
      "25%        20.000000\n",
      "50%        29.000000\n",
      "75%        41.000000\n",
      "max       702.000000\n",
      "Name: sent_count, dtype: float64\n",
      "Final row counts: 4018\n",
      "saving new file to /home/pranavgoel/trans-fer-entropy/obtaining_news_collections/data/newyork_article_texts_and_info_dedup.csv\n",
      "--------\n"
     ]
    }
   ],
   "source": [
    "for file_pat in all_csv_paths:\n",
    "    temp_df= load_and_convert(file_pat)\n",
    "    print(f\" loading {file_pat} with {len(temp_df)} rows\")\n",
    "    temp_df_dedup=drop_duplicates(temp_df, ignore_case=True)\n",
    "    print(f\"de-duped! remaining rows {len(temp_df_dedup)}\")\n",
    "\n",
    "    temp_df_dedup['sent_count']=temp_df_dedup['text'].map(lambda text: len(sent_tokenize(text)))\n",
    "    print(temp_df_dedup['sent_count'].describe())\n",
    "    temp_df_dedup_drop_short_text=temp_df_dedup[temp_df_dedup['sent_count']>5]\n",
    "\n",
    "    print(f\"Final row counts: {len(temp_df_dedup_drop_short_text)}\")\n",
    "\n",
    "    new_path=file_pat.split('.csv')[0]+'_dedup.csv'\n",
    "    # new_path=f\"/home/crazybrokeasian/projects/{file_pat.split('/')[-1].split('.csv')[0]}_dedup.csv\"\n",
    "    print(f'saving new file to {new_path}')\n",
    "    \n",
    "    temp_df_dedup_drop_short_text.to_csv(new_path, index=False)\n",
    "\n",
    "    print('--------')\n"
   ]
  },
  {
   "cell_type": "code",
   "execution_count": null,
   "metadata": {},
   "outputs": [],
   "source": []
  },
  {
   "cell_type": "markdown",
   "metadata": {},
   "source": [
    "# Data Profiling"
   ]
  },
  {
   "cell_type": "code",
   "execution_count": 5,
   "metadata": {},
   "outputs": [
    {
     "data": {
      "text/plain": [
       "['/home/pranavgoel/trans-fer-entropy/obtaining_news_collections/data/newyork_article_texts_and_info_dedup.csv',\n",
       " '/home/pranavgoel/trans-fer-entropy/obtaining_news_collections/data/nytimes_foxnews_article_texts_and_info_dedup.csv',\n",
       " '/home/pranavgoel/trans-fer-entropy/obtaining_news_collections/data/florida_article_texts_and_info_dedup.csv',\n",
       " '/home/pranavgoel/trans-fer-entropy/obtaining_news_collections/data/illinois_article_texts_and_info_dedup.csv',\n",
       " '/home/pranavgoel/trans-fer-entropy/obtaining_news_collections/data/texas_article_texts_and_info_dedup.csv',\n",
       " '/home/pranavgoel/trans-fer-entropy/obtaining_news_collections/data/california_article_texts_and_info_dedup.csv',\n",
       " '/home/pranavgoel/trans-fer-entropy/obtaining_news_collections/data/ohio_article_texts_and_info_dedup.csv']"
      ]
     },
     "execution_count": 5,
     "metadata": {},
     "output_type": "execute_result"
    }
   ],
   "source": [
    "all_de_dup=glob.glob(DATA_PATH+'*_dedup.csv')\n",
    "all_de_dup"
   ]
  },
  {
   "cell_type": "code",
   "execution_count": 6,
   "metadata": {},
   "outputs": [
    {
     "name": "stdout",
     "output_type": "stream",
     "text": [
      "/home/pranavgoel/trans-fer-entropy/obtaining_news_collections/data/newyork_article_texts_and_info_dedup.csv\n",
      "2910\n",
      "129\n",
      "2023-06-30 22:42:34.000000 2023-04-01 04:44:31.000000\n",
      "/home/pranavgoel/trans-fer-entropy/obtaining_news_collections/data/nytimes_foxnews_article_texts_and_info_dedup.csv\n",
      "944\n",
      "2\n",
      "2023-06-30 21:00:21 2023-04-01 09:00:07\n",
      "/home/pranavgoel/trans-fer-entropy/obtaining_news_collections/data/florida_article_texts_and_info_dedup.csv\n",
      "1283\n",
      "72\n",
      "2023-06-30 23:57:00 2023-04-01 18:00:40\n",
      "/home/pranavgoel/trans-fer-entropy/obtaining_news_collections/data/illinois_article_texts_and_info_dedup.csv\n",
      "692\n",
      "63\n",
      "2023-06-30 17:50:51 2023-04-01 13:06:27\n",
      "/home/pranavgoel/trans-fer-entropy/obtaining_news_collections/data/texas_article_texts_and_info_dedup.csv\n",
      "1816\n",
      "98\n",
      "2023-06-30 22:26:57 2023-04-01 05:01:05\n",
      "/home/pranavgoel/trans-fer-entropy/obtaining_news_collections/data/california_article_texts_and_info_dedup.csv\n",
      "7571\n",
      "340\n",
      "2023-06-30 22:43:00.000000 2023-04-01 00:46:56.000000\n",
      "/home/pranavgoel/trans-fer-entropy/obtaining_news_collections/data/ohio_article_texts_and_info_dedup.csv\n",
      "667\n",
      "52\n",
      "2023-06-30 23:12:33 2023-04-01 09:27:55\n"
     ]
    }
   ],
   "source": [
    "for de_dup in all_de_dup:\n",
    "    print(de_dup)\n",
    "    temp_df=pd.read_csv(de_dup)\n",
    "    print(len(temp_df))\n",
    "    print(temp_df['media_name'].nunique())\n",
    "    print(temp_df['publish_date'].max(), temp_df['publish_date'].min())\n"
   ]
  },
  {
   "cell_type": "code",
   "execution_count": 7,
   "metadata": {},
   "outputs": [
    {
     "data": {
      "text/html": [
       "<div>\n",
       "<style scoped>\n",
       "    .dataframe tbody tr th:only-of-type {\n",
       "        vertical-align: middle;\n",
       "    }\n",
       "\n",
       "    .dataframe tbody tr th {\n",
       "        vertical-align: top;\n",
       "    }\n",
       "\n",
       "    .dataframe thead th {\n",
       "        text-align: right;\n",
       "    }\n",
       "</style>\n",
       "<table border=\"1\" class=\"dataframe\">\n",
       "  <thead>\n",
       "    <tr style=\"text-align: right;\">\n",
       "      <th></th>\n",
       "      <th>media_name</th>\n",
       "      <th>publish_date</th>\n",
       "      <th>title</th>\n",
       "      <th>url</th>\n",
       "      <th>subtitle</th>\n",
       "      <th>text</th>\n",
       "      <th>sent_count</th>\n",
       "    </tr>\n",
       "  </thead>\n",
       "  <tbody>\n",
       "    <tr>\n",
       "      <th>0</th>\n",
       "      <td>New York Times</td>\n",
       "      <td>2023-04-01 09:00:07</td>\n",
       "      <td>What Decades of Providing Trans Health Care Ha...</td>\n",
       "      <td>https://www.nytimes.com/2023/04/01/opinion/tra...</td>\n",
       "      <td>The field of transgender medicine is every bit...</td>\n",
       "      <td>Decades of medical experience and research sin...</td>\n",
       "      <td>17</td>\n",
       "    </tr>\n",
       "    <tr>\n",
       "      <th>1</th>\n",
       "      <td>New York Times</td>\n",
       "      <td>2023-04-02 14:37:17</td>\n",
       "      <td>Trump Flourishes in the Glare of His Indictment</td>\n",
       "      <td>https://www.nytimes.com/2023/04/02/us/politics...</td>\n",
       "      <td>The former president’s appetite for attention ...</td>\n",
       "      <td>But those were different times and different p...</td>\n",
       "      <td>10</td>\n",
       "    </tr>\n",
       "    <tr>\n",
       "      <th>2</th>\n",
       "      <td>New York Times</td>\n",
       "      <td>2023-04-03 10:42:21</td>\n",
       "      <td>Biden’s Reluctant Approach to Free Trade Draws...</td>\n",
       "      <td>https://www.nytimes.com/2023/04/03/us/politics...</td>\n",
       "      <td>A law intended to bolster clean energy manufac...</td>\n",
       "      <td>Those provisions have angered allies in Europe...</td>\n",
       "      <td>8</td>\n",
       "    </tr>\n",
       "    <tr>\n",
       "      <th>3</th>\n",
       "      <td>New York Times</td>\n",
       "      <td>2023-04-03 13:26:57</td>\n",
       "      <td>Yeshiva University’s Ban on L.G.B.T.Q. Club Le...</td>\n",
       "      <td>https://www.nytimes.com/2023/04/03/nyregion/ye...</td>\n",
       "      <td>A lawmaker asked inspectors to look at million...</td>\n",
       "      <td>A state inspector has been asked to review whe...</td>\n",
       "      <td>8</td>\n",
       "    </tr>\n",
       "    <tr>\n",
       "      <th>4</th>\n",
       "      <td>New York Times</td>\n",
       "      <td>2023-04-04 13:11:40</td>\n",
       "      <td>New Zealand’s Soccer Team to Wear Dark Shorts,...</td>\n",
       "      <td>https://www.nytimes.com/2023/04/04/sports/socc...</td>\n",
       "      <td>The women’s soccer team said its players would...</td>\n",
       "      <td>For the first time, New Zealand’s women’s socc...</td>\n",
       "      <td>6</td>\n",
       "    </tr>\n",
       "    <tr>\n",
       "      <th>...</th>\n",
       "      <td>...</td>\n",
       "      <td>...</td>\n",
       "      <td>...</td>\n",
       "      <td>...</td>\n",
       "      <td>...</td>\n",
       "      <td>...</td>\n",
       "      <td>...</td>\n",
       "    </tr>\n",
       "    <tr>\n",
       "      <th>939</th>\n",
       "      <td>Fox News</td>\n",
       "      <td>2023-06-30 16:39:08</td>\n",
       "      <td>University demands professor learn free speech...</td>\n",
       "      <td>https://www.foxnews.com/media/university-deman...</td>\n",
       "      <td>The University of Cincinnati reprimanded a pro...</td>\n",
       "      <td>The University of Cincinnati demanded adjunct ...</td>\n",
       "      <td>19</td>\n",
       "    </tr>\n",
       "    <tr>\n",
       "      <th>940</th>\n",
       "      <td>New York Times</td>\n",
       "      <td>2023-06-30 16:17:50</td>\n",
       "      <td>These States Have Anti-discrimination Laws Pro...</td>\n",
       "      <td>https://www.nytimes.com/2023/06/30/us/politics...</td>\n",
       "      <td>The laws explicitly protect people from being ...</td>\n",
       "      <td>Federal law protects Americans from being disc...</td>\n",
       "      <td>6</td>\n",
       "    </tr>\n",
       "    <tr>\n",
       "      <th>941</th>\n",
       "      <td>Fox News</td>\n",
       "      <td>2023-06-30 17:56:39</td>\n",
       "      <td>Texas Rep Wesley Hunt challenges 'woke' corpor...</td>\n",
       "      <td>https://www.foxnews.com/politics/texas-rep-wes...</td>\n",
       "      <td>Rep. Wesley Hunt, R-Texas, introduced a resolu...</td>\n",
       "      <td>Rep. Wesley Hunt, R-Texas, is challenging Pres...</td>\n",
       "      <td>18</td>\n",
       "    </tr>\n",
       "    <tr>\n",
       "      <th>942</th>\n",
       "      <td>New York Times</td>\n",
       "      <td>2023-06-30 19:47:45</td>\n",
       "      <td>Before the hypothetical gay wedding case, he w...</td>\n",
       "      <td>https://www.nytimes.com/live/2023/06/30/us/gay...</td>\n",
       "      <td>NaN</td>\n",
       "      <td>Pinned\\n\\nLorie Smith said her Christian faith...</td>\n",
       "      <td>63</td>\n",
       "    </tr>\n",
       "    <tr>\n",
       "      <th>943</th>\n",
       "      <td>New York Times</td>\n",
       "      <td>2023-06-30 21:00:21</td>\n",
       "      <td>Louisiana Governor Vetoes Ban on Transition Ca...</td>\n",
       "      <td>https://www.nytimes.com/2023/06/30/us/louisian...</td>\n",
       "      <td>Gov. John Bel Edwards, a Democrat, also vetoed...</td>\n",
       "      <td>Background\\n\\nThe medical measure would forbid...</td>\n",
       "      <td>18</td>\n",
       "    </tr>\n",
       "  </tbody>\n",
       "</table>\n",
       "<p>944 rows × 7 columns</p>\n",
       "</div>"
      ],
      "text/plain": [
       "         media_name         publish_date  \\\n",
       "0    New York Times  2023-04-01 09:00:07   \n",
       "1    New York Times  2023-04-02 14:37:17   \n",
       "2    New York Times  2023-04-03 10:42:21   \n",
       "3    New York Times  2023-04-03 13:26:57   \n",
       "4    New York Times  2023-04-04 13:11:40   \n",
       "..              ...                  ...   \n",
       "939        Fox News  2023-06-30 16:39:08   \n",
       "940  New York Times  2023-06-30 16:17:50   \n",
       "941        Fox News  2023-06-30 17:56:39   \n",
       "942  New York Times  2023-06-30 19:47:45   \n",
       "943  New York Times  2023-06-30 21:00:21   \n",
       "\n",
       "                                                 title  \\\n",
       "0    What Decades of Providing Trans Health Care Ha...   \n",
       "1      Trump Flourishes in the Glare of His Indictment   \n",
       "2    Biden’s Reluctant Approach to Free Trade Draws...   \n",
       "3    Yeshiva University’s Ban on L.G.B.T.Q. Club Le...   \n",
       "4    New Zealand’s Soccer Team to Wear Dark Shorts,...   \n",
       "..                                                 ...   \n",
       "939  University demands professor learn free speech...   \n",
       "940  These States Have Anti-discrimination Laws Pro...   \n",
       "941  Texas Rep Wesley Hunt challenges 'woke' corpor...   \n",
       "942  Before the hypothetical gay wedding case, he w...   \n",
       "943  Louisiana Governor Vetoes Ban on Transition Ca...   \n",
       "\n",
       "                                                   url  \\\n",
       "0    https://www.nytimes.com/2023/04/01/opinion/tra...   \n",
       "1    https://www.nytimes.com/2023/04/02/us/politics...   \n",
       "2    https://www.nytimes.com/2023/04/03/us/politics...   \n",
       "3    https://www.nytimes.com/2023/04/03/nyregion/ye...   \n",
       "4    https://www.nytimes.com/2023/04/04/sports/socc...   \n",
       "..                                                 ...   \n",
       "939  https://www.foxnews.com/media/university-deman...   \n",
       "940  https://www.nytimes.com/2023/06/30/us/politics...   \n",
       "941  https://www.foxnews.com/politics/texas-rep-wes...   \n",
       "942  https://www.nytimes.com/live/2023/06/30/us/gay...   \n",
       "943  https://www.nytimes.com/2023/06/30/us/louisian...   \n",
       "\n",
       "                                              subtitle  \\\n",
       "0    The field of transgender medicine is every bit...   \n",
       "1    The former president’s appetite for attention ...   \n",
       "2    A law intended to bolster clean energy manufac...   \n",
       "3    A lawmaker asked inspectors to look at million...   \n",
       "4    The women’s soccer team said its players would...   \n",
       "..                                                 ...   \n",
       "939  The University of Cincinnati reprimanded a pro...   \n",
       "940  The laws explicitly protect people from being ...   \n",
       "941  Rep. Wesley Hunt, R-Texas, introduced a resolu...   \n",
       "942                                                NaN   \n",
       "943  Gov. John Bel Edwards, a Democrat, also vetoed...   \n",
       "\n",
       "                                                  text  sent_count  \n",
       "0    Decades of medical experience and research sin...          17  \n",
       "1    But those were different times and different p...          10  \n",
       "2    Those provisions have angered allies in Europe...           8  \n",
       "3    A state inspector has been asked to review whe...           8  \n",
       "4    For the first time, New Zealand’s women’s socc...           6  \n",
       "..                                                 ...         ...  \n",
       "939  The University of Cincinnati demanded adjunct ...          19  \n",
       "940  Federal law protects Americans from being disc...           6  \n",
       "941  Rep. Wesley Hunt, R-Texas, is challenging Pres...          18  \n",
       "942  Pinned\\n\\nLorie Smith said her Christian faith...          63  \n",
       "943  Background\\n\\nThe medical measure would forbid...          18  \n",
       "\n",
       "[944 rows x 7 columns]"
      ]
     },
     "execution_count": 7,
     "metadata": {},
     "output_type": "execute_result"
    }
   ],
   "source": [
    "pd.read_csv('/home/pranavgoel/trans-fer-entropy/obtaining_news_collections/data/nytimes_foxnews_article_texts_and_info_dedup.csv')"
   ]
  },
  {
   "cell_type": "code",
   "execution_count": null,
   "metadata": {},
   "outputs": [],
   "source": []
  },
  {
   "cell_type": "code",
   "execution_count": 16,
   "metadata": {},
   "outputs": [],
   "source": [
    "all_dedup_files=glob.glob('/home/pranavgoel/trans-fer-entropy/article_filtering/transgender_filtered_data_files/*.csv')"
   ]
  },
  {
   "cell_type": "code",
   "execution_count": 6,
   "metadata": {},
   "outputs": [],
   "source": [
    "test_fox=pd.read_csv('/home/pranavgoel/trans-fer-entropy/article_filtering/transgender_filtered_data_files/nytimes_foxnews_article_texts_and_info_dedup.csv')"
   ]
  },
  {
   "cell_type": "code",
   "execution_count": 9,
   "metadata": {},
   "outputs": [
    {
     "data": {
      "text/html": [
       "<div>\n",
       "<style scoped>\n",
       "    .dataframe tbody tr th:only-of-type {\n",
       "        vertical-align: middle;\n",
       "    }\n",
       "\n",
       "    .dataframe tbody tr th {\n",
       "        vertical-align: top;\n",
       "    }\n",
       "\n",
       "    .dataframe thead th {\n",
       "        text-align: right;\n",
       "    }\n",
       "</style>\n",
       "<table border=\"1\" class=\"dataframe\">\n",
       "  <thead>\n",
       "    <tr style=\"text-align: right;\">\n",
       "      <th></th>\n",
       "      <th>domain</th>\n",
       "      <th>publish_date</th>\n",
       "      <th>title</th>\n",
       "      <th>url</th>\n",
       "      <th>subtitle</th>\n",
       "      <th>text</th>\n",
       "      <th>sent_count</th>\n",
       "      <th>gender_label</th>\n",
       "    </tr>\n",
       "  </thead>\n",
       "  <tbody>\n",
       "    <tr>\n",
       "      <th>713</th>\n",
       "      <td>nytimes.com</td>\n",
       "      <td>2023-05-19 05:00:35</td>\n",
       "      <td>A Small NY University Fired Employees For Usin...</td>\n",
       "      <td>https://www.nytimes.com/2023/05/19/nyregion/ho...</td>\n",
       "      <td>The firings set off a debate at Houghton Unive...</td>\n",
       "      <td>When Raegan Zelaya and Shua Wilmot decided to ...</td>\n",
       "      <td>7</td>\n",
       "      <td>1</td>\n",
       "    </tr>\n",
       "  </tbody>\n",
       "</table>\n",
       "</div>"
      ],
      "text/plain": [
       "          domain         publish_date  \\\n",
       "713  nytimes.com  2023-05-19 05:00:35   \n",
       "\n",
       "                                                 title  \\\n",
       "713  A Small NY University Fired Employees For Usin...   \n",
       "\n",
       "                                                   url  \\\n",
       "713  https://www.nytimes.com/2023/05/19/nyregion/ho...   \n",
       "\n",
       "                                              subtitle  \\\n",
       "713  The firings set off a debate at Houghton Unive...   \n",
       "\n",
       "                                                  text  sent_count  \\\n",
       "713  When Raegan Zelaya and Shua Wilmot decided to ...           7   \n",
       "\n",
       "     gender_label  \n",
       "713             1  "
      ]
     },
     "execution_count": 9,
     "metadata": {},
     "output_type": "execute_result"
    }
   ],
   "source": [
    "test_fox[test_fox['url'].str.contains('houghton')]"
   ]
  },
  {
   "cell_type": "code",
   "execution_count": 15,
   "metadata": {},
   "outputs": [
    {
     "data": {
      "text/html": [
       "<div>\n",
       "<style scoped>\n",
       "    .dataframe tbody tr th:only-of-type {\n",
       "        vertical-align: middle;\n",
       "    }\n",
       "\n",
       "    .dataframe tbody tr th {\n",
       "        vertical-align: top;\n",
       "    }\n",
       "\n",
       "    .dataframe thead th {\n",
       "        text-align: right;\n",
       "    }\n",
       "</style>\n",
       "<table border=\"1\" class=\"dataframe\">\n",
       "  <thead>\n",
       "    <tr style=\"text-align: right;\">\n",
       "      <th></th>\n",
       "      <th>domain</th>\n",
       "      <th>publish_date</th>\n",
       "      <th>title</th>\n",
       "      <th>url</th>\n",
       "      <th>subtitle</th>\n",
       "      <th>text</th>\n",
       "      <th>sent_count</th>\n",
       "      <th>gender_label</th>\n",
       "    </tr>\n",
       "  </thead>\n",
       "  <tbody>\n",
       "  </tbody>\n",
       "</table>\n",
       "</div>"
      ],
      "text/plain": [
       "Empty DataFrame\n",
       "Columns: [domain, publish_date, title, url, subtitle, text, sent_count, gender_label]\n",
       "Index: []"
      ]
     },
     "execution_count": 15,
     "metadata": {},
     "output_type": "execute_result"
    }
   ],
   "source": [
    "test_fox[test_fox.url.str.strip().str.lower().duplicated()]"
   ]
  },
  {
   "cell_type": "code",
   "execution_count": 20,
   "metadata": {},
   "outputs": [
    {
     "name": "stdout",
     "output_type": "stream",
     "text": [
      "/home/pranavgoel/trans-fer-entropy/article_filtering/transgender_filtered_data_files/ohio_article_texts_and_info_dedup_without_national_outlets.csv\n",
      "dup urls: Empty DataFrame\n",
      "Columns: [Unnamed: 0, media_name, publish_date, title, url, subtitle, text, sent_count, domain, gender_label]\n",
      "Index: []\n",
      "dup titles: Empty DataFrame\n",
      "Columns: [Unnamed: 0, media_name, publish_date, title, url, subtitle, text, sent_count, domain, gender_label]\n",
      "Index: []\n",
      "dup body text: Empty DataFrame\n",
      "Columns: [Unnamed: 0, media_name, publish_date, title, url, subtitle, text, sent_count, domain, gender_label]\n",
      "Index: []\n",
      "----\n",
      "/home/pranavgoel/trans-fer-entropy/article_filtering/transgender_filtered_data_files/nytimes_foxnews_article_texts_and_info_dedup.csv\n",
      "dup urls: Empty DataFrame\n",
      "Columns: [domain, publish_date, title, url, subtitle, text, sent_count, gender_label]\n",
      "Index: []\n",
      "dup titles: Empty DataFrame\n",
      "Columns: [domain, publish_date, title, url, subtitle, text, sent_count, gender_label]\n",
      "Index: []\n",
      "dup body text: Empty DataFrame\n",
      "Columns: [domain, publish_date, title, url, subtitle, text, sent_count, gender_label]\n",
      "Index: []\n",
      "----\n",
      "/home/pranavgoel/trans-fer-entropy/article_filtering/transgender_filtered_data_files/florida_article_texts_and_info_dedup_without_national_outlets.csv\n",
      "dup urls: Empty DataFrame\n",
      "Columns: [Unnamed: 0, media_name, publish_date, title, url, subtitle, text, sent_count, domain, gender_label]\n",
      "Index: []\n",
      "dup titles: Empty DataFrame\n",
      "Columns: [Unnamed: 0, media_name, publish_date, title, url, subtitle, text, sent_count, domain, gender_label]\n",
      "Index: []\n",
      "dup body text: Empty DataFrame\n",
      "Columns: [Unnamed: 0, media_name, publish_date, title, url, subtitle, text, sent_count, domain, gender_label]\n",
      "Index: []\n",
      "----\n",
      "/home/pranavgoel/trans-fer-entropy/article_filtering/transgender_filtered_data_files/texas_article_texts_and_info_dedup_without_national_outlets.csv\n",
      "dup urls: Empty DataFrame\n",
      "Columns: [Unnamed: 0, media_name, publish_date, title, url, subtitle, text, sent_count, domain, gender_label]\n",
      "Index: []\n",
      "dup titles: Empty DataFrame\n",
      "Columns: [Unnamed: 0, media_name, publish_date, title, url, subtitle, text, sent_count, domain, gender_label]\n",
      "Index: []\n",
      "dup body text: Empty DataFrame\n",
      "Columns: [Unnamed: 0, media_name, publish_date, title, url, subtitle, text, sent_count, domain, gender_label]\n",
      "Index: []\n",
      "----\n",
      "/home/pranavgoel/trans-fer-entropy/article_filtering/transgender_filtered_data_files/illinois_article_texts_and_info_dedup_without_national_outlets.csv\n",
      "dup urls: Empty DataFrame\n",
      "Columns: [Unnamed: 0, media_name, publish_date, title, url, subtitle, text, sent_count, domain, gender_label]\n",
      "Index: []\n",
      "dup titles: Empty DataFrame\n",
      "Columns: [Unnamed: 0, media_name, publish_date, title, url, subtitle, text, sent_count, domain, gender_label]\n",
      "Index: []\n",
      "dup body text: Empty DataFrame\n",
      "Columns: [Unnamed: 0, media_name, publish_date, title, url, subtitle, text, sent_count, domain, gender_label]\n",
      "Index: []\n",
      "----\n",
      "/home/pranavgoel/trans-fer-entropy/article_filtering/transgender_filtered_data_files/newyork_article_texts_and_info_dedup_without_national_outlets.csv\n",
      "dup urls: Empty DataFrame\n",
      "Columns: [Unnamed: 0, media_name, publish_date, title, url, subtitle, text, sent_count, domain, gender_label]\n",
      "Index: []\n",
      "dup titles: Empty DataFrame\n",
      "Columns: [Unnamed: 0, media_name, publish_date, title, url, subtitle, text, sent_count, domain, gender_label]\n",
      "Index: []\n",
      "dup body text: Empty DataFrame\n",
      "Columns: [Unnamed: 0, media_name, publish_date, title, url, subtitle, text, sent_count, domain, gender_label]\n",
      "Index: []\n",
      "----\n",
      "/home/pranavgoel/trans-fer-entropy/article_filtering/transgender_filtered_data_files/california_article_texts_and_info_dedup_without_national_outlets.csv\n",
      "dup urls: Empty DataFrame\n",
      "Columns: [Unnamed: 0, media_name, publish_date, title, url, subtitle, text, sent_count, domain, gender_label]\n",
      "Index: []\n",
      "dup titles: Empty DataFrame\n",
      "Columns: [Unnamed: 0, media_name, publish_date, title, url, subtitle, text, sent_count, domain, gender_label]\n",
      "Index: []\n",
      "dup body text: Empty DataFrame\n",
      "Columns: [Unnamed: 0, media_name, publish_date, title, url, subtitle, text, sent_count, domain, gender_label]\n",
      "Index: []\n",
      "----\n"
     ]
    }
   ],
   "source": [
    "for temp_dedup in all_dedup_files:\n",
    "    temp_dedup_file=pd.read_csv(temp_dedup)\n",
    "    print(temp_dedup)\n",
    "    print(f\"dup urls: {temp_dedup_file[temp_dedup_file.url.str.strip().str.lower().duplicated()]}\")\n",
    "    print(f\"dup titles: {temp_dedup_file[temp_dedup_file.title.str.strip().str.lower().duplicated()]}\")\n",
    "    print(f\"dup body text: {temp_dedup_file[temp_dedup_file.text.str.strip().str.lower().duplicated()]}\")\n",
    "    print('----')\n",
    " \n"
   ]
  },
  {
   "cell_type": "code",
   "execution_count": null,
   "metadata": {},
   "outputs": [],
   "source": []
  }
 ],
 "metadata": {
  "kernelspec": {
   "display_name": "Python 3",
   "language": "python",
   "name": "python3"
  },
  "language_info": {
   "codemirror_mode": {
    "name": "ipython",
    "version": 3
   },
   "file_extension": ".py",
   "mimetype": "text/x-python",
   "name": "python",
   "nbconvert_exporter": "python",
   "pygments_lexer": "ipython3",
   "version": "3.8.10"
  }
 },
 "nbformat": 4,
 "nbformat_minor": 4
}
