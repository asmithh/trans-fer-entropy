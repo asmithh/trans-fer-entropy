{
 "cells": [
  {
   "cell_type": "code",
   "execution_count": 1,
   "id": "91417e12-acf0-4e78-adb2-dfa3cc15f2d3",
   "metadata": {},
   "outputs": [
    {
     "name": "stderr",
     "output_type": "stream",
     "text": [
      "<ipython-input-1-cd00b3c2a068>:12: FutureWarning: Passing a negative integer is deprecated in version 1.0 and will not be supported in future version. Instead, use None to not limit the column width.\n",
      "  pd.set_option('display.max_colwidth', -1)\n"
     ]
    }
   ],
   "source": [
    "from datetime import datetime, timedelta\n",
    "import pickle\n",
    "import os\n",
    "import pandas as pd\n",
    "import numpy as np\n",
    "from tqdm import tqdm\n",
    "import re\n",
    "\n",
    "from tldextract import extract\n",
    "import langid\n",
    "\n",
    "pd.set_option('display.max_colwidth', -1)\n",
    "pd.set_option('display.max_rows', 50)\n",
    "\n",
    "from newspaper import Article\n",
    "import matplotlib.pyplot as plt"
   ]
  },
  {
   "cell_type": "markdown",
   "id": "7c658d7d-06a1-4831-bff8-c1fea762e1a9",
   "metadata": {},
   "source": [
    "NOTE: Mediacloud news for state-specific collection includes news ABOUT the particular state, and as such, might sometimes contain news from national outlets where the article itself might be focused on the state itself. Most (if not all) of the collection is going to be sourced from local state-specific outlets, but not always. Currently, we are keeping all URLs within the obtained collection for the state, except those from nytimes and foxnews since those are our chosen national outlets. Trusting mediacloud's collections to be truly state-focused even when urls come from national outlets. "
   ]
  },
  {
   "cell_type": "code",
   "execution_count": 2,
   "id": "52b41e64-fc9c-4738-a5bd-54e0a4f2f0f6",
   "metadata": {},
   "outputs": [],
   "source": [
    "start_date = datetime.strptime('2023-01-01', '%Y-%m-%d').date()\n",
    "end_date = datetime.strptime('2023-12-31', '%Y-%m-%d').date()"
   ]
  },
  {
   "cell_type": "code",
   "execution_count": 3,
   "id": "49399f6d-bfb8-470d-af2f-88d273d4e522",
   "metadata": {},
   "outputs": [
    {
     "name": "stdout",
     "output_type": "stream",
     "text": [
      "<class 'pandas.core.frame.DataFrame'>\n",
      "RangeIndex: 1563 entries, 0 to 1562\n",
      "Data columns (total 9 columns):\n",
      " #   Column        Non-Null Count  Dtype \n",
      "---  ------        --------------  ----- \n",
      " 0   archived_url  1563 non-null   object\n",
      " 1   article_url   1563 non-null   object\n",
      " 2   id            1563 non-null   int64 \n",
      " 3   language      1563 non-null   object\n",
      " 4   media_name    1563 non-null   object\n",
      " 5   media_url     1563 non-null   object\n",
      " 6   publish_date  1563 non-null   object\n",
      " 7   title         1563 non-null   object\n",
      " 8   url           1563 non-null   object\n",
      "dtypes: int64(1), object(8)\n",
      "memory usage: 110.0+ KB\n",
      "None\n"
     ]
    }
   ],
   "source": [
    "ohio_news = pd.read_csv('data/mediacloud_ohio.csv')\n",
    "print(ohio_news.info())"
   ]
  },
  {
   "cell_type": "code",
   "execution_count": 4,
   "id": "8532a677-fc7e-4586-a3c1-8dd70cbe8046",
   "metadata": {},
   "outputs": [
    {
     "name": "stderr",
     "output_type": "stream",
     "text": [
      "100%|██████████| 1563/1563 [00:00<00:00, 838968.15it/s]\n"
     ]
    }
   ],
   "source": [
    "#analyze the distribution across months of publication -- are there gaps in the collection?\n",
    "all_dates = list(ohio_news['publish_date'])\n",
    "month_to_vol = {}\n",
    "for i in range(1, 13):\n",
    "    month_to_vol[i] = 0\n",
    "for d in tqdm(all_dates):\n",
    "    m = int(d.split('-')[1])\n",
    "    month_to_vol[m] += 1"
   ]
  },
  {
   "cell_type": "code",
   "execution_count": 5,
   "id": "8817a68f-86e5-4cd7-ad26-1b88dfb7bfe1",
   "metadata": {},
   "outputs": [
    {
     "data": {
      "text/plain": [
       "[<matplotlib.lines.Line2D at 0x7f1da92c7190>]"
      ]
     },
     "execution_count": 5,
     "metadata": {},
     "output_type": "execute_result"
    },
    {
     "data": {
      "image/png": "[encoded data removed]",
      "text/plain": [
       "<Figure size 432x288 with 1 Axes>"
      ]
     },
     "metadata": {
      "needs_background": "light"
     },
     "output_type": "display_data"
    }
   ],
   "source": [
    "plt.plot(list(month_to_vol.keys()), list(month_to_vol.values()))"
   ]
  },
  {
   "cell_type": "code",
   "execution_count": 6,
   "id": "60bd4833-c3cc-4cbf-ad7d-fc1f5249e3d6",
   "metadata": {
    "scrolled": true
   },
   "outputs": [
    {
     "data": {
      "text/html": [
       "<div>\n",
       "<style scoped>\n",
       "    .dataframe tbody tr th:only-of-type {\n",
       "        vertical-align: middle;\n",
       "    }\n",
       "\n",
       "    .dataframe tbody tr th {\n",
       "        vertical-align: top;\n",
       "    }\n",
       "\n",
       "    .dataframe thead th {\n",
       "        text-align: right;\n",
       "    }\n",
       "</style>\n",
       "<table border=\"1\" class=\"dataframe\">\n",
       "  <thead>\n",
       "    <tr style=\"text-align: right;\">\n",
       "      <th></th>\n",
       "      <th>language</th>\n",
       "      <th>media_name</th>\n",
       "      <th>media_url</th>\n",
       "      <th>publish_date</th>\n",
       "      <th>title</th>\n",
       "      <th>url</th>\n",
       "    </tr>\n",
       "  </thead>\n",
       "  <tbody>\n",
       "    <tr>\n",
       "      <th>1543</th>\n",
       "      <td>en</td>\n",
       "      <td>woub.org</td>\n",
       "      <td>http://woub.org</td>\n",
       "      <td>2023-01-11 00:00:00</td>\n",
       "      <td>State lawmaker reintroduces a bill to limit the power of the Ohio State Board of Education</td>\n",
       "      <td>https://woub.org/2023/01/11/state-lawmaker-reintroduces-a-bill-to-limit-the-power-of-the-ohio-state-board-of-education/</td>\n",
       "    </tr>\n",
       "    <tr>\n",
       "      <th>1544</th>\n",
       "      <td>en</td>\n",
       "      <td>woub.org</td>\n",
       "      <td>http://woub.org</td>\n",
       "      <td>2023-01-31 00:00:00</td>\n",
       "      <td>Recent infighting raises the question: How conservative is the GOP?</td>\n",
       "      <td>https://woub.org/2023/01/31/recent-infighting-raises-the-question-how-conservative-is-the-gop/</td>\n",
       "    </tr>\n",
       "    <tr>\n",
       "      <th>1545</th>\n",
       "      <td>en</td>\n",
       "      <td>woub.org</td>\n",
       "      <td>http://woub.org</td>\n",
       "      <td>2023-02-06 00:00:00</td>\n",
       "      <td>Beyoncé sets a new Grammy record, while Harry Styles wins album of the year</td>\n",
       "      <td>https://woub.org/2023/02/06/beyonce-sets-a-new-grammy-record-while-harry-styles-wins-album-of-the-year/</td>\n",
       "    </tr>\n",
       "    <tr>\n",
       "      <th>1546</th>\n",
       "      <td>en</td>\n",
       "      <td>woub.org</td>\n",
       "      <td>http://woub.org</td>\n",
       "      <td>2023-03-01 00:00:00</td>\n",
       "      <td>An Ohio Senate panel OKs a bill to overhaul Ohio’s education oversight</td>\n",
       "      <td>https://woub.org/2023/03/01/an-ohio-senate-panel-oks-a-bill-to-overhaul-ohios-education-oversight/</td>\n",
       "    </tr>\n",
       "    <tr>\n",
       "      <th>1547</th>\n",
       "      <td>en</td>\n",
       "      <td>woub.org</td>\n",
       "      <td>http://woub.org</td>\n",
       "      <td>2023-04-06 00:00:00</td>\n",
       "      <td>The Supreme Court won’t enforce a West Virginia law banning trans athletes from girls’ teams</td>\n",
       "      <td>https://woub.org/2023/04/06/supreme-court-west-virginia-ban-trans-athletes/</td>\n",
       "    </tr>\n",
       "    <tr>\n",
       "      <th>1548</th>\n",
       "      <td>en</td>\n",
       "      <td>woub.org</td>\n",
       "      <td>http://woub.org</td>\n",
       "      <td>2023-04-20 00:00:00</td>\n",
       "      <td>Protests break out as Ohio lawmakers hear two controversial bills affecting transgender youth</td>\n",
       "      <td>https://woub.org/2023/04/20/protests-ohio-lawmakers-bills-transgender-youth/</td>\n",
       "    </tr>\n",
       "    <tr>\n",
       "      <th>1549</th>\n",
       "      <td>en</td>\n",
       "      <td>woub.org</td>\n",
       "      <td>http://woub.org</td>\n",
       "      <td>2023-04-27 00:00:00</td>\n",
       "      <td>Ohio House approves $88 billion state budget, sending it to the Senate</td>\n",
       "      <td>https://woub.org/2023/04/27/ohio-house-approves-88-billion-state-budget-sending-it-to-the-senate/</td>\n",
       "    </tr>\n",
       "    <tr>\n",
       "      <th>1550</th>\n",
       "      <td>en</td>\n",
       "      <td>woub.org</td>\n",
       "      <td>http://woub.org</td>\n",
       "      <td>2023-05-07 00:00:00</td>\n",
       "      <td>A key pro-choice group in Ohio gets a new leader as the battle over a reproductive rights amendment heats up</td>\n",
       "      <td>https://woub.org/2023/05/07/key-pro-choice-group-ohio-new-leader/</td>\n",
       "    </tr>\n",
       "    <tr>\n",
       "      <th>1551</th>\n",
       "      <td>en</td>\n",
       "      <td>woub.org</td>\n",
       "      <td>http://woub.org</td>\n",
       "      <td>2023-05-30 00:00:00</td>\n",
       "      <td>The state-level battles brewing in America over LGBTQ+ rights</td>\n",
       "      <td>https://woub.org/2023/05/30/state-level-battles-brewing-lgbtq-rights/</td>\n",
       "    </tr>\n",
       "    <tr>\n",
       "      <th>1552</th>\n",
       "      <td>en</td>\n",
       "      <td>woub.org</td>\n",
       "      <td>http://woub.org</td>\n",
       "      <td>2023-06-14 00:00:00</td>\n",
       "      <td>Moms willing to risk losing friends, family, and faith communities to keep their kids safe, “Mama Bears” on INDEPENDENT LENS – June 20 at 10 pm</td>\n",
       "      <td>https://woub.org/2023/06/14/moms-willing-to-risk-losing-friends-family-and-faith-communities-to-keep-their-kids-safe-mama-bears-on-independent-lens-june-20-at-10-pm/</td>\n",
       "    </tr>\n",
       "    <tr>\n",
       "      <th>1553</th>\n",
       "      <td>en</td>\n",
       "      <td>woub.org</td>\n",
       "      <td>http://woub.org</td>\n",
       "      <td>2023-06-21 00:00:00</td>\n",
       "      <td>Ohio’s House takes up controversial bills affecting LGBTQ children later today</td>\n",
       "      <td>https://woub.org/2023/06/21/ohio-house-lgbtq-children/</td>\n",
       "    </tr>\n",
       "    <tr>\n",
       "      <th>1554</th>\n",
       "      <td>en</td>\n",
       "      <td>woub.org</td>\n",
       "      <td>http://woub.org</td>\n",
       "      <td>2023-06-21 00:00:00</td>\n",
       "      <td>The story of “Casa Susanna” when failure to wear gender-appropriate clothing was illegal on AMERICAN EXPERIENCE – June 27</td>\n",
       "      <td>https://woub.org/2023/06/21/the-story-of-casa-susanna-when-failure-to-wear-gender-appropriate-clothing-was-illegal-on-american-experience-june-27/</td>\n",
       "    </tr>\n",
       "    <tr>\n",
       "      <th>1555</th>\n",
       "      <td>en</td>\n",
       "      <td>woub.org</td>\n",
       "      <td>http://woub.org</td>\n",
       "      <td>2023-06-22 00:00:00</td>\n",
       "      <td>Ohio’s House passes bans related to gender affirming health care and transgender women in sports</td>\n",
       "      <td>https://woub.org/2023/06/22/ohio-house-bans-gender-affirming-health-care-transgender-women-sports/</td>\n",
       "    </tr>\n",
       "    <tr>\n",
       "      <th>1556</th>\n",
       "      <td>en</td>\n",
       "      <td>woub.org</td>\n",
       "      <td>http://woub.org</td>\n",
       "      <td>2023-06-24 00:00:00</td>\n",
       "      <td>Meet the lone Republican who voted against two Ohio House bills affecting transgender kids</td>\n",
       "      <td>https://woub.org/2023/06/24/meet-the-lone-republican-who-voted-against-two-ohio-house-bills-affecting-transgender-kids/</td>\n",
       "    </tr>\n",
       "    <tr>\n",
       "      <th>1557</th>\n",
       "      <td>en</td>\n",
       "      <td>woub.org</td>\n",
       "      <td>http://woub.org</td>\n",
       "      <td>2023-07-02 00:00:00</td>\n",
       "      <td>Discharged over sexual orientation, military still owes thousands of vets</td>\n",
       "      <td>https://woub.org/2023/07/02/discharged-over-sexual-orientation-military-still-owes-thousands-of-vets/</td>\n",
       "    </tr>\n",
       "    <tr>\n",
       "      <th>1558</th>\n",
       "      <td>en</td>\n",
       "      <td>woub.org</td>\n",
       "      <td>http://woub.org</td>\n",
       "      <td>2023-08-04 00:00:00</td>\n",
       "      <td>Issue 1 is drawing an unusually large turnout, straining some election offices</td>\n",
       "      <td>https://woub.org/2023/08/04/issue-1-is-drawing-an-unusually-large-turnout-straining-some-election-offices/</td>\n",
       "    </tr>\n",
       "    <tr>\n",
       "      <th>1559</th>\n",
       "      <td>en</td>\n",
       "      <td>woub.org</td>\n",
       "      <td>http://woub.org</td>\n",
       "      <td>2023-08-06 00:00:00</td>\n",
       "      <td>As clinics pivot post-Roe, battle rages over syringe service in opioid-ravaged West Virginia</td>\n",
       "      <td>https://woub.org/2023/08/06/as-clinics-pivot-post-roe-battle-rages-over-syringe-service-in-opioid-ravaged-west-virginia/</td>\n",
       "    </tr>\n",
       "    <tr>\n",
       "      <th>1560</th>\n",
       "      <td>en</td>\n",
       "      <td>woub.org</td>\n",
       "      <td>http://woub.org</td>\n",
       "      <td>2023-09-27 00:00:00</td>\n",
       "      <td>How to watch the second GOP presidential debate</td>\n",
       "      <td>https://woub.org/2023/09/27/how-to-watch-the-second-gop-presidential-debate/</td>\n",
       "    </tr>\n",
       "    <tr>\n",
       "      <th>1561</th>\n",
       "      <td>en</td>\n",
       "      <td>woub.org</td>\n",
       "      <td>http://woub.org</td>\n",
       "      <td>2023-09-28 00:00:00</td>\n",
       "      <td>8 moments that stood out from the second GOP 2024 presidential debate</td>\n",
       "      <td>https://woub.org/2023/09/28/8-moments-second-gop-2024-presidential-debate/</td>\n",
       "    </tr>\n",
       "    <tr>\n",
       "      <th>1562</th>\n",
       "      <td>en</td>\n",
       "      <td>woub.org</td>\n",
       "      <td>http://woub.org</td>\n",
       "      <td>2023-10-05 00:00:00</td>\n",
       "      <td>Ohio lawmakers hear questions and misinformation on the ‘bathroom bill’ for schools and universities</td>\n",
       "      <td>https://woub.org/2023/10/05/ohio-lawmakers-questions-misinformation-bathroom-bill-schools-universities/</td>\n",
       "    </tr>\n",
       "  </tbody>\n",
       "</table>\n",
       "</div>"
      ],
      "text/plain": [
       "     language media_name        media_url         publish_date  \\\n",
       "1543  en       woub.org   http://woub.org  2023-01-11 00:00:00   \n",
       "1544  en       woub.org   http://woub.org  2023-01-31 00:00:00   \n",
       "1545  en       woub.org   http://woub.org  2023-02-06 00:00:00   \n",
       "1546  en       woub.org   http://woub.org  2023-03-01 00:00:00   \n",
       "1547  en       woub.org   http://woub.org  2023-04-06 00:00:00   \n",
       "1548  en       woub.org   http://woub.org  2023-04-20 00:00:00   \n",
       "1549  en       woub.org   http://woub.org  2023-04-27 00:00:00   \n",
       "1550  en       woub.org   http://woub.org  2023-05-07 00:00:00   \n",
       "1551  en       woub.org   http://woub.org  2023-05-30 00:00:00   \n",
       "1552  en       woub.org   http://woub.org  2023-06-14 00:00:00   \n",
       "1553  en       woub.org   http://woub.org  2023-06-21 00:00:00   \n",
       "1554  en       woub.org   http://woub.org  2023-06-21 00:00:00   \n",
       "1555  en       woub.org   http://woub.org  2023-06-22 00:00:00   \n",
       "1556  en       woub.org   http://woub.org  2023-06-24 00:00:00   \n",
       "1557  en       woub.org   http://woub.org  2023-07-02 00:00:00   \n",
       "1558  en       woub.org   http://woub.org  2023-08-04 00:00:00   \n",
       "1559  en       woub.org   http://woub.org  2023-08-06 00:00:00   \n",
       "1560  en       woub.org   http://woub.org  2023-09-27 00:00:00   \n",
       "1561  en       woub.org   http://woub.org  2023-09-28 00:00:00   \n",
       "1562  en       woub.org   http://woub.org  2023-10-05 00:00:00   \n",
       "\n",
       "                                                                                                                                                title  \\\n",
       "1543  State lawmaker reintroduces a bill to limit the power of the Ohio State Board of Education                                                        \n",
       "1544  Recent infighting raises the question: How conservative is the GOP?                                                                               \n",
       "1545  Beyoncé sets a new Grammy record, while Harry Styles wins album of the year                                                                       \n",
       "1546  An Ohio Senate panel OKs a bill to overhaul Ohio’s education oversight                                                                            \n",
       "1547  The Supreme Court won’t enforce a West Virginia law banning trans athletes from girls’ teams                                                      \n",
       "1548  Protests break out as Ohio lawmakers hear two controversial bills affecting transgender youth                                                     \n",
       "1549  Ohio House approves $88 billion state budget, sending it to the Senate                                                                            \n",
       "1550  A key pro-choice group in Ohio gets a new leader as the battle over a reproductive rights amendment heats up                                      \n",
       "1551  The state-level battles brewing in America over LGBTQ+ rights                                                                                     \n",
       "1552  Moms willing to risk losing friends, family, and faith communities to keep their kids safe, “Mama Bears” on INDEPENDENT LENS – June 20 at 10 pm   \n",
       "1553  Ohio’s House takes up controversial bills affecting LGBTQ children later today                                                                    \n",
       "1554  The story of “Casa Susanna” when failure to wear gender-appropriate clothing was illegal on AMERICAN EXPERIENCE – June 27                         \n",
       "1555  Ohio’s House passes bans related to gender affirming health care and transgender women in sports                                                  \n",
       "1556  Meet the lone Republican who voted against two Ohio House bills affecting transgender kids                                                        \n",
       "1557  Discharged over sexual orientation, military still owes thousands of vets                                                                         \n",
       "1558  Issue 1 is drawing an unusually large turnout, straining some election offices                                                                    \n",
       "1559  As clinics pivot post-Roe, battle rages over syringe service in opioid-ravaged West Virginia                                                      \n",
       "1560  How to watch the second GOP presidential debate                                                                                                   \n",
       "1561  8 moments that stood out from the second GOP 2024 presidential debate                                                                             \n",
       "1562  Ohio lawmakers hear questions and misinformation on the ‘bathroom bill’ for schools and universities                                              \n",
       "\n",
       "                                                                                                                                                                        url  \n",
       "1543  https://woub.org/2023/01/11/state-lawmaker-reintroduces-a-bill-to-limit-the-power-of-the-ohio-state-board-of-education/                                                \n",
       "1544  https://woub.org/2023/01/31/recent-infighting-raises-the-question-how-conservative-is-the-gop/                                                                         \n",
       "1545  https://woub.org/2023/02/06/beyonce-sets-a-new-grammy-record-while-harry-styles-wins-album-of-the-year/                                                                \n",
       "1546  https://woub.org/2023/03/01/an-ohio-senate-panel-oks-a-bill-to-overhaul-ohios-education-oversight/                                                                     \n",
       "1547  https://woub.org/2023/04/06/supreme-court-west-virginia-ban-trans-athletes/                                                                                            \n",
       "1548  https://woub.org/2023/04/20/protests-ohio-lawmakers-bills-transgender-youth/                                                                                           \n",
       "1549  https://woub.org/2023/04/27/ohio-house-approves-88-billion-state-budget-sending-it-to-the-senate/                                                                      \n",
       "1550  https://woub.org/2023/05/07/key-pro-choice-group-ohio-new-leader/                                                                                                      \n",
       "1551  https://woub.org/2023/05/30/state-level-battles-brewing-lgbtq-rights/                                                                                                  \n",
       "1552  https://woub.org/2023/06/14/moms-willing-to-risk-losing-friends-family-and-faith-communities-to-keep-their-kids-safe-mama-bears-on-independent-lens-june-20-at-10-pm/  \n",
       "1553  https://woub.org/2023/06/21/ohio-house-lgbtq-children/                                                                                                                 \n",
       "1554  https://woub.org/2023/06/21/the-story-of-casa-susanna-when-failure-to-wear-gender-appropriate-clothing-was-illegal-on-american-experience-june-27/                     \n",
       "1555  https://woub.org/2023/06/22/ohio-house-bans-gender-affirming-health-care-transgender-women-sports/                                                                     \n",
       "1556  https://woub.org/2023/06/24/meet-the-lone-republican-who-voted-against-two-ohio-house-bills-affecting-transgender-kids/                                                \n",
       "1557  https://woub.org/2023/07/02/discharged-over-sexual-orientation-military-still-owes-thousands-of-vets/                                                                  \n",
       "1558  https://woub.org/2023/08/04/issue-1-is-drawing-an-unusually-large-turnout-straining-some-election-offices/                                                             \n",
       "1559  https://woub.org/2023/08/06/as-clinics-pivot-post-roe-battle-rages-over-syringe-service-in-opioid-ravaged-west-virginia/                                               \n",
       "1560  https://woub.org/2023/09/27/how-to-watch-the-second-gop-presidential-debate/                                                                                           \n",
       "1561  https://woub.org/2023/09/28/8-moments-second-gop-2024-presidential-debate/                                                                                             \n",
       "1562  https://woub.org/2023/10/05/ohio-lawmakers-questions-misinformation-bathroom-bill-schools-universities/                                                                "
      ]
     },
     "execution_count": 6,
     "metadata": {},
     "output_type": "execute_result"
    }
   ],
   "source": [
    "ohio_news[['language', 'media_name', 'media_url', 'publish_date', 'title', 'url']].tail(20)"
   ]
  },
  {
   "cell_type": "code",
   "execution_count": 7,
   "id": "fd427ee2-87be-4b91-956d-0e3eedb9fb98",
   "metadata": {},
   "outputs": [
    {
     "name": "stdout",
     "output_type": "stream",
     "text": [
      "<class 'pandas.core.frame.DataFrame'>\n",
      "Int64Index: 1541 entries, 0 to 1562\n",
      "Data columns (total 4 columns):\n",
      " #   Column        Non-Null Count  Dtype \n",
      "---  ------        --------------  ----- \n",
      " 0   media_name    1541 non-null   object\n",
      " 1   publish_date  1541 non-null   object\n",
      " 2   title         1541 non-null   object\n",
      " 3   url           1541 non-null   object\n",
      "dtypes: object(4)\n",
      "memory usage: 60.2+ KB\n",
      "None\n"
     ]
    }
   ],
   "source": [
    "relevant_news = ohio_news[~ohio_news['media_name'].isin(['foxnews.com',\n",
    "                                                         'nytimes.com'])]\n",
    "relevant_news = relevant_news[relevant_news['language']=='en']\n",
    "relevant_news = relevant_news[['media_name', 'publish_date', 'title', 'url']]\n",
    "print(relevant_news.info())"
   ]
  },
  {
   "cell_type": "code",
   "execution_count": 8,
   "id": "3e3cfb30-8f5c-4ae7-afe0-7282ce7ebc66",
   "metadata": {},
   "outputs": [
    {
     "name": "stdout",
     "output_type": "stream",
     "text": [
      "<class 'pandas.core.frame.DataFrame'>\n",
      "Int64Index: 1541 entries, 0 to 1562\n",
      "Data columns (total 4 columns):\n",
      " #   Column        Non-Null Count  Dtype         \n",
      "---  ------        --------------  -----         \n",
      " 0   media_name    1541 non-null   object        \n",
      " 1   publish_date  1541 non-null   datetime64[ns]\n",
      " 2   title         1541 non-null   object        \n",
      " 3   url           1541 non-null   object        \n",
      "dtypes: datetime64[ns](1), object(3)\n",
      "memory usage: 60.2+ KB\n",
      "None\n"
     ]
    }
   ],
   "source": [
    "relevant_news.publish_date = pd.to_datetime(relevant_news.publish_date)\n",
    "relevant_news = relevant_news[relevant_news['publish_date'].dt.date >= start_date]\n",
    "relevant_news = relevant_news[relevant_news['publish_date'].dt.date <= end_date]\n",
    "print(relevant_news.info())"
   ]
  },
  {
   "cell_type": "code",
   "execution_count": 9,
   "id": "4b1a5baf-c81b-460f-aa9d-219cde6d8eba",
   "metadata": {},
   "outputs": [],
   "source": [
    "def get_article_from_url(url):\n",
    "    try:\n",
    "        article = Article(url)\n",
    "        article.download()\n",
    "        article.parse()\n",
    "        subtitle = article.meta_description\n",
    "        if subtitle == '' or subtitle == ' ':\n",
    "            subtitle = None\n",
    "        text = article.text\n",
    "        if text == '' or text == ' ':\n",
    "            text = None\n",
    "    except:\n",
    "        subtitle = None\n",
    "        text = None\n",
    "    return subtitle, text"
   ]
  },
  {
   "cell_type": "code",
   "execution_count": 10,
   "id": "e8c5b8df-fb38-4844-8b7b-4ddb0f07e350",
   "metadata": {},
   "outputs": [
    {
     "name": "stderr",
     "output_type": "stream",
     "text": [
      "100%|██████████| 1541/1541 [27:12<00:00,  1.06s/it]"
     ]
    },
    {
     "name": "stdout",
     "output_type": "stream",
     "text": [
      "<class 'pandas.core.frame.DataFrame'>\n",
      "Int64Index: 1541 entries, 0 to 1562\n",
      "Data columns (total 6 columns):\n",
      " #   Column        Non-Null Count  Dtype         \n",
      "---  ------        --------------  -----         \n",
      " 0   media_name    1541 non-null   object        \n",
      " 1   publish_date  1541 non-null   datetime64[ns]\n",
      " 2   title         1541 non-null   object        \n",
      " 3   url           1541 non-null   object        \n",
      " 4   subtitle      884 non-null    object        \n",
      " 5   text          1216 non-null   object        \n",
      "dtypes: datetime64[ns](1), object(5)\n",
      "memory usage: 84.3+ KB\n",
      "None\n"
     ]
    },
    {
     "name": "stderr",
     "output_type": "stream",
     "text": [
      "\n"
     ]
    }
   ],
   "source": [
    "subtitles, texts = [], []\n",
    "all_urls = list(relevant_news['url'])\n",
    "for url in tqdm(all_urls):\n",
    "    subtitle, text = get_article_from_url(url)\n",
    "    subtitles.append(subtitle)\n",
    "    texts.append(text)\n",
    "relevant_news['subtitle'] = subtitles\n",
    "relevant_news['text'] = texts\n",
    "print(relevant_news.info())"
   ]
  },
  {
   "cell_type": "code",
   "execution_count": 11,
   "id": "f365703e-e41e-40d4-a49d-59bf6db6256f",
   "metadata": {},
   "outputs": [],
   "source": [
    "relevant_news.to_csv('data/ohio_article_texts_and_info.csv',\n",
    "                     index=False)"
   ]
  },
  {
   "cell_type": "code",
   "execution_count": null,
   "id": "aa5b86a5-9449-49f5-b403-bf779aa0e92a",
   "metadata": {},
   "outputs": [],
   "source": []
  }
 ],
 "metadata": {
  "kernelspec": {
   "display_name": "Python 3",
   "language": "python",
   "name": "python3"
  },
  "language_info": {
   "codemirror_mode": {
    "name": "ipython",
    "version": 3
   },
   "file_extension": ".py",
   "mimetype": "text/x-python",
   "name": "python",
   "nbconvert_exporter": "python",
   "pygments_lexer": "ipython3",
   "version": "3.8.10"
  }
 },
 "nbformat": 4,
 "nbformat_minor": 5
}
