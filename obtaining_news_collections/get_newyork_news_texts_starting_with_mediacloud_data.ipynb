{
 "cells": [
  {
   "cell_type": "code",
   "execution_count": 1,
   "id": "91417e12-acf0-4e78-adb2-dfa3cc15f2d3",
   "metadata": {},
   "outputs": [
    {
     "name": "stderr",
     "output_type": "stream",
     "text": [
      "<ipython-input-1-cd00b3c2a068>:12: FutureWarning: Passing a negative integer is deprecated in version 1.0 and will not be supported in future version. Instead, use None to not limit the column width.\n",
      "  pd.set_option('display.max_colwidth', -1)\n"
     ]
    }
   ],
   "source": [
    "from datetime import datetime, timedelta\n",
    "import pickle\n",
    "import os\n",
    "import pandas as pd\n",
    "import numpy as np\n",
    "from tqdm import tqdm\n",
    "import re\n",
    "\n",
    "from tldextract import extract\n",
    "import langid\n",
    "\n",
    "pd.set_option('display.max_colwidth', -1)\n",
    "pd.set_option('display.max_rows', 50)\n",
    "\n",
    "from newspaper import Article\n",
    "import matplotlib.pyplot as plt"
   ]
  },
  {
   "cell_type": "markdown",
   "id": "7c658d7d-06a1-4831-bff8-c1fea762e1a9",
   "metadata": {},
   "source": [
    "NOTE: Mediacloud news for state-specific collection includes news ABOUT the particular state, and as such, might sometimes contain news from national outlets where the article itself might be focused on the state itself. Most (if not all) of the collection is going to be sourced from local state-specific outlets, but not always. Currently, we are keeping all URLs within the obtained collection for the state, except those from nytimes and foxnews since those are our chosen national outlets. Trusting mediacloud's collections to be truly state-focused even when urls come from national outlets. "
   ]
  },
  {
   "cell_type": "code",
   "execution_count": 2,
   "id": "52b41e64-fc9c-4738-a5bd-54e0a4f2f0f6",
   "metadata": {},
   "outputs": [],
   "source": [
    "start_date = datetime.strptime('2023-01-01', '%Y-%m-%d').date()\n",
    "end_date = datetime.strptime('2023-12-31', '%Y-%m-%d').date()"
   ]
  },
  {
   "cell_type": "code",
   "execution_count": 3,
   "id": "49399f6d-bfb8-470d-af2f-88d273d4e522",
   "metadata": {},
   "outputs": [
    {
     "name": "stdout",
     "output_type": "stream",
     "text": [
      "<class 'pandas.core.frame.DataFrame'>\n",
      "RangeIndex: 7173 entries, 0 to 7172\n",
      "Data columns (total 9 columns):\n",
      " #   Column        Non-Null Count  Dtype \n",
      "---  ------        --------------  ----- \n",
      " 0   archived_url  7173 non-null   object\n",
      " 1   article_url   7173 non-null   object\n",
      " 2   id            7173 non-null   int64 \n",
      " 3   language      7173 non-null   object\n",
      " 4   media_name    7173 non-null   object\n",
      " 5   media_url     7173 non-null   object\n",
      " 6   publish_date  7173 non-null   object\n",
      " 7   title         7173 non-null   object\n",
      " 8   url           7173 non-null   object\n",
      "dtypes: int64(1), object(8)\n",
      "memory usage: 504.5+ KB\n",
      "None\n"
     ]
    }
   ],
   "source": [
    "ny_news = pd.read_csv('data/mediacloud_newyork.csv')\n",
    "print(ny_news.info())"
   ]
  },
  {
   "cell_type": "code",
   "execution_count": 4,
   "id": "305b9407-0890-4e89-89a6-5692525be239",
   "metadata": {},
   "outputs": [
    {
     "name": "stderr",
     "output_type": "stream",
     "text": [
      "100%|██████████| 7173/7173 [00:00<00:00, 836295.83it/s]\n"
     ]
    }
   ],
   "source": [
    "#analyze the distribution across months of publication -- are there gaps in the collection?\n",
    "all_dates = list(ny_news['publish_date'])\n",
    "month_to_vol = {}\n",
    "for i in range(1, 13):\n",
    "    month_to_vol[i] = 0\n",
    "for d in tqdm(all_dates):\n",
    "    m = int(d.split('-')[1])\n",
    "    month_to_vol[m] += 1"
   ]
  },
  {
   "cell_type": "code",
   "execution_count": 5,
   "id": "90fb02eb-b55f-4083-a6b7-93f4260895d2",
   "metadata": {},
   "outputs": [
    {
     "data": {
      "text/plain": [
       "[<matplotlib.lines.Line2D at 0x7f2d224b6f40>]"
      ]
     },
     "execution_count": 5,
     "metadata": {},
     "output_type": "execute_result"
    },
    {
     "data": {
      "image/png": "[encoded data removed]",
      "text/plain": [
       "<Figure size 432x288 with 1 Axes>"
      ]
     },
     "metadata": {
      "needs_background": "light"
     },
     "output_type": "display_data"
    }
   ],
   "source": [
    "plt.plot(list(month_to_vol.keys()), list(month_to_vol.values()))"
   ]
  },
  {
   "cell_type": "code",
   "execution_count": 6,
   "id": "60bd4833-c3cc-4cbf-ad7d-fc1f5249e3d6",
   "metadata": {
    "scrolled": true
   },
   "outputs": [
    {
     "data": {
      "text/html": [
       "<div>\n",
       "<style scoped>\n",
       "    .dataframe tbody tr th:only-of-type {\n",
       "        vertical-align: middle;\n",
       "    }\n",
       "\n",
       "    .dataframe tbody tr th {\n",
       "        vertical-align: top;\n",
       "    }\n",
       "\n",
       "    .dataframe thead th {\n",
       "        text-align: right;\n",
       "    }\n",
       "</style>\n",
       "<table border=\"1\" class=\"dataframe\">\n",
       "  <thead>\n",
       "    <tr style=\"text-align: right;\">\n",
       "      <th></th>\n",
       "      <th>language</th>\n",
       "      <th>media_name</th>\n",
       "      <th>media_url</th>\n",
       "      <th>publish_date</th>\n",
       "      <th>title</th>\n",
       "      <th>url</th>\n",
       "    </tr>\n",
       "  </thead>\n",
       "  <tbody>\n",
       "    <tr>\n",
       "      <th>7153</th>\n",
       "      <td>en</td>\n",
       "      <td>iol.co.za</td>\n",
       "      <td>http://iol.co.za</td>\n",
       "      <td>2023-10-26 00:00:00</td>\n",
       "      <td>The rise of Yaya Mavundla, one of SA's most influential trans woman</td>\n",
       "      <td>https://www.iol.co.za/sunday-tribune/lifestyle/the-rise-of-yaya-mavundla-one-of-sas-most-influential-trans-women-a53d96ab-e9aa-4b49-9843-b1ab55ec9699</td>\n",
       "    </tr>\n",
       "    <tr>\n",
       "      <th>7154</th>\n",
       "      <td>en</td>\n",
       "      <td>iol.co.za</td>\n",
       "      <td>http://iol.co.za</td>\n",
       "      <td>2023-10-09 00:00:00</td>\n",
       "      <td>Transgender women make history as they participate in Miss Universe</td>\n",
       "      <td>https://www.iol.co.za/sunday-tribune/lifestyle/transgender-women-make-history-as-they-participate-in-miss-universe-839ce124-6a15-4f6b-94aa-cde7180d21ed</td>\n",
       "    </tr>\n",
       "    <tr>\n",
       "      <th>7155</th>\n",
       "      <td>en</td>\n",
       "      <td>iol.co.za</td>\n",
       "      <td>http://iol.co.za</td>\n",
       "      <td>2023-06-11 00:00:00</td>\n",
       "      <td>Woolworths customers divided over support for gay pride</td>\n",
       "      <td>https://www.iol.co.za/sunday-tribune/news/woolworths-customers-divided-over-support-for-gay-pride-eb22ca93-bbbc-4a8c-9999-d3e2279c1315</td>\n",
       "    </tr>\n",
       "    <tr>\n",
       "      <th>7156</th>\n",
       "      <td>en</td>\n",
       "      <td>iol.co.za</td>\n",
       "      <td>http://iol.co.za</td>\n",
       "      <td>2023-10-13 00:00:00</td>\n",
       "      <td>5 travel tips for first-time LGBTQIA+ travellers</td>\n",
       "      <td>https://www.iol.co.za/sunday-tribune/travel/5-travel-tips-for-first-time-lgbtqia-travellers-7fd9f8bd-ec85-4d67-a323-a7cab12102d8</td>\n",
       "    </tr>\n",
       "    <tr>\n",
       "      <th>7157</th>\n",
       "      <td>en</td>\n",
       "      <td>iol.co.za</td>\n",
       "      <td>http://iol.co.za</td>\n",
       "      <td>2023-12-01 00:00:00</td>\n",
       "      <td>8 ways corporates can protect women business travellers in sub-Saharan Africa</td>\n",
       "      <td>https://www.iol.co.za/sunday-tribune/travel/8-ways-corporates-can-protect-women-business-travellers-in-sub-saharan-africa-31be6d0b-caa2-435b-92bc-f186ff2ebf3a</td>\n",
       "    </tr>\n",
       "    <tr>\n",
       "      <th>7158</th>\n",
       "      <td>en</td>\n",
       "      <td>iol.co.za</td>\n",
       "      <td>http://iol.co.za</td>\n",
       "      <td>2023-07-24 00:00:00</td>\n",
       "      <td>Bye Bye Birdie: Twitter will lose bird logo in brand overhaul</td>\n",
       "      <td>https://www.iol.co.za/technology/bye-bye-birdie-twitter-will-lose-bird-logo-in-brand-overhaul-says-elon-musk-49dc2e4d-ffde-5272-8a9b-d40ea1589d3a</td>\n",
       "    </tr>\n",
       "    <tr>\n",
       "      <th>7159</th>\n",
       "      <td>en</td>\n",
       "      <td>iol.co.za</td>\n",
       "      <td>http://iol.co.za</td>\n",
       "      <td>2023-01-22 00:00:00</td>\n",
       "      <td>Meta is reviewing the call to make adult nudity policies more inclusive</td>\n",
       "      <td>https://www.iol.co.za/technology/software-and-internet/meta-is-reviewing-the-call-to-make-adult-nudity-policies-more-inclusive-66d774b1-2313-46c2-8c52-5936b13595d0</td>\n",
       "    </tr>\n",
       "    <tr>\n",
       "      <th>7160</th>\n",
       "      <td>en</td>\n",
       "      <td>iol.co.za</td>\n",
       "      <td>http://iol.co.za</td>\n",
       "      <td>2023-03-06 00:00:00</td>\n",
       "      <td>Anglican Church Synod of Bishops agree on pastoral care for LGBTQI members</td>\n",
       "      <td>https://www.iol.co.za/the-star/news/anglican-church-synod-of-bishops-agree-on-pastoral-care-for-lgbtqi-members-6fab8a5c-278f-4bc8-a3eb-bf5b013defee</td>\n",
       "    </tr>\n",
       "    <tr>\n",
       "      <th>7161</th>\n",
       "      <td>en</td>\n",
       "      <td>iol.co.za</td>\n",
       "      <td>http://iol.co.za</td>\n",
       "      <td>2023-08-18 00:00:00</td>\n",
       "      <td>Charlize Theron sparks social media conversations about how she dresses her children</td>\n",
       "      <td>https://www.iol.co.za/the-star/news/charlize-theron-sparks-social-media-conversations-about-how-she-dresses-her-children-8d57aeeb-68ff-45e9-adf5-a6f7b7162af5</td>\n",
       "    </tr>\n",
       "    <tr>\n",
       "      <th>7162</th>\n",
       "      <td>en</td>\n",
       "      <td>iol.co.za</td>\n",
       "      <td>http://iol.co.za</td>\n",
       "      <td>2023-11-01 00:00:00</td>\n",
       "      <td>GDE must educate teachers and learners on sexual orientation, says DA</td>\n",
       "      <td>https://www.iol.co.za/the-star/news/gde-must-educate-teachers-and-learners-on-sexual-orientation-says-da-0ff3210f-ab35-403a-8631-ac1992d32b7f</td>\n",
       "    </tr>\n",
       "    <tr>\n",
       "      <th>7163</th>\n",
       "      <td>en</td>\n",
       "      <td>iol.co.za</td>\n",
       "      <td>http://iol.co.za</td>\n",
       "      <td>2023-11-20 00:00:00</td>\n",
       "      <td>Online dating site Grindr says takes kidnappings and safety of its subscribers seriously</td>\n",
       "      <td>https://www.iol.co.za/the-star/news/online-dating-site-grindr-says-takes-kidnappings-and-safety-of-its-subscribers-seriously-40434e07-9efa-4f6f-9a87-18918217fb19</td>\n",
       "    </tr>\n",
       "    <tr>\n",
       "      <th>7164</th>\n",
       "      <td>en</td>\n",
       "      <td>iol.co.za</td>\n",
       "      <td>http://iol.co.za</td>\n",
       "      <td>2023-02-16 00:00:00</td>\n",
       "      <td>Police apprehended a kidnapping syndicate targeting LGBTQ community in Gauteng</td>\n",
       "      <td>https://www.iol.co.za/the-star/news/police-apprehend-robbery-kidnapping-syndicate-targeting-lgbtq-community-in-gauteng-on-dating-app-5b8c6180-8540-4eda-9754-c47ecce286ea</td>\n",
       "    </tr>\n",
       "    <tr>\n",
       "      <th>7165</th>\n",
       "      <td>en</td>\n",
       "      <td>iol.co.za</td>\n",
       "      <td>http://iol.co.za</td>\n",
       "      <td>2023-06-04 00:00:00</td>\n",
       "      <td>Social media divided over Woolworths’ Pride Month campaign</td>\n",
       "      <td>https://www.iol.co.za/the-star/news/social-media-divided-over-woolworths-pride-month-campaign-e5a9e811-2b95-46d2-8bb4-1ae80d9879ec</td>\n",
       "    </tr>\n",
       "    <tr>\n",
       "      <th>7166</th>\n",
       "      <td>en</td>\n",
       "      <td>iol.co.za</td>\n",
       "      <td>http://iol.co.za</td>\n",
       "      <td>2023-02-06 00:00:00</td>\n",
       "      <td>We want President Ramaphosa to address the LGBTQIA+ community in his State of the Nation Address, says organisation</td>\n",
       "      <td>https://www.iol.co.za/the-star/news/we-want-president-ramaphosa-to-address-the-lgbtqia-community-in-his-state-of-the-nation-address-says-organisation-7a70fa5c-74c5-44d7-a7dd-fc2dd61b8083</td>\n",
       "    </tr>\n",
       "    <tr>\n",
       "      <th>7167</th>\n",
       "      <td>en</td>\n",
       "      <td>iol.co.za</td>\n",
       "      <td>http://iol.co.za</td>\n",
       "      <td>2023-06-05 00:00:00</td>\n",
       "      <td>Woolworths SA refuses to back down from supporting Pride Month following an online backlash.</td>\n",
       "      <td>https://www.iol.co.za/the-star/news/woolworths-sa-refuses-to-back-down-from-supporting-pride-month-following-backlash-online-6b539ffe-7de1-43e7-84a4-f600d2e852d6</td>\n",
       "    </tr>\n",
       "    <tr>\n",
       "      <th>7168</th>\n",
       "      <td>en</td>\n",
       "      <td>iol.co.za</td>\n",
       "      <td>http://iol.co.za</td>\n",
       "      <td>2023-06-06 00:00:00</td>\n",
       "      <td>The top destinations for LGBTQ+ tourists in 2023 during Pride Month</td>\n",
       "      <td>https://www.iol.co.za/travel/the-top-destinations-for-lgbtq-tourists-in-2023-during-pride-month-ac68a5d8-b66a-4752-b551-2501253b3723</td>\n",
       "    </tr>\n",
       "    <tr>\n",
       "      <th>7169</th>\n",
       "      <td>en</td>\n",
       "      <td>iol.co.za</td>\n",
       "      <td>http://iol.co.za</td>\n",
       "      <td>2023-08-30 00:00:00</td>\n",
       "      <td>Canada warns LGBTQ travellers of risks when travelling to United States</td>\n",
       "      <td>https://www.iol.co.za/travel/world/north-america/canada-warns-lgbtq-travellers-of-risks-when-travelling-to-united-states-f34c2a5c-acd5-5aac-a0e7-b56e4cc98b8a</td>\n",
       "    </tr>\n",
       "    <tr>\n",
       "      <th>7170</th>\n",
       "      <td>en</td>\n",
       "      <td>iol.co.za</td>\n",
       "      <td>http://iol.co.za</td>\n",
       "      <td>2023-03-12 00:00:00</td>\n",
       "      <td>Anglican bishops urged to be ‘inclusive’ after rejecting same-sex marriages</td>\n",
       "      <td>https://www.iol.co.za/weekend-argus/news/anglican-bishops-urged-to-be-inclusive-after-rejecting-same-sex-marriages-4acb9f7a-0aac-4715-a8eb-7c221584f56a</td>\n",
       "    </tr>\n",
       "    <tr>\n",
       "      <th>7171</th>\n",
       "      <td>en</td>\n",
       "      <td>iol.co.za</td>\n",
       "      <td>http://iol.co.za</td>\n",
       "      <td>2023-02-07 00:00:00</td>\n",
       "      <td>LGBTQIA+ community says more can be done by Ramaphosa amidst SONA speech on Thursday</td>\n",
       "      <td>https://www.iol.co.za/weekend-argus/news/lgbtqia-community-says-more-can-be-done-by-ramaphosa-amidst-sona-speech-on-thursday-e7d6ae9c-ad4e-4457-8830-059d54d65475</td>\n",
       "    </tr>\n",
       "    <tr>\n",
       "      <th>7172</th>\n",
       "      <td>en</td>\n",
       "      <td>iol.co.za</td>\n",
       "      <td>http://iol.co.za</td>\n",
       "      <td>2023-01-14 00:00:00</td>\n",
       "      <td>Transgender woman stripped of her dignity in social media footage</td>\n",
       "      <td>https://www.iol.co.za/weekend-argus/news/transgender-woman-stripped-of-her-dignity-in-social-media-footage-afd95cfb-c164-429e-82bf-0abea6a2991d</td>\n",
       "    </tr>\n",
       "  </tbody>\n",
       "</table>\n",
       "</div>"
      ],
      "text/plain": [
       "     language media_name         media_url         publish_date  \\\n",
       "7153  en       iol.co.za  http://iol.co.za  2023-10-26 00:00:00   \n",
       "7154  en       iol.co.za  http://iol.co.za  2023-10-09 00:00:00   \n",
       "7155  en       iol.co.za  http://iol.co.za  2023-06-11 00:00:00   \n",
       "7156  en       iol.co.za  http://iol.co.za  2023-10-13 00:00:00   \n",
       "7157  en       iol.co.za  http://iol.co.za  2023-12-01 00:00:00   \n",
       "7158  en       iol.co.za  http://iol.co.za  2023-07-24 00:00:00   \n",
       "7159  en       iol.co.za  http://iol.co.za  2023-01-22 00:00:00   \n",
       "7160  en       iol.co.za  http://iol.co.za  2023-03-06 00:00:00   \n",
       "7161  en       iol.co.za  http://iol.co.za  2023-08-18 00:00:00   \n",
       "7162  en       iol.co.za  http://iol.co.za  2023-11-01 00:00:00   \n",
       "7163  en       iol.co.za  http://iol.co.za  2023-11-20 00:00:00   \n",
       "7164  en       iol.co.za  http://iol.co.za  2023-02-16 00:00:00   \n",
       "7165  en       iol.co.za  http://iol.co.za  2023-06-04 00:00:00   \n",
       "7166  en       iol.co.za  http://iol.co.za  2023-02-06 00:00:00   \n",
       "7167  en       iol.co.za  http://iol.co.za  2023-06-05 00:00:00   \n",
       "7168  en       iol.co.za  http://iol.co.za  2023-06-06 00:00:00   \n",
       "7169  en       iol.co.za  http://iol.co.za  2023-08-30 00:00:00   \n",
       "7170  en       iol.co.za  http://iol.co.za  2023-03-12 00:00:00   \n",
       "7171  en       iol.co.za  http://iol.co.za  2023-02-07 00:00:00   \n",
       "7172  en       iol.co.za  http://iol.co.za  2023-01-14 00:00:00   \n",
       "\n",
       "                                                                                                                    title  \\\n",
       "7153  The rise of Yaya Mavundla, one of SA's most influential trans woman                                                   \n",
       "7154  Transgender women make history as they participate in Miss Universe                                                   \n",
       "7155  Woolworths customers divided over support for gay pride                                                               \n",
       "7156  5 travel tips for first-time LGBTQIA+ travellers                                                                      \n",
       "7157  8 ways corporates can protect women business travellers in sub-Saharan Africa                                         \n",
       "7158  Bye Bye Birdie: Twitter will lose bird logo in brand overhaul                                                         \n",
       "7159  Meta is reviewing the call to make adult nudity policies more inclusive                                               \n",
       "7160  Anglican Church Synod of Bishops agree on pastoral care for LGBTQI members                                            \n",
       "7161  Charlize Theron sparks social media conversations about how she dresses her children                                  \n",
       "7162  GDE must educate teachers and learners on sexual orientation, says DA                                                 \n",
       "7163  Online dating site Grindr says takes kidnappings and safety of its subscribers seriously                              \n",
       "7164  Police apprehended a kidnapping syndicate targeting LGBTQ community in Gauteng                                        \n",
       "7165  Social media divided over Woolworths’ Pride Month campaign                                                            \n",
       "7166  We want President Ramaphosa to address the LGBTQIA+ community in his State of the Nation Address, says organisation   \n",
       "7167  Woolworths SA refuses to back down from supporting Pride Month following an online backlash.                          \n",
       "7168  The top destinations for LGBTQ+ tourists in 2023 during Pride Month                                                   \n",
       "7169  Canada warns LGBTQ travellers of risks when travelling to United States                                               \n",
       "7170  Anglican bishops urged to be ‘inclusive’ after rejecting same-sex marriages                                           \n",
       "7171  LGBTQIA+ community says more can be done by Ramaphosa amidst SONA speech on Thursday                                  \n",
       "7172  Transgender woman stripped of her dignity in social media footage                                                     \n",
       "\n",
       "                                                                                                                                                                                             url  \n",
       "7153  https://www.iol.co.za/sunday-tribune/lifestyle/the-rise-of-yaya-mavundla-one-of-sas-most-influential-trans-women-a53d96ab-e9aa-4b49-9843-b1ab55ec9699                                       \n",
       "7154  https://www.iol.co.za/sunday-tribune/lifestyle/transgender-women-make-history-as-they-participate-in-miss-universe-839ce124-6a15-4f6b-94aa-cde7180d21ed                                     \n",
       "7155  https://www.iol.co.za/sunday-tribune/news/woolworths-customers-divided-over-support-for-gay-pride-eb22ca93-bbbc-4a8c-9999-d3e2279c1315                                                      \n",
       "7156  https://www.iol.co.za/sunday-tribune/travel/5-travel-tips-for-first-time-lgbtqia-travellers-7fd9f8bd-ec85-4d67-a323-a7cab12102d8                                                            \n",
       "7157  https://www.iol.co.za/sunday-tribune/travel/8-ways-corporates-can-protect-women-business-travellers-in-sub-saharan-africa-31be6d0b-caa2-435b-92bc-f186ff2ebf3a                              \n",
       "7158  https://www.iol.co.za/technology/bye-bye-birdie-twitter-will-lose-bird-logo-in-brand-overhaul-says-elon-musk-49dc2e4d-ffde-5272-8a9b-d40ea1589d3a                                           \n",
       "7159  https://www.iol.co.za/technology/software-and-internet/meta-is-reviewing-the-call-to-make-adult-nudity-policies-more-inclusive-66d774b1-2313-46c2-8c52-5936b13595d0                         \n",
       "7160  https://www.iol.co.za/the-star/news/anglican-church-synod-of-bishops-agree-on-pastoral-care-for-lgbtqi-members-6fab8a5c-278f-4bc8-a3eb-bf5b013defee                                         \n",
       "7161  https://www.iol.co.za/the-star/news/charlize-theron-sparks-social-media-conversations-about-how-she-dresses-her-children-8d57aeeb-68ff-45e9-adf5-a6f7b7162af5                               \n",
       "7162  https://www.iol.co.za/the-star/news/gde-must-educate-teachers-and-learners-on-sexual-orientation-says-da-0ff3210f-ab35-403a-8631-ac1992d32b7f                                               \n",
       "7163  https://www.iol.co.za/the-star/news/online-dating-site-grindr-says-takes-kidnappings-and-safety-of-its-subscribers-seriously-40434e07-9efa-4f6f-9a87-18918217fb19                           \n",
       "7164  https://www.iol.co.za/the-star/news/police-apprehend-robbery-kidnapping-syndicate-targeting-lgbtq-community-in-gauteng-on-dating-app-5b8c6180-8540-4eda-9754-c47ecce286ea                   \n",
       "7165  https://www.iol.co.za/the-star/news/social-media-divided-over-woolworths-pride-month-campaign-e5a9e811-2b95-46d2-8bb4-1ae80d9879ec                                                          \n",
       "7166  https://www.iol.co.za/the-star/news/we-want-president-ramaphosa-to-address-the-lgbtqia-community-in-his-state-of-the-nation-address-says-organisation-7a70fa5c-74c5-44d7-a7dd-fc2dd61b8083  \n",
       "7167  https://www.iol.co.za/the-star/news/woolworths-sa-refuses-to-back-down-from-supporting-pride-month-following-backlash-online-6b539ffe-7de1-43e7-84a4-f600d2e852d6                           \n",
       "7168  https://www.iol.co.za/travel/the-top-destinations-for-lgbtq-tourists-in-2023-during-pride-month-ac68a5d8-b66a-4752-b551-2501253b3723                                                        \n",
       "7169  https://www.iol.co.za/travel/world/north-america/canada-warns-lgbtq-travellers-of-risks-when-travelling-to-united-states-f34c2a5c-acd5-5aac-a0e7-b56e4cc98b8a                               \n",
       "7170  https://www.iol.co.za/weekend-argus/news/anglican-bishops-urged-to-be-inclusive-after-rejecting-same-sex-marriages-4acb9f7a-0aac-4715-a8eb-7c221584f56a                                     \n",
       "7171  https://www.iol.co.za/weekend-argus/news/lgbtqia-community-says-more-can-be-done-by-ramaphosa-amidst-sona-speech-on-thursday-e7d6ae9c-ad4e-4457-8830-059d54d65475                           \n",
       "7172  https://www.iol.co.za/weekend-argus/news/transgender-woman-stripped-of-her-dignity-in-social-media-footage-afd95cfb-c164-429e-82bf-0abea6a2991d                                             "
      ]
     },
     "execution_count": 6,
     "metadata": {},
     "output_type": "execute_result"
    }
   ],
   "source": [
    "ny_news[['language', 'media_name', 'media_url', 'publish_date', 'title', 'url']].tail(20)"
   ]
  },
  {
   "cell_type": "code",
   "execution_count": 7,
   "id": "fd427ee2-87be-4b91-956d-0e3eedb9fb98",
   "metadata": {},
   "outputs": [
    {
     "name": "stdout",
     "output_type": "stream",
     "text": [
      "<class 'pandas.core.frame.DataFrame'>\n",
      "Int64Index: 5990 entries, 0 to 7172\n",
      "Data columns (total 4 columns):\n",
      " #   Column        Non-Null Count  Dtype \n",
      "---  ------        --------------  ----- \n",
      " 0   media_name    5990 non-null   object\n",
      " 1   publish_date  5990 non-null   object\n",
      " 2   title         5990 non-null   object\n",
      " 3   url           5990 non-null   object\n",
      "dtypes: object(4)\n",
      "memory usage: 234.0+ KB\n",
      "None\n"
     ]
    }
   ],
   "source": [
    "relevant_news = ny_news[~ny_news['media_name'].isin(['foxnews.com',\n",
    "                                                     'nytimes.com'])]\n",
    "relevant_news = relevant_news[relevant_news['language']=='en']\n",
    "relevant_news = relevant_news[['media_name', 'publish_date', 'title', 'url']]\n",
    "print(relevant_news.info())"
   ]
  },
  {
   "cell_type": "code",
   "execution_count": 8,
   "id": "3e3cfb30-8f5c-4ae7-afe0-7282ce7ebc66",
   "metadata": {},
   "outputs": [
    {
     "name": "stdout",
     "output_type": "stream",
     "text": [
      "<class 'pandas.core.frame.DataFrame'>\n",
      "Int64Index: 5990 entries, 0 to 7172\n",
      "Data columns (total 4 columns):\n",
      " #   Column        Non-Null Count  Dtype         \n",
      "---  ------        --------------  -----         \n",
      " 0   media_name    5990 non-null   object        \n",
      " 1   publish_date  5990 non-null   datetime64[ns]\n",
      " 2   title         5990 non-null   object        \n",
      " 3   url           5990 non-null   object        \n",
      "dtypes: datetime64[ns](1), object(3)\n",
      "memory usage: 234.0+ KB\n",
      "None\n"
     ]
    }
   ],
   "source": [
    "relevant_news.publish_date = pd.to_datetime(relevant_news.publish_date)\n",
    "relevant_news = relevant_news[relevant_news['publish_date'].dt.date >= start_date]\n",
    "relevant_news = relevant_news[relevant_news['publish_date'].dt.date <= end_date]\n",
    "print(relevant_news.info())"
   ]
  },
  {
   "cell_type": "code",
   "execution_count": 9,
   "id": "4b1a5baf-c81b-460f-aa9d-219cde6d8eba",
   "metadata": {},
   "outputs": [],
   "source": [
    "def get_article_from_url(url):\n",
    "    try:\n",
    "        article = Article(url)\n",
    "        article.download()\n",
    "        article.parse()\n",
    "        subtitle = article.meta_description\n",
    "        if subtitle == '' or subtitle == ' ':\n",
    "            subtitle = None\n",
    "        text = article.text\n",
    "        if text == '' or text == ' ':\n",
    "            text = None\n",
    "    except:\n",
    "        subtitle = None\n",
    "        text = None\n",
    "    return subtitle, text"
   ]
  },
  {
   "cell_type": "code",
   "execution_count": 10,
   "id": "e8c5b8df-fb38-4844-8b7b-4ddb0f07e350",
   "metadata": {},
   "outputs": [
    {
     "name": "stderr",
     "output_type": "stream",
     "text": [
      "100%|██████████| 5990/5990 [1:51:24<00:00,  1.12s/it]  "
     ]
    },
    {
     "name": "stdout",
     "output_type": "stream",
     "text": [
      "<class 'pandas.core.frame.DataFrame'>\n",
      "Int64Index: 5990 entries, 0 to 7172\n",
      "Data columns (total 6 columns):\n",
      " #   Column        Non-Null Count  Dtype         \n",
      "---  ------        --------------  -----         \n",
      " 0   media_name    5990 non-null   object        \n",
      " 1   publish_date  5990 non-null   datetime64[ns]\n",
      " 2   title         5990 non-null   object        \n",
      " 3   url           5990 non-null   object        \n",
      " 4   subtitle      3118 non-null   object        \n",
      " 5   text          4726 non-null   object        \n",
      "dtypes: datetime64[ns](1), object(5)\n",
      "memory usage: 327.6+ KB\n",
      "None\n"
     ]
    },
    {
     "name": "stderr",
     "output_type": "stream",
     "text": [
      "\n"
     ]
    }
   ],
   "source": [
    "subtitles, texts = [], []\n",
    "all_urls = list(relevant_news['url'])\n",
    "for url in tqdm(all_urls):\n",
    "    subtitle, text = get_article_from_url(url)\n",
    "    subtitles.append(subtitle)\n",
    "    texts.append(text)\n",
    "relevant_news['subtitle'] = subtitles\n",
    "relevant_news['text'] = texts\n",
    "print(relevant_news.info())"
   ]
  },
  {
   "cell_type": "code",
   "execution_count": 11,
   "id": "f365703e-e41e-40d4-a49d-59bf6db6256f",
   "metadata": {},
   "outputs": [],
   "source": [
    "relevant_news.to_csv('data/newyork_article_texts_and_info.csv',\n",
    "                     index=False)"
   ]
  },
  {
   "cell_type": "code",
   "execution_count": null,
   "id": "b73aa75f-cd27-4017-9643-1d1fc24d959d",
   "metadata": {},
   "outputs": [],
   "source": []
  }
 ],
 "metadata": {
  "kernelspec": {
   "display_name": "Python 3",
   "language": "python",
   "name": "python3"
  },
  "language_info": {
   "codemirror_mode": {
    "name": "ipython",
    "version": 3
   },
   "file_extension": ".py",
   "mimetype": "text/x-python",
   "name": "python",
   "nbconvert_exporter": "python",
   "pygments_lexer": "ipython3",
   "version": "3.8.10"
  }
 },
 "nbformat": 4,
 "nbformat_minor": 5
}
