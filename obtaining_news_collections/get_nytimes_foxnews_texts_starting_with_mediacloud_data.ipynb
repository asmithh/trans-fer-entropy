{
 "cells": [
  {
   "cell_type": "code",
   "execution_count": 8,
   "id": "b9370a2f-dcfb-44e6-80d9-256f980fe14d",
   "metadata": {},
   "outputs": [
    {
     "name": "stderr",
     "output_type": "stream",
     "text": [
      "<ipython-input-8-cd00b3c2a068>:12: FutureWarning: Passing a negative integer is deprecated in version 1.0 and will not be supported in future version. Instead, use None to not limit the column width.\n",
      "  pd.set_option('display.max_colwidth', -1)\n"
     ]
    }
   ],
   "source": [
    "from datetime import datetime, timedelta\n",
    "import pickle\n",
    "import os\n",
    "import pandas as pd\n",
    "import numpy as np\n",
    "from tqdm import tqdm\n",
    "import re\n",
    "\n",
    "from tldextract import extract\n",
    "import langid\n",
    "\n",
    "pd.set_option('display.max_colwidth', -1)\n",
    "pd.set_option('display.max_rows', 50)\n",
    "\n",
    "from newspaper import Article\n",
    "import matplotlib.pyplot as plt"
   ]
  },
  {
   "cell_type": "code",
   "execution_count": 2,
   "id": "d5c232bf-7132-4dda-aef7-f144e0012714",
   "metadata": {},
   "outputs": [],
   "source": [
    "start_date = datetime.strptime('2023-01-01', '%Y-%m-%d').date()\n",
    "end_date = datetime.strptime('2023-12-31', '%Y-%m-%d').date()"
   ]
  },
  {
   "cell_type": "code",
   "execution_count": 4,
   "id": "4e297f2e-0437-4554-a9f5-f0faf29ca7f7",
   "metadata": {},
   "outputs": [
    {
     "name": "stdout",
     "output_type": "stream",
     "text": [
      "<class 'pandas.core.frame.DataFrame'>\n",
      "Int64Index: 31311 entries, 0 to 11232\n",
      "Data columns (total 9 columns):\n",
      " #   Column        Non-Null Count  Dtype \n",
      "---  ------        --------------  ----- \n",
      " 0   archived_url  31311 non-null  object\n",
      " 1   article_url   31311 non-null  object\n",
      " 2   id            31311 non-null  int64 \n",
      " 3   language      31311 non-null  object\n",
      " 4   media_name    31311 non-null  object\n",
      " 5   media_url     31311 non-null  object\n",
      " 6   publish_date  31311 non-null  object\n",
      " 7   title         31311 non-null  object\n",
      " 8   url           31311 non-null  object\n",
      "dtypes: int64(1), object(8)\n",
      "memory usage: 2.4+ MB\n",
      "None\n"
     ]
    },
    {
     "name": "stderr",
     "output_type": "stream",
     "text": [
      "<ipython-input-4-90c59128f47d>:3: FutureWarning: In a future version of pandas all arguments of concat except for the argument 'objs' will be keyword-only.\n",
      "  us_national_news = pd.concat([us_national_news1, us_national_news2], 0)\n"
     ]
    }
   ],
   "source": [
    "us_national_news1 = pd.read_csv('data/mediacloud_us_national_jan_jun_2023.csv')\n",
    "us_national_news2 = pd.read_csv('data/mediacloud_us_national_july_dec_2023.csv')\n",
    "us_national_news = pd.concat([us_national_news1, us_national_news2], 0)\n",
    "print(us_national_news.info())"
   ]
  },
  {
   "cell_type": "code",
   "execution_count": 7,
   "id": "dea7a8f7-d917-4d6e-8392-c5ed6409690b",
   "metadata": {},
   "outputs": [
    {
     "name": "stderr",
     "output_type": "stream",
     "text": [
      "100%|██████████| 31311/31311 [00:00<00:00, 580821.70it/s]\n"
     ]
    }
   ],
   "source": [
    "#analyze the distribution across months of publication -- are there gaps in the collection?\n",
    "all_dates = list(us_national_news['publish_date'])\n",
    "month_to_vol = {}\n",
    "for i in range(1, 13):\n",
    "    month_to_vol[i] = 0\n",
    "for d in tqdm(all_dates):\n",
    "    m = int(d.split('-')[1])\n",
    "    month_to_vol[m] += 1"
   ]
  },
  {
   "cell_type": "code",
   "execution_count": 10,
   "id": "6274f848-4c37-4ef4-a3d2-83f8b0f88d7c",
   "metadata": {},
   "outputs": [
    {
     "data": {
      "text/plain": [
       "[<matplotlib.lines.Line2D at 0x7f060d7fb220>]"
      ]
     },
     "execution_count": 10,
     "metadata": {},
     "output_type": "execute_result"
    },
    {
     "data": {
      "image/png": "[encoded data removed]",
      "text/plain": [
       "<Figure size 432x288 with 1 Axes>"
      ]
     },
     "metadata": {
      "needs_background": "light"
     },
     "output_type": "display_data"
    }
   ],
   "source": [
    "plt.plot(list(month_to_vol.keys()), list(month_to_vol.values()))"
   ]
  },
  {
   "cell_type": "code",
   "execution_count": 11,
   "id": "cb5f88d1-31e3-480a-90c9-343b65251ad8",
   "metadata": {
    "scrolled": true
   },
   "outputs": [
    {
     "data": {
      "text/html": [
       "<div>\n",
       "<style scoped>\n",
       "    .dataframe tbody tr th:only-of-type {\n",
       "        vertical-align: middle;\n",
       "    }\n",
       "\n",
       "    .dataframe tbody tr th {\n",
       "        vertical-align: top;\n",
       "    }\n",
       "\n",
       "    .dataframe thead th {\n",
       "        text-align: right;\n",
       "    }\n",
       "</style>\n",
       "<table border=\"1\" class=\"dataframe\">\n",
       "  <thead>\n",
       "    <tr style=\"text-align: right;\">\n",
       "      <th></th>\n",
       "      <th>language</th>\n",
       "      <th>media_name</th>\n",
       "      <th>media_url</th>\n",
       "      <th>publish_date</th>\n",
       "      <th>title</th>\n",
       "      <th>url</th>\n",
       "    </tr>\n",
       "  </thead>\n",
       "  <tbody>\n",
       "    <tr>\n",
       "      <th>11213</th>\n",
       "      <td>en</td>\n",
       "      <td>spectator.org</td>\n",
       "      <td>http://spectator.org</td>\n",
       "      <td>2023-07-02 00:00:00</td>\n",
       "      <td>Portland Archbishop Reclaims Catholic Schools - The American Spectator | USA News and PoliticsThe American Spectator</td>\n",
       "      <td>https://spectator.org/portland-archbishop-reclaims-catholic-schools/</td>\n",
       "    </tr>\n",
       "    <tr>\n",
       "      <th>11214</th>\n",
       "      <td>en</td>\n",
       "      <td>spectator.org</td>\n",
       "      <td>http://spectator.org</td>\n",
       "      <td>2023-09-22 00:00:00</td>\n",
       "      <td>Profiling Profitable Hoaxes: Transgenderism, Climate Change, and 19th-Century Hysteria ‘Science’ - The American Spectator | USA News and PoliticsThe American Spectator</td>\n",
       "      <td>https://spectator.org/profiling-profitable-hoaxes-transgenderism-climate-change-and-19th-century-hysteria-science/</td>\n",
       "    </tr>\n",
       "    <tr>\n",
       "      <th>11215</th>\n",
       "      <td>en</td>\n",
       "      <td>spectator.org</td>\n",
       "      <td>http://spectator.org</td>\n",
       "      <td>2023-07-25 00:00:00</td>\n",
       "      <td>Ron DeSantis: Next Victim of the Democrats’ Digital Reign of Terror - The American Spectator | USA News and PoliticsThe American Spectator</td>\n",
       "      <td>https://spectator.org/ron-desantis-next-victim-of-the-democrats-digital-reign-of-terror/</td>\n",
       "    </tr>\n",
       "    <tr>\n",
       "      <th>11216</th>\n",
       "      <td>en</td>\n",
       "      <td>spectator.org</td>\n",
       "      <td>http://spectator.org</td>\n",
       "      <td>2023-12-11 00:00:00</td>\n",
       "      <td>The Left’s Systemic Anti-Semitism: It Isn’t Just the UPenn President - The American Spectator | USA News and PoliticsThe American Spectator</td>\n",
       "      <td>https://spectator.org/the-lefts-systemic-anti-semitism-it-isnt-just-the-upenn-president/</td>\n",
       "    </tr>\n",
       "    <tr>\n",
       "      <th>11217</th>\n",
       "      <td>en</td>\n",
       "      <td>spectator.org</td>\n",
       "      <td>http://spectator.org</td>\n",
       "      <td>2023-07-11 00:00:00</td>\n",
       "      <td>The Lie of ‘Live and Let Live’ - The American Spectator | USA News and PoliticsThe American Spectator</td>\n",
       "      <td>https://spectator.org/the-lie-of-live-and-let-live-lgbtq-pride/</td>\n",
       "    </tr>\n",
       "    <tr>\n",
       "      <th>11218</th>\n",
       "      <td>en</td>\n",
       "      <td>spectator.org</td>\n",
       "      <td>http://spectator.org</td>\n",
       "      <td>2023-07-24 00:00:00</td>\n",
       "      <td>The Twitter Exile - The American Spectator | USA News and PoliticsThe American Spectator</td>\n",
       "      <td>https://spectator.org/the-twitter-exile/</td>\n",
       "    </tr>\n",
       "    <tr>\n",
       "      <th>11219</th>\n",
       "      <td>en</td>\n",
       "      <td>spectator.org</td>\n",
       "      <td>http://spectator.org</td>\n",
       "      <td>2023-12-26 00:00:00</td>\n",
       "      <td>The Venezuela Template Against Democracy</td>\n",
       "      <td>https://spectator.org/the-venezuela-template-against-democracy/?utm_source=rss&amp;utm_medium=rss&amp;utm_campaign=the-venezuela-template-against-democracy</td>\n",
       "    </tr>\n",
       "    <tr>\n",
       "      <th>11220</th>\n",
       "      <td>en</td>\n",
       "      <td>spectator.org</td>\n",
       "      <td>http://spectator.org</td>\n",
       "      <td>2023-11-12 00:00:00</td>\n",
       "      <td>Trans-Forming California - The American Spectator | USA News and PoliticsThe American Spectator</td>\n",
       "      <td>https://spectator.org/trans-forming-california/</td>\n",
       "    </tr>\n",
       "    <tr>\n",
       "      <th>11221</th>\n",
       "      <td>en</td>\n",
       "      <td>spectator.org</td>\n",
       "      <td>http://spectator.org</td>\n",
       "      <td>2023-08-07 00:00:00</td>\n",
       "      <td>Trans Individuals Seek Euthanasia After ‘Gender-Affirming Care’ - The American Spectator | USA News and PoliticsThe American Spectator</td>\n",
       "      <td>https://spectator.org/trans-individuals-seek-euthanasia-after-gender-affirming-care/</td>\n",
       "    </tr>\n",
       "    <tr>\n",
       "      <th>11222</th>\n",
       "      <td>en</td>\n",
       "      <td>spectator.org</td>\n",
       "      <td>http://spectator.org</td>\n",
       "      <td>2023-09-25 00:00:00</td>\n",
       "      <td>Trump Falters in the Culture War - The American Spectator | USA News and PoliticsThe American Spectator</td>\n",
       "      <td>https://spectator.org/trump-falters-in-the-culture-war/</td>\n",
       "    </tr>\n",
       "    <tr>\n",
       "      <th>11223</th>\n",
       "      <td>en</td>\n",
       "      <td>spectator.org</td>\n",
       "      <td>http://spectator.org</td>\n",
       "      <td>2023-11-02 00:00:00</td>\n",
       "      <td>USA Cycling Attempts to Justify Men Racing Against Women - The American Spectator | USA News and PoliticsThe American Spectator</td>\n",
       "      <td>https://spectator.org/usa-cycling-attempts-to-justify-men-racing-against-women/</td>\n",
       "    </tr>\n",
       "    <tr>\n",
       "      <th>11224</th>\n",
       "      <td>en</td>\n",
       "      <td>spectator.org</td>\n",
       "      <td>http://spectator.org</td>\n",
       "      <td>2023-09-14 00:00:00</td>\n",
       "      <td>VIDEO: 70 Percent of Americans Oppose Transgender Athletes in Women’s Sports - The American Spectator | USA News and PoliticsThe American Spectator</td>\n",
       "      <td>https://spectator.org/video-70-percent-of-americans-oppose-transgender-athletes-in-womens-sports/</td>\n",
       "    </tr>\n",
       "    <tr>\n",
       "      <th>11225</th>\n",
       "      <td>en</td>\n",
       "      <td>spectator.org</td>\n",
       "      <td>http://spectator.org</td>\n",
       "      <td>2023-07-28 00:00:00</td>\n",
       "      <td>VIDEO: Parents Are Being Locked Out of Their Kids’ Medical Records - The American Spectator | USA News and PoliticsThe American Spectator</td>\n",
       "      <td>https://spectator.org/video-parents-are-being-locked-out-of-their-kids-medical-records/</td>\n",
       "    </tr>\n",
       "    <tr>\n",
       "      <th>11226</th>\n",
       "      <td>en</td>\n",
       "      <td>spectator.org</td>\n",
       "      <td>http://spectator.org</td>\n",
       "      <td>2023-07-24 00:00:00</td>\n",
       "      <td>Virginia Board of Education Reestablishes Sex-Based Bathrooms - The American Spectator | USA News and PoliticsThe American Spectator</td>\n",
       "      <td>https://spectator.org/virginia-board-of-education-reestablishes-sex-based-bathrooms/</td>\n",
       "    </tr>\n",
       "    <tr>\n",
       "      <th>11227</th>\n",
       "      <td>en</td>\n",
       "      <td>spectator.org</td>\n",
       "      <td>http://spectator.org</td>\n",
       "      <td>2023-08-06 00:00:00</td>\n",
       "      <td>War on Catholics Continues: Churches and Crucifixes Desecrated - The American Spectator | USA News and PoliticsThe American Spectator</td>\n",
       "      <td>https://spectator.org/war-on-catholics-continues-churches-and-crucifixes-desecrated/</td>\n",
       "    </tr>\n",
       "    <tr>\n",
       "      <th>11228</th>\n",
       "      <td>en</td>\n",
       "      <td>spectator.org</td>\n",
       "      <td>http://spectator.org</td>\n",
       "      <td>2023-10-16 00:00:00</td>\n",
       "      <td>What Isaacson Doesn’t Get About Elon Musk - The American Spectator | USA News and PoliticsThe American Spectator</td>\n",
       "      <td>https://spectator.org/what-isaacson-doesnt-get-about-elon-musk/</td>\n",
       "    </tr>\n",
       "    <tr>\n",
       "      <th>11229</th>\n",
       "      <td>en</td>\n",
       "      <td>spectator.org</td>\n",
       "      <td>http://spectator.org</td>\n",
       "      <td>2023-07-11 00:00:00</td>\n",
       "      <td>What’s a Defense Industrial Base, Lindsay Graham? - The American Spectator | USA News and PoliticsThe American Spectator</td>\n",
       "      <td>https://spectator.org/whats-a-defense-industrial-base-lindsay-graham/</td>\n",
       "    </tr>\n",
       "    <tr>\n",
       "      <th>11230</th>\n",
       "      <td>en</td>\n",
       "      <td>spectator.org</td>\n",
       "      <td>http://spectator.org</td>\n",
       "      <td>2023-11-09 00:00:00</td>\n",
       "      <td>What’s the Matter with Virginia? - The American Spectator | USA News and PoliticsThe American Spectator</td>\n",
       "      <td>https://spectator.org/whats-the-matter-with-virginia/</td>\n",
       "    </tr>\n",
       "    <tr>\n",
       "      <th>11231</th>\n",
       "      <td>en</td>\n",
       "      <td>spectator.org</td>\n",
       "      <td>http://spectator.org</td>\n",
       "      <td>2023-11-13 00:00:00</td>\n",
       "      <td>When Binding Is Not Enough - The American Spectator | USA News and PoliticsThe American Spectator</td>\n",
       "      <td>https://spectator.org/when-binding-is-not-enough/</td>\n",
       "    </tr>\n",
       "    <tr>\n",
       "      <th>11232</th>\n",
       "      <td>en</td>\n",
       "      <td>spectator.org</td>\n",
       "      <td>http://spectator.org</td>\n",
       "      <td>2023-10-10 00:00:00</td>\n",
       "      <td>Will Ohio Vote No on Radical Abortion Amendment? - The American Spectator | USA News and PoliticsThe American Spectator</td>\n",
       "      <td>https://spectator.org/will-ohio-vote-no-on-radical-abortion-amendment/</td>\n",
       "    </tr>\n",
       "  </tbody>\n",
       "</table>\n",
       "</div>"
      ],
      "text/plain": [
       "      language     media_name             media_url         publish_date  \\\n",
       "11213  en       spectator.org  http://spectator.org  2023-07-02 00:00:00   \n",
       "11214  en       spectator.org  http://spectator.org  2023-09-22 00:00:00   \n",
       "11215  en       spectator.org  http://spectator.org  2023-07-25 00:00:00   \n",
       "11216  en       spectator.org  http://spectator.org  2023-12-11 00:00:00   \n",
       "11217  en       spectator.org  http://spectator.org  2023-07-11 00:00:00   \n",
       "11218  en       spectator.org  http://spectator.org  2023-07-24 00:00:00   \n",
       "11219  en       spectator.org  http://spectator.org  2023-12-26 00:00:00   \n",
       "11220  en       spectator.org  http://spectator.org  2023-11-12 00:00:00   \n",
       "11221  en       spectator.org  http://spectator.org  2023-08-07 00:00:00   \n",
       "11222  en       spectator.org  http://spectator.org  2023-09-25 00:00:00   \n",
       "11223  en       spectator.org  http://spectator.org  2023-11-02 00:00:00   \n",
       "11224  en       spectator.org  http://spectator.org  2023-09-14 00:00:00   \n",
       "11225  en       spectator.org  http://spectator.org  2023-07-28 00:00:00   \n",
       "11226  en       spectator.org  http://spectator.org  2023-07-24 00:00:00   \n",
       "11227  en       spectator.org  http://spectator.org  2023-08-06 00:00:00   \n",
       "11228  en       spectator.org  http://spectator.org  2023-10-16 00:00:00   \n",
       "11229  en       spectator.org  http://spectator.org  2023-07-11 00:00:00   \n",
       "11230  en       spectator.org  http://spectator.org  2023-11-09 00:00:00   \n",
       "11231  en       spectator.org  http://spectator.org  2023-11-13 00:00:00   \n",
       "11232  en       spectator.org  http://spectator.org  2023-10-10 00:00:00   \n",
       "\n",
       "                                                                                                                                                                         title  \\\n",
       "11213  Portland Archbishop Reclaims Catholic Schools - The American Spectator | USA News and PoliticsThe American Spectator                                                      \n",
       "11214  Profiling Profitable Hoaxes: Transgenderism, Climate Change, and 19th-Century Hysteria ‘Science’ - The American Spectator | USA News and PoliticsThe American Spectator   \n",
       "11215  Ron DeSantis: Next Victim of the Democrats’ Digital Reign of Terror - The American Spectator | USA News and PoliticsThe American Spectator                                \n",
       "11216  The Left’s Systemic Anti-Semitism: It Isn’t Just the UPenn President - The American Spectator | USA News and PoliticsThe American Spectator                               \n",
       "11217  The Lie of ‘Live and Let Live’ - The American Spectator | USA News and PoliticsThe American Spectator                                                                     \n",
       "11218  The Twitter Exile - The American Spectator | USA News and PoliticsThe American Spectator                                                                                  \n",
       "11219  The Venezuela Template Against Democracy                                                                                                                                  \n",
       "11220  Trans-Forming California - The American Spectator | USA News and PoliticsThe American Spectator                                                                           \n",
       "11221  Trans Individuals Seek Euthanasia After ‘Gender-Affirming Care’ - The American Spectator | USA News and PoliticsThe American Spectator                                    \n",
       "11222  Trump Falters in the Culture War - The American Spectator | USA News and PoliticsThe American Spectator                                                                   \n",
       "11223  USA Cycling Attempts to Justify Men Racing Against Women - The American Spectator | USA News and PoliticsThe American Spectator                                           \n",
       "11224  VIDEO: 70 Percent of Americans Oppose Transgender Athletes in Women’s Sports - The American Spectator | USA News and PoliticsThe American Spectator                       \n",
       "11225  VIDEO: Parents Are Being Locked Out of Their Kids’ Medical Records - The American Spectator | USA News and PoliticsThe American Spectator                                 \n",
       "11226  Virginia Board of Education Reestablishes Sex-Based Bathrooms - The American Spectator | USA News and PoliticsThe American Spectator                                      \n",
       "11227  War on Catholics Continues: Churches and Crucifixes Desecrated - The American Spectator | USA News and PoliticsThe American Spectator                                     \n",
       "11228  What Isaacson Doesn’t Get About Elon Musk - The American Spectator | USA News and PoliticsThe American Spectator                                                          \n",
       "11229  What’s a Defense Industrial Base, Lindsay Graham? - The American Spectator | USA News and PoliticsThe American Spectator                                                  \n",
       "11230  What’s the Matter with Virginia? - The American Spectator | USA News and PoliticsThe American Spectator                                                                   \n",
       "11231  When Binding Is Not Enough - The American Spectator | USA News and PoliticsThe American Spectator                                                                         \n",
       "11232  Will Ohio Vote No on Radical Abortion Amendment? - The American Spectator | USA News and PoliticsThe American Spectator                                                   \n",
       "\n",
       "                                                                                                                                                       url  \n",
       "11213  https://spectator.org/portland-archbishop-reclaims-catholic-schools/                                                                                 \n",
       "11214  https://spectator.org/profiling-profitable-hoaxes-transgenderism-climate-change-and-19th-century-hysteria-science/                                   \n",
       "11215  https://spectator.org/ron-desantis-next-victim-of-the-democrats-digital-reign-of-terror/                                                             \n",
       "11216  https://spectator.org/the-lefts-systemic-anti-semitism-it-isnt-just-the-upenn-president/                                                             \n",
       "11217  https://spectator.org/the-lie-of-live-and-let-live-lgbtq-pride/                                                                                      \n",
       "11218  https://spectator.org/the-twitter-exile/                                                                                                             \n",
       "11219  https://spectator.org/the-venezuela-template-against-democracy/?utm_source=rss&utm_medium=rss&utm_campaign=the-venezuela-template-against-democracy  \n",
       "11220  https://spectator.org/trans-forming-california/                                                                                                      \n",
       "11221  https://spectator.org/trans-individuals-seek-euthanasia-after-gender-affirming-care/                                                                 \n",
       "11222  https://spectator.org/trump-falters-in-the-culture-war/                                                                                              \n",
       "11223  https://spectator.org/usa-cycling-attempts-to-justify-men-racing-against-women/                                                                      \n",
       "11224  https://spectator.org/video-70-percent-of-americans-oppose-transgender-athletes-in-womens-sports/                                                    \n",
       "11225  https://spectator.org/video-parents-are-being-locked-out-of-their-kids-medical-records/                                                              \n",
       "11226  https://spectator.org/virginia-board-of-education-reestablishes-sex-based-bathrooms/                                                                 \n",
       "11227  https://spectator.org/war-on-catholics-continues-churches-and-crucifixes-desecrated/                                                                 \n",
       "11228  https://spectator.org/what-isaacson-doesnt-get-about-elon-musk/                                                                                      \n",
       "11229  https://spectator.org/whats-a-defense-industrial-base-lindsay-graham/                                                                                \n",
       "11230  https://spectator.org/whats-the-matter-with-virginia/                                                                                                \n",
       "11231  https://spectator.org/when-binding-is-not-enough/                                                                                                    \n",
       "11232  https://spectator.org/will-ohio-vote-no-on-radical-abortion-amendment/                                                                               "
      ]
     },
     "execution_count": 11,
     "metadata": {},
     "output_type": "execute_result"
    }
   ],
   "source": [
    "us_national_news[['language', 'media_name', 'media_url', 'publish_date', 'title', 'url']].tail(20)"
   ]
  },
  {
   "cell_type": "code",
   "execution_count": 14,
   "id": "c03c3021-f8ec-4c8f-8cb4-a4bdf0c97ee6",
   "metadata": {},
   "outputs": [
    {
     "name": "stdout",
     "output_type": "stream",
     "text": [
      "<class 'pandas.core.frame.DataFrame'>\n",
      "Int64Index: 3495 entries, 5354 to 6441\n",
      "Data columns (total 4 columns):\n",
      " #   Column        Non-Null Count  Dtype \n",
      "---  ------        --------------  ----- \n",
      " 0   media_name    3495 non-null   object\n",
      " 1   publish_date  3495 non-null   object\n",
      " 2   title         3495 non-null   object\n",
      " 3   url           3495 non-null   object\n",
      "dtypes: object(4)\n",
      "memory usage: 136.5+ KB\n",
      "None\n"
     ]
    }
   ],
   "source": [
    "relevant_news = us_national_news[us_national_news['media_name'].isin(['foxnews.com',\n",
    "                                                                      'nytimes.com'])]\n",
    "relevant_news = relevant_news[relevant_news['language']=='en']\n",
    "relevant_news = relevant_news[['media_name', 'publish_date', 'title', 'url']]\n",
    "print(relevant_news.info())"
   ]
  },
  {
   "cell_type": "code",
   "execution_count": 15,
   "id": "2a46691e-13a6-44e5-b85b-19e2712f2c9e",
   "metadata": {},
   "outputs": [
    {
     "name": "stdout",
     "output_type": "stream",
     "text": [
      "<class 'pandas.core.frame.DataFrame'>\n",
      "Int64Index: 3495 entries, 5354 to 6441\n",
      "Data columns (total 4 columns):\n",
      " #   Column        Non-Null Count  Dtype         \n",
      "---  ------        --------------  -----         \n",
      " 0   media_name    3495 non-null   object        \n",
      " 1   publish_date  3495 non-null   datetime64[ns]\n",
      " 2   title         3495 non-null   object        \n",
      " 3   url           3495 non-null   object        \n",
      "dtypes: datetime64[ns](1), object(3)\n",
      "memory usage: 136.5+ KB\n",
      "None\n"
     ]
    }
   ],
   "source": [
    "relevant_news.publish_date = pd.to_datetime(relevant_news.publish_date)#.dt.date\n",
    "print(relevant_news.info())"
   ]
  },
  {
   "cell_type": "code",
   "execution_count": 16,
   "id": "96d90dfb-8ce2-476a-bc50-93a59f4efc13",
   "metadata": {},
   "outputs": [
    {
     "name": "stdout",
     "output_type": "stream",
     "text": [
      "<class 'pandas.core.frame.DataFrame'>\n",
      "Int64Index: 3495 entries, 5354 to 6441\n",
      "Data columns (total 4 columns):\n",
      " #   Column        Non-Null Count  Dtype         \n",
      "---  ------        --------------  -----         \n",
      " 0   media_name    3495 non-null   object        \n",
      " 1   publish_date  3495 non-null   datetime64[ns]\n",
      " 2   title         3495 non-null   object        \n",
      " 3   url           3495 non-null   object        \n",
      "dtypes: datetime64[ns](1), object(3)\n",
      "memory usage: 136.5+ KB\n",
      "None\n"
     ]
    }
   ],
   "source": [
    "relevant_news = relevant_news[relevant_news['publish_date'].dt.date >= start_date]\n",
    "relevant_news = relevant_news[relevant_news['publish_date'].dt.date <= end_date]\n",
    "print(relevant_news.info())"
   ]
  },
  {
   "cell_type": "code",
   "execution_count": 17,
   "id": "2dab3791-a491-4be9-bcbc-8cc76c910aff",
   "metadata": {},
   "outputs": [],
   "source": [
    "def get_article_from_url(url):\n",
    "    try:\n",
    "        article = Article(url)\n",
    "        article.download()\n",
    "        article.parse()\n",
    "        subtitle = article.meta_description\n",
    "        text = article.text\n",
    "    except:\n",
    "        subtitle = None\n",
    "        text = None\n",
    "    return subtitle, text"
   ]
  },
  {
   "cell_type": "code",
   "execution_count": 18,
   "id": "7c2429f6-b635-4542-ad46-e7bdd0adfc15",
   "metadata": {},
   "outputs": [
    {
     "name": "stderr",
     "output_type": "stream",
     "text": [
      " 46%|████▌     | 1599/3495 [15:51<17:03,  1.85it/s] /home/pranavgoel/miniconda3/envs/pg3/lib/python3.8/site-packages/PIL/Image.py:2817: UserWarning: image file could not be identified because WEBP support not installed\n",
      "  warnings.warn(message)\n",
      "100%|██████████| 3495/3495 [38:21<00:00,  1.52it/s]"
     ]
    },
    {
     "name": "stdout",
     "output_type": "stream",
     "text": [
      "<class 'pandas.core.frame.DataFrame'>\n",
      "Int64Index: 3495 entries, 5354 to 6441\n",
      "Data columns (total 6 columns):\n",
      " #   Column        Non-Null Count  Dtype         \n",
      "---  ------        --------------  -----         \n",
      " 0   media_name    3495 non-null   object        \n",
      " 1   publish_date  3495 non-null   datetime64[ns]\n",
      " 2   title         3495 non-null   object        \n",
      " 3   url           3495 non-null   object        \n",
      " 4   subtitle      3488 non-null   object        \n",
      " 5   text          3488 non-null   object        \n",
      "dtypes: datetime64[ns](1), object(5)\n",
      "memory usage: 191.1+ KB\n",
      "None\n"
     ]
    },
    {
     "name": "stderr",
     "output_type": "stream",
     "text": [
      "\n"
     ]
    }
   ],
   "source": [
    "subtitles, texts = [], []\n",
    "all_urls = list(relevant_news['url'])\n",
    "for url in tqdm(all_urls):\n",
    "    subtitle, text = get_article_from_url(url)\n",
    "    subtitles.append(subtitle)\n",
    "    texts.append(text)\n",
    "relevant_news['subtitle'] = subtitles\n",
    "relevant_news['text'] = texts\n",
    "print(relevant_news.info())"
   ]
  },
  {
   "cell_type": "code",
   "execution_count": 19,
   "id": "0cc02b73-257f-4a7e-8609-cac7a4b442a0",
   "metadata": {},
   "outputs": [
    {
     "data": {
      "text/plain": [
       "foxnews.com    2339\n",
       "nytimes.com    1156\n",
       "Name: media_name, dtype: int64"
      ]
     },
     "execution_count": 19,
     "metadata": {},
     "output_type": "execute_result"
    }
   ],
   "source": [
    "relevant_news['media_name'].value_counts()"
   ]
  },
  {
   "cell_type": "code",
   "execution_count": 20,
   "id": "c158c0f3-6caa-423f-b242-9266ac69038c",
   "metadata": {},
   "outputs": [
    {
     "name": "stdout",
     "output_type": "stream",
     "text": [
      "<class 'pandas.core.frame.DataFrame'>\n",
      "Int64Index: 3495 entries, 5354 to 6441\n",
      "Data columns (total 6 columns):\n",
      " #   Column        Non-Null Count  Dtype         \n",
      "---  ------        --------------  -----         \n",
      " 0   media_name    3495 non-null   object        \n",
      " 1   publish_date  3495 non-null   datetime64[ns]\n",
      " 2   title         3495 non-null   object        \n",
      " 3   url           3495 non-null   object        \n",
      " 4   subtitle      3268 non-null   object        \n",
      " 5   text          3479 non-null   object        \n",
      "dtypes: datetime64[ns](1), object(5)\n",
      "memory usage: 191.1+ KB\n",
      "None\n"
     ]
    }
   ],
   "source": [
    "subtitles_with_null, texts_with_null = [], []\n",
    "for s in subtitles:\n",
    "    if s == '' or s == ' ':\n",
    "        subtitles_with_null.append(None)\n",
    "    else:\n",
    "        subtitles_with_null.append(s)\n",
    "for t in texts:\n",
    "    if t == '' or t == ' ':\n",
    "        texts_with_null.append(None)\n",
    "    else:\n",
    "        texts_with_null.append(t)\n",
    "relevant_news['subtitle'] = subtitles_with_null\n",
    "relevant_news['text'] = texts_with_null\n",
    "print(relevant_news.info())"
   ]
  },
  {
   "cell_type": "code",
   "execution_count": 21,
   "id": "70e2b549-2ab8-4b6b-95aa-f0a647de68ca",
   "metadata": {},
   "outputs": [],
   "source": [
    "relevant_news.to_csv('data/nytimes_foxnews_article_texts_and_info.csv',\n",
    "                     index=False)"
   ]
  },
  {
   "cell_type": "code",
   "execution_count": null,
   "id": "5356d5f8-c35f-488d-bdea-303182f473f8",
   "metadata": {},
   "outputs": [],
   "source": []
  }
 ],
 "metadata": {
  "kernelspec": {
   "display_name": "Python 3",
   "language": "python",
   "name": "python3"
  },
  "language_info": {
   "codemirror_mode": {
    "name": "ipython",
    "version": 3
   },
   "file_extension": ".py",
   "mimetype": "text/x-python",
   "name": "python",
   "nbconvert_exporter": "python",
   "pygments_lexer": "ipython3",
   "version": "3.8.10"
  }
 },
 "nbformat": 4,
 "nbformat_minor": 5
}
