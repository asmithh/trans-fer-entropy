{
 "cells": [
  {
   "cell_type": "code",
   "execution_count": 6,
   "id": "91417e12-acf0-4e78-adb2-dfa3cc15f2d3",
   "metadata": {},
   "outputs": [
    {
     "name": "stderr",
     "output_type": "stream",
     "text": [
      "<ipython-input-6-cd00b3c2a068>:12: FutureWarning: Passing a negative integer is deprecated in version 1.0 and will not be supported in future version. Instead, use None to not limit the column width.\n",
      "  pd.set_option('display.max_colwidth', -1)\n"
     ]
    }
   ],
   "source": [
    "from datetime import datetime, timedelta\n",
    "import pickle\n",
    "import os\n",
    "import pandas as pd\n",
    "import numpy as np\n",
    "from tqdm import tqdm\n",
    "import re\n",
    "\n",
    "from tldextract import extract\n",
    "import langid\n",
    "\n",
    "pd.set_option('display.max_colwidth', -1)\n",
    "pd.set_option('display.max_rows', 50)\n",
    "\n",
    "from newspaper import Article\n",
    "import matplotlib.pyplot as plt"
   ]
  },
  {
   "cell_type": "markdown",
   "id": "7c658d7d-06a1-4831-bff8-c1fea762e1a9",
   "metadata": {},
   "source": [
    "NOTE: Mediacloud news for state-specific collection includes news ABOUT the particular state, and as such, might sometimes contain news from national outlets where the article itself might be focused on the state itself. Most (if not all) of the collection is going to be sourced from local state-specific outlets, but not always. Currently, we are keeping all URLs within the obtained collection for the state, except those from nytimes and foxnews since those are our chosen national outlets. Trusting mediacloud's collections to be truly state-focused even when urls come from national outlets. "
   ]
  },
  {
   "cell_type": "code",
   "execution_count": 2,
   "id": "52b41e64-fc9c-4738-a5bd-54e0a4f2f0f6",
   "metadata": {},
   "outputs": [],
   "source": [
    "start_date = datetime.strptime('2023-01-01', '%Y-%m-%d').date()\n",
    "end_date = datetime.strptime('2023-12-31', '%Y-%m-%d').date()"
   ]
  },
  {
   "cell_type": "code",
   "execution_count": 3,
   "id": "49399f6d-bfb8-470d-af2f-88d273d4e522",
   "metadata": {},
   "outputs": [
    {
     "name": "stdout",
     "output_type": "stream",
     "text": [
      "<class 'pandas.core.frame.DataFrame'>\n",
      "RangeIndex: 4087 entries, 0 to 4086\n",
      "Data columns (total 9 columns):\n",
      " #   Column        Non-Null Count  Dtype \n",
      "---  ------        --------------  ----- \n",
      " 0   archived_url  4087 non-null   object\n",
      " 1   article_url   4087 non-null   object\n",
      " 2   id            4087 non-null   int64 \n",
      " 3   language      4087 non-null   object\n",
      " 4   media_name    4087 non-null   object\n",
      " 5   media_url     4087 non-null   object\n",
      " 6   publish_date  4087 non-null   object\n",
      " 7   title         4087 non-null   object\n",
      " 8   url           4087 non-null   object\n",
      "dtypes: int64(1), object(8)\n",
      "memory usage: 287.5+ KB\n",
      "None\n"
     ]
    }
   ],
   "source": [
    "florida_news = pd.read_csv('data/mediacloud_florida.csv')\n",
    "print(florida_news.info())"
   ]
  },
  {
   "cell_type": "code",
   "execution_count": 4,
   "id": "e2f1afa0-4d5e-4b52-9722-b0343e469970",
   "metadata": {},
   "outputs": [
    {
     "name": "stderr",
     "output_type": "stream",
     "text": [
      "100%|██████████| 4087/4087 [00:00<00:00, 895009.68it/s]\n"
     ]
    }
   ],
   "source": [
    "#analyze the distribution across months of publication -- are there gaps in the collection?\n",
    "all_dates = list(florida_news['publish_date'])\n",
    "month_to_vol = {}\n",
    "for i in range(1, 13):\n",
    "    month_to_vol[i] = 0\n",
    "for d in tqdm(all_dates):\n",
    "    m = int(d.split('-')[1])\n",
    "    month_to_vol[m] += 1"
   ]
  },
  {
   "cell_type": "code",
   "execution_count": 7,
   "id": "e29e461b-4140-495b-90b8-e1c55133652b",
   "metadata": {},
   "outputs": [
    {
     "data": {
      "text/plain": [
       "[<matplotlib.lines.Line2D at 0x7fc2bee626a0>]"
      ]
     },
     "execution_count": 7,
     "metadata": {},
     "output_type": "execute_result"
    },
    {
     "data": {
      "image/png": "[encoded data removed]",
      "text/plain": [
       "<Figure size 432x288 with 1 Axes>"
      ]
     },
     "metadata": {
      "needs_background": "light"
     },
     "output_type": "display_data"
    }
   ],
   "source": [
    "plt.plot(list(month_to_vol.keys()), list(month_to_vol.values()))"
   ]
  },
  {
   "cell_type": "code",
   "execution_count": 8,
   "id": "60bd4833-c3cc-4cbf-ad7d-fc1f5249e3d6",
   "metadata": {
    "scrolled": true
   },
   "outputs": [
    {
     "data": {
      "text/html": [
       "<div>\n",
       "<style scoped>\n",
       "    .dataframe tbody tr th:only-of-type {\n",
       "        vertical-align: middle;\n",
       "    }\n",
       "\n",
       "    .dataframe tbody tr th {\n",
       "        vertical-align: top;\n",
       "    }\n",
       "\n",
       "    .dataframe thead th {\n",
       "        text-align: right;\n",
       "    }\n",
       "</style>\n",
       "<table border=\"1\" class=\"dataframe\">\n",
       "  <thead>\n",
       "    <tr style=\"text-align: right;\">\n",
       "      <th></th>\n",
       "      <th>language</th>\n",
       "      <th>media_name</th>\n",
       "      <th>media_url</th>\n",
       "      <th>publish_date</th>\n",
       "      <th>title</th>\n",
       "      <th>url</th>\n",
       "    </tr>\n",
       "  </thead>\n",
       "  <tbody>\n",
       "    <tr>\n",
       "      <th>4067</th>\n",
       "      <td>en</td>\n",
       "      <td>wmnf.org</td>\n",
       "      <td>http://wmnf.org</td>\n",
       "      <td>2023-05-23 00:00:00</td>\n",
       "      <td>The Scoop: WMNF’s daily digest of news headlines for Tuesday, May 23, 2023</td>\n",
       "      <td>https://www.wmnf.org/the-scoop-wmnfs-daily-digest-of-news-headlines-for-tuesday-may-23-2023/</td>\n",
       "    </tr>\n",
       "    <tr>\n",
       "      <th>4068</th>\n",
       "      <td>en</td>\n",
       "      <td>wmnf.org</td>\n",
       "      <td>http://wmnf.org</td>\n",
       "      <td>2023-04-12 00:00:00</td>\n",
       "      <td>The Scoop: WMNF’s daily digest of news headlines for Wednesday, April 12th, 2023</td>\n",
       "      <td>https://www.wmnf.org/the-scoop-wmnfs-daily-digest-of-news-headlines-for-wednesday-april-12th-2023/</td>\n",
       "    </tr>\n",
       "    <tr>\n",
       "      <th>4069</th>\n",
       "      <td>en</td>\n",
       "      <td>wmnf.org</td>\n",
       "      <td>http://wmnf.org</td>\n",
       "      <td>2023-04-19 00:00:00</td>\n",
       "      <td>The Scoop: WMNF’s daily digest of news headlines for Wednesday, April 19th, 2023</td>\n",
       "      <td>https://www.wmnf.org/the-scoop-wmnfs-daily-digest-of-news-headlines-for-wednesday-april-19th-2023/</td>\n",
       "    </tr>\n",
       "    <tr>\n",
       "      <th>4070</th>\n",
       "      <td>en</td>\n",
       "      <td>wmnf.org</td>\n",
       "      <td>http://wmnf.org</td>\n",
       "      <td>2023-06-07 00:00:00</td>\n",
       "      <td>The Scoop: WMNF’s daily digest of news headlines for Wednesday, June 7th, 2023</td>\n",
       "      <td>https://www.wmnf.org/the-scoop-wmnfs-daily-digest-of-news-headlines-for-wednesday-june-7th-2023/</td>\n",
       "    </tr>\n",
       "    <tr>\n",
       "      <th>4071</th>\n",
       "      <td>en</td>\n",
       "      <td>wmnf.org</td>\n",
       "      <td>http://wmnf.org</td>\n",
       "      <td>2023-05-10 00:00:00</td>\n",
       "      <td>The Scoop: WMNF’s daily digest of news headlines for Wednesday, May 10th, 2023</td>\n",
       "      <td>https://www.wmnf.org/the-scoop-wmnfs-daily-digest-of-news-headlines-for-wednesday-may-10th-2023/</td>\n",
       "    </tr>\n",
       "    <tr>\n",
       "      <th>4072</th>\n",
       "      <td>en</td>\n",
       "      <td>wmnf.org</td>\n",
       "      <td>http://wmnf.org</td>\n",
       "      <td>2023-05-03 00:00:00</td>\n",
       "      <td>The Scoop: WMNF’s daily digest of news headlines for Wednesday, May 3rd, 2023</td>\n",
       "      <td>https://www.wmnf.org/the-scoop-wmnfs-daily-digest-of-news-headlines-for-wednesday-may-3rd-2023/</td>\n",
       "    </tr>\n",
       "    <tr>\n",
       "      <th>4073</th>\n",
       "      <td>en</td>\n",
       "      <td>wmnf.org</td>\n",
       "      <td>http://wmnf.org</td>\n",
       "      <td>2023-06-26 00:00:00</td>\n",
       "      <td>These new Florida laws will take effect on Saturday: from vouchers to guns</td>\n",
       "      <td>https://www.wmnf.org/these-new-florida-laws-will-take-effect-on-saturday-from-vouchers-to-guns/</td>\n",
       "    </tr>\n",
       "    <tr>\n",
       "      <th>4074</th>\n",
       "      <td>en</td>\n",
       "      <td>wmnf.org</td>\n",
       "      <td>http://wmnf.org</td>\n",
       "      <td>2023-08-24 00:00:00</td>\n",
       "      <td>Trans people want to leave Florida because of anti-LGBTQ+ laws, survey shows</td>\n",
       "      <td>https://www.wmnf.org/trans-people-want-to-leave-florida-because-of-anti-lgbtq-laws-survey-shows/</td>\n",
       "    </tr>\n",
       "    <tr>\n",
       "      <th>4075</th>\n",
       "      <td>en</td>\n",
       "      <td>wmnf.org</td>\n",
       "      <td>http://wmnf.org</td>\n",
       "      <td>2023-09-29 00:00:00</td>\n",
       "      <td>Transgender and nonbinary people sue Florida over its \"discriminatory\" bathroom law</td>\n",
       "      <td>https://www.wmnf.org/transgender-nonbinary-people-sue-florida-over-its-discriminatory-bathroom-law/</td>\n",
       "    </tr>\n",
       "    <tr>\n",
       "      <th>4076</th>\n",
       "      <td>en</td>\n",
       "      <td>wmnf.org</td>\n",
       "      <td>http://wmnf.org</td>\n",
       "      <td>2023-12-13 00:00:00</td>\n",
       "      <td>Trial begins in a constitutional challenge to Florida restrictions on medical treatments for transgender people</td>\n",
       "      <td>https://www.wmnf.org/trial-begins-constitutional-challenge-florida-restrictions-medical-treatments-transgender-people/</td>\n",
       "    </tr>\n",
       "    <tr>\n",
       "      <th>4077</th>\n",
       "      <td>en</td>\n",
       "      <td>wmnf.org</td>\n",
       "      <td>http://wmnf.org</td>\n",
       "      <td>2023-05-05 00:00:00</td>\n",
       "      <td>Trial over the state's decision to prevent Medicaid coverage for medical treatments for transgender Floridians is set to start</td>\n",
       "      <td>https://www.wmnf.org/trial-over-the-states-decision-to-prevent-medicaid-coverage-for-medical-treatments-for-transgender-floridians-is-set-to-start/</td>\n",
       "    </tr>\n",
       "    <tr>\n",
       "      <th>4078</th>\n",
       "      <td>en</td>\n",
       "      <td>wmnf.org</td>\n",
       "      <td>http://wmnf.org</td>\n",
       "      <td>2023-05-09 00:00:00</td>\n",
       "      <td>Trial starts over preventing Medicaid coverage for some medical treatments for transgender Floridians</td>\n",
       "      <td>https://www.wmnf.org/trial-starts-over-preventing-medicaid-coverage-for-some-medical-treatments-for-transgender-floridians/</td>\n",
       "    </tr>\n",
       "    <tr>\n",
       "      <th>4079</th>\n",
       "      <td>en</td>\n",
       "      <td>wmnf.org</td>\n",
       "      <td>http://wmnf.org</td>\n",
       "      <td>2023-03-28 00:00:00</td>\n",
       "      <td>WMNF airs audio from Hillsborough School Board discussion of the challenged book, \"This Book Is Gay\"</td>\n",
       "      <td>https://www.wmnf.org/wmnf-airs-audio-from-hillsborough-school-board-discussion-of-the-challenged-book-this-book-is-gay/</td>\n",
       "    </tr>\n",
       "    <tr>\n",
       "      <th>4080</th>\n",
       "      <td>en</td>\n",
       "      <td>wmnf.org</td>\n",
       "      <td>http://wmnf.org</td>\n",
       "      <td>2023-03-24 00:00:00</td>\n",
       "      <td>WMNF’s daily digest of news headlines for Friday, March 24th, 2023</td>\n",
       "      <td>https://www.wmnf.org/wmnfs-daily-digest-of-news-headlines-for-friday-march-24th-2023/</td>\n",
       "    </tr>\n",
       "    <tr>\n",
       "      <th>4081</th>\n",
       "      <td>en</td>\n",
       "      <td>wmnf.org</td>\n",
       "      <td>http://wmnf.org</td>\n",
       "      <td>2023-02-20 00:00:00</td>\n",
       "      <td>WMNF's daily digest of news headlines for Mon. Feb. 20, 2023</td>\n",
       "      <td>https://www.wmnf.org/wmnfs-daily-digest-of-news-headlines-for-mon-feb-20-2023/</td>\n",
       "    </tr>\n",
       "    <tr>\n",
       "      <th>4082</th>\n",
       "      <td>en</td>\n",
       "      <td>wmnf.org</td>\n",
       "      <td>http://wmnf.org</td>\n",
       "      <td>2023-03-06 00:00:00</td>\n",
       "      <td>WMNF's daily digest of news headlines for Monday, March 6th, 2023</td>\n",
       "      <td>https://www.wmnf.org/wmnfs-daily-digest-of-news-headlines-for-monday-march-6th-2023/</td>\n",
       "    </tr>\n",
       "    <tr>\n",
       "      <th>4083</th>\n",
       "      <td>en</td>\n",
       "      <td>wmnf.org</td>\n",
       "      <td>http://wmnf.org</td>\n",
       "      <td>2023-03-02 00:00:00</td>\n",
       "      <td>WMNF's daily digest of news headlines for Thursday, March 2nd, 2023</td>\n",
       "      <td>https://www.wmnf.org/wmnfs-daily-digest-of-news-headlines-for-thursday-march-2nd-2023/</td>\n",
       "    </tr>\n",
       "    <tr>\n",
       "      <th>4084</th>\n",
       "      <td>en</td>\n",
       "      <td>wmnf.org</td>\n",
       "      <td>http://wmnf.org</td>\n",
       "      <td>2023-03-09 00:00:00</td>\n",
       "      <td>WMNF's daily digest of news headlines for Thursday, March 9th, 2023</td>\n",
       "      <td>https://www.wmnf.org/wmnfs-daily-digest-of-news-headlines-for-thursday-march-9th-2023/</td>\n",
       "    </tr>\n",
       "    <tr>\n",
       "      <th>4085</th>\n",
       "      <td>en</td>\n",
       "      <td>wmnf.org</td>\n",
       "      <td>http://wmnf.org</td>\n",
       "      <td>2023-02-22 00:00:00</td>\n",
       "      <td>WMNF's daily digest of news headlines for Wednesday, Feb. 22nd, 2023</td>\n",
       "      <td>https://www.wmnf.org/wmnfs-daily-digest-of-news-headlines-for-wednesday-feb-22nd-2023/</td>\n",
       "    </tr>\n",
       "    <tr>\n",
       "      <th>4086</th>\n",
       "      <td>en</td>\n",
       "      <td>wmnf.org</td>\n",
       "      <td>http://wmnf.org</td>\n",
       "      <td>2023-03-15 00:00:00</td>\n",
       "      <td>WMNF's daily digest of news headlines for Wednesday, March 15th, 2023</td>\n",
       "      <td>https://www.wmnf.org/wmnfs-daily-digest-of-news-headlines-for-wednesday-march-15th-2023/</td>\n",
       "    </tr>\n",
       "  </tbody>\n",
       "</table>\n",
       "</div>"
      ],
      "text/plain": [
       "     language media_name        media_url         publish_date  \\\n",
       "4067  en       wmnf.org   http://wmnf.org  2023-05-23 00:00:00   \n",
       "4068  en       wmnf.org   http://wmnf.org  2023-04-12 00:00:00   \n",
       "4069  en       wmnf.org   http://wmnf.org  2023-04-19 00:00:00   \n",
       "4070  en       wmnf.org   http://wmnf.org  2023-06-07 00:00:00   \n",
       "4071  en       wmnf.org   http://wmnf.org  2023-05-10 00:00:00   \n",
       "4072  en       wmnf.org   http://wmnf.org  2023-05-03 00:00:00   \n",
       "4073  en       wmnf.org   http://wmnf.org  2023-06-26 00:00:00   \n",
       "4074  en       wmnf.org   http://wmnf.org  2023-08-24 00:00:00   \n",
       "4075  en       wmnf.org   http://wmnf.org  2023-09-29 00:00:00   \n",
       "4076  en       wmnf.org   http://wmnf.org  2023-12-13 00:00:00   \n",
       "4077  en       wmnf.org   http://wmnf.org  2023-05-05 00:00:00   \n",
       "4078  en       wmnf.org   http://wmnf.org  2023-05-09 00:00:00   \n",
       "4079  en       wmnf.org   http://wmnf.org  2023-03-28 00:00:00   \n",
       "4080  en       wmnf.org   http://wmnf.org  2023-03-24 00:00:00   \n",
       "4081  en       wmnf.org   http://wmnf.org  2023-02-20 00:00:00   \n",
       "4082  en       wmnf.org   http://wmnf.org  2023-03-06 00:00:00   \n",
       "4083  en       wmnf.org   http://wmnf.org  2023-03-02 00:00:00   \n",
       "4084  en       wmnf.org   http://wmnf.org  2023-03-09 00:00:00   \n",
       "4085  en       wmnf.org   http://wmnf.org  2023-02-22 00:00:00   \n",
       "4086  en       wmnf.org   http://wmnf.org  2023-03-15 00:00:00   \n",
       "\n",
       "                                                                                                                               title  \\\n",
       "4067  The Scoop: WMNF’s daily digest of news headlines for Tuesday, May 23, 2023                                                       \n",
       "4068  The Scoop: WMNF’s daily digest of news headlines for Wednesday, April 12th, 2023                                                 \n",
       "4069  The Scoop: WMNF’s daily digest of news headlines for Wednesday, April 19th, 2023                                                 \n",
       "4070  The Scoop: WMNF’s daily digest of news headlines for Wednesday, June 7th, 2023                                                   \n",
       "4071  The Scoop: WMNF’s daily digest of news headlines for Wednesday, May 10th, 2023                                                   \n",
       "4072  The Scoop: WMNF’s daily digest of news headlines for Wednesday, May 3rd, 2023                                                    \n",
       "4073  These new Florida laws will take effect on Saturday: from vouchers to guns                                                       \n",
       "4074  Trans people want to leave Florida because of anti-LGBTQ+ laws, survey shows                                                     \n",
       "4075  Transgender and nonbinary people sue Florida over its \"discriminatory\" bathroom law                                              \n",
       "4076  Trial begins in a constitutional challenge to Florida restrictions on medical treatments for transgender people                  \n",
       "4077  Trial over the state's decision to prevent Medicaid coverage for medical treatments for transgender Floridians is set to start   \n",
       "4078  Trial starts over preventing Medicaid coverage for some medical treatments for transgender Floridians                            \n",
       "4079  WMNF airs audio from Hillsborough School Board discussion of the challenged book, \"This Book Is Gay\"                             \n",
       "4080  WMNF’s daily digest of news headlines for Friday, March 24th, 2023                                                               \n",
       "4081  WMNF's daily digest of news headlines for Mon. Feb. 20, 2023                                                                     \n",
       "4082  WMNF's daily digest of news headlines for Monday, March 6th, 2023                                                                \n",
       "4083  WMNF's daily digest of news headlines for Thursday, March 2nd, 2023                                                              \n",
       "4084  WMNF's daily digest of news headlines for Thursday, March 9th, 2023                                                              \n",
       "4085  WMNF's daily digest of news headlines for Wednesday, Feb. 22nd, 2023                                                             \n",
       "4086  WMNF's daily digest of news headlines for Wednesday, March 15th, 2023                                                            \n",
       "\n",
       "                                                                                                                                                      url  \n",
       "4067  https://www.wmnf.org/the-scoop-wmnfs-daily-digest-of-news-headlines-for-tuesday-may-23-2023/                                                         \n",
       "4068  https://www.wmnf.org/the-scoop-wmnfs-daily-digest-of-news-headlines-for-wednesday-april-12th-2023/                                                   \n",
       "4069  https://www.wmnf.org/the-scoop-wmnfs-daily-digest-of-news-headlines-for-wednesday-april-19th-2023/                                                   \n",
       "4070  https://www.wmnf.org/the-scoop-wmnfs-daily-digest-of-news-headlines-for-wednesday-june-7th-2023/                                                     \n",
       "4071  https://www.wmnf.org/the-scoop-wmnfs-daily-digest-of-news-headlines-for-wednesday-may-10th-2023/                                                     \n",
       "4072  https://www.wmnf.org/the-scoop-wmnfs-daily-digest-of-news-headlines-for-wednesday-may-3rd-2023/                                                      \n",
       "4073  https://www.wmnf.org/these-new-florida-laws-will-take-effect-on-saturday-from-vouchers-to-guns/                                                      \n",
       "4074  https://www.wmnf.org/trans-people-want-to-leave-florida-because-of-anti-lgbtq-laws-survey-shows/                                                     \n",
       "4075  https://www.wmnf.org/transgender-nonbinary-people-sue-florida-over-its-discriminatory-bathroom-law/                                                  \n",
       "4076  https://www.wmnf.org/trial-begins-constitutional-challenge-florida-restrictions-medical-treatments-transgender-people/                               \n",
       "4077  https://www.wmnf.org/trial-over-the-states-decision-to-prevent-medicaid-coverage-for-medical-treatments-for-transgender-floridians-is-set-to-start/  \n",
       "4078  https://www.wmnf.org/trial-starts-over-preventing-medicaid-coverage-for-some-medical-treatments-for-transgender-floridians/                          \n",
       "4079  https://www.wmnf.org/wmnf-airs-audio-from-hillsborough-school-board-discussion-of-the-challenged-book-this-book-is-gay/                              \n",
       "4080  https://www.wmnf.org/wmnfs-daily-digest-of-news-headlines-for-friday-march-24th-2023/                                                                \n",
       "4081  https://www.wmnf.org/wmnfs-daily-digest-of-news-headlines-for-mon-feb-20-2023/                                                                       \n",
       "4082  https://www.wmnf.org/wmnfs-daily-digest-of-news-headlines-for-monday-march-6th-2023/                                                                 \n",
       "4083  https://www.wmnf.org/wmnfs-daily-digest-of-news-headlines-for-thursday-march-2nd-2023/                                                               \n",
       "4084  https://www.wmnf.org/wmnfs-daily-digest-of-news-headlines-for-thursday-march-9th-2023/                                                               \n",
       "4085  https://www.wmnf.org/wmnfs-daily-digest-of-news-headlines-for-wednesday-feb-22nd-2023/                                                               \n",
       "4086  https://www.wmnf.org/wmnfs-daily-digest-of-news-headlines-for-wednesday-march-15th-2023/                                                             "
      ]
     },
     "execution_count": 8,
     "metadata": {},
     "output_type": "execute_result"
    }
   ],
   "source": [
    "florida_news[['language', 'media_name', 'media_url', 'publish_date', 'title', 'url']].tail(20)"
   ]
  },
  {
   "cell_type": "code",
   "execution_count": 9,
   "id": "fd427ee2-87be-4b91-956d-0e3eedb9fb98",
   "metadata": {},
   "outputs": [
    {
     "name": "stdout",
     "output_type": "stream",
     "text": [
      "<class 'pandas.core.frame.DataFrame'>\n",
      "Int64Index: 4079 entries, 0 to 4086\n",
      "Data columns (total 4 columns):\n",
      " #   Column        Non-Null Count  Dtype \n",
      "---  ------        --------------  ----- \n",
      " 0   media_name    4079 non-null   object\n",
      " 1   publish_date  4079 non-null   object\n",
      " 2   title         4079 non-null   object\n",
      " 3   url           4079 non-null   object\n",
      "dtypes: object(4)\n",
      "memory usage: 159.3+ KB\n",
      "None\n"
     ]
    }
   ],
   "source": [
    "relevant_news = florida_news[~florida_news['media_name'].isin(['foxnews.com',\n",
    "                                                               'nytimes.com'])]\n",
    "relevant_news = relevant_news[relevant_news['language']=='en']\n",
    "relevant_news = relevant_news[['media_name', 'publish_date', 'title', 'url']]\n",
    "print(relevant_news.info())"
   ]
  },
  {
   "cell_type": "code",
   "execution_count": 10,
   "id": "3e3cfb30-8f5c-4ae7-afe0-7282ce7ebc66",
   "metadata": {},
   "outputs": [
    {
     "name": "stdout",
     "output_type": "stream",
     "text": [
      "<class 'pandas.core.frame.DataFrame'>\n",
      "Int64Index: 4079 entries, 0 to 4086\n",
      "Data columns (total 4 columns):\n",
      " #   Column        Non-Null Count  Dtype         \n",
      "---  ------        --------------  -----         \n",
      " 0   media_name    4079 non-null   object        \n",
      " 1   publish_date  4079 non-null   datetime64[ns]\n",
      " 2   title         4079 non-null   object        \n",
      " 3   url           4079 non-null   object        \n",
      "dtypes: datetime64[ns](1), object(3)\n",
      "memory usage: 159.3+ KB\n",
      "None\n"
     ]
    }
   ],
   "source": [
    "relevant_news.publish_date = pd.to_datetime(relevant_news.publish_date)\n",
    "relevant_news = relevant_news[relevant_news['publish_date'].dt.date >= start_date]\n",
    "relevant_news = relevant_news[relevant_news['publish_date'].dt.date <= end_date]\n",
    "print(relevant_news.info())"
   ]
  },
  {
   "cell_type": "code",
   "execution_count": 11,
   "id": "4b1a5baf-c81b-460f-aa9d-219cde6d8eba",
   "metadata": {},
   "outputs": [],
   "source": [
    "def get_article_from_url(url):\n",
    "    try:\n",
    "        article = Article(url)\n",
    "        article.download()\n",
    "        article.parse()\n",
    "        subtitle = article.meta_description\n",
    "        if subtitle == '' or subtitle == ' ':\n",
    "            subtitle = None\n",
    "        text = article.text\n",
    "        if text == '' or text == ' ':\n",
    "            text = None\n",
    "    except:\n",
    "        subtitle = None\n",
    "        text = None\n",
    "    return subtitle, text"
   ]
  },
  {
   "cell_type": "code",
   "execution_count": 12,
   "id": "e8c5b8df-fb38-4844-8b7b-4ddb0f07e350",
   "metadata": {},
   "outputs": [
    {
     "name": "stderr",
     "output_type": "stream",
     "text": [
      "100%|██████████| 4079/4079 [1:09:41<00:00,  1.03s/it]"
     ]
    },
    {
     "name": "stdout",
     "output_type": "stream",
     "text": [
      "<class 'pandas.core.frame.DataFrame'>\n",
      "Int64Index: 4079 entries, 0 to 4086\n",
      "Data columns (total 6 columns):\n",
      " #   Column        Non-Null Count  Dtype         \n",
      "---  ------        --------------  -----         \n",
      " 0   media_name    4079 non-null   object        \n",
      " 1   publish_date  4079 non-null   datetime64[ns]\n",
      " 2   title         4079 non-null   object        \n",
      " 3   url           4079 non-null   object        \n",
      " 4   subtitle      3087 non-null   object        \n",
      " 5   text          3563 non-null   object        \n",
      "dtypes: datetime64[ns](1), object(5)\n",
      "memory usage: 223.1+ KB\n",
      "None\n"
     ]
    },
    {
     "name": "stderr",
     "output_type": "stream",
     "text": [
      "\n"
     ]
    }
   ],
   "source": [
    "subtitles, texts = [], []\n",
    "all_urls = list(relevant_news['url'])\n",
    "for url in tqdm(all_urls):\n",
    "    subtitle, text = get_article_from_url(url)\n",
    "    subtitles.append(subtitle)\n",
    "    texts.append(text)\n",
    "relevant_news['subtitle'] = subtitles\n",
    "relevant_news['text'] = texts\n",
    "print(relevant_news.info())"
   ]
  },
  {
   "cell_type": "code",
   "execution_count": 13,
   "id": "f365703e-e41e-40d4-a49d-59bf6db6256f",
   "metadata": {},
   "outputs": [],
   "source": [
    "relevant_news.to_csv('data/florida_article_texts_and_info.csv',\n",
    "                     index=False)"
   ]
  },
  {
   "cell_type": "code",
   "execution_count": null,
   "id": "7f3f3ba4-c72b-4ada-9561-8cefef65244b",
   "metadata": {},
   "outputs": [],
   "source": []
  }
 ],
 "metadata": {
  "kernelspec": {
   "display_name": "Python 3",
   "language": "python",
   "name": "python3"
  },
  "language_info": {
   "codemirror_mode": {
    "name": "ipython",
    "version": 3
   },
   "file_extension": ".py",
   "mimetype": "text/x-python",
   "name": "python",
   "nbconvert_exporter": "python",
   "pygments_lexer": "ipython3",
   "version": "3.8.10"
  }
 },
 "nbformat": 4,
 "nbformat_minor": 5
}
