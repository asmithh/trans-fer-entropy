{
 "cells": [
  {
   "cell_type": "code",
   "execution_count": 1,
   "id": "91417e12-acf0-4e78-adb2-dfa3cc15f2d3",
   "metadata": {},
   "outputs": [
    {
     "name": "stderr",
     "output_type": "stream",
     "text": [
      "<ipython-input-1-cd00b3c2a068>:12: FutureWarning: Passing a negative integer is deprecated in version 1.0 and will not be supported in future version. Instead, use None to not limit the column width.\n",
      "  pd.set_option('display.max_colwidth', -1)\n"
     ]
    }
   ],
   "source": [
    "from datetime import datetime, timedelta\n",
    "import pickle\n",
    "import os\n",
    "import pandas as pd\n",
    "import numpy as np\n",
    "from tqdm import tqdm\n",
    "import re\n",
    "\n",
    "from tldextract import extract\n",
    "import langid\n",
    "\n",
    "pd.set_option('display.max_colwidth', -1)\n",
    "pd.set_option('display.max_rows', 50)\n",
    "\n",
    "from newspaper import Article\n",
    "import matplotlib.pyplot as plt"
   ]
  },
  {
   "cell_type": "markdown",
   "id": "7c658d7d-06a1-4831-bff8-c1fea762e1a9",
   "metadata": {},
   "source": [
    "NOTE: Mediacloud news for state-specific collection includes news ABOUT the particular state, and as such, might sometimes contain news from national outlets where the article itself might be focused on the state itself. Most (if not all) of the collection is going to be sourced from local state-specific outlets, but not always. Currently, we are keeping all URLs within the obtained collection for the state, except those from nytimes and foxnews since those are our chosen national outlets. Trusting mediacloud's collections to be truly state-focused even when urls come from national outlets. "
   ]
  },
  {
   "cell_type": "code",
   "execution_count": 2,
   "id": "52b41e64-fc9c-4738-a5bd-54e0a4f2f0f6",
   "metadata": {},
   "outputs": [],
   "source": [
    "start_date = datetime.strptime('2023-01-01', '%Y-%m-%d').date()\n",
    "end_date = datetime.strptime('2023-12-31', '%Y-%m-%d').date()"
   ]
  },
  {
   "cell_type": "code",
   "execution_count": 3,
   "id": "49399f6d-bfb8-470d-af2f-88d273d4e522",
   "metadata": {},
   "outputs": [
    {
     "name": "stdout",
     "output_type": "stream",
     "text": [
      "<class 'pandas.core.frame.DataFrame'>\n",
      "RangeIndex: 5122 entries, 0 to 5121\n",
      "Data columns (total 9 columns):\n",
      " #   Column        Non-Null Count  Dtype \n",
      "---  ------        --------------  ----- \n",
      " 0   archived_url  5122 non-null   object\n",
      " 1   article_url   5122 non-null   object\n",
      " 2   id            5122 non-null   int64 \n",
      " 3   language      5122 non-null   object\n",
      " 4   media_name    5122 non-null   object\n",
      " 5   media_url     5122 non-null   object\n",
      " 6   publish_date  5122 non-null   object\n",
      " 7   title         5122 non-null   object\n",
      " 8   url           5122 non-null   object\n",
      "dtypes: int64(1), object(8)\n",
      "memory usage: 360.3+ KB\n",
      "None\n"
     ]
    }
   ],
   "source": [
    "texas_news = pd.read_csv('data/mediacloud_texas.csv')\n",
    "print(texas_news.info())"
   ]
  },
  {
   "cell_type": "code",
   "execution_count": 4,
   "id": "214154f3-d696-4009-b492-d11b41d42499",
   "metadata": {},
   "outputs": [
    {
     "name": "stderr",
     "output_type": "stream",
     "text": [
      "100%|██████████| 5122/5122 [00:00<00:00, 913208.29it/s]\n"
     ]
    }
   ],
   "source": [
    "#analyze the distribution across months of publication -- are there gaps in the collection?\n",
    "all_dates = list(texas_news['publish_date'])\n",
    "month_to_vol = {}\n",
    "for i in range(1, 13):\n",
    "    month_to_vol[i] = 0\n",
    "for d in tqdm(all_dates):\n",
    "    m = int(d.split('-')[1])\n",
    "    month_to_vol[m] += 1"
   ]
  },
  {
   "cell_type": "code",
   "execution_count": 5,
   "id": "1ec3747b-a6bf-4f0a-bfbb-5b2474ee9cd8",
   "metadata": {},
   "outputs": [
    {
     "data": {
      "text/plain": [
       "[<matplotlib.lines.Line2D at 0x7fe98bbf4f70>]"
      ]
     },
     "execution_count": 5,
     "metadata": {},
     "output_type": "execute_result"
    },
    {
     "data": {
      "image/png": "[encoded data removed]",
      "text/plain": [
       "<Figure size 432x288 with 1 Axes>"
      ]
     },
     "metadata": {
      "needs_background": "light"
     },
     "output_type": "display_data"
    }
   ],
   "source": [
    "plt.plot(list(month_to_vol.keys()), list(month_to_vol.values()))"
   ]
  },
  {
   "cell_type": "code",
   "execution_count": 6,
   "id": "60bd4833-c3cc-4cbf-ad7d-fc1f5249e3d6",
   "metadata": {
    "scrolled": true
   },
   "outputs": [
    {
     "data": {
      "text/html": [
       "<div>\n",
       "<style scoped>\n",
       "    .dataframe tbody tr th:only-of-type {\n",
       "        vertical-align: middle;\n",
       "    }\n",
       "\n",
       "    .dataframe tbody tr th {\n",
       "        vertical-align: top;\n",
       "    }\n",
       "\n",
       "    .dataframe thead th {\n",
       "        text-align: right;\n",
       "    }\n",
       "</style>\n",
       "<table border=\"1\" class=\"dataframe\">\n",
       "  <thead>\n",
       "    <tr style=\"text-align: right;\">\n",
       "      <th></th>\n",
       "      <th>language</th>\n",
       "      <th>media_name</th>\n",
       "      <th>media_url</th>\n",
       "      <th>publish_date</th>\n",
       "      <th>title</th>\n",
       "      <th>url</th>\n",
       "    </tr>\n",
       "  </thead>\n",
       "  <tbody>\n",
       "    <tr>\n",
       "      <th>5102</th>\n",
       "      <td>en</td>\n",
       "      <td>tpr.org</td>\n",
       "      <td>http://tpr.org</td>\n",
       "      <td>2023-04-26 00:00:00</td>\n",
       "      <td>Texas agriculture department's new dress code is based on 'biological gender'</td>\n",
       "      <td>https://www.tpr.org/government-politics/2023-04-26/texas-agriculture-departments-new-dress-code-is-based-on-biological-gender</td>\n",
       "    </tr>\n",
       "    <tr>\n",
       "      <th>5103</th>\n",
       "      <td>en</td>\n",
       "      <td>tpr.org</td>\n",
       "      <td>http://tpr.org</td>\n",
       "      <td>2023-05-18 00:00:00</td>\n",
       "      <td>Bill banning puberty blockers, hormone treatments for trans kids sent to Texas governor</td>\n",
       "      <td>https://www.tpr.org/government-politics/2023-05-18/bill-banning-puberty-blockers-hormone-treatments-for-trans-kids-sent-to-texas-governor</td>\n",
       "    </tr>\n",
       "    <tr>\n",
       "      <th>5104</th>\n",
       "      <td>en</td>\n",
       "      <td>tpr.org</td>\n",
       "      <td>http://tpr.org</td>\n",
       "      <td>2023-05-29 00:00:00</td>\n",
       "      <td>Here’s the status of some of the most important bills in this year’s Texas Legislature</td>\n",
       "      <td>https://www.tpr.org/government-politics/2023-05-29/heres-the-status-of-some-of-the-most-important-bills-in-this-years-texas-legislature</td>\n",
       "    </tr>\n",
       "    <tr>\n",
       "      <th>5105</th>\n",
       "      <td>en</td>\n",
       "      <td>tpr.org</td>\n",
       "      <td>http://tpr.org</td>\n",
       "      <td>2023-08-15 00:00:00</td>\n",
       "      <td>Lawsuit to block Texas' ban on care for transgender youth has its first day in court</td>\n",
       "      <td>https://www.tpr.org/government-politics/2023-08-15/lawsuit-to-block-texas-ban-on-care-for-transgender-youth-has-its-first-day-in-court</td>\n",
       "    </tr>\n",
       "    <tr>\n",
       "      <th>5106</th>\n",
       "      <td>en</td>\n",
       "      <td>tpr.org</td>\n",
       "      <td>http://tpr.org</td>\n",
       "      <td>2023-08-31 00:00:00</td>\n",
       "      <td>Texas’ ban on gender-affirming care will take effect Friday following state Supreme Court ruling</td>\n",
       "      <td>https://www.tpr.org/government-politics/2023-08-31/texas-ban-on-gender-affirming-care-will-take-effect-friday-following-state-supreme-court-ruling</td>\n",
       "    </tr>\n",
       "    <tr>\n",
       "      <th>5107</th>\n",
       "      <td>en</td>\n",
       "      <td>tpr.org</td>\n",
       "      <td>http://tpr.org</td>\n",
       "      <td>2023-09-01 00:00:00</td>\n",
       "      <td>Texas adds 774 new laws to the books, and they are now in effect</td>\n",
       "      <td>https://www.tpr.org/government-politics/2023-09-01/texas-adds-774-new-laws-to-the-books-and-they-are-now-in-effect</td>\n",
       "    </tr>\n",
       "    <tr>\n",
       "      <th>5108</th>\n",
       "      <td>en</td>\n",
       "      <td>tpr.org</td>\n",
       "      <td>http://tpr.org</td>\n",
       "      <td>2023-09-15 00:00:00</td>\n",
       "      <td>After a decade of state-led attacks, Texas seeks to bankrupt Planned Parenthood</td>\n",
       "      <td>https://www.tpr.org/government-politics/2023-09-15/after-a-decade-of-state-led-attacks-texas-seeks-to-bankrupt-planned-parenthood</td>\n",
       "    </tr>\n",
       "    <tr>\n",
       "      <th>5109</th>\n",
       "      <td>en</td>\n",
       "      <td>tpr.org</td>\n",
       "      <td>http://tpr.org</td>\n",
       "      <td>2023-09-23 00:00:00</td>\n",
       "      <td>Hays County district clerk drops lawsuit against the county's district attorney</td>\n",
       "      <td>https://www.tpr.org/government-politics/2023-09-23/hays-county-district-clerk-drops-lawsuit-against-the-countys-district-attorney</td>\n",
       "    </tr>\n",
       "    <tr>\n",
       "      <th>5110</th>\n",
       "      <td>en</td>\n",
       "      <td>tpr.org</td>\n",
       "      <td>http://tpr.org</td>\n",
       "      <td>2023-09-27 00:00:00</td>\n",
       "      <td>Texas will investigate whether foster care officials reap travel rewards from vulnerable youth</td>\n",
       "      <td>https://www.tpr.org/government-politics/2023-09-27/foster-care-officials-benefit-off-backs-of-vulnerable-youth-court-doc-alleges</td>\n",
       "    </tr>\n",
       "    <tr>\n",
       "      <th>5111</th>\n",
       "      <td>en</td>\n",
       "      <td>tpr.org</td>\n",
       "      <td>http://tpr.org</td>\n",
       "      <td>2023-12-07 00:00:00</td>\n",
       "      <td>5 major takeaways — and one thing missing — from the fourth Republican debate</td>\n",
       "      <td>https://www.tpr.org/government-politics/2023-12-07/5-major-takeaways-and-one-thing-missing-from-the-fourth-republican-debate</td>\n",
       "    </tr>\n",
       "    <tr>\n",
       "      <th>5112</th>\n",
       "      <td>en</td>\n",
       "      <td>tpr.org</td>\n",
       "      <td>http://tpr.org</td>\n",
       "      <td>2023-08-06 00:00:00</td>\n",
       "      <td>These military spouses are fighting one senator's hold on military promotions</td>\n",
       "      <td>https://www.tpr.org/military-veterans-issues/2023-08-06/these-military-spouses-are-fighting-one-senators-hold-on-military-promotions</td>\n",
       "    </tr>\n",
       "    <tr>\n",
       "      <th>5113</th>\n",
       "      <td>en</td>\n",
       "      <td>tpr.org</td>\n",
       "      <td>http://tpr.org</td>\n",
       "      <td>2023-02-24 00:00:00</td>\n",
       "      <td>Texas activists turned drag events into fodder for outrage</td>\n",
       "      <td>https://www.tpr.org/news/2023-02-24/texas-activists-turned-drag-events-into-fodder-for-outrage</td>\n",
       "    </tr>\n",
       "    <tr>\n",
       "      <th>5114</th>\n",
       "      <td>en</td>\n",
       "      <td>tpr.org</td>\n",
       "      <td>http://tpr.org</td>\n",
       "      <td>2023-04-12 00:00:00</td>\n",
       "      <td>Texas county weighs shutting down libraries to circumvent judge's order overturning book ban</td>\n",
       "      <td>https://www.tpr.org/news/2023-04-12/texas-county-weighs-shutting-down-libraries-over-book-ban</td>\n",
       "    </tr>\n",
       "    <tr>\n",
       "      <th>5115</th>\n",
       "      <td>en</td>\n",
       "      <td>tpr.org</td>\n",
       "      <td>http://tpr.org</td>\n",
       "      <td>2023-04-13 00:00:00</td>\n",
       "      <td>Llano County Library will remain open despite effort to shut it down over book ban</td>\n",
       "      <td>https://www.tpr.org/news/2023-04-13/llano-county-library-will-remain-open-despite-effort-to-shut-it-down-over-book-ban</td>\n",
       "    </tr>\n",
       "    <tr>\n",
       "      <th>5116</th>\n",
       "      <td>en</td>\n",
       "      <td>tpr.org</td>\n",
       "      <td>http://tpr.org</td>\n",
       "      <td>2023-06-11 00:00:00</td>\n",
       "      <td>What is gender dysphoria?</td>\n",
       "      <td>https://www.tpr.org/news/2023-06-11/what-is-gender-dysphoria</td>\n",
       "    </tr>\n",
       "    <tr>\n",
       "      <th>5117</th>\n",
       "      <td>en</td>\n",
       "      <td>tpr.org</td>\n",
       "      <td>http://tpr.org</td>\n",
       "      <td>2023-06-13 00:00:00</td>\n",
       "      <td>‘I’d rather be out than dead:’ Families of transgender youth reflect on Texas’ anti-trans law</td>\n",
       "      <td>https://www.tpr.org/news/2023-06-13/id-rather-be-out-than-dead-families-of-transgender-youth-reflect-on-texas-anti-trans-law</td>\n",
       "    </tr>\n",
       "    <tr>\n",
       "      <th>5118</th>\n",
       "      <td>en</td>\n",
       "      <td>tpr.org</td>\n",
       "      <td>http://tpr.org</td>\n",
       "      <td>2023-07-13 00:00:00</td>\n",
       "      <td>A group of families and legal groups sue state over ban on gender-affirming care for minors</td>\n",
       "      <td>https://www.tpr.org/public-health/2023-07-13/a-group-of-families-and-legal-groups-sue-state-over-ban-on-gender-affirming-care-for-minors</td>\n",
       "    </tr>\n",
       "    <tr>\n",
       "      <th>5119</th>\n",
       "      <td>en</td>\n",
       "      <td>tpr.org</td>\n",
       "      <td>http://tpr.org</td>\n",
       "      <td>2023-11-11 00:00:00</td>\n",
       "      <td>The Vatican says priests can baptize transgender people</td>\n",
       "      <td>https://www.tpr.org/religion/2023-11-11/the-vatican-says-priests-can-baptize-transgender-people</td>\n",
       "    </tr>\n",
       "    <tr>\n",
       "      <th>5120</th>\n",
       "      <td>en</td>\n",
       "      <td>tpr.org</td>\n",
       "      <td>http://tpr.org</td>\n",
       "      <td>2023-03-31 00:00:00</td>\n",
       "      <td>San Antonio celebrates trans rights with downtown rally and march</td>\n",
       "      <td>https://www.tpr.org/san-antonio/2023-03-31/san-antonio-celebrates-trans-rights-with-downtown-rally-and-march</td>\n",
       "    </tr>\n",
       "    <tr>\n",
       "      <th>5121</th>\n",
       "      <td>en</td>\n",
       "      <td>tpr.org</td>\n",
       "      <td>http://tpr.org</td>\n",
       "      <td>2023-04-05 00:00:00</td>\n",
       "      <td>Senate bills restricting drag performances and story hours headed to Texas House</td>\n",
       "      <td>https://www.tpr.org/texas/2023-04-05/senate-bills-restricting-drag-performances-and-story-hours-headed-to-texas-house</td>\n",
       "    </tr>\n",
       "  </tbody>\n",
       "</table>\n",
       "</div>"
      ],
      "text/plain": [
       "     language media_name       media_url         publish_date  \\\n",
       "5102  en       tpr.org    http://tpr.org  2023-04-26 00:00:00   \n",
       "5103  en       tpr.org    http://tpr.org  2023-05-18 00:00:00   \n",
       "5104  en       tpr.org    http://tpr.org  2023-05-29 00:00:00   \n",
       "5105  en       tpr.org    http://tpr.org  2023-08-15 00:00:00   \n",
       "5106  en       tpr.org    http://tpr.org  2023-08-31 00:00:00   \n",
       "5107  en       tpr.org    http://tpr.org  2023-09-01 00:00:00   \n",
       "5108  en       tpr.org    http://tpr.org  2023-09-15 00:00:00   \n",
       "5109  en       tpr.org    http://tpr.org  2023-09-23 00:00:00   \n",
       "5110  en       tpr.org    http://tpr.org  2023-09-27 00:00:00   \n",
       "5111  en       tpr.org    http://tpr.org  2023-12-07 00:00:00   \n",
       "5112  en       tpr.org    http://tpr.org  2023-08-06 00:00:00   \n",
       "5113  en       tpr.org    http://tpr.org  2023-02-24 00:00:00   \n",
       "5114  en       tpr.org    http://tpr.org  2023-04-12 00:00:00   \n",
       "5115  en       tpr.org    http://tpr.org  2023-04-13 00:00:00   \n",
       "5116  en       tpr.org    http://tpr.org  2023-06-11 00:00:00   \n",
       "5117  en       tpr.org    http://tpr.org  2023-06-13 00:00:00   \n",
       "5118  en       tpr.org    http://tpr.org  2023-07-13 00:00:00   \n",
       "5119  en       tpr.org    http://tpr.org  2023-11-11 00:00:00   \n",
       "5120  en       tpr.org    http://tpr.org  2023-03-31 00:00:00   \n",
       "5121  en       tpr.org    http://tpr.org  2023-04-05 00:00:00   \n",
       "\n",
       "                                                                                                 title  \\\n",
       "5102  Texas agriculture department's new dress code is based on 'biological gender'                      \n",
       "5103  Bill banning puberty blockers, hormone treatments for trans kids sent to Texas governor            \n",
       "5104  Here’s the status of some of the most important bills in this year’s Texas Legislature             \n",
       "5105  Lawsuit to block Texas' ban on care for transgender youth has its first day in court               \n",
       "5106  Texas’ ban on gender-affirming care will take effect Friday following state Supreme Court ruling   \n",
       "5107  Texas adds 774 new laws to the books, and they are now in effect                                   \n",
       "5108  After a decade of state-led attacks, Texas seeks to bankrupt Planned Parenthood                    \n",
       "5109  Hays County district clerk drops lawsuit against the county's district attorney                    \n",
       "5110  Texas will investigate whether foster care officials reap travel rewards from vulnerable youth     \n",
       "5111  5 major takeaways — and one thing missing — from the fourth Republican debate                      \n",
       "5112  These military spouses are fighting one senator's hold on military promotions                      \n",
       "5113  Texas activists turned drag events into fodder for outrage                                         \n",
       "5114  Texas county weighs shutting down libraries to circumvent judge's order overturning book ban       \n",
       "5115  Llano County Library will remain open despite effort to shut it down over book ban                 \n",
       "5116  What is gender dysphoria?                                                                          \n",
       "5117  ‘I’d rather be out than dead:’ Families of transgender youth reflect on Texas’ anti-trans law      \n",
       "5118  A group of families and legal groups sue state over ban on gender-affirming care for minors        \n",
       "5119  The Vatican says priests can baptize transgender people                                            \n",
       "5120  San Antonio celebrates trans rights with downtown rally and march                                  \n",
       "5121  Senate bills restricting drag performances and story hours headed to Texas House                   \n",
       "\n",
       "                                                                                                                                                     url  \n",
       "5102  https://www.tpr.org/government-politics/2023-04-26/texas-agriculture-departments-new-dress-code-is-based-on-biological-gender                       \n",
       "5103  https://www.tpr.org/government-politics/2023-05-18/bill-banning-puberty-blockers-hormone-treatments-for-trans-kids-sent-to-texas-governor           \n",
       "5104  https://www.tpr.org/government-politics/2023-05-29/heres-the-status-of-some-of-the-most-important-bills-in-this-years-texas-legislature             \n",
       "5105  https://www.tpr.org/government-politics/2023-08-15/lawsuit-to-block-texas-ban-on-care-for-transgender-youth-has-its-first-day-in-court              \n",
       "5106  https://www.tpr.org/government-politics/2023-08-31/texas-ban-on-gender-affirming-care-will-take-effect-friday-following-state-supreme-court-ruling  \n",
       "5107  https://www.tpr.org/government-politics/2023-09-01/texas-adds-774-new-laws-to-the-books-and-they-are-now-in-effect                                  \n",
       "5108  https://www.tpr.org/government-politics/2023-09-15/after-a-decade-of-state-led-attacks-texas-seeks-to-bankrupt-planned-parenthood                   \n",
       "5109  https://www.tpr.org/government-politics/2023-09-23/hays-county-district-clerk-drops-lawsuit-against-the-countys-district-attorney                   \n",
       "5110  https://www.tpr.org/government-politics/2023-09-27/foster-care-officials-benefit-off-backs-of-vulnerable-youth-court-doc-alleges                    \n",
       "5111  https://www.tpr.org/government-politics/2023-12-07/5-major-takeaways-and-one-thing-missing-from-the-fourth-republican-debate                        \n",
       "5112  https://www.tpr.org/military-veterans-issues/2023-08-06/these-military-spouses-are-fighting-one-senators-hold-on-military-promotions                \n",
       "5113  https://www.tpr.org/news/2023-02-24/texas-activists-turned-drag-events-into-fodder-for-outrage                                                      \n",
       "5114  https://www.tpr.org/news/2023-04-12/texas-county-weighs-shutting-down-libraries-over-book-ban                                                       \n",
       "5115  https://www.tpr.org/news/2023-04-13/llano-county-library-will-remain-open-despite-effort-to-shut-it-down-over-book-ban                              \n",
       "5116  https://www.tpr.org/news/2023-06-11/what-is-gender-dysphoria                                                                                        \n",
       "5117  https://www.tpr.org/news/2023-06-13/id-rather-be-out-than-dead-families-of-transgender-youth-reflect-on-texas-anti-trans-law                        \n",
       "5118  https://www.tpr.org/public-health/2023-07-13/a-group-of-families-and-legal-groups-sue-state-over-ban-on-gender-affirming-care-for-minors            \n",
       "5119  https://www.tpr.org/religion/2023-11-11/the-vatican-says-priests-can-baptize-transgender-people                                                     \n",
       "5120  https://www.tpr.org/san-antonio/2023-03-31/san-antonio-celebrates-trans-rights-with-downtown-rally-and-march                                        \n",
       "5121  https://www.tpr.org/texas/2023-04-05/senate-bills-restricting-drag-performances-and-story-hours-headed-to-texas-house                               "
      ]
     },
     "execution_count": 6,
     "metadata": {},
     "output_type": "execute_result"
    }
   ],
   "source": [
    "texas_news[['language', 'media_name', 'media_url', 'publish_date', 'title', 'url']].tail(20)"
   ]
  },
  {
   "cell_type": "code",
   "execution_count": 7,
   "id": "fd427ee2-87be-4b91-956d-0e3eedb9fb98",
   "metadata": {},
   "outputs": [
    {
     "name": "stdout",
     "output_type": "stream",
     "text": [
      "<class 'pandas.core.frame.DataFrame'>\n",
      "Int64Index: 5117 entries, 0 to 5121\n",
      "Data columns (total 4 columns):\n",
      " #   Column        Non-Null Count  Dtype \n",
      "---  ------        --------------  ----- \n",
      " 0   media_name    5117 non-null   object\n",
      " 1   publish_date  5117 non-null   object\n",
      " 2   title         5117 non-null   object\n",
      " 3   url           5117 non-null   object\n",
      "dtypes: object(4)\n",
      "memory usage: 199.9+ KB\n",
      "None\n"
     ]
    }
   ],
   "source": [
    "relevant_news = texas_news[~texas_news['media_name'].isin(['foxnews.com',\n",
    "                                                           'nytimes.com'])]\n",
    "relevant_news = relevant_news[relevant_news['language']=='en']\n",
    "relevant_news = relevant_news[['media_name', 'publish_date', 'title', 'url']]\n",
    "print(relevant_news.info())"
   ]
  },
  {
   "cell_type": "code",
   "execution_count": 8,
   "id": "3e3cfb30-8f5c-4ae7-afe0-7282ce7ebc66",
   "metadata": {},
   "outputs": [
    {
     "name": "stdout",
     "output_type": "stream",
     "text": [
      "<class 'pandas.core.frame.DataFrame'>\n",
      "Int64Index: 5117 entries, 0 to 5121\n",
      "Data columns (total 4 columns):\n",
      " #   Column        Non-Null Count  Dtype         \n",
      "---  ------        --------------  -----         \n",
      " 0   media_name    5117 non-null   object        \n",
      " 1   publish_date  5117 non-null   datetime64[ns]\n",
      " 2   title         5117 non-null   object        \n",
      " 3   url           5117 non-null   object        \n",
      "dtypes: datetime64[ns](1), object(3)\n",
      "memory usage: 199.9+ KB\n",
      "None\n"
     ]
    }
   ],
   "source": [
    "relevant_news.publish_date = pd.to_datetime(relevant_news.publish_date)\n",
    "relevant_news = relevant_news[relevant_news['publish_date'].dt.date >= start_date]\n",
    "relevant_news = relevant_news[relevant_news['publish_date'].dt.date <= end_date]\n",
    "print(relevant_news.info())"
   ]
  },
  {
   "cell_type": "code",
   "execution_count": 9,
   "id": "4b1a5baf-c81b-460f-aa9d-219cde6d8eba",
   "metadata": {},
   "outputs": [],
   "source": [
    "def get_article_from_url(url):\n",
    "    try:\n",
    "        article = Article(url)\n",
    "        article.download()\n",
    "        article.parse()\n",
    "        subtitle = article.meta_description\n",
    "        if subtitle == '' or subtitle == ' ':\n",
    "            subtitle = None\n",
    "        text = article.text\n",
    "        if text == '' or text == ' ':\n",
    "            text = None\n",
    "    except:\n",
    "        subtitle = None\n",
    "        text = None\n",
    "    return subtitle, text"
   ]
  },
  {
   "cell_type": "code",
   "execution_count": 10,
   "id": "e8c5b8df-fb38-4844-8b7b-4ddb0f07e350",
   "metadata": {},
   "outputs": [
    {
     "name": "stderr",
     "output_type": "stream",
     "text": [
      "100%|██████████| 5117/5117 [1:10:22<00:00,  1.21it/s]"
     ]
    },
    {
     "name": "stdout",
     "output_type": "stream",
     "text": [
      "<class 'pandas.core.frame.DataFrame'>\n",
      "Int64Index: 5117 entries, 0 to 5121\n",
      "Data columns (total 6 columns):\n",
      " #   Column        Non-Null Count  Dtype         \n",
      "---  ------        --------------  -----         \n",
      " 0   media_name    5117 non-null   object        \n",
      " 1   publish_date  5117 non-null   datetime64[ns]\n",
      " 2   title         5117 non-null   object        \n",
      " 3   url           5117 non-null   object        \n",
      " 4   subtitle      3340 non-null   object        \n",
      " 5   text          3680 non-null   object        \n",
      "dtypes: datetime64[ns](1), object(5)\n",
      "memory usage: 279.8+ KB\n",
      "None\n"
     ]
    },
    {
     "name": "stderr",
     "output_type": "stream",
     "text": [
      "\n"
     ]
    }
   ],
   "source": [
    "subtitles, texts = [], []\n",
    "all_urls = list(relevant_news['url'])\n",
    "for url in tqdm(all_urls):\n",
    "    subtitle, text = get_article_from_url(url)\n",
    "    subtitles.append(subtitle)\n",
    "    texts.append(text)\n",
    "relevant_news['subtitle'] = subtitles\n",
    "relevant_news['text'] = texts\n",
    "print(relevant_news.info())"
   ]
  },
  {
   "cell_type": "code",
   "execution_count": 11,
   "id": "f365703e-e41e-40d4-a49d-59bf6db6256f",
   "metadata": {},
   "outputs": [],
   "source": [
    "relevant_news.to_csv('data/texas_article_texts_and_info.csv',\n",
    "                     index=False)"
   ]
  },
  {
   "cell_type": "code",
   "execution_count": null,
   "id": "f322dffe-e243-4b57-8b3d-78c0a032a9bd",
   "metadata": {},
   "outputs": [],
   "source": []
  }
 ],
 "metadata": {
  "kernelspec": {
   "display_name": "Python 3",
   "language": "python",
   "name": "python3"
  },
  "language_info": {
   "codemirror_mode": {
    "name": "ipython",
    "version": 3
   },
   "file_extension": ".py",
   "mimetype": "text/x-python",
   "name": "python",
   "nbconvert_exporter": "python",
   "pygments_lexer": "ipython3",
   "version": "3.8.10"
  }
 },
 "nbformat": 4,
 "nbformat_minor": 5
}
